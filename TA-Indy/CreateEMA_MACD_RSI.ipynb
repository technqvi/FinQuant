{
 "cells": [
  {
   "cell_type": "code",
   "execution_count": 1,
   "id": "c479ba3d-25c8-46d1-9265-216eb0a49d26",
   "metadata": {},
   "outputs": [],
   "source": [
    "import pandas as pd\n",
    "from ta.utils import dropna\n",
    "import ta.trend as ta_trend\n",
    "import ta.momentum as ta_mmt\n",
    "import ta.others as ta_other\n",
    "import ta \n",
    "\n",
    "#https://pypi.org/project/ta/\n",
    "#https://github.com/bukosabino/ta\n",
    "#https://technical-analysis-library-in-python.readthedocs.io/en/latest/\n"
   ]
  },
  {
   "cell_type": "code",
   "execution_count": null,
   "id": "5fe8886b-f8cf-4a2f-9ba1-e93312bb07a6",
   "metadata": {},
   "outputs": [],
   "source": []
  }
 ],
 "metadata": {
  "kernelspec": {
   "display_name": "Python 3 (ipykernel)",
   "language": "python",
   "name": "python3"
  },
  "language_info": {
   "codemirror_mode": {
    "name": "ipython",
    "version": 3
   },
   "file_extension": ".py",
   "mimetype": "text/x-python",
   "name": "python",
   "nbconvert_exporter": "python",
   "pygments_lexer": "ipython3",
   "version": "3.9.12"
  }
 },
 "nbformat": 4,
 "nbformat_minor": 5
}
