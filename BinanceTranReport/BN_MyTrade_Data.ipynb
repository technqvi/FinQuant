{
 "cells": [
  {
   "cell_type": "code",
   "execution_count": 1,
   "id": "047800ad-765f-40ab-869d-61291249df20",
   "metadata": {},
   "outputs": [],
   "source": [
    "import pandas as pd\n",
    "import sqlite3\n",
    "import os\n",
    "import numpy as np\n",
    "from datetime import datetime, timedelta,date\n",
    "from dotenv import dotenv_values\n",
    "from binance.client import Client\n",
    "\n",
    " # SELECT symbol_pair,count(*) as  no_tran from hist_trade  \n",
    " #        where datetimeUTC >'2023-01-01' GROUP by symbol_pair\n",
    "\n",
    " # SELECT * from hist_trade  \n",
    " #        where datetimeUTC >'2023-01-01' order by  datetimeUTC desc"
   ]
  },
  {
   "cell_type": "code",
   "execution_count": 2,
   "id": "27181a2b-1c7a-480e-8f20-8874b9e9c92b",
   "metadata": {},
   "outputs": [],
   "source": [
    "# create database  DB_BN_MyTrade.db with 2 tables as schema below. \n",
    "# CREATE TABLE \"hist_trade\" (\n",
    "# \t\"datetimeUTC\"\tTEXT,\n",
    "# \t\"symbol_pair\"\tTEXT,\n",
    "# \t\"symbol\"\tTEXT,\n",
    "# \t\"pair\"\tTEXT,\n",
    "# \t\"type\"\tTEXT,\n",
    "# \t\"price\"\tREAL,\n",
    "# \t\"qty\"\tREAL,\n",
    "# \t\"total\"\tREAL,\n",
    "# \t\"commission\"\tREAL,\n",
    "# \t\"commissionAsset\"\tTEXT\n",
    "# );\n",
    "\n",
    "\n",
    "# CREATE TABLE \"symbol_info\" (\n",
    "# \t\"symbol\"\tTEXT,\n",
    "# \t\"pair\"\tTEXT,\n",
    "# \t\"isActive\"\tINTEGER\n",
    "# );\n",
    "\n",
    "\n",
    "#sample data \"hist_trade\"\n",
    "# 2022-08-13 01:18:00,MATICBUSD,MATIC,BUSD,SELL,0.94,22.0,20.68,0.0,BNB\n",
    "\n",
    "# sample data in   \"symbol_info\"\n",
    "# symbol,pair,active\n",
    "# ETH,BUSD,1"
   ]
  },
  {
   "cell_type": "code",
   "execution_count": 3,
   "id": "612a6d65-d03e-4076-8af4-fbb7cdccb670",
   "metadata": {},
   "outputs": [],
   "source": [
    "path_config=r'D:\\AB_DB\\Script_ImportData'\n",
    "config_values= dotenv_values(dotenv_path=f'{path_config}\\\\.env')\n",
    "api_key = config_values['bn_key']\n",
    "api_secret =config_values['bn_secrete']\n",
    "client=Client(api_key,api_secret)"
   ]
  },
  {
   "cell_type": "code",
   "execution_count": 4,
   "id": "cd7cae68-6031-4915-864c-6026376c446d",
   "metadata": {},
   "outputs": [
    {
     "name": "stdout",
     "output_type": "stream",
     "text": [
      "2023-07-03 00:00:00\n"
     ]
    }
   ],
   "source": [
    "today=date.today()\n",
    "today=datetime(today.year,today.month,today.day)\n",
    "print(today)"
   ]
  },
  {
   "cell_type": "code",
   "execution_count": 5,
   "id": "2706dd8d-ac66-4cce-9b65-0e86eeebc02a",
   "metadata": {},
   "outputs": [
    {
     "name": "stdout",
     "output_type": "stream",
     "text": [
      "Connect SQLite\n"
     ]
    }
   ],
   "source": [
    "data_base_file=f'{path_config}\\\\Database\\\\DB_BN_MyTrade.db'\n",
    "print(\"Connect SQLite\")\n",
    "conn = sqlite3.connect(os.path.abspath(data_base_file))\n",
    "sqlite3.register_adapter(np.int64, lambda val: int(val))\n",
    "sqlite3.register_adapter(np.int32, lambda val: int(val))"
   ]
  },
  {
   "cell_type": "code",
   "execution_count": 6,
   "id": "13e801c5-b14a-424e-b68b-972c31063a20",
   "metadata": {},
   "outputs": [
    {
     "data": {
      "text/html": [
       "<div>\n",
       "<style scoped>\n",
       "    .dataframe tbody tr th:only-of-type {\n",
       "        vertical-align: middle;\n",
       "    }\n",
       "\n",
       "    .dataframe tbody tr th {\n",
       "        vertical-align: top;\n",
       "    }\n",
       "\n",
       "    .dataframe thead th {\n",
       "        text-align: right;\n",
       "    }\n",
       "</style>\n",
       "<table border=\"1\" class=\"dataframe\">\n",
       "  <thead>\n",
       "    <tr style=\"text-align: right;\">\n",
       "      <th></th>\n",
       "      <th>symbol</th>\n",
       "      <th>pair</th>\n",
       "      <th>isActive</th>\n",
       "    </tr>\n",
       "    <tr>\n",
       "      <th>symbol_pair</th>\n",
       "      <th></th>\n",
       "      <th></th>\n",
       "      <th></th>\n",
       "    </tr>\n",
       "  </thead>\n",
       "  <tbody>\n",
       "    <tr>\n",
       "      <th>ETHBUSD</th>\n",
       "      <td>ETH</td>\n",
       "      <td>BUSD</td>\n",
       "      <td>1</td>\n",
       "    </tr>\n",
       "    <tr>\n",
       "      <th>BTCBUSD</th>\n",
       "      <td>BTC</td>\n",
       "      <td>BUSD</td>\n",
       "      <td>1</td>\n",
       "    </tr>\n",
       "    <tr>\n",
       "      <th>BNBBUSD</th>\n",
       "      <td>BNB</td>\n",
       "      <td>BUSD</td>\n",
       "      <td>1</td>\n",
       "    </tr>\n",
       "    <tr>\n",
       "      <th>MATICBUSD</th>\n",
       "      <td>MATIC</td>\n",
       "      <td>BUSD</td>\n",
       "      <td>1</td>\n",
       "    </tr>\n",
       "  </tbody>\n",
       "</table>\n",
       "</div>"
      ],
      "text/plain": [
       "            symbol  pair  isActive\n",
       "symbol_pair                       \n",
       "ETHBUSD        ETH  BUSD         1\n",
       "BTCBUSD        BTC  BUSD         1\n",
       "BNBBUSD        BNB  BUSD         1\n",
       "MATICBUSD    MATIC  BUSD         1"
      ]
     },
     "execution_count": 6,
     "metadata": {},
     "output_type": "execute_result"
    }
   ],
   "source": [
    "sql_symbol=\"select * from symbol_info where isActive=1\"\n",
    "dfSymbols=pd.read_sql_query(sql_symbol, conn)\n",
    "dfSymbols['symbol_pair']=dfSymbols.apply( lambda x: f\"{x.symbol}{x.pair}\",axis=1)\n",
    "dfSymbols = dfSymbols.drop_duplicates(keep='first')\n",
    "dfSymbols=dfSymbols.set_index('symbol_pair')\n",
    "dfSymbols"
   ]
  },
  {
   "cell_type": "markdown",
   "id": "5a5e6788-bf3c-4516-967e-aa91f44abe7e",
   "metadata": {},
   "source": [
    "# Get data from Binanac and transform"
   ]
  },
  {
   "cell_type": "code",
   "execution_count": 7,
   "id": "ac320826-7efe-4490-87e3-f2fe0cec2bae",
   "metadata": {},
   "outputs": [],
   "source": [
    "cols=['datetimeUTC','symbol_pair','symbol','pair','type','price','qty','total','commission','commissionAsset']"
   ]
  },
  {
   "cell_type": "code",
   "execution_count": 8,
   "id": "58c58e78-b845-43ef-997e-ecc778753304",
   "metadata": {},
   "outputs": [],
   "source": [
    "def split_main_pair_symbol(symbol_pair,main):\n",
    "    pair=''\n",
    "    main_idx=symbol_pair.rfind(main)\n",
    "    if main_idx==0:\n",
    "     pair= symbol_pair.replace(main, '')\n",
    "    return main,pair"
   ]
  },
  {
   "cell_type": "code",
   "execution_count": 9,
   "id": "a0fa427f-d652-4018-b855-a2e09d30e948",
   "metadata": {},
   "outputs": [],
   "source": [
    "def transform_trans_to_df(tradesList,symbol_main):\n",
    "    dfTrade=pd.DataFrame(data=tradesList)\n",
    "    \n",
    "    dfTrade[\"datetimeUTC\"]=pd.to_datetime(dfTrade[\"time\"],unit=\"ms\")\n",
    "    dfTrade[\"datetimeUTC\"]=dfTrade['datetimeUTC'].dt.strftime(\"%Y-%m-%d %H:%M:%S\")\n",
    "    dfTrade[\"datetimeUTC\"]=pd.to_datetime(dfTrade[\"datetimeUTC\"],format=\"%Y-%m-%d %H:%M:%S\")\n",
    "    \n",
    "    dfTrade['type']= dfTrade['isBuyer'].apply( lambda x : 'BUY' if x==True else 'SELL')\n",
    "    # dfTrade['total']=dfTrade['price']*dfTrade['qty']\n",
    "    dfTrade=dfTrade.rename(columns={'symbol':'symbol_pair','quoteQty':'total'})\n",
    "    \n",
    "    main,pair=split_main_pair_symbol(symbol_pair,symbol_main)\n",
    "    dfTrade['symbol']=main\n",
    "    dfTrade['pair']=pair\n",
    "    \n",
    "    cols_number=['price','qty','total','commission']\n",
    "    dfTrade[cols_number]= dfTrade[cols_number].astype(\"float\")\n",
    "    \n",
    "    \n",
    "    dfTrade=dfTrade[cols]\n",
    "    return dfTrade"
   ]
  },
  {
   "cell_type": "code",
   "execution_count": 10,
   "id": "6b2fae60-45c4-4cec-b435-bdb818d62f37",
   "metadata": {},
   "outputs": [
    {
     "name": "stdout",
     "output_type": "stream",
     "text": [
      "symbol_pair\n",
      "ETHBUSD        ETH\n",
      "BTCBUSD        BTC\n",
      "BNBBUSD        BNB\n",
      "MATICBUSD    MATIC\n",
      "Name: symbol, dtype: object\n"
     ]
    }
   ],
   "source": [
    "sr_symbol_pair=dfSymbols['symbol']\n",
    "print(sr_symbol_pair)"
   ]
  },
  {
   "cell_type": "code",
   "execution_count": 11,
   "id": "e15c669d-f814-4892-a14d-e27695d533e4",
   "metadata": {},
   "outputs": [],
   "source": [
    "dfAllTran=pd.DataFrame(columns=cols)"
   ]
  },
  {
   "cell_type": "code",
   "execution_count": 12,
   "id": "40944515-d8aa-4e6e-9a29-169978d97ad8",
   "metadata": {},
   "outputs": [
    {
     "name": "stderr",
     "output_type": "stream",
     "text": [
      "C:\\Users\\pongthsa\\AppData\\Local\\Temp\\ipykernel_28624\\456605943.py:1: FutureWarning: iteritems is deprecated and will be removed in a future version. Use .items instead.\n",
      "  for  item in sr_symbol_pair.iteritems():\n"
     ]
    },
    {
     "name": "stdout",
     "output_type": "stream",
     "text": [
      "====================Last Transaction of ETH==============================\n",
      "           datetimeUTC symbol_pair type    price    qty     total\n",
      "0  2023-07-03 11:41:24     ETHBUSD  BUY  1962.37  0.015  29.43555\n",
      "          datetimeUTC symbol_pair type    price   qty    total\n",
      "3 2023-07-03 15:35:07     ETHBUSD  BUY  1976.12  0.01  19.7612\n",
      "====================Last Transaction of BTC==============================\n",
      "           datetimeUTC symbol_pair type     price    qty     total\n",
      "0  2023-07-03 11:41:36     BTCBUSD  BUY  30638.35  0.001  30.63835\n",
      "====================Last Transaction of BNB==============================\n",
      "           datetimeUTC symbol_pair  type  price    qty   total\n",
      "0  2023-06-12 02:25:05     BNBBUSD  SELL  226.8  0.042  9.5256\n",
      "====================Last Transaction of MATIC==============================\n",
      "           datetimeUTC symbol_pair  type  price   qty  total\n",
      "0  2023-03-12 23:29:28   MATICBUSD  SELL   1.15  20.0   23.0\n"
     ]
    }
   ],
   "source": [
    "for  item in sr_symbol_pair.iteritems():\n",
    "    main_pair=item[0]\n",
    "    main=item[1]\n",
    "    sql_last_trans=f\"\"\" SELECT * from hist_trade  \n",
    "        where symbol_pair='{main_pair}' order by datetimeUTC desc limit 1 \"\"\"\n",
    "\n",
    "    dfLastTran=pd.read_sql_query(sql_last_trans, conn)\n",
    "    if dfLastTran.empty==False:\n",
    "        print(f'====================Last Transaction of {main}==============================')\n",
    "        print(dfLastTran[['datetimeUTC','symbol_pair','type','price','qty','total']])\n",
    "        srLastTran=dfLastTran.iloc[0,:]\n",
    "        symbol_pair=srLastTran['symbol_pair']\n",
    "        dtLastStr=srLastTran['datetimeUTC']\n",
    "    \n",
    "        dtLast=datetime.strptime(dtLastStr, '%Y-%m-%d %H:%M:%S')\n",
    "        startDate=datetime.strptime(dtLastStr, \"%Y-%m-%d %H:%M:%S\").date()\n",
    "        startDateTime=datetime(startDate.year, startDate.month, startDate.day)\n",
    "        \n",
    "        \n",
    "        # while startDateTime<=today:\n",
    "        try:    \n",
    "            statrTimestampMs= (int(round(startDateTime.timestamp())))* 1000\n",
    "            trades_of_x = client.get_my_trades(symbol=symbol_pair,startTime=statrTimestampMs)\n",
    "            if len(trades_of_x)>0:\n",
    "                df_daily_trades=transform_trans_to_df(trades_of_x,main)\n",
    "                df_daily_trades=df_daily_trades.query('datetimeUTC>@dtLast')\n",
    "                if  df_daily_trades.empty ==False:\n",
    "                 print(df_daily_trades[['datetimeUTC','symbol_pair','type','price','qty','total']])\n",
    "                 dfAllTran=pd.concat([dfAllTran,df_daily_trades])\n",
    "        except BinanceAPIException as e:\n",
    "              print(e)\n",
    "            \n",
    "        # startDateTime=startDateTime+timedelta(days=1)    "
   ]
  },
  {
   "cell_type": "code",
   "execution_count": null,
   "id": "7ae23083",
   "metadata": {},
   "outputs": [],
   "source": []
  },
  {
   "cell_type": "code",
   "execution_count": null,
   "id": "35034d6c",
   "metadata": {},
   "outputs": [],
   "source": []
  },
  {
   "cell_type": "markdown",
   "id": "2b59934f-2e9d-4822-b562-bc0ce9d5346e",
   "metadata": {},
   "source": [
    "# Add to SQLite3"
   ]
  },
  {
   "cell_type": "code",
   "execution_count": 13,
   "id": "e38b4f7a-3043-4fb3-b822-39933df8be59",
   "metadata": {},
   "outputs": [],
   "source": [
    "def insertTradeTransaction(recordList):\n",
    "    try:\n",
    "        sqliteConnection = sqlite3.connect(os.path.abspath(data_base_file))\n",
    "        cursor = sqliteConnection.cursor()\n",
    "        print(\"Connected to SQLite\")\n",
    "\n",
    "        sqlite_insert_query = \"\"\"\n",
    "        INSERT INTO hist_trade\n",
    "         VALUES (?,?,?,?,?,?,?,?,?,?);\n",
    "         \"\"\"\n",
    "\n",
    "        cursor.executemany(sqlite_insert_query, recordList)\n",
    "        sqliteConnection.commit()\n",
    "        print(\"Total \", cursor.rowcount, \" Add transaction successfully\")\n",
    "        sqliteConnection.commit()\n",
    "        cursor.close()\n",
    "\n",
    "    except sqlite3.Error as error:\n",
    "        print(\"Failed to insert multiple records to table\", error)\n",
    "    finally:\n",
    "        if sqliteConnection:\n",
    "            sqliteConnection.close()\n",
    "            print(\"The SQLite connection is closed\")\n",
    "            \n"
   ]
  },
  {
   "cell_type": "code",
   "execution_count": 14,
   "id": "761a43a3-ee3b-4190-acee-4a990c4bea32",
   "metadata": {},
   "outputs": [],
   "source": [
    "# from google.cloud import bigquery\n",
    "# table_id = \"pongthorn.FinDW.bn_hist_trade\"\n",
    "# def insertTradeToBQ(df_trasns):\n",
    "#     client = bigquery.Client()\n",
    "#     job_config = bigquery.LoadJobConfig(\n",
    "\n",
    "#         schema=[\n",
    "#             bigquery.SchemaField(\"datetimeUTC\", bigquery.enums.SqlTypeNames.DATETIME),\n",
    "#             bigquery.SchemaField(\"symbol_pair\", bigquery.enums.SqlTypeNames.STRING),\n",
    "#             bigquery.SchemaField(\"symbol\", bigquery.enums.SqlTypeNames.STRING),\n",
    "#             bigquery.SchemaField(\"pair\", bigquery.enums.SqlTypeNames.STRING),\n",
    "#             bigquery.SchemaField(\"type\", bigquery.enums.SqlTypeNames.STRING),\n",
    "#             bigquery.SchemaField(\"price\", bigquery.enums.SqlTypeNames.FLOAT64),\n",
    "#             bigquery.SchemaField(\"qty\", bigquery.enums.SqlTypeNames.FLOAT64),\n",
    "#             bigquery.SchemaField(\"total\", bigquery.enums.SqlTypeNames.FLOAT64),\n",
    "#             bigquery.SchemaField(\"commission\", bigquery.enums.SqlTypeNames.FLOAT64),\n",
    "#             bigquery.SchemaField(\"commissionAsset\", bigquery.enums.SqlTypeNames.STRING),\n",
    "\n",
    "#         ],\n",
    "#         write_disposition=\"WRITE_APPEND\",\n",
    "#     )\n",
    "\n",
    "#     job = client.load_table_from_dataframe(\n",
    "#         df_trasns, table_id, job_config=job_config\n",
    "#     )  # Make an API request.\n",
    "#     job.result()  # Wait for the job to complete.\n",
    "#     print(\"Total \", len(df_trasns), \" Add transaction to google bigquery successfully\")"
   ]
  },
  {
   "cell_type": "code",
   "execution_count": 15,
   "id": "8d6bccc3-c07e-408e-966d-1a15419f23ac",
   "metadata": {},
   "outputs": [
    {
     "name": "stdout",
     "output_type": "stream",
     "text": [
      "<class 'pandas.core.frame.DataFrame'>\n",
      "Int64Index: 1 entries, 0 to 0\n",
      "Data columns (total 10 columns):\n",
      " #   Column           Non-Null Count  Dtype  \n",
      "---  ------           --------------  -----  \n",
      " 0   datetimeUTC      1 non-null      object \n",
      " 1   symbol_pair      1 non-null      object \n",
      " 2   symbol           1 non-null      object \n",
      " 3   pair             1 non-null      object \n",
      " 4   type             1 non-null      object \n",
      " 5   price            1 non-null      float64\n",
      " 6   qty              1 non-null      float64\n",
      " 7   total            1 non-null      float64\n",
      " 8   commission       1 non-null      float64\n",
      " 9   commissionAsset  1 non-null      object \n",
      "dtypes: float64(4), object(6)\n",
      "memory usage: 88.0+ bytes\n",
      "None\n",
      "           datetimeUTC symbol_pair type    price   qty    total\n",
      "0  2023-07-03 15:35:07     ETHBUSD  BUY  1976.12  0.01  19.7612\n",
      "Connected to SQLite\n",
      "Total  1  Add transaction successfully\n",
      "The SQLite connection is closed\n"
     ]
    }
   ],
   "source": [
    "if dfAllTran.empty==False:\n",
    "    dfAllTran=dfAllTran.reset_index(drop=True)\n",
    "    dfAllTran = dfAllTran.drop_duplicates(keep='last')\n",
    "    dfAllTran[\"datetimeUTC\"]=dfAllTran['datetimeUTC'].dt.strftime(\"%Y-%m-%d %H:%M:%S\")  # for add to sqlite\n",
    "    print(dfAllTran.info())\n",
    "    print(dfAllTran[['datetimeUTC','symbol_pair','type','price','qty','total']])\n",
    "    \n",
    "    recordsToInsert=list(dfAllTran.to_records(index=False))\n",
    "    insertTradeTransaction(recordsToInsert)\n",
    "    \n",
    "    dfAllTran['datetimeUTC']=pd.to_datetime(dfAllTran[\"datetimeUTC\"],format=\"%Y-%m-%d %H:%M:%S\")  # for add to bigquery\n",
    "    # insertTradeToBQ(dfAllTran)\n",
    "else:\n",
    "    print(\"no transsaction update\")"
   ]
  },
  {
   "cell_type": "code",
   "execution_count": null,
   "id": "e4321860-2c77-4fc9-8263-4ff5bdc0acb6",
   "metadata": {},
   "outputs": [],
   "source": []
  },
  {
   "cell_type": "code",
   "execution_count": null,
   "id": "7ae68617-4091-4d78-9625-09ed5bf817ab",
   "metadata": {},
   "outputs": [],
   "source": []
  }
 ],
 "metadata": {
  "kernelspec": {
   "display_name": "Python 3 (ipykernel)",
   "language": "python",
   "name": "python3"
  },
  "language_info": {
   "codemirror_mode": {
    "name": "ipython",
    "version": 3
   },
   "file_extension": ".py",
   "mimetype": "text/x-python",
   "name": "python",
   "nbconvert_exporter": "python",
   "pygments_lexer": "ipython3",
   "version": "3.9.12"
  }
 },
 "nbformat": 4,
 "nbformat_minor": 5
}
