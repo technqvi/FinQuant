{
 "cells": [
  {
   "cell_type": "code",
   "execution_count": 1,
   "id": "6a78aee3",
   "metadata": {
    "pycharm": {
     "name": "#%%\n"
    }
   },
   "outputs": [],
   "source": [
    "import pandas as pd\n",
    "import os\n",
    "import numpy as np\n",
    "from datetime import datetime, timedelta,date\n",
    "from google.cloud import bigquery\n",
    "from google.api_core.exceptions import BadRequest\n",
    "\n",
    "# apply to airflow composer"
   ]
  },
  {
   "cell_type": "code",
   "execution_count": 2,
   "id": "e6a43cbe",
   "metadata": {
    "collapsed": false,
    "jupyter": {
     "outputs_hidden": false
    },
    "pycharm": {
     "name": "#%%\n"
    }
   },
   "outputs": [],
   "source": [
    "#def summarize_buy_sell_trans:"
   ]
  },
  {
   "cell_type": "code",
   "execution_count": 3,
   "id": "be638ad2-f576-40e4-9b0b-22ccf99991b3",
   "metadata": {
    "pycharm": {
     "name": "#%%\n"
    }
   },
   "outputs": [],
   "source": [
    "table=\"`pongthorn.FinDW.bn_hist_trade`\"\n",
    "table_report=\"pongthorn.FinDW.bn_bs_summary\"\n",
    "\n",
    "dispCols=['datetimeUTC','symbol_pair','type','price','qty','total']"
   ]
  },
  {
   "cell_type": "code",
   "execution_count": 4,
   "id": "53105c3f-a3aa-46a7-b9ad-738e3a902319",
   "metadata": {
    "pycharm": {
     "name": "#%%\n"
    }
   },
   "outputs": [],
   "source": [
    "date_str_from='2022-09-01'\n",
    "created_date=datetime.now()\n"
   ]
  },
  {
   "cell_type": "code",
   "execution_count": 5,
   "id": "38fd36b9-d333-4cd9-903c-7c24889852fb",
   "metadata": {
    "pycharm": {
     "name": "#%%\n"
    }
   },
   "outputs": [],
   "source": [
    " # get yesterday transaction\n",
    "date_str_to=created_date.strftime('%Y-%m-%d')\n"
   ]
  },
  {
   "cell_type": "markdown",
   "id": "1831200b-f088-4d5e-a313-fcc372d7c80d",
   "metadata": {
    "pycharm": {
     "name": "#%% md\n"
    }
   },
   "source": [
    "# Find Summary Buy & Sell"
   ]
  },
  {
   "cell_type": "code",
   "execution_count": 6,
   "id": "076126b5-ef6e-4e87-bf37-bd83e505fd6f",
   "metadata": {
    "pycharm": {
     "name": "#%%\n"
    }
   },
   "outputs": [],
   "source": [
    "bq_client = bigquery.Client()  "
   ]
  },
  {
   "cell_type": "code",
   "execution_count": 7,
   "id": "c3561f35-5f4c-43e9-98fb-7d5e75261ea0",
   "metadata": {
    "pycharm": {
     "name": "#%%\n"
    }
   },
   "outputs": [],
   "source": [
    "def summarize_bs(from_date,to_date):  # no return\n",
    "    \n",
    "\n",
    "    sql=f\"\"\"select datetimeUTC,symbol_pair,symbol,pair,type,price,qty,total from {table} \n",
    "        where datetimeUTC >='{from_date}' and  datetimeUTC<'{to_date}' \n",
    "        order by datetimeUTC desc \"\"\"\n",
    "    # print(sql)\n",
    "\n",
    "    query_job =bq_client.query(query=sql)\n",
    "    df_trasns= query_job.to_dataframe() \n",
    "    \n",
    "    #print(df_trasns[dispCols])\n",
    "    if df_trasns.empty==False:\n",
    "        print(f\"List trade transaction between {from_date} and {to_date}\")\n",
    "    \n",
    "        print(\"Agg transaction\")\n",
    "        groupby_cols=['symbol','type']\n",
    "        agg_cols=['qty','total']\n",
    "        df_summary=df_trasns.groupby(groupby_cols,as_index=False)[agg_cols].sum()\n",
    "        df_summary['avg_price']=df_summary['total']/df_summary['qty']\n",
    "        df_summary=df_summary.round(5)\n",
    "        \n",
    "        \n",
    "        report_date=datetime.strptime(to_date,'%Y-%m-%d')-timedelta(days=1)\n",
    "        df_summary['report_date']=report_date\n",
    "        \n",
    "        print(df_summary)\n",
    "        df_summary['created_date']=created_date\n",
    "\n",
    "        try:\n",
    "            job_config = bigquery.LoadJobConfig( write_disposition=\"WRITE_APPEND\",)\n",
    "            job = bq_client.load_table_from_dataframe(\n",
    "                df_summary,table_report, job_config=job_config\n",
    "            ) \n",
    "            job.result() \n",
    "            print(\"Total \", len(df_summary), \" Add transaction to google bigquery successfully\")\n",
    "\n",
    "        except BadRequest as e:\n",
    "            print(\"Bigquery Error\\n\")\n",
    "            for e in job.errors:\n",
    "                print('ERROR: {}'.format(e['message']))\n",
    "    else:\n",
    "        print(f\"no trade transaction between {date_str_from} and {date_str_to}\")\n",
    "    \n",
    "    print(\"=========================================================================================\")\n",
    "        \n",
    "    return 'ok'    "
   ]
  },
  {
   "cell_type": "code",
   "execution_count": 9,
   "id": "6293b61b",
   "metadata": {
    "pycharm": {
     "name": "#%%\n"
    }
   },
   "outputs": [
    {
     "name": "stdout",
     "output_type": "stream",
     "text": [
      "List trade transaction between 2022-09-01 and 2022-10-21\n",
      "Agg transaction\n",
      "  symbol  type       qty      total    avg_price report_date\n",
      "0    BNB   BUY    0.5660  155.68050    275.05389  2022-10-20\n",
      "1    BNB  SELL    0.3150   85.69750    272.05556  2022-10-20\n",
      "2    BTC   BUY    0.0021   40.56791  19318.05238  2022-10-20\n",
      "3    ETH   BUY    0.1928  261.55193   1356.59714  2022-10-20\n",
      "4    ETH  SELL    0.1339  178.49234   1333.02721  2022-10-20\n",
      "5  MATIC   BUY  293.6000  233.54488      0.79545  2022-10-20\n",
      "6  MATIC  SELL  213.6000  169.27268      0.79248  2022-10-20\n",
      "Total  7  Add transaction to google bigquery successfully\n",
      "=========================================================================================\n"
     ]
    }
   ],
   "source": [
    "# for migrate data\n",
    "indexHistReport=pd.date_range(start='2022-09-02', end=created_date.strftime('%Y-%m-%d'),freq='d').tolist()\n",
    "listHistReport=[ x.date().strftime('%Y-%m-%d')  for x in indexHistReport  ]\n",
    "for hist_to in listHistReport:\n",
    "  result=summarize_bs(date_str_from,hist_to)  \n",
    "# for daily\n",
    "# result=summarize_bs(date_str_from,date_str_to)\n"
   ]
  },
  {
   "cell_type": "code",
   "execution_count": null,
   "id": "950c5c36",
   "metadata": {
    "pycharm": {
     "name": "#%%\n"
    }
   },
   "outputs": [],
   "source": [
    "# if __name__ == \"__main__\":\n",
    "#  result=summarize_buy_sell_trans()\n",
    "#  print(result)"
   ]
  }
 ],
 "metadata": {
  "kernelspec": {
   "display_name": "Python 3 (ipykernel)",
   "language": "python",
   "name": "python3"
  },
  "language_info": {
   "codemirror_mode": {
    "name": "ipython",
    "version": 3
   },
   "file_extension": ".py",
   "mimetype": "text/x-python",
   "name": "python",
   "nbconvert_exporter": "python",
   "pygments_lexer": "ipython3",
   "version": "3.9.12"
  },
  "vscode": {
   "interpreter": {
    "hash": "ae9335fe7a39c1d8f8945c5adbecc2ba1b1578dde5a497790f7db495f2189193"
   }
  }
 },
 "nbformat": 4,
 "nbformat_minor": 5
}
