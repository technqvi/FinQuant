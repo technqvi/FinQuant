{
 "cells": [
  {
   "cell_type": "code",
   "execution_count": 26,
   "id": "6a78aee3",
   "metadata": {},
   "outputs": [],
   "source": [
    "import pandas as pd\n",
    "import sqlite3\n",
    "import os\n",
    "import numpy as np\n",
    "from datetime import datetime, timedelta,date\n",
    "from google.cloud import bigquery\n",
    "from binance.client import Client\n",
    "from dotenv import dotenv_values"
   ]
  },
  {
   "cell_type": "markdown",
   "id": "70f5cc3b-f6b8-491f-9901-fc7a439cda0b",
   "metadata": {},
   "source": [
    "# Init Parameter and Constant variable"
   ]
  },
  {
   "cell_type": "code",
   "execution_count": 27,
   "id": "fe0fdde2",
   "metadata": {},
   "outputs": [
    {
     "name": "stdout",
     "output_type": "stream",
     "text": [
      "sqlite - hist_trade\n"
     ]
    }
   ],
   "source": [
    "ds='sqlite'\n",
    "#ds='bq'\n",
    "\n",
    "is_py=True\n",
    "required_report=False\n",
    "\n",
    "main_statbleCoin='BUSD'\n",
    "\n",
    "if ds=='sqlite':\n",
    "    table='hist_trade'\n",
    "else :\n",
    "    table=\"`pongthorn.FinDW.bn_hist_trade`\"\n",
    "    \n",
    "print(f\"{ds} - {table}\")"
   ]
  },
  {
   "cell_type": "code",
   "execution_count": 28,
   "id": "04b48b61",
   "metadata": {},
   "outputs": [],
   "source": [
    "buildtime = datetime.now().strftime('%d%m%y_%H%M')\n",
    "path_config=r'D:\\AB_DB\\Script_ImportData'\n",
    "root_path=r'D:\\BC-World\\CryptoTrans\\BS-Trade'\n",
    "data_base_file=r'D:\\AB_DB\\Script_ImportData\\Database\\DB_BN_MyTrade.db'"
   ]
  },
  {
   "cell_type": "code",
   "execution_count": 29,
   "id": "cea043c0",
   "metadata": {},
   "outputs": [],
   "source": [
    "config_values= dotenv_values(dotenv_path=f'{path_config}\\\\.env')\n",
    "api_key = config_values['bn_key']\n",
    "api_secret =config_values['bn_secrete']\n",
    "client=Client(api_key,api_secret)"
   ]
  },
  {
   "cell_type": "code",
   "execution_count": 30,
   "id": "ef40df98",
   "metadata": {},
   "outputs": [
    {
     "name": "stdin",
     "output_type": "stream",
     "text": [
      "Enter start query(2019-01-01 01:00):  2023-06-15\n",
      "Enter end query(2019-01-01 01:00):  2023-07-04\n"
     ]
    },
    {
     "name": "stdout",
     "output_type": "stream",
     "text": [
      "Do you want to retrive data from 2023-06-15 00:00:00 to 2023-07-04 00:00:00 ?\n"
     ]
    },
    {
     "name": "stdin",
     "output_type": "stream",
     "text": [
      "Press y=True and n=False to process report :  y\n"
     ]
    }
   ],
   "source": [
    "if is_py:\n",
    "    q_start = input(\"Enter start query(2019-01-01 01:00): \") or '2022-09-01'\n",
    "    q_end = input(\"Enter end query(2019-01-01 01:00): \") or ''\n",
    "    \n",
    "\n",
    "    if q_start!='' and q_end!='':\n",
    "        try:\n",
    "            start_dt=datetime.strptime(q_start, \"%Y-%m-%d\")\n",
    "            end_dt=datetime.strptime(q_end,\"%Y-%m-%d\")\n",
    "            if start_dt>=end_dt:\n",
    "               raise Exception(f\"Error : {start_dt} can't be greater or equal to {end_dt}\")\n",
    "        except Exception as ex:\n",
    "            raise ex\n",
    "\n",
    "\n",
    "    if q_start!='' and q_end!='':\n",
    "     print(f\"Do you want to retrive data from {start_dt} to {end_dt} ?\")\n",
    "    else:\n",
    "     print(f\"Do you want to retrive all data ?\")   \n",
    "    press_y=input(f\"Press y=True and n=False to process report : \") \n",
    "    if press_y.lower()=='y':\n",
    "     ok=True\n",
    "    else:\n",
    "     exit()"
   ]
  },
  {
   "cell_type": "code",
   "execution_count": 31,
   "id": "4663215d",
   "metadata": {},
   "outputs": [],
   "source": [
    "def date_str_report(date_str):\n",
    "    date_x=datetime.strptime(date_str,'%Y-%m-%d')\n",
    "    return date_x.strftime('%d%b%y')"
   ]
  },
  {
   "cell_type": "code",
   "execution_count": 32,
   "id": "3d0eda64",
   "metadata": {},
   "outputs": [
    {
     "name": "stdout",
     "output_type": "stream",
     "text": [
      "2023-06-15\n"
     ]
    }
   ],
   "source": [
    "#date_from='2022-06-20'\n",
    "if q_start=='':\n",
    "  date_from=''  \n",
    "  date_str_from=''\n",
    "else:\n",
    " date_from=q_start\n",
    " date_str_from=date_str_report(date_from)\n",
    "print(date_from)"
   ]
  },
  {
   "cell_type": "code",
   "execution_count": 33,
   "id": "5b4bc021",
   "metadata": {},
   "outputs": [
    {
     "name": "stdout",
     "output_type": "stream",
     "text": [
      "2023-07-04\n",
      "2023-07-05\n"
     ]
    }
   ],
   "source": [
    "if q_end=='':\n",
    " date_to=date.today()\n",
    " datetime_to=datetime(date_to.year,date_to.month,date_to.day)\n",
    " date_to=date_to.strftime('%Y-%m-%d')\n",
    "\n",
    "else:\n",
    " date_to=q_end\n",
    "\n",
    "date_str_to=date_str_report(date_to)\n",
    "datetime_to=datetime.strptime(date_to,'%Y-%m-%d') # convert str to datetime so that we can add 1 day delta\n",
    "datetime_to_plus1=datetime_to+timedelta(days=1)\n",
    "datet_to_plus1=datetime_to_plus1.strftime('%Y-%m-%d')\n",
    "\n",
    "print(date_to)\n",
    "print(datet_to_plus1)"
   ]
  },
  {
   "cell_type": "code",
   "execution_count": 34,
   "id": "7b36e16d",
   "metadata": {},
   "outputs": [
    {
     "name": "stdout",
     "output_type": "stream",
     "text": [
      "15Jun23 - 04Jul23\n"
     ]
    }
   ],
   "source": [
    "print(f\"{date_str_from} - {date_str_to}\")"
   ]
  },
  {
   "cell_type": "markdown",
   "id": "8a83cb2e",
   "metadata": {},
   "source": [
    "# Load Data Transaction"
   ]
  },
  {
   "cell_type": "code",
   "execution_count": 35,
   "id": "58a33fed",
   "metadata": {},
   "outputs": [
    {
     "name": "stdout",
     "output_type": "stream",
     "text": [
      "select * from hist_trade where datetimeUTC >='2023-06-15' and  datetimeUTC<'2023-07-05' order by datetimeUTC desc\n"
     ]
    }
   ],
   "source": [
    "if  date_from=='' and date_to=='' :\n",
    " sql=f\"select * from {table}   order by datetimeUTC\"\n",
    "elif   date_from=='' and date_to!='' :\n",
    "  sql=f\"select * from {table} where   datetimeUTC<'{datet_to_plus1}' order by datetimeUTC desc\"  \n",
    "elif date_from!='' and date_to=='' :\n",
    "  sql=f\"select * from {table} where datetimeUTC >='{date_from}'  order by datetimeUTC desc\" \n",
    "else:\n",
    " sql=f\"select * from {table} where datetimeUTC >='{date_from}' and  datetimeUTC<'{datet_to_plus1}' order by datetimeUTC desc\"\n",
    "print(sql)\n",
    "\n"
   ]
  },
  {
   "cell_type": "code",
   "execution_count": 36,
   "id": "c1c9fb0e",
   "metadata": {},
   "outputs": [
    {
     "name": "stdout",
     "output_type": "stream",
     "text": [
      "Connect SQLite\n"
     ]
    }
   ],
   "source": [
    "if ds=='sqlite':\n",
    " \n",
    " print(\"Connect SQLite\")\n",
    " conn = sqlite3.connect(os.path.abspath(data_base_file))   \n",
    " df_trasns=pd.read_sql_query(sql, conn)\n",
    "\n",
    "else :\n",
    " print(\"Connect BigQuery\")   \n",
    " conn = bigquery.Client()   \n",
    " query_job =conn.query(query=sql)\n",
    " df_trasns= query_job.to_dataframe()    \n",
    "    \n",
    "    "
   ]
  },
  {
   "cell_type": "code",
   "execution_count": 37,
   "id": "f2679e10",
   "metadata": {},
   "outputs": [
    {
     "name": "stdout",
     "output_type": "stream",
     "text": [
      "           datetimeUTC symbol_pair type     price     qty     total\n",
      "0  2023-07-03 15:35:07     ETHBUSD  BUY   1976.12  0.0100  19.76120\n",
      "1  2023-07-03 11:41:36     BTCBUSD  BUY  30638.35  0.0010  30.63835\n",
      "2  2023-07-03 11:41:24     ETHBUSD  BUY   1962.37  0.0150  29.43555\n",
      "3  2023-07-02 22:27:23     ETHBUSD  BUY   1951.08  0.0055  10.73094\n",
      "4  2023-07-02 22:27:23     ETHBUSD  BUY   1951.16  0.0095  18.53602\n"
     ]
    }
   ],
   "source": [
    "print(df_trasns[['datetimeUTC','symbol_pair','type','price','qty','total']].head())"
   ]
  },
  {
   "cell_type": "code",
   "execution_count": 38,
   "id": "f2260395",
   "metadata": {},
   "outputs": [
    {
     "name": "stdout",
     "output_type": "stream",
     "text": [
      "            datetimeUTC symbol_pair  type     price      qty      total\n",
      "19  2023-06-26 16:45:31     ETHBUSD   BUY   1855.00  0.01500  27.825000\n",
      "20  2023-06-26 15:10:56     BTCBUSD   BUY  30400.97  0.00053  16.112514\n",
      "21  2023-06-26 15:10:56     BTCBUSD   BUY  30400.97  0.00047  14.288456\n",
      "22  2023-06-26 01:13:33     ETHBUSD   BUY   1875.00  0.01500  28.125000\n",
      "23  2023-06-17 15:15:17     ETHBUSD  SELL   1732.98  0.01750  30.327150\n"
     ]
    }
   ],
   "source": [
    "print(df_trasns[['datetimeUTC','symbol_pair','type','price','qty','total']].tail())"
   ]
  },
  {
   "cell_type": "markdown",
   "id": "8e6ad03d",
   "metadata": {},
   "source": [
    "# Find Summary Buy & Sell"
   ]
  },
  {
   "cell_type": "code",
   "execution_count": 39,
   "id": "e8315271",
   "metadata": {},
   "outputs": [
    {
     "name": "stdout",
     "output_type": "stream",
     "text": [
      "Agg transaction\n",
      "  symbol  type     qty      total    avg_price\n",
      "0    BTC   BUY  0.0055  168.01014  30547.29845\n",
      "1    BTC  SELL  0.0018   53.87040  29928.00000\n",
      "2    ETH   BUY  0.1320  250.20842   1895.51830\n",
      "3    ETH  SELL  0.0525   95.11530   1811.72000\n"
     ]
    }
   ],
   "source": [
    "print(\"Agg transaction\")\n",
    "groupby_cols=['symbol','type']\n",
    "agg_cols=['qty','total']\n",
    "df_summary=df_trasns.groupby(groupby_cols,as_index=False)[agg_cols].sum()\n",
    "df_summary['avg_price']=df_summary['total']/df_summary['qty']\n",
    "df_summary=df_summary.round(5)\n",
    "print(df_summary)"
   ]
  },
  {
   "cell_type": "code",
   "execution_count": 40,
   "id": "481870bd",
   "metadata": {},
   "outputs": [
    {
     "name": "stdout",
     "output_type": "stream",
     "text": [
      "Total Buy/Sell PL\n",
      "   type      total\n",
      "0   BUY  418.21856\n",
      "1  SELL  148.98570\n",
      "2   NET -269.20000\n"
     ]
    }
   ],
   "source": [
    "print(\"Total Buy/Sell PL\")\n",
    "dfAll=df_summary.groupby(['type'],as_index=False)[['total']].sum()\n",
    "if len(dfAll)==2:\n",
    " dfAll.loc[len(dfAll)] = [\"NET\", (round(dfAll.loc[1,'total'],1)-round(dfAll.loc[0,'total'],1) )   ]   \n",
    "print(dfAll)"
   ]
  },
  {
   "cell_type": "code",
   "execution_count": 41,
   "id": "cc73a63f",
   "metadata": {},
   "outputs": [
    {
     "name": "stdout",
     "output_type": "stream",
     "text": [
      "Symbol in transaction\n",
      "['BTC' 'ETH']\n"
     ]
    }
   ],
   "source": [
    "print(\"Symbol in transaction\")\n",
    "list_sysmbols=df_summary['symbol'].unique()\n",
    "print(list_sysmbols)"
   ]
  },
  {
   "cell_type": "code",
   "execution_count": 42,
   "id": "e7de36be",
   "metadata": {},
   "outputs": [
    {
     "name": "stdout",
     "output_type": "stream",
     "text": [
      "Simulate Sell On Buy transactiond (Found Buy and Sell on same symbol)\n",
      "  symbol  type     qty    avg_price       total\n",
      "0    BTC   BUY  0.0055  30547.29845  168.010141\n",
      "1    BTC  SELL  0.0055  29928.00000  164.604000\n",
      "0    ETH   BUY  0.1320   1895.51830  250.208416\n",
      "1    ETH  SELL  0.1320   1811.72000  239.147040\n"
     ]
    }
   ],
   "source": [
    "print(\"Simulate Sell On Buy transactiond (Found Buy and Sell on same symbol)\")\n",
    "dfBSSimulation=pd.DataFrame(columns=list(df_summary.columns))\n",
    "type_action=['BUY','SELL']\n",
    "for symbol in list_sysmbols:\n",
    "    df_bs=df_summary.query(\"symbol==@symbol\")\n",
    "    df_bs.reset_index(inplace=True,drop=True)\n",
    "    if len(df_bs)==2:\n",
    "       df_bs.loc[1,\"qty\"]=df_bs.loc[0,\"qty\"]\n",
    "       # print(df_bs)\n",
    "       dfBSSimulation=pd.concat([dfBSSimulation,df_bs]) \n",
    "dfBSSimulation['total']=dfBSSimulation['qty']*dfBSSimulation['avg_price']\n",
    "dfBSSimulation=dfBSSimulation[['symbol' ,'type', 'qty' ,  'avg_price','total']]   \n",
    "print(dfBSSimulation)"
   ]
  },
  {
   "cell_type": "code",
   "execution_count": 43,
   "id": "3c54a3bf",
   "metadata": {},
   "outputs": [
    {
     "name": "stdout",
     "output_type": "stream",
     "text": [
      "Test Simulate Sell with Same Qty of Buy At The Current Price\n"
     ]
    },
    {
     "name": "stderr",
     "output_type": "stream",
     "text": [
      "C:\\Users\\pongthsa\\AppData\\Local\\Temp\\ipykernel_14408\\4100216823.py:15: SettingWithCopyWarning: \n",
      "A value is trying to be set on a copy of a slice from a DataFrame\n",
      "\n",
      "See the caveats in the documentation: https://pandas.pydata.org/pandas-docs/stable/user_guide/indexing.html#returning-a-view-versus-a-copy\n",
      "  df_bs.loc[1,\"symbol\"]=symbol\n",
      "C:\\Users\\pongthsa\\AppData\\Local\\Temp\\ipykernel_14408\\4100216823.py:15: SettingWithCopyWarning: \n",
      "A value is trying to be set on a copy of a slice from a DataFrame\n",
      "\n",
      "See the caveats in the documentation: https://pandas.pydata.org/pandas-docs/stable/user_guide/indexing.html#returning-a-view-versus-a-copy\n",
      "  df_bs.loc[1,\"symbol\"]=symbol\n"
     ]
    },
    {
     "name": "stdout",
     "output_type": "stream",
     "text": [
      "  symbol      type     qty    avg_price       total\n",
      "0    BTC       BUY  0.0055  30547.29845  168.010140\n",
      "1    BTC  SELL All  0.0055  30968.01000 -170.324055\n",
      "0    ETH       BUY  0.1320   1895.51830  250.208420\n",
      "1    ETH  SELL All  0.1320   1957.84000 -258.434880\n"
     ]
    }
   ],
   "source": [
    "def get_current_price(symbol):\n",
    "    symbol_pair=f\"{symbol}{main_statbleCoin}\"\n",
    "    current_price =float( client.get_symbol_ticker(symbol=symbol_pair)['price'])\n",
    "    current_price=round(current_price,5)\n",
    "    return current_price\n",
    "\n",
    "\n",
    "print(\"Test Simulate Sell with Same Qty of Buy At The Current Price\")\n",
    "buy_action='BUY'\n",
    "dfBSAll=pd.DataFrame(columns=list(df_summary.columns))\n",
    "\n",
    "for symbol in list_sysmbols:\n",
    "    df_bs=df_summary.query(\"symbol==@symbol and type==@buy_action\")\n",
    "    df_bs.reset_index(inplace=True,drop=True)\n",
    "    df_bs.loc[1,\"symbol\"]=symbol\n",
    "    df_bs.loc[1,\"type\"]=\"SELL All\"\n",
    "    df_bs.loc[1,\"qty\"]=df_bs.loc[0,\"qty\"]\n",
    "    df_bs.loc[1,\"avg_price\"]=get_current_price(symbol)\n",
    "    df_bs.loc[1,\"total\"]=df_bs.loc[1,\"qty\"]*df_bs.loc[1,\"avg_price\"]*-1\n",
    "    # print(df_bs)\n",
    "    dfBSAll=pd.concat([dfBSAll,df_bs]) \n",
    "    \n",
    "\n",
    "dfBSAll=dfBSAll[['symbol' ,'type', 'qty' ,  'avg_price','total'] ]  \n",
    "print(dfBSAll)"
   ]
  },
  {
   "cell_type": "code",
   "execution_count": 44,
   "id": "818e26b6",
   "metadata": {},
   "outputs": [
    {
     "name": "stdin",
     "output_type": "stream",
     "text": [
      "Press y to build report:  y\n"
     ]
    },
    {
     "name": "stderr",
     "output_type": "stream",
     "text": [
      "C:\\Users\\pongthsa\\AppData\\Local\\Temp\\ipykernel_14408\\1714457520.py:16: FutureWarning: save is not part of the public API, usage can give in unexpected results and will be removed in a future version\n",
      "  writer.save()\n"
     ]
    },
    {
     "name": "stdout",
     "output_type": "stream",
     "text": [
      "get report at D:\\BC-World\\CryptoTrans\\BS-Trade\\Trade_15Jun23-04Jul23_At_030723_2339.xlsx\n"
     ]
    }
   ],
   "source": [
    "report_y=input(f\"Press y to build report: \") \n",
    "if  report_y.lower()=='y' and df_trasns.empty==False :\n",
    "    \n",
    "    result_path=f'{root_path}\\\\Trade_{date_str_from}-{date_str_to}_At_{buildtime}.xlsx'\n",
    "    \n",
    "    writer=pd.ExcelWriter(result_path,engine='xlsxwriter') \n",
    "\n",
    "    df_summary.to_excel(writer, sheet_name=\"SummaryBuySell\",index=False)   \n",
    "    dfAll.to_excel(writer,sheet_name=\"NetAll\",index=False)\n",
    "    dfBSSimulation.to_excel(writer, sheet_name=\"BuySell_Simulation\",index=False) \n",
    "\n",
    "    \n",
    "    dfBSAll.to_excel(writer, sheet_name=\"BuySell_CurrentPrice\",index=False) \n",
    "    df_trasns.to_excel(writer, sheet_name=\"Transaction\",index=False)\n",
    "\n",
    "    writer.save()\n",
    "    print(f\"get report at \"+result_path)\n",
    "else:\n",
    "    print(\"no data to create report\")\n",
    "\n",
    "\n"
   ]
  },
  {
   "cell_type": "code",
   "execution_count": null,
   "id": "6293b61b",
   "metadata": {},
   "outputs": [],
   "source": []
  },
  {
   "cell_type": "code",
   "execution_count": null,
   "id": "950c5c36",
   "metadata": {},
   "outputs": [],
   "source": []
  }
 ],
 "metadata": {
  "kernelspec": {
   "display_name": "Python 3 (ipykernel)",
   "language": "python",
   "name": "python3"
  },
  "language_info": {
   "codemirror_mode": {
    "name": "ipython",
    "version": 3
   },
   "file_extension": ".py",
   "mimetype": "text/x-python",
   "name": "python",
   "nbconvert_exporter": "python",
   "pygments_lexer": "ipython3",
   "version": "3.9.12"
  }
 },
 "nbformat": 4,
 "nbformat_minor": 5
}
