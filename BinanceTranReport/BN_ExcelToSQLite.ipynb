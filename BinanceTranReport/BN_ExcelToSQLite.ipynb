{
 "cells": [
  {
   "cell_type": "code",
   "execution_count": 12,
   "id": "1af4e899-1eac-4ea1-81f4-c90a294bbe68",
   "metadata": {},
   "outputs": [],
   "source": [
    "import pandas as pd\n",
    "import sqlite3\n",
    "import os\n",
    "import numpy as np"
   ]
  },
  {
   "cell_type": "code",
   "execution_count": 19,
   "id": "6dab838a-ff05-455d-84d9-a54d3e743a5e",
   "metadata": {},
   "outputs": [],
   "source": [
    "existing_excel_path=r'D:\\BC-World\\CryptoTrans\\BS-Trade\\Master\\Master_BinanceTradeHistory.xlsx'\n",
    "data_base_file=f'DB_BN_MyTrade.db'"
   ]
  },
  {
   "cell_type": "code",
   "execution_count": 20,
   "id": "2f20c852-05ff-460f-94ff-58bd9bdd29c5",
   "metadata": {},
   "outputs": [],
   "source": [
    "df_existing=pd.read_excel(existing_excel_path,sheet_name='Master_BuySell')"
   ]
  },
  {
   "cell_type": "code",
   "execution_count": 21,
   "id": "d37db89b-e878-4bf6-a84c-865fb9037680",
   "metadata": {},
   "outputs": [
    {
     "data": {
      "text/html": [
       "<div>\n",
       "<style scoped>\n",
       "    .dataframe tbody tr th:only-of-type {\n",
       "        vertical-align: middle;\n",
       "    }\n",
       "\n",
       "    .dataframe tbody tr th {\n",
       "        vertical-align: top;\n",
       "    }\n",
       "\n",
       "    .dataframe thead th {\n",
       "        text-align: right;\n",
       "    }\n",
       "</style>\n",
       "<table border=\"1\" class=\"dataframe\">\n",
       "  <thead>\n",
       "    <tr style=\"text-align: right;\">\n",
       "      <th></th>\n",
       "      <th>datetimeUTC</th>\n",
       "      <th>symbol_pair</th>\n",
       "      <th>symbol</th>\n",
       "      <th>pair</th>\n",
       "      <th>type</th>\n",
       "      <th>price</th>\n",
       "      <th>qty</th>\n",
       "      <th>total</th>\n",
       "      <th>commission</th>\n",
       "      <th>commissionAsset</th>\n",
       "    </tr>\n",
       "  </thead>\n",
       "  <tbody>\n",
       "    <tr>\n",
       "      <th>0</th>\n",
       "      <td>2022-08-13 01:18:00</td>\n",
       "      <td>MATICBUSD</td>\n",
       "      <td>MATIC</td>\n",
       "      <td>BUSD</td>\n",
       "      <td>SELL</td>\n",
       "      <td>0.9400</td>\n",
       "      <td>22.0000</td>\n",
       "      <td>20.68000</td>\n",
       "      <td>0</td>\n",
       "      <td>BNB</td>\n",
       "    </tr>\n",
       "    <tr>\n",
       "      <th>1</th>\n",
       "      <td>2022-08-13 00:59:29</td>\n",
       "      <td>BTCBUSD</td>\n",
       "      <td>BTC</td>\n",
       "      <td>BUSD</td>\n",
       "      <td>SELL</td>\n",
       "      <td>24500.0000</td>\n",
       "      <td>0.0005</td>\n",
       "      <td>12.25000</td>\n",
       "      <td>0</td>\n",
       "      <td>BNB</td>\n",
       "    </tr>\n",
       "    <tr>\n",
       "      <th>2</th>\n",
       "      <td>2022-08-12 17:08:40</td>\n",
       "      <td>MATICBUSD</td>\n",
       "      <td>MATIC</td>\n",
       "      <td>BUSD</td>\n",
       "      <td>BUY</td>\n",
       "      <td>0.9177</td>\n",
       "      <td>22.0000</td>\n",
       "      <td>20.18940</td>\n",
       "      <td>0</td>\n",
       "      <td>BNB</td>\n",
       "    </tr>\n",
       "    <tr>\n",
       "      <th>3</th>\n",
       "      <td>2022-08-12 16:49:52</td>\n",
       "      <td>BNBBUSD</td>\n",
       "      <td>BNB</td>\n",
       "      <td>BUSD</td>\n",
       "      <td>BUY</td>\n",
       "      <td>322.6000</td>\n",
       "      <td>0.0460</td>\n",
       "      <td>14.83960</td>\n",
       "      <td>0</td>\n",
       "      <td>BNB</td>\n",
       "    </tr>\n",
       "    <tr>\n",
       "      <th>4</th>\n",
       "      <td>2022-08-12 16:40:13</td>\n",
       "      <td>ETHBUSD</td>\n",
       "      <td>ETH</td>\n",
       "      <td>BUSD</td>\n",
       "      <td>BUY</td>\n",
       "      <td>1898.9000</td>\n",
       "      <td>0.0076</td>\n",
       "      <td>14.43164</td>\n",
       "      <td>0</td>\n",
       "      <td>BNB</td>\n",
       "    </tr>\n",
       "  </tbody>\n",
       "</table>\n",
       "</div>"
      ],
      "text/plain": [
       "           datetimeUTC symbol_pair symbol  pair  type       price      qty  \\\n",
       "0  2022-08-13 01:18:00   MATICBUSD  MATIC  BUSD  SELL      0.9400  22.0000   \n",
       "1  2022-08-13 00:59:29     BTCBUSD    BTC  BUSD  SELL  24500.0000   0.0005   \n",
       "2  2022-08-12 17:08:40   MATICBUSD  MATIC  BUSD   BUY      0.9177  22.0000   \n",
       "3  2022-08-12 16:49:52     BNBBUSD    BNB  BUSD   BUY    322.6000   0.0460   \n",
       "4  2022-08-12 16:40:13     ETHBUSD    ETH  BUSD   BUY   1898.9000   0.0076   \n",
       "\n",
       "      total  commission commissionAsset  \n",
       "0  20.68000           0             BNB  \n",
       "1  12.25000           0             BNB  \n",
       "2  20.18940           0             BNB  \n",
       "3  14.83960           0             BNB  \n",
       "4  14.43164           0             BNB  "
      ]
     },
     "execution_count": 21,
     "metadata": {},
     "output_type": "execute_result"
    }
   ],
   "source": [
    "\n",
    "cols_name={'DateTime(UTC)':'datetimeUTC','Symbol':'symbol','Type':'type','Price':'price','Amount':'qty','Total':'total'}\n",
    "df_existing=df_existing.rename(columns=cols_name)\n",
    "df_existing['pair']='BUSD'\n",
    "df_existing['symbol_pair']=df_existing.apply( lambda x: f\"{x.symbol}{x.pair}\",axis=1)\n",
    "df_existing['commission']=0\n",
    "df_existing['commissionAsset']='BNB'\n",
    "df_existing['datetimeUTC']=df_existing['datetimeUTC'].dt.strftime(\"%Y-%m-%d %H:%M:%S\")\n",
    "cols=['datetimeUTC','symbol_pair','symbol','pair','type','price','qty','total','commission','commissionAsset']\n",
    "df_existing=df_existing[cols]\n",
    "df_existing.head()"
   ]
  },
  {
   "cell_type": "code",
   "execution_count": 22,
   "id": "6231e88f-0e87-4617-94cf-ef0699d66044",
   "metadata": {},
   "outputs": [
    {
     "name": "stdout",
     "output_type": "stream",
     "text": [
      "<class 'pandas.core.frame.DataFrame'>\n",
      "RangeIndex: 807 entries, 0 to 806\n",
      "Data columns (total 10 columns):\n",
      " #   Column           Non-Null Count  Dtype  \n",
      "---  ------           --------------  -----  \n",
      " 0   datetimeUTC      807 non-null    object \n",
      " 1   symbol_pair      807 non-null    object \n",
      " 2   symbol           807 non-null    object \n",
      " 3   pair             807 non-null    object \n",
      " 4   type             807 non-null    object \n",
      " 5   price            807 non-null    float64\n",
      " 6   qty              807 non-null    float64\n",
      " 7   total            807 non-null    float64\n",
      " 8   commission       807 non-null    int64  \n",
      " 9   commissionAsset  807 non-null    object \n",
      "dtypes: float64(3), int64(1), object(6)\n",
      "memory usage: 63.2+ KB\n"
     ]
    }
   ],
   "source": [
    "df_existing.info()"
   ]
  },
  {
   "cell_type": "code",
   "execution_count": 23,
   "id": "e47c074b-4582-4b45-a49b-f515d141c877",
   "metadata": {},
   "outputs": [
    {
     "name": "stdout",
     "output_type": "stream",
     "text": [
      "Connect SQLite\n"
     ]
    }
   ],
   "source": [
    "#df_existing.to_csv('data/binance_hist_trade.csv',index=False)\n",
    "print(\"Connect SQLite\")\n",
    "conn = sqlite3.connect(os.path.abspath(data_base_file))\n",
    "sqlite3.register_adapter(np.int64, lambda val: int(val))\n",
    "sqlite3.register_adapter(np.int32, lambda val: int(val))"
   ]
  },
  {
   "cell_type": "code",
   "execution_count": 24,
   "id": "79b699ae-346d-4b86-bede-5cdbdf532262",
   "metadata": {},
   "outputs": [],
   "source": [
    "def insertTradeTransaction(recordList):\n",
    "    try:\n",
    "        sqliteConnection = sqlite3.connect(os.path.abspath(data_base_file))\n",
    "        cursor = sqliteConnection.cursor()\n",
    "        print(\"Connected to SQLite\")\n",
    "\n",
    "        sqlite_insert_query = \"\"\"\n",
    "        INSERT INTO hist_trade\n",
    "         VALUES (?,?,?,?,?,?,?,?,?,?);\n",
    "         \"\"\"\n",
    "\n",
    "        cursor.executemany(sqlite_insert_query, recordList)\n",
    "        sqliteConnection.commit()\n",
    "        print(\"Total\", cursor.rowcount, \"Add transaction successfully\")\n",
    "        sqliteConnection.commit()\n",
    "        cursor.close()\n",
    "\n",
    "    except sqlite3.Error as error:\n",
    "        print(\"Failed to insert multiple records to table\", error)\n",
    "    finally:\n",
    "        if sqliteConnection:\n",
    "            sqliteConnection.close()\n",
    "            print(\"The SQLite connection is closed\")\n",
    "\n",
    "\n"
   ]
  },
  {
   "cell_type": "code",
   "execution_count": 25,
   "id": "96b1e7c8-60de-47f7-bb93-d0c3539caba1",
   "metadata": {},
   "outputs": [
    {
     "name": "stdout",
     "output_type": "stream",
     "text": [
      "Connected to SQLite\n",
      "Total 807 Add transaction successfully\n",
      "The SQLite connection is closed\n"
     ]
    }
   ],
   "source": [
    "recordsToInsert=list(df_existing.to_records(index=False))\n",
    "insertTradeTransaction(recordsToInsert)"
   ]
  },
  {
   "cell_type": "code",
   "execution_count": null,
   "id": "26a9c1d7-c78e-4137-81e1-be45bf0a2024",
   "metadata": {},
   "outputs": [],
   "source": []
  },
  {
   "cell_type": "code",
   "execution_count": null,
   "id": "2ff6e302-2620-4403-9b6c-636a3dd8cf82",
   "metadata": {},
   "outputs": [],
   "source": []
  }
 ],
 "metadata": {
  "kernelspec": {
   "display_name": "Python 3 (ipykernel)",
   "language": "python",
   "name": "python3"
  },
  "language_info": {
   "codemirror_mode": {
    "name": "ipython",
    "version": 3
   },
   "file_extension": ".py",
   "mimetype": "text/x-python",
   "name": "python",
   "nbconvert_exporter": "python",
   "pygments_lexer": "ipython3",
   "version": "3.9.12"
  }
 },
 "nbformat": 4,
 "nbformat_minor": 5
}
