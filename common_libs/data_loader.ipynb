{
 "cells": [
  {
   "cell_type": "code",
   "execution_count": 18,
   "id": "a4039252-e0c7-4c9a-b325-d9b31019fe00",
   "metadata": {},
   "outputs": [],
   "source": [
    "import numpy as np\n",
    "import pandas as pd\n",
    "import sqlite3\n",
    "import os\n",
    "import calendar\n",
    "from datetime import datetime\n",
    "import math\n",
    "import matplotlib\n",
    "import matplotlib.pyplot as plt\n",
    "import numpy as np"
   ]
  },
  {
   "cell_type": "code",
   "execution_count": 19,
   "id": "1d81f36e-d28d-4a52-9302-5404d843edf1",
   "metadata": {},
   "outputs": [],
   "source": [
    "data_file=r\"D:\\PythonDev\\MyQuantFinProject\\Data\\Tech-2Q17-Now.csv\"\n",
    "mode='offline'\n",
    "\n",
    "from_month_str='2017-04-01'\n",
    "to_month_str='2022-12-31'\n"
   ]
  },
  {
   "cell_type": "code",
   "execution_count": 29,
   "id": "2cc4b297-9282-4d18-8ff4-894e6d8a6585",
   "metadata": {},
   "outputs": [],
   "source": [
    "def load_offline_data(from_month_str,to_month_str,data_file=None):\n",
    "\n",
    "    list_fund_name=[]\n",
    "\n",
    "    print(\"Load Price Data\")\n",
    "\n",
    "    df = pd.read_csv(data_file,index_col='Date/Time',parse_dates=['Date/Time'],dayfirst=True)\n",
    "    df.index.set_names('date',inplace=True)\n",
    "    df=df.rename(columns={'Ticker':'symbol','close':'price'})\n",
    "    \n",
    "    df=df.loc[from_month_str:to_month_str,:]\n",
    "\n",
    "    df=df[['symbol','price']]\n",
    "\n",
    "    list_fund_name=df['symbol'].unique().tolist()  \n",
    "\n",
    "    print(df.head(3))\n",
    "    print(df.tail(3))\n",
    "    return df,list_fund_name   \n",
    "\n"
   ]
  },
  {
   "cell_type": "code",
   "execution_count": 30,
   "id": "18a0697d-a5a8-4fce-85ec-74ea94d3096d",
   "metadata": {},
   "outputs": [],
   "source": [
    "# def load_online_data():\n",
    "#https://github.com/ranaroussi/yfinance\n",
    "# data = yf.download(\"SPY AAPL\", start=\"2017-01-01\", end=\"2017-04-30\")\n",
    "# fund_symbols=df['symbol_x'].tolist()\n",
    "# fund_keys=df['symbol_key'].tolist()\n",
    "\n",
    "# symbol_str=' '.join(fund_symbols )\n",
    "# print(symbol_str)\n",
    "# list_current_price = yf.download( tickers = symbol_str,threads = True,\n",
    "#                              group_by=True,period = \"1d\",prepost = True)\n",
    "# list_fund= list(zip(fund_keys,fund_symbols))\n",
    "# for x in list_fund:\n",
    "#  current_price_dict[x[0]]=round( list_current_price[x[1]]['Close'][0],2)\n",
    "#  list_symbol.append(x[0])"
   ]
  },
  {
   "cell_type": "code",
   "execution_count": 31,
   "id": "a5438f6e-4a78-4606-bbc9-6352db9f1ad0",
   "metadata": {},
   "outputs": [],
   "source": [
    "def load_data_groupby_symbol(mode,from_month_str,to_month_str,data_file=None):\n",
    "    print(\"Seperate dataframe  by symbol \")\n",
    "    dictPriceOfFund={}\n",
    "    unavaiable_funds=[]\n",
    "    \n",
    "    df,list_fund_name=load_offline_data(from_month_str,to_month_str,data_file)\n",
    "    \n",
    "    print(f'List Fund : {list_fund_name}')\n",
    "    for name in list_fund_name:\n",
    "\n",
    "      fund_df=df.query('symbol==@name')\n",
    "      fund_df=fund_df[['price']]\n",
    "      fund_df=fund_df.loc[from_month_str:to_month_str,:]  \n",
    "      fund_df.sort_index(inplace=True)  \n",
    "      if len(fund_df)  >0:\n",
    "          dictPriceOfFund[name]=fund_df\n",
    "          print(f\"============================={name}=============================\")  \n",
    "          print(fund_df.head(3))   \n",
    "          print(fund_df.tail(3))  \n",
    "      else:\n",
    "\n",
    "          unavaiable_funds.append(name)\n",
    "\n",
    "    if len(unavaiable_funds)>0:\n",
    "      raise Exception(f\"There are some funds are not data {unavaiable_funds}\")\n",
    "    \n",
    "    return dictPriceOfFund,list_fund_name\n",
    "   "
   ]
  },
  {
   "cell_type": "code",
   "execution_count": 33,
   "id": "4f1e1472-c869-4cdb-88f7-4678f99829b2",
   "metadata": {},
   "outputs": [
    {
     "name": "stdout",
     "output_type": "stream",
     "text": [
      "Load Price Data\n",
      "                symbol  price\n",
      "date                         \n",
      "2017-04-03  B-InnoTech  10.09\n",
      "2017-04-04  B-InnoTech  10.10\n",
      "2017-04-05  B-InnoTech  10.15\n",
      "           symbol   price\n",
      "date                     \n",
      "2022-11-28    QQQ  282.71\n",
      "2022-11-29    QQQ  280.57\n",
      "2022-11-30    QQQ  293.36\n"
     ]
    },
    {
     "name": "stderr",
     "output_type": "stream",
     "text": [
      "C:\\Users\\pongthsa\\AppData\\Local\\Temp\\ipykernel_13864\\653315722.py:11: FutureWarning: Value based partial slicing on non-monotonic DatetimeIndexes with non-existing keys is deprecated and will raise a KeyError in a future Version.\n",
      "  df=df.loc[from_month_str:to_month_str,:]\n"
     ]
    }
   ],
   "source": [
    "# dictPriceOfFund,list_fund_name=load_data_groupby_symbol ('offline',from_month_str,to_month_str,data_file)\n",
    "\n",
    "# df,list_fund_name=load_offline_data(from_month_str,to_month_str,data_file)"
   ]
  },
  {
   "cell_type": "code",
   "execution_count": null,
   "id": "1594159f-3568-4500-9dc0-53301fac3aec",
   "metadata": {},
   "outputs": [],
   "source": []
  }
 ],
 "metadata": {
  "kernelspec": {
   "display_name": "Python 3 (ipykernel)",
   "language": "python",
   "name": "python3"
  },
  "language_info": {
   "codemirror_mode": {
    "name": "ipython",
    "version": 3
   },
   "file_extension": ".py",
   "mimetype": "text/x-python",
   "name": "python",
   "nbconvert_exporter": "python",
   "pygments_lexer": "ipython3",
   "version": "3.9.12"
  }
 },
 "nbformat": 4,
 "nbformat_minor": 5
}
