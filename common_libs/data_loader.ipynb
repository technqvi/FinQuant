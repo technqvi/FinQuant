{
 "cells": [
  {
   "cell_type": "code",
   "execution_count": 40,
   "id": "a4039252-e0c7-4c9a-b325-d9b31019fe00",
   "metadata": {},
   "outputs": [],
   "source": [
    "import numpy as np\n",
    "import pandas as pd\n",
    "import sqlite3\n",
    "import os\n",
    "import calendar\n",
    "from datetime import datetime\n",
    "import math\n",
    "import matplotlib\n",
    "import matplotlib.pyplot as plt\n",
    "import numpy as np"
   ]
  },
  {
   "cell_type": "code",
   "execution_count": 41,
   "id": "1d81f36e-d28d-4a52-9302-5404d843edf1",
   "metadata": {},
   "outputs": [],
   "source": [
    "data_file=r\"D:\\PythonDev\\MyQuantFinProject\\Data\\Tech-2Q17-Now.csv\"\n",
    "mode='offline'\n",
    "\n",
    "from_month_str='2017-04-01'\n",
    "to_month_str='2022-12-31'\n"
   ]
  },
  {
   "cell_type": "code",
   "execution_count": 42,
   "id": "a5438f6e-4a78-4606-bbc9-6352db9f1ad0",
   "metadata": {},
   "outputs": [],
   "source": [
    "#def load_data(mode,from_month_str,to_month_str,data_file=None):"
   ]
  },
  {
   "cell_type": "code",
   "execution_count": 43,
   "id": "4f1e1472-c869-4cdb-88f7-4678f99829b2",
   "metadata": {},
   "outputs": [
    {
     "name": "stdout",
     "output_type": "stream",
     "text": [
      "D:\\PythonDev\\MyQuantFinProject\\Data\\Tech-2Q17-Now.csv\n",
      "Load Price Data\n",
      "                symbol  price\n",
      "date                         \n",
      "2017-04-03  B-InnoTech  10.09\n",
      "2017-04-04  B-InnoTech  10.10\n",
      "2017-04-05  B-InnoTech  10.15\n",
      "2017-04-06  B-InnoTech  10.10\n",
      "2017-04-07  B-InnoTech  10.09\n",
      "           symbol   price\n",
      "date                     \n",
      "2022-11-23    QQQ  288.82\n",
      "2022-11-25    QQQ  286.92\n",
      "2022-11-28    QQQ  282.71\n",
      "2022-11-29    QQQ  280.57\n",
      "2022-11-30    QQQ  293.36\n"
     ]
    }
   ],
   "source": [
    "# def load_offline_data():\n",
    "if os.path.exists(data_file):\n",
    "  print(data_file)\n",
    "else:\n",
    "  raise Exception(f\"Not found {data_file}\")  \n",
    "\n",
    "print(\"Load Price Data\")\n",
    "\n",
    "df = pd.read_csv(data_file,index_col='Date/Time',parse_dates=['Date/Time'],dayfirst=True)\n",
    "df.index.set_names('date',inplace=True)\n",
    "df=df.rename(columns={'Ticker':'symbol','close':'price'})\n",
    "\n",
    "df=df[['symbol','price']]\n",
    "\n",
    "list_fund_name=df['symbol'].unique().tolist()  \n",
    "\n",
    "print(df.head())\n",
    "print(df.tail())\n",
    "\n",
    "#Check first idex >=from_str and last date=to_str \n"
   ]
  },
  {
   "cell_type": "code",
   "execution_count": 44,
   "id": "72e8c0f0-43a0-4ead-a226-d1e17cbee913",
   "metadata": {},
   "outputs": [],
   "source": [
    "# def load_online_data():\n",
    "#https://github.com/ranaroussi/yfinance\n",
    "# data = yf.download(\"SPY AAPL\", start=\"2017-01-01\", end=\"2017-04-30\")\n",
    "# fund_symbols=df['symbol_x'].tolist()\n",
    "# fund_keys=df['symbol_key'].tolist()\n",
    "\n",
    "# symbol_str=' '.join(fund_symbols )\n",
    "# print(symbol_str)\n",
    "# list_current_price = yf.download( tickers = symbol_str,threads = True,\n",
    "#                              group_by=True,period = \"1d\",prepost = True)\n",
    "# list_fund= list(zip(fund_keys,fund_symbols))\n",
    "# for x in list_fund:\n",
    "#  current_price_dict[x[0]]=round( list_current_price[x[1]]['Close'][0],2)\n",
    "#  list_symbol.append(x[0])"
   ]
  },
  {
   "cell_type": "code",
   "execution_count": 45,
   "id": "6aa81c48-3d65-40ce-bdab-e7d144d2a51d",
   "metadata": {},
   "outputs": [
    {
     "name": "stdout",
     "output_type": "stream",
     "text": [
      "Seperate dataframe  by symbol \n",
      "['B-InnoTech', 'XLK', 'IGM', 'QQQ']\n",
      "=============================B-InnoTech=============================\n",
      "            price\n",
      "date             \n",
      "2017-04-03  10.09\n",
      "2017-04-04  10.10\n",
      "2017-04-05  10.15\n",
      "            price\n",
      "date             \n",
      "2022-11-28  25.23\n",
      "2022-11-29  24.97\n",
      "2022-11-30  25.21\n",
      "=============================XLK=============================\n",
      "            price\n",
      "date             \n",
      "2017-04-03  53.26\n",
      "2017-04-04  53.30\n",
      "2017-04-05  53.08\n",
      "             price\n",
      "date              \n",
      "2022-11-28  130.74\n",
      "2022-11-29  129.46\n",
      "2022-11-30  135.96\n",
      "=============================IGM=============================\n",
      "             price\n",
      "date              \n",
      "2017-04-03  138.06\n",
      "2017-04-04  138.10\n",
      "2017-04-05  137.61\n",
      "             price\n",
      "date              \n",
      "2022-11-28  293.45\n",
      "2022-11-29  290.94\n",
      "2022-11-30  305.32\n",
      "=============================QQQ=============================\n",
      "             price\n",
      "date              \n",
      "2017-04-03  132.30\n",
      "2017-04-04  132.51\n",
      "2017-04-05  131.97\n",
      "             price\n",
      "date              \n",
      "2022-11-28  282.71\n",
      "2022-11-29  280.57\n",
      "2022-11-30  293.36\n"
     ]
    }
   ],
   "source": [
    "\n",
    "print(\"Seperate dataframe  by symbol \")\n",
    "dictPriceOfFund={}\n",
    "unavaiable_funds=[]\n",
    "\n",
    "print(list_fund_name)\n",
    "for name in list_fund_name:\n",
    "    \n",
    "  fund_df=df.query('symbol==@name')\n",
    "  fund_df=fund_df[['price']]\n",
    "  fund_df=fund_df.loc[from_month_str:to_month_str,:]  \n",
    "  fund_df.sort_index(inplace=True)  \n",
    "  if len(fund_df)  >0:\n",
    "      dictPriceOfFund[name]=fund_df\n",
    "      print(f\"============================={name}=============================\")  \n",
    "      print(fund_df.head(3))   \n",
    "      print(fund_df.tail(3))  \n",
    "  else:\n",
    "      \n",
    "      unavaiable_funds.append(name)\n",
    "\n",
    "if len(unavaiable_funds)>0:\n",
    "  raise Exception(f\"There are some funds are not data {unavaiable_funds}\")\n",
    "   "
   ]
  },
  {
   "cell_type": "code",
   "execution_count": 46,
   "id": "5f00691b-81bc-4dcf-b762-dde16f55d93c",
   "metadata": {},
   "outputs": [],
   "source": [
    "#return dictPriceOfFund"
   ]
  },
  {
   "cell_type": "code",
   "execution_count": null,
   "id": "551051a4-3216-4fc1-ae7f-3e8373eef1ba",
   "metadata": {},
   "outputs": [],
   "source": []
  }
 ],
 "metadata": {
  "kernelspec": {
   "display_name": "Python 3 (ipykernel)",
   "language": "python",
   "name": "python3"
  },
  "language_info": {
   "codemirror_mode": {
    "name": "ipython",
    "version": 3
   },
   "file_extension": ".py",
   "mimetype": "text/x-python",
   "name": "python",
   "nbconvert_exporter": "python",
   "pygments_lexer": "ipython3",
   "version": "3.9.12"
  }
 },
 "nbformat": 4,
 "nbformat_minor": 5
}
