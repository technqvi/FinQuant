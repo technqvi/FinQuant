import pandas as pd
import datetime as datetime
import os
# ! pip install xlsxwriter --user
from IPython.display import HTML

def df_horizontal(dfs):
    html = '<div style="display:flex">'
    for df in dfs:
        html += '<div style="margin-right: 32px">'
        html += df.to_html()
        html += '</div>'
    html += '</div>'
    display(HTML(html))
    


data_path=r'D:\PythonDev\MyQuantFinProject\Data'
data_file='World-Focus-1Q24.csv'
isPy=False 
isPriceExcel=True





# If you want to see July-Oct, you have to have last trading day of June
from_str='2023-12-01'  
to_str='2024-03-31' 
timeframe='M'

pct_return_col=f"pct_change_{timeframe}"
std_col="std_of_pct_Daily"
# timeframe='W-FRI'





if isPy:
    print(f"Data csv file in Path: {data_path}")
    data_file=input("CSV file name : ")

    from_str=input("From_date(2020-10-01) : ") 
    to_str=input("To_date(2022-12-31): ") 
    timeframe=input("Timeframe(W-FRI,M,Q,Y): ") 
  
    print(f"Process data from {from_str} to {to_str} in {timeframe} timeframe")
    press_y=input(f"Press y=True and n=False to run analaystics : ") 
    if press_y.lower()=='y':
     ok=True
    else:
     exit()



report_prefix_name=data_file.split('.')[0]
data_file=os.path.join(data_path,data_file)
if os.path.exists(data_file)==False:
    raise Exception(f"not found {data_file}")
else:
    print(f"Process file {data_file}")
print(data_file)





df = pd.read_csv(data_file,index_col='Date/Time',parse_dates=['Date/Time'],dayfirst=True)
df.index.set_names('date',inplace=True)
df.sort_index(inplace=True)
df=df.rename(columns={'Ticker':'symbol','close':'price'})
df=df[['symbol','price']]

#test 1
# df=df.query("symbol not in ('BTC-USD')")
# print(df.info())

df.tail(10)


list_symbol=df['symbol'].unique().tolist() 

print(list_symbol)









# colsROC=['symbol','date','pct_change','std_of_daily_pct','return_to_std']
colsROC=['symbol','date',pct_return_col,std_col]
df_Pct_Price=pd.DataFrame(columns=colsROC)
print(df_Pct_Price)

#https://pandas.pydata.org/docs/reference/api/pandas.core.resample.Resampler.aggregate.html
#https://stackoverflow.com/questions/47938372/pandas-dataframe-resample-aggregate-function-use-multiple-columns-with-a-customi
#https://www.alpharithms.com/aggregating-time-series-data-with-pandas-resampling-411212/
# https://sparkbyexamples.com/pandas/pandas-aggregate-functions-with-examples/
for symbol_name in list_symbol:
    print(f"===================================={symbol_name}====================================")
    dfx_symbol=df.query('symbol==@symbol_name')
    dfx_symbol['_pct_compare_prev_']=dfx_symbol['price'].pct_change()
    dfx_symbol=dfx_symbol.loc[from_str:to_str]
    #print(dfx_symbol.tail())
    
    
    dfx_px=dfx_symbol.resample(timeframe).agg({'price': 'last','_pct_compare_prev_':'std'}) 
    dfx_px=dfx_px.rename(columns={'_pct_compare_prev_':std_col})

    dfx_px[pct_return_col]=dfx_px['price'].pct_change()
    dfx_px[pct_return_col]=dfx_px[pct_return_col].round(4)

    dfx_px=dfx_px.dropna() # the first  rown 
    dfx_px=dfx_px.drop(columns=['price']) # remove price becase we are focuse ROC of Price
    
    dfx_px[pct_return_col]=dfx_px[pct_return_col]*100
    dfx_px[std_col]=dfx_px[std_col]*100
    
    # dfx_px[pct_return_col]=dfx_px[pct_return_col]/dfx_px[std_col]
    
    dfx_px=dfx_px.reset_index()
    dfx_px['symbol']=symbol_name
    dfx_px=dfx_px[colsROC]
    
#     print(f"Calculate ROC of {symbol_name}")
    print(dfx_px)
    
    df_Pct_Price=pd.concat([df_Pct_Price,dfx_px],ignore_index=True,axis=0)


print("===============List All================================")
print(df_Pct_Price)








print(f"==================Sum-Return and Avg-Std based on {timeframe}===========================")
print("Sum percentage of fund return")
dfSum_Pct_Price=df_Pct_Price.groupby(['symbol'])[[pct_return_col]].sum()
dfSum_Pct_Price.reset_index(drop=False,inplace=True)
dfSum_Pct_Price[pct_return_col]=dfSum_Pct_Price[pct_return_col].round(1)


print("==============================================================")
print("Average Std of fund ")
dfAvg_Std_Price=df_Pct_Price.groupby(['symbol'])[[std_col]].mean()
dfAvg_Std_Price.reset_index(drop=False,inplace=True)
dfAvg_Std_Price[std_col]=dfAvg_Std_Price[std_col].round(2)

dfValueSummary=pd.merge(left=dfSum_Pct_Price,right=dfAvg_Std_Price,on='symbol')
dfValueSummary.fillna(value=0,inplace=True)
dfValueSummary.set_index('symbol',inplace=True)
dfValueSummary








print("==============================================================")
print(f"Pivot Percent Return and Rank {timeframe} To Dataframe")
dfPct=df_Pct_Price.pivot(index='date', columns='symbol', values=pct_return_col)
dfRank=dfPct[dfPct.columns.tolist()].rank(axis=1)
# print(dfPct.info())


print("==============================================================")
print(f"Pivot Daily STD and Rank in {timeframe} and Rank To Dataframe")
dfStd=df_Pct_Price.pivot(index='date', columns='symbol', values=std_col)
dfRankStd=dfStd[dfStd.columns.tolist()].rank(axis=1,ascending=False)



df_horizontal([dfRank,dfPct])
df_horizontal([dfRankStd,dfStd])





print("==============================================================")
print("Combine Both Pct Return and Rank")
print("Return :higher total score , greater performance")
print("Std : higher total score , worse perfromance")
dfRankSummary=pd.concat([
                     dfRank.sum().to_frame(name='sum_return_rank'),
                     dfRankStd.sum().to_frame(name='sum_std_rank'),  
                    ],axis=1)
dfRankSummary.fillna(value=0,inplace=True)
dfRankSummary





dfSumOfRankSummary['TotalScoreByRankValue']=dfRankSummary["sum_return_rank"]+dfRankSummary["sum_std_rank"]





dfValueSummary['value_return_rank']=dfValueSummary[pct_return_col].rank()
dfValueSummary['value_std_rank']=dfValueSummary[std_col].rank(ascending=False)


# real score
dfRankSummary['return_rank']=dfRankSummary['sum_return_rank'].rank()
dfRankSummary['std_rank']=dfRankSummary['sum_std_rank'].rank()




df_horizontal([dfValueSummary, dfRankSummary])





dfFinalScore= pd.concat([ dfValueSummary[['value_return_rank','value_std_rank']],dfRankSummary[['return_rank','std_rank']]],axis=1)
dfFinalScore['TotalScore']=dfFinalScore.sum(axis=1)
dfFinalScore=dfFinalScore.sort_values(by='TotalScore',ascending=False)

# dfFinalScore['pctChangeScore']=dfFinalScore['TotalScore'].pct_change()*100
# dfFinalScore['pctChangeScore']=dfFinalScore['pctChangeScore'].round(0)
# dfFinalScore.fillna(value=0,inplace=True)

# dfFinalScore=dfFinalScore[['TotalScore','pctChangeScore','value_return_rank','value_std_rank','return_rank','std_rank']]
dfFinalScore=dfFinalScore[['TotalScore','value_return_rank','value_std_rank','return_rank','std_rank']]
dfFinalScore


if isPriceExcel:
    print("Export outcoome as Excel")
    with pd.ExcelWriter(f"{report_prefix_name}_{timeframe}_{from_str}To{to_str}.xlsx") as writer:
        df_Pct_Price.to_excel(writer, sheet_name=f"{timeframe}")
        
        dfPct.to_excel(writer, sheet_name=f"{timeframe}-Return")
        dfRankStd.to_excel(writer, sheet_name=f"{timeframe}-RankStd")
        
        dfStd.to_excel(writer, sheet_name=f"{timeframe}-Std")
        dfRank.to_excel(writer, sheet_name=f"{timeframe}-RankReturn")
        
        
        dfValueSummary.to_excel(writer, sheet_name="Value-Summary")
        dfRankSummary.to_excel(writer, sheet_name="Rank-Summary")

        dfFinalScore.to_excel(writer, sheet_name="FinalScore")






