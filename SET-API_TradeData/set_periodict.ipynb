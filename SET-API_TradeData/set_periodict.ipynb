{
 "cells": [
  {
   "cell_type": "code",
   "execution_count": 67,
   "id": "c5e695d7-e520-4389-8f7b-ae32e16a1929",
   "metadata": {},
   "outputs": [],
   "source": [
    "from settrade_v2 import Investor\n",
    "from settrade_v2.errors import SettradeError\n",
    "import configparser\n",
    "import pandas as pd\n",
    "from datetime import datetime"
   ]
  },
  {
   "cell_type": "code",
   "execution_count": 7,
   "id": "7e28862c-684d-48ad-b9e1-221eee72636c",
   "metadata": {},
   "outputs": [
    {
     "data": {
      "text/plain": [
       "['user-info.properties']"
      ]
     },
     "execution_count": 7,
     "metadata": {},
     "output_type": "execute_result"
    }
   ],
   "source": [
    "configParser = configparser.RawConfigParser()   \n",
    "configFilePath = 'user-info.properties'\n",
    "configParser.read(configFilePath)"
   ]
  },
  {
   "cell_type": "code",
   "execution_count": 103,
   "id": "3839822e-2a66-463c-8018-6f3ed56cd5da",
   "metadata": {},
   "outputs": [],
   "source": [
    "app_id = configParser.get('STT-OPENAPI-AUTH', 'app-id')\n",
    "app_secret = configParser.get('STT-OPENAPI-AUTH', 'app-secret')\n",
    "app_code = configParser.get('STT-OPENAPI-AUTH', 'app-code-sandbox')\n",
    "broker_id = configParser.get('STT-OPENAPI-AUTH', 'broker-id-sandbox')\n",
    "is_auto_queue = False\n",
    "\n",
    "\n",
    "investor = Investor(\n",
    "                app_id=app_id,                                 \n",
    "                app_secret=app_secret, \n",
    "                broker_id=broker_id,\n",
    "                app_code=app_code,\n",
    "                is_auto_queue = True)"
   ]
  },
  {
   "cell_type": "code",
   "execution_count": 117,
   "id": "92321d4a-1162-483c-85b7-10f82fc02235",
   "metadata": {},
   "outputs": [
    {
     "name": "stdout",
     "output_type": "stream",
     "text": [
      "{'lastSequence': 0, 'time': [1696903200, 1696906800, 1696910400, 1696914000, 1696921200, 1696924800, 1696928400, 1696989600, 1696993200, 1696996800, 1697000400, 1697007600, 1697011200, 1697014800], 'open': [881.87, 880.6, 877.0, 878.08, 879.18, 875.38, 878.08, 880.76, 881.21, 884.98, 888.36, 893.43, 890.48, 892.47], 'high': [881.87, 881.08, 879.94, 879.18, 879.18, 878.35, 878.82, 881.19, 886.43, 889.41, 893.53, 893.43, 894.44, 893.57], 'low': [880.04, 875.86, 876.68, 876.54, 874.74, 874.39, 876.63, 880.51, 878.76, 884.15, 886.91, 889.1, 890.1, 890.33], 'close': [881.03, 877.36, 878.01, 878.23, 875.78, 878.28, 878.02, 881.09, 884.71, 888.59, 892.38, 890.76, 892.27, 893.57], 'volume': [31845000, 298759400, 78965400, 47510500, 139569900, 215341300, 217134800, 28134513, 334589600, 199225300, 110157100, 147179000, 188940700, 332542200], 'value': [953077952, 6787951298, 2587913594, 1621779256, 3398137084, 4094385019, 5698564620.0, 778018464.25, 8195239469, 4762147355, 2802971838, 3884213540.0, 4791208955, 8805789770.0]}\n"
     ]
    }
   ],
   "source": [
    "try:\n",
    "     # https://developer.settrade.com/open-api/api-reference/reference/sdkv2/python/market-historical-data/2_getCandlestick\n",
    "     mkt_data = investor.MarketData()   # \"60m\" \n",
    "     #data=mkt_data.get_candlestick(symbol=\"SET50\",interval=\"1d\",limit=5,normalized=True)\n",
    "     data=mkt_data.get_candlestick(symbol=\"SET50\",start=\"2023-10-10T00:00\",end=\"2023-10-15T00:00\",\n",
    "                                   normalized=True,interval=\"60m\")   \n",
    "        \n",
    "    # deri = investor.Derivatives(account_no=\"trong-D\")\n",
    "     print(data)\n",
    "\n",
    "except SettradeError as e:\n",
    "    print(\"---- error message  ----\")\n",
    "    print(e)\n",
    "    print(\"---- error code ----\")\n",
    "    print(e.code)\n",
    "    print(\"---- status code ----\")\n",
    "    print(e.status_code) "
   ]
  },
  {
   "cell_type": "code",
   "execution_count": 118,
   "id": "6a89973e-fdb7-4642-824d-c1e1b0df060c",
   "metadata": {},
   "outputs": [],
   "source": [
    "df=pd.DataFrame(data={\n",
    "    'trading_time':data['time'],\n",
    "    'price':data['close'],\n",
    "    'volume':data['volume'],\n",
    "})\n",
    "\n",
    "df['trading_time'] = df['trading_time'].apply(lambda timestamp: datetime.fromtimestamp(timestamp))"
   ]
  },
  {
   "cell_type": "code",
   "execution_count": 119,
   "id": "30e35f7c-6270-40cd-bc3a-597a3defaccf",
   "metadata": {},
   "outputs": [
    {
     "name": "stdout",
     "output_type": "stream",
     "text": [
      "<class 'pandas.core.frame.DataFrame'>\n",
      "RangeIndex: 14 entries, 0 to 13\n",
      "Data columns (total 3 columns):\n",
      " #   Column        Non-Null Count  Dtype         \n",
      "---  ------        --------------  -----         \n",
      " 0   trading_time  14 non-null     datetime64[ns]\n",
      " 1   price         14 non-null     float64       \n",
      " 2   volume        14 non-null     int64         \n",
      "dtypes: datetime64[ns](1), float64(1), int64(1)\n",
      "memory usage: 464.0 bytes\n"
     ]
    }
   ],
   "source": [
    "df.info()"
   ]
  },
  {
   "cell_type": "code",
   "execution_count": 120,
   "id": "58d23452-0890-4ecd-becc-8bce3cbf8a85",
   "metadata": {},
   "outputs": [
    {
     "data": {
      "text/html": [
       "<div>\n",
       "<style scoped>\n",
       "    .dataframe tbody tr th:only-of-type {\n",
       "        vertical-align: middle;\n",
       "    }\n",
       "\n",
       "    .dataframe tbody tr th {\n",
       "        vertical-align: top;\n",
       "    }\n",
       "\n",
       "    .dataframe thead th {\n",
       "        text-align: right;\n",
       "    }\n",
       "</style>\n",
       "<table border=\"1\" class=\"dataframe\">\n",
       "  <thead>\n",
       "    <tr style=\"text-align: right;\">\n",
       "      <th></th>\n",
       "      <th>trading_time</th>\n",
       "      <th>price</th>\n",
       "      <th>volume</th>\n",
       "    </tr>\n",
       "  </thead>\n",
       "  <tbody>\n",
       "    <tr>\n",
       "      <th>0</th>\n",
       "      <td>2023-10-10 09:00:00</td>\n",
       "      <td>881.03</td>\n",
       "      <td>31845000</td>\n",
       "    </tr>\n",
       "    <tr>\n",
       "      <th>1</th>\n",
       "      <td>2023-10-10 10:00:00</td>\n",
       "      <td>877.36</td>\n",
       "      <td>298759400</td>\n",
       "    </tr>\n",
       "    <tr>\n",
       "      <th>2</th>\n",
       "      <td>2023-10-10 11:00:00</td>\n",
       "      <td>878.01</td>\n",
       "      <td>78965400</td>\n",
       "    </tr>\n",
       "    <tr>\n",
       "      <th>3</th>\n",
       "      <td>2023-10-10 12:00:00</td>\n",
       "      <td>878.23</td>\n",
       "      <td>47510500</td>\n",
       "    </tr>\n",
       "    <tr>\n",
       "      <th>4</th>\n",
       "      <td>2023-10-10 14:00:00</td>\n",
       "      <td>875.78</td>\n",
       "      <td>139569900</td>\n",
       "    </tr>\n",
       "    <tr>\n",
       "      <th>5</th>\n",
       "      <td>2023-10-10 15:00:00</td>\n",
       "      <td>878.28</td>\n",
       "      <td>215341300</td>\n",
       "    </tr>\n",
       "    <tr>\n",
       "      <th>6</th>\n",
       "      <td>2023-10-10 16:00:00</td>\n",
       "      <td>878.02</td>\n",
       "      <td>217134800</td>\n",
       "    </tr>\n",
       "    <tr>\n",
       "      <th>7</th>\n",
       "      <td>2023-10-11 09:00:00</td>\n",
       "      <td>881.09</td>\n",
       "      <td>28134513</td>\n",
       "    </tr>\n",
       "    <tr>\n",
       "      <th>8</th>\n",
       "      <td>2023-10-11 10:00:00</td>\n",
       "      <td>884.71</td>\n",
       "      <td>334589600</td>\n",
       "    </tr>\n",
       "    <tr>\n",
       "      <th>9</th>\n",
       "      <td>2023-10-11 11:00:00</td>\n",
       "      <td>888.59</td>\n",
       "      <td>199225300</td>\n",
       "    </tr>\n",
       "    <tr>\n",
       "      <th>10</th>\n",
       "      <td>2023-10-11 12:00:00</td>\n",
       "      <td>892.38</td>\n",
       "      <td>110157100</td>\n",
       "    </tr>\n",
       "    <tr>\n",
       "      <th>11</th>\n",
       "      <td>2023-10-11 14:00:00</td>\n",
       "      <td>890.76</td>\n",
       "      <td>147179000</td>\n",
       "    </tr>\n",
       "    <tr>\n",
       "      <th>12</th>\n",
       "      <td>2023-10-11 15:00:00</td>\n",
       "      <td>892.27</td>\n",
       "      <td>188940700</td>\n",
       "    </tr>\n",
       "    <tr>\n",
       "      <th>13</th>\n",
       "      <td>2023-10-11 16:00:00</td>\n",
       "      <td>893.57</td>\n",
       "      <td>332542200</td>\n",
       "    </tr>\n",
       "  </tbody>\n",
       "</table>\n",
       "</div>"
      ],
      "text/plain": [
       "          trading_time   price     volume\n",
       "0  2023-10-10 09:00:00  881.03   31845000\n",
       "1  2023-10-10 10:00:00  877.36  298759400\n",
       "2  2023-10-10 11:00:00  878.01   78965400\n",
       "3  2023-10-10 12:00:00  878.23   47510500\n",
       "4  2023-10-10 14:00:00  875.78  139569900\n",
       "5  2023-10-10 15:00:00  878.28  215341300\n",
       "6  2023-10-10 16:00:00  878.02  217134800\n",
       "7  2023-10-11 09:00:00  881.09   28134513\n",
       "8  2023-10-11 10:00:00  884.71  334589600\n",
       "9  2023-10-11 11:00:00  888.59  199225300\n",
       "10 2023-10-11 12:00:00  892.38  110157100\n",
       "11 2023-10-11 14:00:00  890.76  147179000\n",
       "12 2023-10-11 15:00:00  892.27  188940700\n",
       "13 2023-10-11 16:00:00  893.57  332542200"
      ]
     },
     "execution_count": 120,
     "metadata": {},
     "output_type": "execute_result"
    }
   ],
   "source": [
    "df\n",
    "# 20210305093000\n",
    "# 1696179600\n",
    "# 1696179600\n",
    "# 2003161915\n",
    "# 86400000"
   ]
  },
  {
   "cell_type": "code",
   "execution_count": null,
   "id": "2e5c415b-446b-4983-aa6f-c4c4d8d97615",
   "metadata": {},
   "outputs": [],
   "source": []
  },
  {
   "cell_type": "code",
   "execution_count": null,
   "id": "2433a81f-ac94-45c8-87a8-0176a5da60c1",
   "metadata": {},
   "outputs": [],
   "source": []
  }
 ],
 "metadata": {
  "kernelspec": {
   "display_name": "Python 3 (ipykernel)",
   "language": "python",
   "name": "python3"
  },
  "language_info": {
   "codemirror_mode": {
    "name": "ipython",
    "version": 3
   },
   "file_extension": ".py",
   "mimetype": "text/x-python",
   "name": "python",
   "nbconvert_exporter": "python",
   "pygments_lexer": "ipython3",
   "version": "3.9.16"
  }
 },
 "nbformat": 4,
 "nbformat_minor": 5
}
