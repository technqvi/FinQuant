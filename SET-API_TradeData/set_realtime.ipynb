{
 "cells": [
  {
   "cell_type": "code",
   "execution_count": 6,
   "id": "1a36cb5b-1f58-4081-a80e-caba8077c518",
   "metadata": {},
   "outputs": [],
   "source": [
    "from settrade_v2 import Investor\n",
    "from settrade_v2.errors import SettradeError\n",
    "import configparser\n",
    "import time\n",
    "# https://developer.settrade.com/open-api/api-reference/reference/sdkv2/python/market-mqtt-realtime-data/4_subscribeCandlestick"
   ]
  },
  {
   "cell_type": "code",
   "execution_count": 3,
   "id": "01a6601c-0034-43aa-a440-611a79cc33c2",
   "metadata": {},
   "outputs": [],
   "source": [
    "configParser = configparser.RawConfigParser()   \n",
    "configFilePath = 'user-info.properties'\n",
    "configParser.read(configFilePath)\n",
    "\n",
    "app_id = configParser.get('STT-OPENAPI-AUTH', 'app-id')\n",
    "app_secret = configParser.get('STT-OPENAPI-AUTH', 'app-secret')\n",
    "app_code = configParser.get('STT-OPENAPI-AUTH', 'app-code-sandbox')\n",
    "broker_id = configParser.get('STT-OPENAPI-AUTH', 'broker-id-sandbox')\n",
    "is_auto_queue = False\n"
   ]
  },
  {
   "cell_type": "code",
   "execution_count": null,
   "id": "d7e13035-1427-4825-b391-e702c436e1ea",
   "metadata": {},
   "outputs": [],
   "source": [
    "investor = Investor(\n",
    "                app_id=app_id,                                 \n",
    "                app_secret=app_secret, \n",
    "                broker_id=broker_id,\n",
    "                app_code=app_code,\n",
    "                is_auto_queue = True)\n",
    "\n",
    "realtime = investor.RealtimeDataConnection()\n",
    "\n",
    "# Callback function for subscribing AOT's bid offer\n",
    "def get_realtime_data(message):\n",
    "    \n",
    "    print(message)\n",
    "    print(\"================================================================================\")\n",
    "\n",
    "# This is subscriber object\n",
    "# subscriber = realtime.subscribe_price_info(\"SET50\", on_message = my_message)\n",
    "subscriber = realtime.subscribe_candlestick(\"SET50\", \"60m\", on_message = get_realtime_data)\n",
    "subscriber.start() \n",
    "\n",
    "# run main thread forever\n",
    "while True:\n",
    "    time.sleep(1)"
   ]
  }
 ],
 "metadata": {
  "kernelspec": {
   "display_name": "Python 3 (ipykernel)",
   "language": "python",
   "name": "python3"
  },
  "language_info": {
   "codemirror_mode": {
    "name": "ipython",
    "version": 3
   },
   "file_extension": ".py",
   "mimetype": "text/x-python",
   "name": "python",
   "nbconvert_exporter": "python",
   "pygments_lexer": "ipython3",
   "version": "3.9.16"
  }
 },
 "nbformat": 4,
 "nbformat_minor": 5
}
