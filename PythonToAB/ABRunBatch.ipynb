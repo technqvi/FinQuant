{
 "cells": [
  {
   "cell_type": "code",
   "execution_count": 1,
   "id": "5398bff1-5667-4b90-9912-70c321b469f9",
   "metadata": {},
   "outputs": [],
   "source": [
    "from ami2py import AmiDataBase, SymbolEntry"
   ]
  },
  {
   "cell_type": "code",
   "execution_count": 2,
   "id": "6157054b-a2cc-4243-88b0-2b6b420e9041",
   "metadata": {},
   "outputs": [],
   "source": [
    "import subprocess\n",
    "import os\n",
    "#https://forum.amibroker.com/t/starting-an-amibroker-batch-file-with-command-prompt-python-or-autoit/25431\n",
    "\n",
    "#https://www.amibroker.com/guide/d_ascii.html\n",
    "#https://www.amibroker.com/kb/2014/09/25/how-to-import-huge-ascii-files-quickly/\n",
    "#https://forum.amibroker.com/t/batch-import-multiple-ascii-files/6762/4\n",
    "#https://forum.amibroker.com/t/import-multiple-files-via-ole/12335\n",
    "\n",
    "\n",
    "# https://forum.amibroker.com/t/using-specific-format-with-batch-data-import-ascii/2888/4\n",
    "#"
   ]
  },
  {
   "cell_type": "code",
   "execution_count": 3,
   "id": "bdc2bc24-ce50-48a2-96a1-874842e6f09f",
   "metadata": {},
   "outputs": [
    {
     "data": {
      "text/plain": [
       "CompletedProcess(args='C:\\\\Program Files\\\\AmiBroker\\\\Broker.exe /runbatch \"D:\\\\AB_DB\\\\AB_Cryptos_Files\\\\Amibroker_Batch\\\\Explore_Crypto_RSI_MACD_Range.abb \" /exit', returncode=0)"
      ]
     },
     "execution_count": 3,
     "metadata": {},
     "output_type": "execute_result"
    }
   ],
   "source": [
    "#http://www.learningaboutelectronics.com/Articles/How-to-launch-computer-programs-using-Python.php\n",
    "#https://linuxhint.com/execute_shell_python_subprocess_run_method/\n",
    "\n",
    "\n",
    "\n",
    "subprocess.run('C:\\Program Files\\AmiBroker\\Broker.exe /runbatch \"D:\\AB_DB\\AB_Cryptos_Files\\Amibroker_Batch\\Explore_Crypto_RSI_MACD_Range.abb\" /exit')"
   ]
  },
  {
   "cell_type": "code",
   "execution_count": null,
   "id": "40f50f45-df7f-41c0-a496-e4c18254e3a1",
   "metadata": {},
   "outputs": [],
   "source": [
    "subprocess.run('C:\\Program Files\\AmiBroker\\Broker.exe /runbatch \"D:\\AB_DB\\AB_Cryptos_Files\\Amibroker_Batch\\Explore_Crypto_RSI_MACD_Range.abb\" /exit')"
   ]
  }
 ],
 "metadata": {
  "kernelspec": {
   "display_name": "Python 3 (ipykernel)",
   "language": "python",
   "name": "python3"
  },
  "language_info": {
   "codemirror_mode": {
    "name": "ipython",
    "version": 3
   },
   "file_extension": ".py",
   "mimetype": "text/x-python",
   "name": "python",
   "nbconvert_exporter": "python",
   "pygments_lexer": "ipython3",
   "version": "3.9.12"
  }
 },
 "nbformat": 4,
 "nbformat_minor": 5
}
