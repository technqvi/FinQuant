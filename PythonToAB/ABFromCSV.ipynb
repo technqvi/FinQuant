{
 "cells": [
  {
   "cell_type": "code",
   "execution_count": 13,
   "id": "5e0c2483-f93a-4269-8fc9-320b4364f335",
   "metadata": {},
   "outputs": [],
   "source": [
    "\n",
    "import os\n",
    "import sys\n",
    "import glob\n",
    "import win32com.client\n",
    "import shutil \n",
    "#https://forum.amibroker.com/t/calling-amibroker-from-python/9575/3"
   ]
  },
  {
   "cell_type": "code",
   "execution_count": 14,
   "id": "7b88722a-cbb3-4e75-a097-8565261404a3",
   "metadata": {},
   "outputs": [],
   "source": [
    "xPathDict={}\n",
    "xPathDict['db_path']=r\"D:\\AB_DB\\AB_Fund_World\"\n",
    "xPathDict['data_path']=r\"D:\\AB_DB\\Script_ImportData\\Fund_File\\AB_*.csv\"\n",
    "xPathDict['ab_format_path']=r\"D:\\AB_DB\\Script_ImportData\\AB-Wizard.format\"\n",
    "\n"
   ]
  },
  {
   "cell_type": "code",
   "execution_count": 15,
   "id": "1762c2c2-2240-45aa-8505-aa0f8494e8f0",
   "metadata": {},
   "outputs": [
    {
     "name": "stdout",
     "output_type": "stream",
     "text": [
      "[{'db': 'D:\\\\AB_DB\\\\AB_Fund_World', 'data': 'D:\\\\AB_DB\\\\Script_ImportData\\\\Fund_File\\\\AB_*.csv', 'format': 'D:\\\\AB_DB\\\\Script_ImportData\\\\AB-Wizard.format'}]\n"
     ]
    }
   ],
   "source": [
    "#def import_files_to_Amibroker(xPathDict):\n",
    "\n",
    "imp_tbl = [\n",
    "    {'db': xPathDict['db_path'],\n",
    "    'data': xPathDict['data_path'],\n",
    "    'format': xPathDict['ab_format_path']},\n",
    "]\n",
    "\n",
    "print(imp_tbl)"
   ]
  },
  {
   "cell_type": "code",
   "execution_count": 16,
   "id": "b3e1d25b-e728-49af-8f0a-b0a96a336c89",
   "metadata": {},
   "outputs": [],
   "source": [
    "def ImportDataToAmibroker(ab, lst):\n",
    "\n",
    " try: \n",
    "    for l in lst:\n",
    "        print(\"Loading database {}\".format(os.path.split(l['db'])[1]))\n",
    "        ab.LoadDatabase(l['db'])\n",
    "        f_lst = sorted(set(glob.glob(l['data'])))\n",
    "        for f in f_lst:\n",
    "            print(f)\n",
    "            try:\n",
    "                print(\"Importing datafile {}, using format {}\".format(f, l['format']))\n",
    "                ab.Import(0, f, l['format'])\n",
    "            except e:\n",
    "                print(\"Error importing datafile {}\".format(f))\n",
    "\n",
    "        print(\"Saving Amibroker\")\n",
    "        ab.RefreshAll()\n",
    "        ab.SaveDatabase()\n",
    "        print(\"Done it Succesfully\")\n",
    " except Exception as ex:\n",
    "    raise ex\n",
    " return True"
   ]
  },
  {
   "cell_type": "code",
   "execution_count": 17,
   "id": "829caa14-521f-4c77-91f8-75e8fc3b7180",
   "metadata": {},
   "outputs": [
    {
     "name": "stdout",
     "output_type": "stream",
     "text": [
      "Loading database AB_Fund_World\n",
      "D:\\AB_DB\\Script_ImportData\\Fund_File\\AB_Fund_World.csv\n",
      "Importing datafile D:\\AB_DB\\Script_ImportData\\Fund_File\\AB_Fund_World.csv, using format D:\\AB_DB\\Script_ImportData\\AB-Wizard.format\n",
      "Saving Amibroker\n",
      "Done it Succesfully\n",
      "Terminated\n"
     ]
    }
   ],
   "source": [
    "oAB = win32com.client.Dispatch(\"Broker.Application\")\n",
    "isOK=ImportDataToAmibroker(oAB, imp_tbl)\n",
    "print(\"Terminated\")\n",
    "oAB.Quit()\n",
    "\n",
    "return isOK"
   ]
  },
  {
   "cell_type": "code",
   "execution_count": null,
   "id": "4bfd47e0-fd4b-4a5f-95a0-abfa867e3b3c",
   "metadata": {},
   "outputs": [],
   "source": []
  },
  {
   "cell_type": "code",
   "execution_count": null,
   "id": "61b2581d-9910-4252-b428-24a6eab4c7d9",
   "metadata": {},
   "outputs": [],
   "source": []
  }
 ],
 "metadata": {
  "kernelspec": {
   "display_name": "Python 3",
   "language": "python",
   "name": "python3"
  },
  "language_info": {
   "codemirror_mode": {
    "name": "ipython",
    "version": 3
   },
   "file_extension": ".py",
   "mimetype": "text/x-python",
   "name": "python",
   "nbconvert_exporter": "python",
   "pygments_lexer": "ipython3",
   "version": "3.9.5 (tags/v3.9.5:0a7dcbd, May  3 2021, 17:27:52) [MSC v.1928 64 bit (AMD64)]"
  },
  "vscode": {
   "interpreter": {
    "hash": "ae9335fe7a39c1d8f8945c5adbecc2ba1b1578dde5a497790f7db495f2189193"
   }
  }
 },
 "nbformat": 4,
 "nbformat_minor": 5
}
