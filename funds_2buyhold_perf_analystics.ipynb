{
 "cells": [
  {
   "cell_type": "code",
   "execution_count": 2,
   "id": "71719cb7-6fa2-4c50-920b-5698f807d1a9",
   "metadata": {
    "tags": []
   },
   "outputs": [],
   "source": [
    "import pandas as pd\n",
    "import datetime as datetime\n",
    "import os\n",
    "# ! pip install xlsxwriter --user"
   ]
  },
  {
   "cell_type": "code",
   "execution_count": 3,
   "id": "0e939474-9b32-4a4b-8f8e-5ec1b619a2b4",
   "metadata": {
    "tags": []
   },
   "outputs": [],
   "source": [
    "data_path=r'D:\\PythonDev\\MyQuantFinProject\\Data'\n",
    "data_file='Tech-World-Asia-Asea.csv'\n",
    "isPy=False \n",
    "isPriceExcel=False"
   ]
  },
  {
   "cell_type": "markdown",
   "id": "83d296e7-5dd0-4425-b8ef-b63b76b08c7a",
   "metadata": {},
   "source": [
    "# Specify Period and Timefame to caculate fund performance and"
   ]
  },
  {
   "cell_type": "code",
   "execution_count": 4,
   "id": "b51e9c53-d823-4d0e-8037-ecc085d71df9",
   "metadata": {
    "tags": []
   },
   "outputs": [],
   "source": [
    "from_str='2023-07-01'\n",
    "to_str='2023-10-31' \n",
    "timeframe='M'\n",
    "# timeframe='W-FRI'"
   ]
  },
  {
   "cell_type": "markdown",
   "id": "67a2b2b8-86cf-4f54-99d8-8d5a69619019",
   "metadata": {},
   "source": [
    "# Input data"
   ]
  },
  {
   "cell_type": "code",
   "execution_count": 5,
   "id": "41fb0fd5-f97d-4e5e-a4cb-2c50f1628f54",
   "metadata": {
    "tags": []
   },
   "outputs": [],
   "source": [
    "if isPy:\n",
    "    print(f\"Data csv file in Path: {data_path}\")\n",
    "    data_file=input(\"CSV file name : \")\n",
    "\n",
    "    from_str=input(\"From_date(2020-10-01) : \") \n",
    "    to_str=input(\"To_date(2022-12-31): \") \n",
    "    timeframe=input(\"Timeframe(W-FRI,M,Q,Y): \") \n",
    "  \n",
    "    print(f\"Process data from {from_str} to {to_str} in {timeframe} timeframe\")\n",
    "    press_y=input(f\"Press y=True and n=False to run analaystics : \") \n",
    "    if press_y.lower()=='y':\n",
    "     ok=True\n",
    "    else:\n",
    "     exit()\n"
   ]
  },
  {
   "cell_type": "code",
   "execution_count": 6,
   "id": "5dca23f5-2106-4e69-85cb-e65bb26b6cca",
   "metadata": {
    "tags": []
   },
   "outputs": [
    {
     "name": "stdout",
     "output_type": "stream",
     "text": [
      "Process file D:\\PythonDev\\MyQuantFinProject\\Data\\Tech-World-Asia-Asea.csv\n",
      "D:\\PythonDev\\MyQuantFinProject\\Data\\Tech-World-Asia-Asea.csv\n"
     ]
    }
   ],
   "source": [
    "report_prefix_name=data_file.split('.')[0]\n",
    "data_file=os.path.join(data_path,data_file)\n",
    "if os.path.exists(data_file)==False:\n",
    "    raise Exception(f\"not found {data_file}\")\n",
    "else:\n",
    "    print(f\"Process file {data_file}\")\n",
    "print(data_file)"
   ]
  },
  {
   "cell_type": "markdown",
   "id": "412a9817-b8b9-4075-86cb-4a69949d6c06",
   "metadata": {},
   "source": [
    "# Read csv file and extract and transform data as need"
   ]
  },
  {
   "cell_type": "code",
   "execution_count": 7,
   "id": "dcd64589-b7c5-4d71-93f9-ceb6b8e6c6da",
   "metadata": {
    "tags": []
   },
   "outputs": [
    {
     "name": "stdout",
     "output_type": "stream",
     "text": [
      "<class 'pandas.core.frame.DataFrame'>\n",
      "DatetimeIndex: 166 entries, 2023-07-03 to 2023-10-27\n",
      "Data columns (total 2 columns):\n",
      " #   Column  Non-Null Count  Dtype  \n",
      "---  ------  --------------  -----  \n",
      " 0   symbol  166 non-null    object \n",
      " 1   price   166 non-null    float64\n",
      "dtypes: float64(1), object(1)\n",
      "memory usage: 3.9+ KB\n",
      "None\n"
     ]
    }
   ],
   "source": [
    "df = pd.read_csv(data_file,index_col='Date/Time',parse_dates=['Date/Time'],dayfirst=True)\n",
    "df.index.set_names('date',inplace=True)\n",
    "df.sort_index(inplace=True)\n",
    "df=df.rename(columns={'Ticker':'symbol','close':'price'})\n",
    "df=df.loc[from_str:to_str,['symbol','price']]\n",
    "print(df.info())\n",
    "\n",
    "\n",
    "# df=df.query(\"symbol!='^TNX'\")\n",
    "\n"
   ]
  },
  {
   "cell_type": "code",
   "execution_count": 8,
   "id": "7e42990f-e162-4575-9628-534508ed98be",
   "metadata": {
    "tags": []
   },
   "outputs": [
    {
     "name": "stdout",
     "output_type": "stream",
     "text": [
      "['ACWI', 'QQQ']\n"
     ]
    }
   ],
   "source": [
    "list_symbol=df['symbol'].unique().tolist() \n",
    "\n",
    "print(list_symbol)\n"
   ]
  },
  {
   "cell_type": "code",
   "execution_count": 9,
   "id": "814737df-b2e7-4a3a-b621-a4471902d094",
   "metadata": {
    "tags": []
   },
   "outputs": [
    {
     "data": {
      "text/html": [
       "<div>\n",
       "<style scoped>\n",
       "    .dataframe tbody tr th:only-of-type {\n",
       "        vertical-align: middle;\n",
       "    }\n",
       "\n",
       "    .dataframe tbody tr th {\n",
       "        vertical-align: top;\n",
       "    }\n",
       "\n",
       "    .dataframe thead th {\n",
       "        text-align: right;\n",
       "    }\n",
       "</style>\n",
       "<table border=\"1\" class=\"dataframe\">\n",
       "  <thead>\n",
       "    <tr style=\"text-align: right;\">\n",
       "      <th></th>\n",
       "      <th>symbol</th>\n",
       "      <th>price</th>\n",
       "    </tr>\n",
       "    <tr>\n",
       "      <th>date</th>\n",
       "      <th></th>\n",
       "      <th></th>\n",
       "    </tr>\n",
       "  </thead>\n",
       "  <tbody>\n",
       "    <tr>\n",
       "      <th>2023-07-03</th>\n",
       "      <td>ACWI</td>\n",
       "      <td>96.17</td>\n",
       "    </tr>\n",
       "    <tr>\n",
       "      <th>2023-07-03</th>\n",
       "      <td>QQQ</td>\n",
       "      <td>370.29</td>\n",
       "    </tr>\n",
       "    <tr>\n",
       "      <th>2023-07-05</th>\n",
       "      <td>QQQ</td>\n",
       "      <td>370.28</td>\n",
       "    </tr>\n",
       "    <tr>\n",
       "      <th>2023-07-05</th>\n",
       "      <td>ACWI</td>\n",
       "      <td>95.70</td>\n",
       "    </tr>\n",
       "    <tr>\n",
       "      <th>2023-07-06</th>\n",
       "      <td>ACWI</td>\n",
       "      <td>94.52</td>\n",
       "    </tr>\n",
       "    <tr>\n",
       "      <th>2023-07-06</th>\n",
       "      <td>QQQ</td>\n",
       "      <td>367.46</td>\n",
       "    </tr>\n",
       "  </tbody>\n",
       "</table>\n",
       "</div>"
      ],
      "text/plain": [
       "           symbol   price\n",
       "date                     \n",
       "2023-07-03   ACWI   96.17\n",
       "2023-07-03    QQQ  370.29\n",
       "2023-07-05    QQQ  370.28\n",
       "2023-07-05   ACWI   95.70\n",
       "2023-07-06   ACWI   94.52\n",
       "2023-07-06    QQQ  367.46"
      ]
     },
     "execution_count": 9,
     "metadata": {},
     "output_type": "execute_result"
    }
   ],
   "source": [
    "df.head(len(list_symbol)*3)"
   ]
  },
  {
   "cell_type": "code",
   "execution_count": 10,
   "id": "fd466bd1-b900-4e76-bbdb-a9043f67b6cc",
   "metadata": {
    "tags": []
   },
   "outputs": [
    {
     "data": {
      "text/html": [
       "<div>\n",
       "<style scoped>\n",
       "    .dataframe tbody tr th:only-of-type {\n",
       "        vertical-align: middle;\n",
       "    }\n",
       "\n",
       "    .dataframe tbody tr th {\n",
       "        vertical-align: top;\n",
       "    }\n",
       "\n",
       "    .dataframe thead th {\n",
       "        text-align: right;\n",
       "    }\n",
       "</style>\n",
       "<table border=\"1\" class=\"dataframe\">\n",
       "  <thead>\n",
       "    <tr style=\"text-align: right;\">\n",
       "      <th></th>\n",
       "      <th>symbol</th>\n",
       "      <th>price</th>\n",
       "    </tr>\n",
       "    <tr>\n",
       "      <th>date</th>\n",
       "      <th></th>\n",
       "      <th></th>\n",
       "    </tr>\n",
       "  </thead>\n",
       "  <tbody>\n",
       "    <tr>\n",
       "      <th>2023-10-25</th>\n",
       "      <td>QQQ</td>\n",
       "      <td>350.34</td>\n",
       "    </tr>\n",
       "    <tr>\n",
       "      <th>2023-10-25</th>\n",
       "      <td>ACWI</td>\n",
       "      <td>89.83</td>\n",
       "    </tr>\n",
       "    <tr>\n",
       "      <th>2023-10-26</th>\n",
       "      <td>QQQ</td>\n",
       "      <td>343.66</td>\n",
       "    </tr>\n",
       "    <tr>\n",
       "      <th>2023-10-26</th>\n",
       "      <td>ACWI</td>\n",
       "      <td>88.91</td>\n",
       "    </tr>\n",
       "    <tr>\n",
       "      <th>2023-10-27</th>\n",
       "      <td>ACWI</td>\n",
       "      <td>88.59</td>\n",
       "    </tr>\n",
       "    <tr>\n",
       "      <th>2023-10-27</th>\n",
       "      <td>QQQ</td>\n",
       "      <td>345.31</td>\n",
       "    </tr>\n",
       "  </tbody>\n",
       "</table>\n",
       "</div>"
      ],
      "text/plain": [
       "           symbol   price\n",
       "date                     \n",
       "2023-10-25    QQQ  350.34\n",
       "2023-10-25   ACWI   89.83\n",
       "2023-10-26    QQQ  343.66\n",
       "2023-10-26   ACWI   88.91\n",
       "2023-10-27   ACWI   88.59\n",
       "2023-10-27    QQQ  345.31"
      ]
     },
     "execution_count": 10,
     "metadata": {},
     "output_type": "execute_result"
    }
   ],
   "source": [
    "df.tail(len(list_symbol)*3)"
   ]
  },
  {
   "cell_type": "markdown",
   "id": "0cc04abe-e72a-4dfb-a735-928b94be49d3",
   "metadata": {},
   "source": [
    "# Basic"
   ]
  },
  {
   "cell_type": "markdown",
   "id": "3b87771b-7afc-4d03-bff4-b8dc283be9cd",
   "metadata": {},
   "source": [
    "# Resample data and calculate Percentage of change"
   ]
  },
  {
   "cell_type": "code",
   "execution_count": 11,
   "id": "820598bf-8c3b-44c7-bf87-e5bbc51f14aa",
   "metadata": {
    "tags": []
   },
   "outputs": [
    {
     "name": "stdout",
     "output_type": "stream",
     "text": [
      "Empty DataFrame\n",
      "Columns: [symbol, date, pct_change]\n",
      "Index: []\n"
     ]
    }
   ],
   "source": [
    "colsROC=['symbol','date','pct_change']\n",
    "df_Pct_Price=pd.DataFrame(columns=colsROC)\n",
    "print(df_Pct_Price)"
   ]
  },
  {
   "cell_type": "code",
   "execution_count": 14,
   "id": "a0855824-5628-471f-bc94-bcabdcd7fc5e",
   "metadata": {
    "tags": []
   },
   "outputs": [
    {
     "name": "stdout",
     "output_type": "stream",
     "text": [
      "====================================ACWI====================================\n",
      "            price\n",
      "date             \n",
      "2023-07-31  99.39\n",
      "2023-08-31  96.50\n",
      "2023-09-30  92.37\n",
      "2023-10-31  88.59\n",
      "                 std\n",
      "date                \n",
      "2023-07-31  1.542873\n",
      "2023-08-31  1.359417\n",
      "2023-09-30  1.597878\n",
      "2023-10-31  1.604996\n",
      "        date  price       std\n",
      "0 2023-07-31  99.39  1.542873\n",
      "1 2023-08-31  96.50  1.359417\n",
      "2 2023-09-30  92.37  1.597878\n",
      "3 2023-10-31  88.59  1.604996\n",
      "====================================QQQ====================================\n",
      "             price\n",
      "date              \n",
      "2023-07-31  383.68\n",
      "2023-08-31  377.99\n",
      "2023-09-30  358.27\n",
      "2023-10-31  345.31\n",
      "                 std\n",
      "date                \n",
      "2023-07-31  6.385399\n",
      "2023-08-31  6.426087\n",
      "2023-09-30  8.459875\n",
      "2023-10-31  7.969677\n",
      "        date   price       std\n",
      "0 2023-07-31  383.68  6.385399\n",
      "1 2023-08-31  377.99  6.426087\n",
      "2 2023-09-30  358.27  8.459875\n",
      "3 2023-10-31  345.31  7.969677\n"
     ]
    }
   ],
   "source": [
    "#https://pandas.pydata.org/docs/reference/api/pandas.core.resample.Resampler.aggregate.html\n",
    "#https://stackoverflow.com/questions/47938372/pandas-dataframe-resample-aggregate-function-use-multiple-columns-with-a-customi\n",
    "#https://www.alpharithms.com/aggregating-time-series-data-with-pandas-resampling-411212/\n",
    "for symbol_name in list_symbol:\n",
    "\n",
    "    dfx_symbol=df.query('symbol==@symbol_name')\n",
    "    print(f\"===================================={symbol_name}====================================\")\n",
    "\n",
    "    dfx_last=dfx_symbol.resample(timeframe).agg({'price': 'last'})\n",
    "    dfx_std=dfx_symbol.resample(timeframe).agg({'price': 'std'})\n",
    "    dfx_std=dfx_std.rename(columns={'price':'std'})\n",
    "    print(dfx_last)\n",
    "    print(dfx_std)\n",
    "    dfx_px=pd.merge(left=dfx_last,right=dfx_std,how='inner',left_index=True, right_index=True)\n",
    "    dfx_px=dfx_px.reset_index()\n",
    "    print(dfx_px)\n",
    "    \n",
    "\n",
    "#     dfx_px['pct_change']=dfx_px['price'].pct_change()*100\n",
    "#     dfx_px['pct_change']=dfx_px['pct_change'].round(2)\n",
    "\n",
    "#     dfx_px=dfx_px.dropna() # the first  rown \n",
    "#     dfx_px=dfx_px.drop(columns=['price']) # remove price becase we are focuse ROC of Price\n",
    "#     dfx_px=dfx_px[colsROC]\n",
    "    \n",
    "#     print(f\"Calculate ROC of {symbol_name}\")\n",
    "#     print(dfx_px)\n",
    "    \n",
    "#     df_Pct_Price=pd.concat([df_Pct_Price,dfx_px],ignore_index=True,axis=0)"
   ]
  },
  {
   "cell_type": "code",
   "execution_count": null,
   "id": "810c8e0f-4345-40bc-81b3-5074b8adf7ec",
   "metadata": {
    "tags": []
   },
   "outputs": [],
   "source": [
    "print(\"==============================================================\")\n",
    "print(\"List calculate Percentage of change\")\n",
    "print(df_Pct_Price)"
   ]
  },
  {
   "cell_type": "markdown",
   "id": "86d7dd09-b073-4089-9992-c5e5c3de96fc",
   "metadata": {},
   "source": [
    "# Sum percentage of fund return"
   ]
  },
  {
   "cell_type": "code",
   "execution_count": 70,
   "id": "0a42719e-4712-4f59-bc25-142dee7f853b",
   "metadata": {
    "tags": []
   },
   "outputs": [
    {
     "name": "stdout",
     "output_type": "stream",
     "text": [
      "==============================================================\n",
      "Sum percentage of fund return\n",
      "Empty DataFrame\n",
      "Columns: [symbol, pct_change]\n",
      "Index: []\n"
     ]
    }
   ],
   "source": [
    "print(\"==============================================================\")\n",
    "print(\"Sum percentage of fund return\")\n",
    "dfSum_Pct_Price=df_Pct_Price.groupby(['symbol'])[['pct_change']].sum()\n",
    "dfSum_Pct_Price.reset_index(drop=False,inplace=True)\n",
    "dfSum_Pct_Price=dfSum_Pct_Price.sort_values(by=\"pct_change\",ascending=False)\n",
    "dfSum_Pct_Price[\"pct_change\"]=dfSum_Pct_Price[\"pct_change\"].round(1)\n",
    "print(dfSum_Pct_Price)"
   ]
  },
  {
   "cell_type": "code",
   "execution_count": 71,
   "id": "d5fea99c-fff5-4be6-85dc-b2aced7e32d1",
   "metadata": {
    "tags": []
   },
   "outputs": [],
   "source": [
    "# writer=pd.ExcelWriter( \"BasicFundPerformanceReport.xlsx\",engine='openpyxl') \n",
    "\n",
    "# df_Pct_Price.to_csv(f\"ETF-{timeframe}-Return.csv\",index=False)\n",
    "# dfSum_Pct_Price.to_csv(f\"ETF-{timeframe}-TotalReturn.csv\",index=False)\n"
   ]
  },
  {
   "cell_type": "markdown",
   "id": "1da8f6c0-3297-466b-a229-a5c3e9ed2e72",
   "metadata": {},
   "source": [
    "# Advance"
   ]
  },
  {
   "cell_type": "markdown",
   "id": "23404b4f-839d-468b-a554-f3d595c521a6",
   "metadata": {},
   "source": [
    "# Pivot Percent Return To Dataframe"
   ]
  },
  {
   "cell_type": "code",
   "execution_count": 64,
   "id": "f1aa21e9-8d26-4ca2-becd-4dfaccdb0fa4",
   "metadata": {
    "tags": []
   },
   "outputs": [
    {
     "data": {
      "text/html": [
       "<div>\n",
       "<style scoped>\n",
       "    .dataframe tbody tr th:only-of-type {\n",
       "        vertical-align: middle;\n",
       "    }\n",
       "\n",
       "    .dataframe tbody tr th {\n",
       "        vertical-align: top;\n",
       "    }\n",
       "\n",
       "    .dataframe thead th {\n",
       "        text-align: right;\n",
       "    }\n",
       "</style>\n",
       "<table border=\"1\" class=\"dataframe\">\n",
       "  <thead>\n",
       "    <tr style=\"text-align: right;\">\n",
       "      <th>symbol</th>\n",
       "      <th>ASP-SME</th>\n",
       "      <th>K-MIDSMALL</th>\n",
       "      <th>KKP-SM-CAP</th>\n",
       "      <th>KKP-TQG</th>\n",
       "      <th>KTMSEQ</th>\n",
       "      <th>TISCOMS-A</th>\n",
       "    </tr>\n",
       "    <tr>\n",
       "      <th>date</th>\n",
       "      <th></th>\n",
       "      <th></th>\n",
       "      <th></th>\n",
       "      <th></th>\n",
       "      <th></th>\n",
       "      <th></th>\n",
       "    </tr>\n",
       "  </thead>\n",
       "  <tbody>\n",
       "    <tr>\n",
       "      <th>2023-09-08</th>\n",
       "      <td>-0.93</td>\n",
       "      <td>-0.11</td>\n",
       "      <td>-0.53</td>\n",
       "      <td>-1.04</td>\n",
       "      <td>0.05</td>\n",
       "      <td>0.54</td>\n",
       "    </tr>\n",
       "    <tr>\n",
       "      <th>2023-09-15</th>\n",
       "      <td>-0.94</td>\n",
       "      <td>-1.21</td>\n",
       "      <td>-0.53</td>\n",
       "      <td>0.12</td>\n",
       "      <td>-0.63</td>\n",
       "      <td>-0.83</td>\n",
       "    </tr>\n",
       "    <tr>\n",
       "      <th>2023-09-22</th>\n",
       "      <td>-0.69</td>\n",
       "      <td>-1.16</td>\n",
       "      <td>-1.07</td>\n",
       "      <td>0.00</td>\n",
       "      <td>-0.80</td>\n",
       "      <td>-0.98</td>\n",
       "    </tr>\n",
       "    <tr>\n",
       "      <th>2023-09-29</th>\n",
       "      <td>-2.02</td>\n",
       "      <td>-3.59</td>\n",
       "      <td>-2.29</td>\n",
       "      <td>-3.14</td>\n",
       "      <td>-2.84</td>\n",
       "      <td>-2.53</td>\n",
       "    </tr>\n",
       "  </tbody>\n",
       "</table>\n",
       "</div>"
      ],
      "text/plain": [
       "symbol      ASP-SME  K-MIDSMALL  KKP-SM-CAP  KKP-TQG  KTMSEQ  TISCOMS-A\n",
       "date                                                                   \n",
       "2023-09-08    -0.93       -0.11       -0.53    -1.04    0.05       0.54\n",
       "2023-09-15    -0.94       -1.21       -0.53     0.12   -0.63      -0.83\n",
       "2023-09-22    -0.69       -1.16       -1.07     0.00   -0.80      -0.98\n",
       "2023-09-29    -2.02       -3.59       -2.29    -3.14   -2.84      -2.53"
      ]
     },
     "execution_count": 64,
     "metadata": {},
     "output_type": "execute_result"
    }
   ],
   "source": [
    "print(\"==============================================================\")\n",
    "print(\"Pivot Percent Return To Dataframe\")\n",
    "dfPct=df_Pct_Price.pivot(index='date', columns='symbol', values='pct_change')\n",
    "# print(dfPct.info())\n",
    "print(dfPct)"
   ]
  },
  {
   "cell_type": "markdown",
   "id": "6d9d2077-2b8e-4760-8945-961fed91d7b0",
   "metadata": {},
   "source": [
    "# Take Percent Return to Find Rank"
   ]
  },
  {
   "cell_type": "code",
   "execution_count": 65,
   "id": "5d58ed8a-f023-41ea-905b-6463a4622976",
   "metadata": {
    "tags": []
   },
   "outputs": [
    {
     "data": {
      "text/html": [
       "<div>\n",
       "<style scoped>\n",
       "    .dataframe tbody tr th:only-of-type {\n",
       "        vertical-align: middle;\n",
       "    }\n",
       "\n",
       "    .dataframe tbody tr th {\n",
       "        vertical-align: top;\n",
       "    }\n",
       "\n",
       "    .dataframe thead th {\n",
       "        text-align: right;\n",
       "    }\n",
       "</style>\n",
       "<table border=\"1\" class=\"dataframe\">\n",
       "  <thead>\n",
       "    <tr style=\"text-align: right;\">\n",
       "      <th>symbol</th>\n",
       "      <th>ASP-SME</th>\n",
       "      <th>K-MIDSMALL</th>\n",
       "      <th>KKP-SM-CAP</th>\n",
       "      <th>KKP-TQG</th>\n",
       "      <th>KTMSEQ</th>\n",
       "      <th>TISCOMS-A</th>\n",
       "    </tr>\n",
       "    <tr>\n",
       "      <th>date</th>\n",
       "      <th></th>\n",
       "      <th></th>\n",
       "      <th></th>\n",
       "      <th></th>\n",
       "      <th></th>\n",
       "      <th></th>\n",
       "    </tr>\n",
       "  </thead>\n",
       "  <tbody>\n",
       "    <tr>\n",
       "      <th>2023-09-08</th>\n",
       "      <td>2.0</td>\n",
       "      <td>4.0</td>\n",
       "      <td>3.0</td>\n",
       "      <td>1.0</td>\n",
       "      <td>5.0</td>\n",
       "      <td>6.0</td>\n",
       "    </tr>\n",
       "    <tr>\n",
       "      <th>2023-09-15</th>\n",
       "      <td>2.0</td>\n",
       "      <td>1.0</td>\n",
       "      <td>5.0</td>\n",
       "      <td>6.0</td>\n",
       "      <td>4.0</td>\n",
       "      <td>3.0</td>\n",
       "    </tr>\n",
       "    <tr>\n",
       "      <th>2023-09-22</th>\n",
       "      <td>5.0</td>\n",
       "      <td>1.0</td>\n",
       "      <td>2.0</td>\n",
       "      <td>6.0</td>\n",
       "      <td>4.0</td>\n",
       "      <td>3.0</td>\n",
       "    </tr>\n",
       "    <tr>\n",
       "      <th>2023-09-29</th>\n",
       "      <td>6.0</td>\n",
       "      <td>1.0</td>\n",
       "      <td>5.0</td>\n",
       "      <td>2.0</td>\n",
       "      <td>3.0</td>\n",
       "      <td>4.0</td>\n",
       "    </tr>\n",
       "  </tbody>\n",
       "</table>\n",
       "</div>"
      ],
      "text/plain": [
       "symbol      ASP-SME  K-MIDSMALL  KKP-SM-CAP  KKP-TQG  KTMSEQ  TISCOMS-A\n",
       "date                                                                   \n",
       "2023-09-08      2.0         4.0         3.0      1.0     5.0        6.0\n",
       "2023-09-15      2.0         1.0         5.0      6.0     4.0        3.0\n",
       "2023-09-22      5.0         1.0         2.0      6.0     4.0        3.0\n",
       "2023-09-29      6.0         1.0         5.0      2.0     3.0        4.0"
      ]
     },
     "execution_count": 65,
     "metadata": {},
     "output_type": "execute_result"
    }
   ],
   "source": [
    "print(\"==============================================================\")\n",
    "print(\"Take Percent Return to Find Rank\")\n",
    "dfRank=dfPct[dfPct.columns.tolist()].rank(method='max',axis=1)\n",
    "print(dfRank)"
   ]
  },
  {
   "cell_type": "markdown",
   "id": "867a96dc-668e-4a86-85ca-bf29c6cf81fb",
   "metadata": {
    "tags": []
   },
   "source": [
    "# Combine Both return and Rank"
   ]
  },
  {
   "cell_type": "code",
   "execution_count": 67,
   "id": "459ec0a8-785f-4b93-9eec-e1a4a53b6703",
   "metadata": {
    "tags": []
   },
   "outputs": [
    {
     "data": {
      "text/html": [
       "<div>\n",
       "<style scoped>\n",
       "    .dataframe tbody tr th:only-of-type {\n",
       "        vertical-align: middle;\n",
       "    }\n",
       "\n",
       "    .dataframe tbody tr th {\n",
       "        vertical-align: top;\n",
       "    }\n",
       "\n",
       "    .dataframe thead th {\n",
       "        text-align: right;\n",
       "    }\n",
       "</style>\n",
       "<table border=\"1\" class=\"dataframe\">\n",
       "  <thead>\n",
       "    <tr style=\"text-align: right;\">\n",
       "      <th></th>\n",
       "      <th>sum_return</th>\n",
       "      <th>sum_rank</th>\n",
       "    </tr>\n",
       "    <tr>\n",
       "      <th>symbol</th>\n",
       "      <th></th>\n",
       "      <th></th>\n",
       "    </tr>\n",
       "  </thead>\n",
       "  <tbody>\n",
       "    <tr>\n",
       "      <th>ASP-SME</th>\n",
       "      <td>-4.58</td>\n",
       "      <td>15.0</td>\n",
       "    </tr>\n",
       "    <tr>\n",
       "      <th>K-MIDSMALL</th>\n",
       "      <td>-6.07</td>\n",
       "      <td>7.0</td>\n",
       "    </tr>\n",
       "    <tr>\n",
       "      <th>KKP-SM-CAP</th>\n",
       "      <td>-4.42</td>\n",
       "      <td>15.0</td>\n",
       "    </tr>\n",
       "    <tr>\n",
       "      <th>KKP-TQG</th>\n",
       "      <td>-4.06</td>\n",
       "      <td>15.0</td>\n",
       "    </tr>\n",
       "    <tr>\n",
       "      <th>KTMSEQ</th>\n",
       "      <td>-4.22</td>\n",
       "      <td>16.0</td>\n",
       "    </tr>\n",
       "    <tr>\n",
       "      <th>TISCOMS-A</th>\n",
       "      <td>-3.80</td>\n",
       "      <td>16.0</td>\n",
       "    </tr>\n",
       "  </tbody>\n",
       "</table>\n",
       "</div>"
      ],
      "text/plain": [
       "            sum_return  sum_rank\n",
       "symbol                          \n",
       "ASP-SME          -4.58      15.0\n",
       "K-MIDSMALL       -6.07       7.0\n",
       "KKP-SM-CAP       -4.42      15.0\n",
       "KKP-TQG          -4.06      15.0\n",
       "KTMSEQ           -4.22      16.0\n",
       "TISCOMS-A        -3.80      16.0"
      ]
     },
     "execution_count": 67,
     "metadata": {},
     "output_type": "execute_result"
    }
   ],
   "source": [
    "print(\"==============================================================\")\n",
    "print(\"Combine Both return and Rank\")\n",
    "dfSummary=pd.concat([\\\n",
    "                     dfPct.sum().to_frame(name='sum_return'),\\\n",
    "                     dfRank.sum().to_frame(name='sum_rank'),\\\n",
    "                    ],axis=1)\n",
    "dfSummary.fillna(value=0,inplace=True)\n",
    "print(dfSummary)"
   ]
  },
  {
   "cell_type": "markdown",
   "id": "ac303ef7-7bc0-40da-833e-c3b3b8e3de5c",
   "metadata": {},
   "source": [
    "# Summarize Total Score "
   ]
  },
  {
   "cell_type": "code",
   "execution_count": 68,
   "id": "a0858adb-076e-41d2-8b61-2bbf5aa4e848",
   "metadata": {
    "tags": []
   },
   "outputs": [
    {
     "data": {
      "text/html": [
       "<div>\n",
       "<style scoped>\n",
       "    .dataframe tbody tr th:only-of-type {\n",
       "        vertical-align: middle;\n",
       "    }\n",
       "\n",
       "    .dataframe tbody tr th {\n",
       "        vertical-align: top;\n",
       "    }\n",
       "\n",
       "    .dataframe thead th {\n",
       "        text-align: right;\n",
       "    }\n",
       "</style>\n",
       "<table border=\"1\" class=\"dataframe\">\n",
       "  <thead>\n",
       "    <tr style=\"text-align: right;\">\n",
       "      <th></th>\n",
       "      <th>sum_return</th>\n",
       "      <th>sum_rank</th>\n",
       "      <th>TotalScore</th>\n",
       "    </tr>\n",
       "    <tr>\n",
       "      <th>symbol</th>\n",
       "      <th></th>\n",
       "      <th></th>\n",
       "      <th></th>\n",
       "    </tr>\n",
       "  </thead>\n",
       "  <tbody>\n",
       "    <tr>\n",
       "      <th>TISCOMS-A</th>\n",
       "      <td>6.0</td>\n",
       "      <td>6.0</td>\n",
       "      <td>12.0</td>\n",
       "    </tr>\n",
       "    <tr>\n",
       "      <th>KTMSEQ</th>\n",
       "      <td>4.0</td>\n",
       "      <td>6.0</td>\n",
       "      <td>10.0</td>\n",
       "    </tr>\n",
       "    <tr>\n",
       "      <th>KKP-TQG</th>\n",
       "      <td>5.0</td>\n",
       "      <td>4.0</td>\n",
       "      <td>9.0</td>\n",
       "    </tr>\n",
       "    <tr>\n",
       "      <th>KKP-SM-CAP</th>\n",
       "      <td>3.0</td>\n",
       "      <td>4.0</td>\n",
       "      <td>7.0</td>\n",
       "    </tr>\n",
       "    <tr>\n",
       "      <th>ASP-SME</th>\n",
       "      <td>2.0</td>\n",
       "      <td>4.0</td>\n",
       "      <td>6.0</td>\n",
       "    </tr>\n",
       "    <tr>\n",
       "      <th>K-MIDSMALL</th>\n",
       "      <td>1.0</td>\n",
       "      <td>1.0</td>\n",
       "      <td>2.0</td>\n",
       "    </tr>\n",
       "  </tbody>\n",
       "</table>\n",
       "</div>"
      ],
      "text/plain": [
       "            sum_return  sum_rank  TotalScore\n",
       "symbol                                      \n",
       "TISCOMS-A          6.0       6.0        12.0\n",
       "KTMSEQ             4.0       6.0        10.0\n",
       "KKP-TQG            5.0       4.0         9.0\n",
       "KKP-SM-CAP         3.0       4.0         7.0\n",
       "ASP-SME            2.0       4.0         6.0\n",
       "K-MIDSMALL         1.0       1.0         2.0"
      ]
     },
     "execution_count": 68,
     "metadata": {},
     "output_type": "execute_result"
    }
   ],
   "source": [
    "print(\"==============================================================\")\n",
    "print(\"Summarize Total Score \")\n",
    "dfFinalScore=dfSummary.rank(method='max',axis=0)\n",
    "dfFinalScore['TotalScore']=dfFinalScore.sum(axis=1)\n",
    "dfFinalScore.sort_values(by='TotalScore',ascending=False,inplace=True)\n",
    "print(dfFinalScore)"
   ]
  },
  {
   "cell_type": "code",
   "execution_count": 69,
   "id": "94b64c56-3979-421a-8f46-97bb9da9eebe",
   "metadata": {
    "tags": []
   },
   "outputs": [],
   "source": [
    "if isPriceExcel:\n",
    "    print(\"Export outcoome as Excel\")\n",
    "    with pd.ExcelWriter(f\"{report_prefix_name}_{timeframe}_{from_str}To{to_str}.xlsx\") as writer:\n",
    "        dfPct.to_excel(writer, sheet_name=f\"{timeframe}-Return\")\n",
    "        dfSum_Pct_Price.to_excel(writer, sheet_name=\"Return\")\n",
    "        dfRank.to_excel(writer, sheet_name=\"RANK\")\n",
    "        dfSummary.to_excel(writer, sheet_name=\"Summary\")\n",
    "        dfFinalScore.to_excel(writer, sheet_name=\"FinalScore\")"
   ]
  },
  {
   "cell_type": "code",
   "execution_count": null,
   "id": "7d931b7c-bd57-47dd-8004-8d0122494ba4",
   "metadata": {},
   "outputs": [],
   "source": []
  }
 ],
 "metadata": {
  "kernelspec": {
   "display_name": "Python 3 (ipykernel)",
   "language": "python",
   "name": "python3"
  },
  "language_info": {
   "codemirror_mode": {
    "name": "ipython",
    "version": 3
   },
   "file_extension": ".py",
   "mimetype": "text/x-python",
   "name": "python",
   "nbconvert_exporter": "python",
   "pygments_lexer": "ipython3",
   "version": "3.10.12"
  }
 },
 "nbformat": 4,
 "nbformat_minor": 5
}
