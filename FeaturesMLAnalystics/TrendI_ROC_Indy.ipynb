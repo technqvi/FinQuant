{
 "cells": [
  {
   "cell_type": "code",
   "execution_count": 52,
   "id": "5639fcbf-6ce9-4865-8aa2-f40421bf8485",
   "metadata": {},
   "outputs": [],
   "source": [
    "import pandas as pd\n",
    "import numpy as np\n",
    "import os\n",
    "import matplotlib.pyplot as plt"
   ]
  },
  {
   "cell_type": "markdown",
   "id": "cac49c90",
   "metadata": {},
   "source": [
    "# Load and Transform Data"
   ]
  },
  {
   "cell_type": "code",
   "execution_count": 68,
   "id": "194fca9c-3667-402f-b8ee-3e5ce97eb4d4",
   "metadata": {},
   "outputs": [
    {
     "name": "stdout",
     "output_type": "stream",
     "text": [
      "SET50_EMA10_Week_09T22.csv\n",
      "data/Report-SET50_EMA10_Week_09T22.xlsx\n"
     ]
    }
   ],
   "source": [
    "file_path='data/SET50_EMA10_Week_09T22.csv'\n",
    "folder_name,file_name = os.path.split(file_path)\n",
    "result_path=f'{folder_name}/Report-{os.path.splitext(file_name)[0]}.xlsx'\n",
    "\n",
    "print(file_name)\n",
    "print(result_path)"
   ]
  },
  {
   "cell_type": "code",
   "execution_count": 69,
   "id": "1a384b53",
   "metadata": {},
   "outputs": [
    {
     "name": "stdout",
     "output_type": "stream",
     "text": [
      "['Ticker', 'EMA10']\n",
      "<class 'pandas.core.frame.DataFrame'>\n",
      "DatetimeIndex: 730 entries, 2009-01-09 00:00:00 to 2022-12-30 00:00:00\n",
      "Data columns (total 2 columns):\n",
      " #   Column  Non-Null Count  Dtype  \n",
      "---  ------  --------------  -----  \n",
      " 0   Ticker  730 non-null    object \n",
      " 1   EMA10   730 non-null    float64\n",
      "dtypes: float64(1), object(1)\n",
      "memory usage: 17.1+ KB\n",
      "None\n",
      "           Ticker   EMA10\n",
      "Date/Time                \n",
      "2009-01-09  SET50  316.55\n",
      "2009-01-16  SET50  314.02\n",
      "2009-01-23  SET50  311.60\n",
      "2009-01-30  SET50  310.15\n",
      "2009-02-06  SET50  309.99\n"
     ]
    }
   ],
   "source": [
    "\n",
    "\n",
    "df=pd.read_csv(file_path,index_col='Date/Time',parse_dates=['Date/Time'],dayfirst=True)\n",
    "print(list(df.columns))\n",
    "df=df['01-2009':'12-2022']\n",
    "print(df.info())\n",
    "print(df.head())\n",
    "\n",
    "no_threshold=1\n",
    "lookback=1"
   ]
  },
  {
   "cell_type": "code",
   "execution_count": 70,
   "id": "badf19ff-75e9-4b5d-be37-6ae1741ec2ff",
   "metadata": {},
   "outputs": [],
   "source": [
    "colSumSince='EMA10'\n",
    "#colSumSince='Signal10_20_15'\n",
    "# def create_trend_feature(df,colSumSince):\n"
   ]
  },
  {
   "cell_type": "code",
   "execution_count": 71,
   "id": "d3e83bb8-55c7-4976-bc1a-c5e7cd06b761",
   "metadata": {},
   "outputs": [
    {
     "name": "stdout",
     "output_type": "stream",
     "text": [
      "<class 'pandas.core.frame.DataFrame'>\n",
      "RangeIndex: 730 entries, 0 to 729\n",
      "Data columns (total 1 columns):\n",
      " #   Column  Non-Null Count  Dtype  \n",
      "---  ------  --------------  -----  \n",
      " 0   EMA10   730 non-null    float64\n",
      "dtypes: float64(1)\n",
      "memory usage: 5.8 KB\n"
     ]
    },
    {
     "data": {
      "text/html": [
       "<div>\n",
       "<style scoped>\n",
       "    .dataframe tbody tr th:only-of-type {\n",
       "        vertical-align: middle;\n",
       "    }\n",
       "\n",
       "    .dataframe tbody tr th {\n",
       "        vertical-align: top;\n",
       "    }\n",
       "\n",
       "    .dataframe thead th {\n",
       "        text-align: right;\n",
       "    }\n",
       "</style>\n",
       "<table border=\"1\" class=\"dataframe\">\n",
       "  <thead>\n",
       "    <tr style=\"text-align: right;\">\n",
       "      <th></th>\n",
       "      <th>EMA10</th>\n",
       "    </tr>\n",
       "  </thead>\n",
       "  <tbody>\n",
       "    <tr>\n",
       "      <th>0</th>\n",
       "      <td>316.55</td>\n",
       "    </tr>\n",
       "    <tr>\n",
       "      <th>1</th>\n",
       "      <td>314.02</td>\n",
       "    </tr>\n",
       "    <tr>\n",
       "      <th>2</th>\n",
       "      <td>311.60</td>\n",
       "    </tr>\n",
       "    <tr>\n",
       "      <th>3</th>\n",
       "      <td>310.15</td>\n",
       "    </tr>\n",
       "    <tr>\n",
       "      <th>4</th>\n",
       "      <td>309.99</td>\n",
       "    </tr>\n",
       "  </tbody>\n",
       "</table>\n",
       "</div>"
      ],
      "text/plain": [
       "    EMA10\n",
       "0  316.55\n",
       "1  314.02\n",
       "2  311.60\n",
       "3  310.15\n",
       "4  309.99"
      ]
     },
     "execution_count": 71,
     "metadata": {},
     "output_type": "execute_result"
    }
   ],
   "source": [
    "df=df.reset_index(drop=False)\n",
    "df_date=df[['Date/Time']]\n",
    "df=df[[colSumSince]]\n",
    "df.info()\n",
    "df.head()"
   ]
  },
  {
   "cell_type": "markdown",
   "id": "bccf452e",
   "metadata": {},
   "source": [
    "# Sum and Count Trend"
   ]
  },
  {
   "cell_type": "code",
   "execution_count": 72,
   "id": "1769adc1-3111-4329-857c-0d8a57ac347b",
   "metadata": {},
   "outputs": [],
   "source": [
    "colUp=f'{colSumSince}_Up'\n",
    "colUpCount=f'{colSumSince}_UpCount'\n",
    "colDown=f'{colSumSince}_Down'\n",
    "colDownCount=f'{colSumSince}_DownCount'\n",
    "\n",
    "def find_sum_trend(lookback=1,trendID=1):  # 1=up 0=down\n",
    "  sumsinceList=[]\n",
    "  countList=[]\n",
    "  sum_x=0\n",
    "  for i in range(0, len(df)):\n",
    "        if i<lookback:\n",
    "            sumsinceList.append(0)\n",
    "            countList.append(0)\n",
    "        elif i>=lookback:\n",
    "          logic= df.loc[i,colSumSince] > df.loc[i-lookback,colSumSince] if trendID==1 else df.loc[i,colSumSince] <= df.loc[i-lookback,colSumSince]\n",
    "          if logic:\n",
    "             sum_x=sum_x+1\n",
    "             sumsinceList.append(sum_x)  \n",
    "             countList.append(1)\n",
    "          else:\n",
    "            sum_x=0\n",
    "            sumsinceList.append(0)   \n",
    "            countList.append(0)  \n",
    "  return sumsinceList,countList\n",
    "\n",
    "\n",
    "# Wait implemet\n",
    "# def find_sum_and_pct_trend(lookback=1,trendID=1):  # 1=up 0=down\n",
    "#   sumsinceList=[]\n",
    "#   countList=[]\n",
    "#   sum_x=0\n",
    "#   for i in range(0, len(df)):\n",
    "#         if i<lookback:\n",
    "#             sumsinceList.append(0)\n",
    "#             countList.append(0)\n",
    "#         elif i>=lookback:\n",
    "#           logic= df.loc[i,colSumSince] > df.loc[i-lookback,colSumSince] if trendID==1 else df.loc[i,colSumSince] <= df.loc[i-lookback,colSumSince]\n",
    "#           if logic:\n",
    "#              sum_x=sum_x+1\n",
    "#              sumsinceList.append(sum_x)  \n",
    "#              countList.append(1)\n",
    "#           else:\n",
    "#             sum_x=0\n",
    "#             sumsinceList.append(0)   \n",
    "#             countList.append(0)  \n",
    "#   return sumsinceList,countList\n"
   ]
  },
  {
   "cell_type": "code",
   "execution_count": 73,
   "id": "348d6de5-b01a-406d-9b56-cd9b864e7117",
   "metadata": {},
   "outputs": [
    {
     "data": {
      "text/html": [
       "<div>\n",
       "<style scoped>\n",
       "    .dataframe tbody tr th:only-of-type {\n",
       "        vertical-align: middle;\n",
       "    }\n",
       "\n",
       "    .dataframe tbody tr th {\n",
       "        vertical-align: top;\n",
       "    }\n",
       "\n",
       "    .dataframe thead th {\n",
       "        text-align: right;\n",
       "    }\n",
       "</style>\n",
       "<table border=\"1\" class=\"dataframe\">\n",
       "  <thead>\n",
       "    <tr style=\"text-align: right;\">\n",
       "      <th></th>\n",
       "      <th>EMA10_Up</th>\n",
       "      <th>EMA10_UpCount</th>\n",
       "    </tr>\n",
       "  </thead>\n",
       "  <tbody>\n",
       "    <tr>\n",
       "      <th>0</th>\n",
       "      <td>0</td>\n",
       "      <td>0</td>\n",
       "    </tr>\n",
       "    <tr>\n",
       "      <th>1</th>\n",
       "      <td>0</td>\n",
       "      <td>0</td>\n",
       "    </tr>\n",
       "    <tr>\n",
       "      <th>2</th>\n",
       "      <td>0</td>\n",
       "      <td>0</td>\n",
       "    </tr>\n",
       "    <tr>\n",
       "      <th>3</th>\n",
       "      <td>0</td>\n",
       "      <td>0</td>\n",
       "    </tr>\n",
       "    <tr>\n",
       "      <th>4</th>\n",
       "      <td>0</td>\n",
       "      <td>0</td>\n",
       "    </tr>\n",
       "    <tr>\n",
       "      <th>...</th>\n",
       "      <td>...</td>\n",
       "      <td>...</td>\n",
       "    </tr>\n",
       "    <tr>\n",
       "      <th>725</th>\n",
       "      <td>6</td>\n",
       "      <td>1</td>\n",
       "    </tr>\n",
       "    <tr>\n",
       "      <th>726</th>\n",
       "      <td>0</td>\n",
       "      <td>0</td>\n",
       "    </tr>\n",
       "    <tr>\n",
       "      <th>727</th>\n",
       "      <td>1</td>\n",
       "      <td>1</td>\n",
       "    </tr>\n",
       "    <tr>\n",
       "      <th>728</th>\n",
       "      <td>0</td>\n",
       "      <td>0</td>\n",
       "    </tr>\n",
       "    <tr>\n",
       "      <th>729</th>\n",
       "      <td>1</td>\n",
       "      <td>1</td>\n",
       "    </tr>\n",
       "  </tbody>\n",
       "</table>\n",
       "<p>730 rows × 2 columns</p>\n",
       "</div>"
      ],
      "text/plain": [
       "     EMA10_Up  EMA10_UpCount\n",
       "0           0              0\n",
       "1           0              0\n",
       "2           0              0\n",
       "3           0              0\n",
       "4           0              0\n",
       "..        ...            ...\n",
       "725         6              1\n",
       "726         0              0\n",
       "727         1              1\n",
       "728         0              0\n",
       "729         1              1\n",
       "\n",
       "[730 rows x 2 columns]"
      ]
     },
     "execution_count": 73,
     "metadata": {},
     "output_type": "execute_result"
    }
   ],
   "source": [
    "sum_up,count_up= find_sum_trend(lookback=lookback,trendID=1)\n",
    "sumUpDF=pd.DataFrame ( {colUp:sum_up,colUpCount:count_up})\n",
    "sumUpDF"
   ]
  },
  {
   "cell_type": "code",
   "execution_count": 74,
   "id": "a65c1c1b-8fd4-436c-8457-0505e05b86b9",
   "metadata": {},
   "outputs": [
    {
     "data": {
      "text/html": [
       "<div>\n",
       "<style scoped>\n",
       "    .dataframe tbody tr th:only-of-type {\n",
       "        vertical-align: middle;\n",
       "    }\n",
       "\n",
       "    .dataframe tbody tr th {\n",
       "        vertical-align: top;\n",
       "    }\n",
       "\n",
       "    .dataframe thead th {\n",
       "        text-align: right;\n",
       "    }\n",
       "</style>\n",
       "<table border=\"1\" class=\"dataframe\">\n",
       "  <thead>\n",
       "    <tr style=\"text-align: right;\">\n",
       "      <th></th>\n",
       "      <th>EMA10_Down</th>\n",
       "      <th>EMA10_DownCount</th>\n",
       "    </tr>\n",
       "  </thead>\n",
       "  <tbody>\n",
       "    <tr>\n",
       "      <th>0</th>\n",
       "      <td>0</td>\n",
       "      <td>0</td>\n",
       "    </tr>\n",
       "    <tr>\n",
       "      <th>1</th>\n",
       "      <td>1</td>\n",
       "      <td>1</td>\n",
       "    </tr>\n",
       "    <tr>\n",
       "      <th>2</th>\n",
       "      <td>2</td>\n",
       "      <td>1</td>\n",
       "    </tr>\n",
       "    <tr>\n",
       "      <th>3</th>\n",
       "      <td>3</td>\n",
       "      <td>1</td>\n",
       "    </tr>\n",
       "    <tr>\n",
       "      <th>4</th>\n",
       "      <td>4</td>\n",
       "      <td>1</td>\n",
       "    </tr>\n",
       "    <tr>\n",
       "      <th>...</th>\n",
       "      <td>...</td>\n",
       "      <td>...</td>\n",
       "    </tr>\n",
       "    <tr>\n",
       "      <th>725</th>\n",
       "      <td>0</td>\n",
       "      <td>0</td>\n",
       "    </tr>\n",
       "    <tr>\n",
       "      <th>726</th>\n",
       "      <td>1</td>\n",
       "      <td>1</td>\n",
       "    </tr>\n",
       "    <tr>\n",
       "      <th>727</th>\n",
       "      <td>0</td>\n",
       "      <td>0</td>\n",
       "    </tr>\n",
       "    <tr>\n",
       "      <th>728</th>\n",
       "      <td>1</td>\n",
       "      <td>1</td>\n",
       "    </tr>\n",
       "    <tr>\n",
       "      <th>729</th>\n",
       "      <td>0</td>\n",
       "      <td>0</td>\n",
       "    </tr>\n",
       "  </tbody>\n",
       "</table>\n",
       "<p>730 rows × 2 columns</p>\n",
       "</div>"
      ],
      "text/plain": [
       "     EMA10_Down  EMA10_DownCount\n",
       "0             0                0\n",
       "1             1                1\n",
       "2             2                1\n",
       "3             3                1\n",
       "4             4                1\n",
       "..          ...              ...\n",
       "725           0                0\n",
       "726           1                1\n",
       "727           0                0\n",
       "728           1                1\n",
       "729           0                0\n",
       "\n",
       "[730 rows x 2 columns]"
      ]
     },
     "execution_count": 74,
     "metadata": {},
     "output_type": "execute_result"
    }
   ],
   "source": [
    "sum_down,count_down=find_sum_trend(lookback=lookback,trendID=0)\n",
    "sumDownDF=pd.DataFrame ( {colDown:sum_down,colDownCount:count_down})\n",
    "sumDownDF"
   ]
  },
  {
   "cell_type": "code",
   "execution_count": 75,
   "id": "2f35badf-bf32-40b7-880d-f73c0b4c2c7b",
   "metadata": {},
   "outputs": [
    {
     "name": "stdout",
     "output_type": "stream",
     "text": [
      "<class 'pandas.core.frame.DataFrame'>\n",
      "DatetimeIndex: 730 entries, 2009-01-09 00:00:00 to 2022-12-30 00:00:00\n",
      "Data columns (total 5 columns):\n",
      " #   Column           Non-Null Count  Dtype  \n",
      "---  ------           --------------  -----  \n",
      " 0   EMA10            730 non-null    float64\n",
      " 1   EMA10_Up         730 non-null    int64  \n",
      " 2   EMA10_UpCount    730 non-null    int64  \n",
      " 3   EMA10_Down       730 non-null    int64  \n",
      " 4   EMA10_DownCount  730 non-null    int64  \n",
      "dtypes: float64(1), int64(4)\n",
      "memory usage: 34.2 KB\n",
      "None\n"
     ]
    }
   ],
   "source": [
    "df_x=pd.concat([df_date,df,sumUpDF,sumDownDF],axis=1)\n",
    "df_x.set_index('Date/Time',inplace=True)\n",
    "print(df_x.info())\n",
    "\n",
    "# df_x.to_csv(\"X.csv\")"
   ]
  },
  {
   "cell_type": "code",
   "execution_count": 76,
   "id": "75107664",
   "metadata": {},
   "outputs": [
    {
     "data": {
      "image/png": "[encoded data removed]",
      "text/plain": [
       "<Figure size 1080x648 with 3 Axes>"
      ]
     },
     "metadata": {
      "needs_background": "light"
     },
     "output_type": "display_data"
    }
   ],
   "source": [
    "dfPlot=df_x[[colSumSince,colUp,colDown]]\n",
    "\n",
    "colToPlots=dfPlot[[colSumSince,colUp,colDown]].columns\n",
    "\n",
    "dfPlot.plot(kind='line',layout=(len(colToPlots),1),\n",
    "                      subplots=True,figsize=(15, 3*len(colToPlots)))\n",
    "   \n",
    "plt.show()"
   ]
  },
  {
   "cell_type": "markdown",
   "id": "ea132368",
   "metadata": {},
   "source": [
    "# Group Trend to find distrubution"
   ]
  },
  {
   "cell_type": "code",
   "execution_count": 77,
   "id": "0af61ddd-5935-4e3a-b0be-f01f6519203c",
   "metadata": {},
   "outputs": [],
   "source": [
    "df_x.reset_index(drop=False,inplace=True)\n",
    "df_x.rename(columns={\"Date/Time\":\"Date\"},inplace=True)\n",
    "\n",
    "\n",
    "# filter only uptrend to group count\n",
    "dfUp=df_x.query(f\"{colUp}>0\").reset_index(drop=True).loc[:,['Date',colUp]]\n",
    "\n",
    "\n",
    "\n",
    "# filter only downtrend to group count\n",
    "dfDown=df_x.query(f\"{colDown}>0\").reset_index(drop=True).loc[:,['Date',colDown]]\n"
   ]
  },
  {
   "cell_type": "code",
   "execution_count": 78,
   "id": "6b0e0911-d5c5-4291-8bd6-0a16a0b2a921",
   "metadata": {},
   "outputs": [],
   "source": [
    "def group_trend(dfGroup,colTrend):  # Up=up Down=down  and grou\n",
    "  groupList=[]\n",
    "  group_name=''\n",
    "  for i in range(0, len(dfGroup)):\n",
    "    if i==0:\n",
    "      group_name=dfGroup.loc[i,'Date'].strftime(\"%d%b%y\")  \n",
    "      groupList.append(group_name)  \n",
    "    else:\n",
    "       if dfGroup.loc[i,colTrend]> dfGroup.loc[i-1,colTrend]:\n",
    "         groupList.append(group_name) \n",
    "       else:\n",
    "         group_name=dfGroup.loc[i,'Date'].strftime(\"%d%b%y\")  \n",
    "         groupList.append(group_name)  \n",
    "         \n",
    "  return groupList\n"
   ]
  },
  {
   "cell_type": "code",
   "execution_count": 79,
   "id": "460d2ca2-3e1e-4bd3-ba68-81e8593fb1e9",
   "metadata": {},
   "outputs": [
    {
     "name": "stdout",
     "output_type": "stream",
     "text": [
      "<class 'pandas.core.frame.DataFrame'>\n",
      "RangeIndex: 442 entries, 0 to 441\n",
      "Data columns (total 3 columns):\n",
      " #   Column    Non-Null Count  Dtype         \n",
      "---  ------    --------------  -----         \n",
      " 0   Date      442 non-null    datetime64[ns]\n",
      " 1   EMA10_Up  442 non-null    int64         \n",
      " 2   Up        442 non-null    object        \n",
      "dtypes: datetime64[ns](1), int64(1), object(1)\n",
      "memory usage: 10.5+ KB\n",
      "None\n",
      "          Date  EMA10_Up       Up\n",
      "0   2009-02-13         1  13Feb09\n",
      "1   2009-03-27         1  27Mar09\n",
      "2   2009-04-03         2  27Mar09\n",
      "3   2009-04-10         3  27Mar09\n",
      "4   2009-04-17         4  27Mar09\n",
      "..         ...       ...      ...\n",
      "437 2022-11-18         4  28Oct22\n",
      "438 2022-11-25         5  28Oct22\n",
      "439 2022-12-02         6  28Oct22\n",
      "440 2022-12-16         1  16Dec22\n",
      "441 2022-12-30         1  30Dec22\n",
      "\n",
      "[442 rows x 3 columns]\n"
     ]
    }
   ],
   "source": [
    "colGroupUp='Up'\n",
    "groupUp=group_trend(dfUp,colUp)\n",
    "dfUp=pd.concat([dfUp,pd.DataFrame({colGroupUp:groupUp})],axis=1)\n",
    "print(dfUp.info())\n",
    "print(dfUp)\n",
    "\n",
    "\n"
   ]
  },
  {
   "cell_type": "code",
   "execution_count": 89,
   "id": "ba0cae25-8dc6-405e-af0e-96984a90c4da",
   "metadata": {},
   "outputs": [],
   "source": [
    "trend_range=[0, 2,3, 5, 10, 15, 20,25,30]"
   ]
  },
  {
   "cell_type": "code",
   "execution_count": 98,
   "id": "696c36ab-876b-4116-9fd2-ac7cadb87fed",
   "metadata": {},
   "outputs": [
    {
     "name": "stdout",
     "output_type": "stream",
     "text": [
      "67\n"
     ]
    },
    {
     "data": {
      "text/html": [
       "<div>\n",
       "<style scoped>\n",
       "    .dataframe tbody tr th:only-of-type {\n",
       "        vertical-align: middle;\n",
       "    }\n",
       "\n",
       "    .dataframe tbody tr th {\n",
       "        vertical-align: top;\n",
       "    }\n",
       "\n",
       "    .dataframe thead th {\n",
       "        text-align: right;\n",
       "    }\n",
       "</style>\n",
       "<table border=\"1\" class=\"dataframe\">\n",
       "  <thead>\n",
       "    <tr style=\"text-align: right;\">\n",
       "      <th></th>\n",
       "      <th>EMA10_Up</th>\n",
       "    </tr>\n",
       "    <tr>\n",
       "      <th>Up</th>\n",
       "      <th></th>\n",
       "    </tr>\n",
       "  </thead>\n",
       "  <tbody>\n",
       "    <tr>\n",
       "      <th>04Jun10</th>\n",
       "      <td>33</td>\n",
       "    </tr>\n",
       "    <tr>\n",
       "      <th>27Mar09</th>\n",
       "      <td>31</td>\n",
       "    </tr>\n",
       "    <tr>\n",
       "      <th>25Aug17</th>\n",
       "      <td>31</td>\n",
       "    </tr>\n",
       "    <tr>\n",
       "      <th>02Dec11</th>\n",
       "      <td>24</td>\n",
       "    </tr>\n",
       "    <tr>\n",
       "      <th>16May14</th>\n",
       "      <td>21</td>\n",
       "    </tr>\n",
       "    <tr>\n",
       "      <th>...</th>\n",
       "      <td>...</td>\n",
       "    </tr>\n",
       "    <tr>\n",
       "      <th>18Nov11</th>\n",
       "      <td>1</td>\n",
       "    </tr>\n",
       "    <tr>\n",
       "      <th>17Jul20</th>\n",
       "      <td>1</td>\n",
       "    </tr>\n",
       "    <tr>\n",
       "      <th>17Jan20</th>\n",
       "      <td>1</td>\n",
       "    </tr>\n",
       "    <tr>\n",
       "      <th>15Jun12</th>\n",
       "      <td>1</td>\n",
       "    </tr>\n",
       "    <tr>\n",
       "      <th>17Feb11</th>\n",
       "      <td>1</td>\n",
       "    </tr>\n",
       "  </tbody>\n",
       "</table>\n",
       "<p>67 rows × 1 columns</p>\n",
       "</div>"
      ],
      "text/plain": [
       "         EMA10_Up\n",
       "Up               \n",
       "04Jun10        33\n",
       "27Mar09        31\n",
       "25Aug17        31\n",
       "02Dec11        24\n",
       "16May14        21\n",
       "...           ...\n",
       "18Nov11         1\n",
       "17Jul20         1\n",
       "17Jan20         1\n",
       "15Jun12         1\n",
       "17Feb11         1\n",
       "\n",
       "[67 rows x 1 columns]"
      ]
     },
     "execution_count": 98,
     "metadata": {},
     "output_type": "execute_result"
    }
   ],
   "source": [
    "dfUpGroupX=dfUp.groupby([colGroupUp])[[colUp]].max()\n",
    "dfUpGroupX=dfUpGroupX.query(f\"{colUp}>=@no_threshold\")\n",
    "dfUpGroupX=dfUpGroupX.sort_values(by=colUp,ascending=False)\n",
    "# dfUpGroupX['TrendRange'] = pd.cut(dfUpGroupX[colUp], bins=4, labels=False)\n",
    "print(len(dfUpGroupX))\n",
    "dfUpGroupX\n",
    "\n",
    "\n"
   ]
  },
  {
   "cell_type": "code",
   "execution_count": 99,
   "id": "a01cc309-66cf-4334-90af-ff766e98c89c",
   "metadata": {},
   "outputs": [
    {
     "data": {
      "text/plain": [
       "EMA10_Up\n",
       "1     19\n",
       "2      5\n",
       "3      7\n",
       "4      2\n",
       "5      3\n",
       "6      5\n",
       "7      6\n",
       "8      4\n",
       "9      1\n",
       "10     6\n",
       "12     2\n",
       "16     2\n",
       "21     1\n",
       "24     1\n",
       "31     2\n",
       "33     1\n",
       "dtype: int64"
      ]
     },
     "execution_count": 99,
     "metadata": {},
     "output_type": "execute_result"
    }
   ],
   "source": [
    "\n",
    "dfUpGroupX.groupby([colUp]).size()"
   ]
  },
  {
   "cell_type": "code",
   "execution_count": 81,
   "id": "57e0e8fe",
   "metadata": {},
   "outputs": [
    {
     "name": "stdout",
     "output_type": "stream",
     "text": [
      "<class 'pandas.core.frame.DataFrame'>\n",
      "RangeIndex: 287 entries, 0 to 286\n",
      "Data columns (total 3 columns):\n",
      " #   Column      Non-Null Count  Dtype         \n",
      "---  ------      --------------  -----         \n",
      " 0   Date        287 non-null    datetime64[ns]\n",
      " 1   EMA10_Down  287 non-null    int64         \n",
      " 2   Down        287 non-null    object        \n",
      "dtypes: datetime64[ns](1), int64(1), object(1)\n",
      "memory usage: 6.9+ KB\n",
      "None\n",
      "          Date  EMA10_Down     Down\n",
      "0   2009-01-16           1  16Jan09\n",
      "1   2009-01-23           2  16Jan09\n",
      "2   2009-01-30           3  16Jan09\n",
      "3   2009-02-06           4  16Jan09\n",
      "4   2009-02-20           1  20Feb09\n",
      "..         ...         ...      ...\n",
      "282 2022-10-07           2  30Sep22\n",
      "283 2022-10-12           3  30Sep22\n",
      "284 2022-10-21           4  30Sep22\n",
      "285 2022-12-09           1  09Dec22\n",
      "286 2022-12-23           1  23Dec22\n",
      "\n",
      "[287 rows x 3 columns]\n"
     ]
    }
   ],
   "source": [
    "colGroupDown='Down'\n",
    "groupDown=group_trend(dfDown,colDown)\n",
    "dfDown=pd.concat([dfDown,pd.DataFrame({colGroupDown:groupDown})],axis=1)\n",
    "print(dfDown.info())\n",
    "print(dfDown)\n",
    "\n"
   ]
  },
  {
   "cell_type": "code",
   "execution_count": 67,
   "id": "87db953d-d46e-468c-b7cb-e83ed5049339",
   "metadata": {},
   "outputs": [
    {
     "name": "stdout",
     "output_type": "stream",
     "text": [
      "31\n"
     ]
    },
    {
     "data": {
      "text/html": [
       "<div>\n",
       "<style scoped>\n",
       "    .dataframe tbody tr th:only-of-type {\n",
       "        vertical-align: middle;\n",
       "    }\n",
       "\n",
       "    .dataframe tbody tr th {\n",
       "        vertical-align: top;\n",
       "    }\n",
       "\n",
       "    .dataframe thead th {\n",
       "        text-align: right;\n",
       "    }\n",
       "</style>\n",
       "<table border=\"1\" class=\"dataframe\">\n",
       "  <thead>\n",
       "    <tr style=\"text-align: right;\">\n",
       "      <th></th>\n",
       "      <th>EMA10_Down</th>\n",
       "    </tr>\n",
       "    <tr>\n",
       "      <th>Down</th>\n",
       "      <th></th>\n",
       "    </tr>\n",
       "  </thead>\n",
       "  <tbody>\n",
       "    <tr>\n",
       "      <th>30Apr15</th>\n",
       "      <td>23</td>\n",
       "    </tr>\n",
       "    <tr>\n",
       "      <th>01Nov13</th>\n",
       "      <td>17</td>\n",
       "    </tr>\n",
       "    <tr>\n",
       "      <th>05Oct18</th>\n",
       "      <td>16</td>\n",
       "    </tr>\n",
       "    <tr>\n",
       "      <th>24Jul20</th>\n",
       "      <td>15</td>\n",
       "    </tr>\n",
       "    <tr>\n",
       "      <th>24Jan20</th>\n",
       "      <td>14</td>\n",
       "    </tr>\n",
       "    <tr>\n",
       "      <th>13Nov15</th>\n",
       "      <td>11</td>\n",
       "    </tr>\n",
       "    <tr>\n",
       "      <th>11Aug11</th>\n",
       "      <td>11</td>\n",
       "    </tr>\n",
       "    <tr>\n",
       "      <th>11May18</th>\n",
       "      <td>11</td>\n",
       "    </tr>\n",
       "    <tr>\n",
       "      <th>25Jun21</th>\n",
       "      <td>8</td>\n",
       "    </tr>\n",
       "    <tr>\n",
       "      <th>10Jun22</th>\n",
       "      <td>8</td>\n",
       "    </tr>\n",
       "    <tr>\n",
       "      <th>13Sep19</th>\n",
       "      <td>8</td>\n",
       "    </tr>\n",
       "    <tr>\n",
       "      <th>14Oct16</th>\n",
       "      <td>7</td>\n",
       "    </tr>\n",
       "    <tr>\n",
       "      <th>15Nov19</th>\n",
       "      <td>7</td>\n",
       "    </tr>\n",
       "    <tr>\n",
       "      <th>08Apr22</th>\n",
       "      <td>7</td>\n",
       "    </tr>\n",
       "    <tr>\n",
       "      <th>31May13</th>\n",
       "      <td>7</td>\n",
       "    </tr>\n",
       "    <tr>\n",
       "      <th>02Aug13</th>\n",
       "      <td>6</td>\n",
       "    </tr>\n",
       "    <tr>\n",
       "      <th>27Feb15</th>\n",
       "      <td>6</td>\n",
       "    </tr>\n",
       "    <tr>\n",
       "      <th>12Dec14</th>\n",
       "      <td>6</td>\n",
       "    </tr>\n",
       "    <tr>\n",
       "      <th>20Feb09</th>\n",
       "      <td>5</td>\n",
       "    </tr>\n",
       "    <tr>\n",
       "      <th>22Jan10</th>\n",
       "      <td>5</td>\n",
       "    </tr>\n",
       "    <tr>\n",
       "      <th>03Jun11</th>\n",
       "      <td>5</td>\n",
       "    </tr>\n",
       "    <tr>\n",
       "      <th>02Aug19</th>\n",
       "      <td>5</td>\n",
       "    </tr>\n",
       "    <tr>\n",
       "      <th>30Oct09</th>\n",
       "      <td>5</td>\n",
       "    </tr>\n",
       "    <tr>\n",
       "      <th>16Jan09</th>\n",
       "      <td>4</td>\n",
       "    </tr>\n",
       "    <tr>\n",
       "      <th>18May12</th>\n",
       "      <td>4</td>\n",
       "    </tr>\n",
       "    <tr>\n",
       "      <th>21Jan11</th>\n",
       "      <td>4</td>\n",
       "    </tr>\n",
       "    <tr>\n",
       "      <th>10May19</th>\n",
       "      <td>4</td>\n",
       "    </tr>\n",
       "    <tr>\n",
       "      <th>30Sep22</th>\n",
       "      <td>4</td>\n",
       "    </tr>\n",
       "    <tr>\n",
       "      <th>10Oct14</th>\n",
       "      <td>3</td>\n",
       "    </tr>\n",
       "    <tr>\n",
       "      <th>26Nov21</th>\n",
       "      <td>3</td>\n",
       "    </tr>\n",
       "    <tr>\n",
       "      <th>30Mar18</th>\n",
       "      <td>3</td>\n",
       "    </tr>\n",
       "  </tbody>\n",
       "</table>\n",
       "</div>"
      ],
      "text/plain": [
       "         EMA10_Down\n",
       "Down               \n",
       "30Apr15          23\n",
       "01Nov13          17\n",
       "05Oct18          16\n",
       "24Jul20          15\n",
       "24Jan20          14\n",
       "13Nov15          11\n",
       "11Aug11          11\n",
       "11May18          11\n",
       "25Jun21           8\n",
       "10Jun22           8\n",
       "13Sep19           8\n",
       "14Oct16           7\n",
       "15Nov19           7\n",
       "08Apr22           7\n",
       "31May13           7\n",
       "02Aug13           6\n",
       "27Feb15           6\n",
       "12Dec14           6\n",
       "20Feb09           5\n",
       "22Jan10           5\n",
       "03Jun11           5\n",
       "02Aug19           5\n",
       "30Oct09           5\n",
       "16Jan09           4\n",
       "18May12           4\n",
       "21Jan11           4\n",
       "10May19           4\n",
       "30Sep22           4\n",
       "10Oct14           3\n",
       "26Nov21           3\n",
       "30Mar18           3"
      ]
     },
     "execution_count": 67,
     "metadata": {},
     "output_type": "execute_result"
    }
   ],
   "source": [
    "dfDownGroupX=dfDown.groupby([colGroupDown])[[colDown]].max()\n",
    "dfDownGroupX=dfDownGroupX.query(f\"{colDown}>=@no_threshold\")\n",
    "dfDownGroupX=dfDownGroupX.sort_values(by=colDown,ascending=False)\n",
    "print(len(dfDownGroupX))\n",
    "dfDownGroupX"
   ]
  },
  {
   "cell_type": "code",
   "execution_count": 82,
   "id": "0177a086",
   "metadata": {},
   "outputs": [
    {
     "data": {
      "text/plain": [
       "<AxesSubplot: ylabel='Frequency'>"
      ]
     },
     "execution_count": 82,
     "metadata": {},
     "output_type": "execute_result"
    },
    {
     "data": {
      "image/png": "[encoded data removed]",
      "text/plain": [
       "<Figure size 1008x504 with 2 Axes>"
      ]
     },
     "metadata": {
      "needs_background": "light"
     },
     "output_type": "display_data"
    }
   ],
   "source": [
    "fig,(ax1,ax2)=plt.subplots(nrows=1,ncols=2,figsize=(14,7))\n",
    "dfUpGroupX.plot.hist(ax=ax1)\n",
    "dfDownGroupX.plot.hist(ax=ax2)"
   ]
  },
  {
   "cell_type": "code",
   "execution_count": 27,
   "id": "dfc483f7-add6-4ac4-b50f-6bb2b9352a00",
   "metadata": {},
   "outputs": [],
   "source": [
    "#return  df_x,dfUpGroupX,dfDownGroupX"
   ]
  },
  {
   "cell_type": "code",
   "execution_count": 28,
   "id": "e8b80e80",
   "metadata": {},
   "outputs": [],
   "source": [
    "# writer=pd.ExcelWriter(result_path,engine='xlsxwriter') \n",
    "\n",
    "# df_x.to_excel(writer, sheet_name=\"All-Trend\",index=False)\n",
    "# dfUp.to_excel(writer,sheet_name=\"UpTrend\",index=False)\n",
    "# dfUpGroupX.to_excel(writer,sheet_name=\"UpSummary\",index=True)\n",
    "# dfDown.to_excel(writer,sheet_name=\"DownTrend\",index=False)\n",
    "# dfDownGroupX.to_excel(writer,sheet_name=\"DownSummary\",index=True)\n",
    "# writer.save()"
   ]
  },
  {
   "cell_type": "code",
   "execution_count": null,
   "id": "f9f5a360",
   "metadata": {},
   "outputs": [],
   "source": []
  },
  {
   "cell_type": "code",
   "execution_count": null,
   "id": "9a9940d9",
   "metadata": {},
   "outputs": [],
   "source": []
  }
 ],
 "metadata": {
  "kernelspec": {
   "display_name": "Python 3 (ipykernel)",
   "language": "python",
   "name": "python3"
  },
  "language_info": {
   "codemirror_mode": {
    "name": "ipython",
    "version": 3
   },
   "file_extension": ".py",
   "mimetype": "text/x-python",
   "name": "python",
   "nbconvert_exporter": "python",
   "pygments_lexer": "ipython3",
   "version": "3.9.12"
  },
  "vscode": {
   "interpreter": {
    "hash": "483cd7b0cf9c1b36e044fe47cf35feffa77e1ff39dc9407e212a6f0a62715dde"
   }
  }
 },
 "nbformat": 4,
 "nbformat_minor": 5
}
