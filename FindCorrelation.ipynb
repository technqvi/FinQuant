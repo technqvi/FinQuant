{
 "cells": [
  {
   "cell_type": "code",
   "execution_count": 10,
   "id": "e56852d8",
   "metadata": {},
   "outputs": [],
   "source": [
    "import pandas as pd\n",
    "import os\n",
    "\n",
    "\n",
    "# %matplotlib inline\n",
    "import matplotlib.pyplot as plt\n",
    "import seaborn as sn\n",
    "import datetime as datetime"
   ]
  },
  {
   "cell_type": "code",
   "execution_count": 20,
   "id": "05b27b74",
   "metadata": {},
   "outputs": [
    {
     "name": "stdout",
     "output_type": "stream",
     "text": [
      "2022-04-01\n",
      "2022-05-04\n"
     ]
    }
   ],
   "source": [
    "root_path=r'D:\\JupyterCode\\MyQuantFinProject\\Data'\n",
    "file_name='Crypto_vs_WorldFund_MarchApril22.csv'\n",
    "today=datetime.datetime.today()\n",
    "\n",
    "from_month_str='2022-04-01'\n",
    "to_month_str= today.strftime(\"%Y-%m-%d\")\n",
    "\n",
    "print(from_month_str)\n",
    "print(to_month_str)"
   ]
  },
  {
   "cell_type": "code",
   "execution_count": 21,
   "id": "a3996222",
   "metadata": {},
   "outputs": [],
   "source": [
    "col_corr=['close']\n",
    "col_key='Ticker'\n",
    "col_datetime='Date/Time'"
   ]
  },
  {
   "cell_type": "code",
   "execution_count": 22,
   "id": "611e79c2",
   "metadata": {},
   "outputs": [],
   "source": [
    "dfAll=pd.read_csv(f'{root_path}\\\\{file_name}',index_col=col_datetime,parse_dates=[col_datetime],dayfirst=True)\n",
    "\n",
    "\n",
    "df=dfAll.loc[from_month_str:to_month_str,:]\n",
    "\n",
    "df=df[[col_key]+col_corr]\n"
   ]
  },
  {
   "cell_type": "code",
   "execution_count": 23,
   "id": "ca05dd96",
   "metadata": {},
   "outputs": [
    {
     "data": {
      "text/html": [
       "<div>\n",
       "<style scoped>\n",
       "    .dataframe tbody tr th:only-of-type {\n",
       "        vertical-align: middle;\n",
       "    }\n",
       "\n",
       "    .dataframe tbody tr th {\n",
       "        vertical-align: top;\n",
       "    }\n",
       "\n",
       "    .dataframe thead th {\n",
       "        text-align: right;\n",
       "    }\n",
       "</style>\n",
       "<table border=\"1\" class=\"dataframe\">\n",
       "  <thead>\n",
       "    <tr style=\"text-align: right;\">\n",
       "      <th></th>\n",
       "      <th>Ticker</th>\n",
       "      <th>close</th>\n",
       "    </tr>\n",
       "    <tr>\n",
       "      <th>Date/Time</th>\n",
       "      <th></th>\n",
       "      <th></th>\n",
       "    </tr>\n",
       "  </thead>\n",
       "  <tbody>\n",
       "    <tr>\n",
       "      <th>2022-04-01</th>\n",
       "      <td>ACWI</td>\n",
       "      <td>100.43</td>\n",
       "    </tr>\n",
       "    <tr>\n",
       "      <th>2022-04-04</th>\n",
       "      <td>ACWI</td>\n",
       "      <td>101.40</td>\n",
       "    </tr>\n",
       "    <tr>\n",
       "      <th>2022-04-05</th>\n",
       "      <td>ACWI</td>\n",
       "      <td>99.95</td>\n",
       "    </tr>\n",
       "    <tr>\n",
       "      <th>2022-04-06</th>\n",
       "      <td>ACWI</td>\n",
       "      <td>98.80</td>\n",
       "    </tr>\n",
       "    <tr>\n",
       "      <th>2022-04-07</th>\n",
       "      <td>ACWI</td>\n",
       "      <td>99.01</td>\n",
       "    </tr>\n",
       "  </tbody>\n",
       "</table>\n",
       "</div>"
      ],
      "text/plain": [
       "           Ticker   close\n",
       "Date/Time                \n",
       "2022-04-01   ACWI  100.43\n",
       "2022-04-04   ACWI  101.40\n",
       "2022-04-05   ACWI   99.95\n",
       "2022-04-06   ACWI   98.80\n",
       "2022-04-07   ACWI   99.01"
      ]
     },
     "execution_count": 23,
     "metadata": {},
     "output_type": "execute_result"
    }
   ],
   "source": [
    "df.head()"
   ]
  },
  {
   "cell_type": "code",
   "execution_count": 24,
   "id": "e7eb7c70",
   "metadata": {},
   "outputs": [
    {
     "data": {
      "text/html": [
       "<div>\n",
       "<style scoped>\n",
       "    .dataframe tbody tr th:only-of-type {\n",
       "        vertical-align: middle;\n",
       "    }\n",
       "\n",
       "    .dataframe tbody tr th {\n",
       "        vertical-align: top;\n",
       "    }\n",
       "\n",
       "    .dataframe thead th {\n",
       "        text-align: right;\n",
       "    }\n",
       "</style>\n",
       "<table border=\"1\" class=\"dataframe\">\n",
       "  <thead>\n",
       "    <tr style=\"text-align: right;\">\n",
       "      <th></th>\n",
       "      <th>Ticker</th>\n",
       "      <th>close</th>\n",
       "    </tr>\n",
       "    <tr>\n",
       "      <th>Date/Time</th>\n",
       "      <th></th>\n",
       "      <th></th>\n",
       "    </tr>\n",
       "  </thead>\n",
       "  <tbody>\n",
       "    <tr>\n",
       "      <th>2022-04-25</th>\n",
       "      <td>SPY</td>\n",
       "      <td>428.51</td>\n",
       "    </tr>\n",
       "    <tr>\n",
       "      <th>2022-04-26</th>\n",
       "      <td>SPY</td>\n",
       "      <td>416.10</td>\n",
       "    </tr>\n",
       "    <tr>\n",
       "      <th>2022-04-27</th>\n",
       "      <td>SPY</td>\n",
       "      <td>417.27</td>\n",
       "    </tr>\n",
       "    <tr>\n",
       "      <th>2022-04-28</th>\n",
       "      <td>SPY</td>\n",
       "      <td>427.81</td>\n",
       "    </tr>\n",
       "    <tr>\n",
       "      <th>2022-04-29</th>\n",
       "      <td>SPY</td>\n",
       "      <td>412.00</td>\n",
       "    </tr>\n",
       "  </tbody>\n",
       "</table>\n",
       "</div>"
      ],
      "text/plain": [
       "           Ticker   close\n",
       "Date/Time                \n",
       "2022-04-25    SPY  428.51\n",
       "2022-04-26    SPY  416.10\n",
       "2022-04-27    SPY  417.27\n",
       "2022-04-28    SPY  427.81\n",
       "2022-04-29    SPY  412.00"
      ]
     },
     "execution_count": 24,
     "metadata": {},
     "output_type": "execute_result"
    }
   ],
   "source": [
    "df.tail()"
   ]
  },
  {
   "cell_type": "code",
   "execution_count": 25,
   "id": "d46ae978",
   "metadata": {},
   "outputs": [
    {
     "name": "stdout",
     "output_type": "stream",
     "text": [
      "['ACWI', 'BNB-USD', 'QQQ', 'ETH-USD', 'BTC-USD', 'SPY']\n"
     ]
    }
   ],
   "source": [
    "list_symbol=df[col_key].unique().tolist()\n",
    "print(list_symbol)"
   ]
  },
  {
   "cell_type": "code",
   "execution_count": 26,
   "id": "1a24ad8c",
   "metadata": {},
   "outputs": [
    {
     "data": {
      "image/png": "[encoded data removed]",
      "text/plain": [
       "<Figure size 1080x576 with 2 Axes>"
      ]
     },
     "metadata": {
      "needs_background": "light"
     },
     "output_type": "display_data"
    }
   ],
   "source": [
    "\n",
    "\n",
    "for col in col_corr:  \n",
    "    pd_corr=pd.DataFrame()\n",
    "    for symbol in list_symbol:\n",
    "\n",
    "      df_by_symbol=df.query(f'{col_key}==@symbol')[[col]]\n",
    "      df_by_symbol=df_by_symbol.rename(columns={col:symbol})   \n",
    "      #print(df_by_symbol)  \n",
    "      pd_corr=pd.concat([pd_corr, df_by_symbol], axis=1)\n",
    "        \n",
    "    corrMatrix = pd_corr.corr()\n",
    "    plt.figure(figsize = (15,8))\n",
    "    plt.title(f'{col} || {from_month_str} - {to_month_str}',fontweight =\"bold\")\n",
    "    \n",
    "    sn.heatmap(corrMatrix, annot=True)\n",
    "    plt.show()\n",
    "    \n",
    "#     print(pd_corr)"
   ]
  },
  {
   "cell_type": "code",
   "execution_count": null,
   "id": "0524a2cb",
   "metadata": {},
   "outputs": [],
   "source": []
  },
  {
   "cell_type": "code",
   "execution_count": null,
   "id": "6a84e7cd",
   "metadata": {},
   "outputs": [],
   "source": []
  }
 ],
 "metadata": {
  "kernelspec": {
   "display_name": "Python 3 (ipykernel)",
   "language": "python",
   "name": "python3"
  },
  "language_info": {
   "codemirror_mode": {
    "name": "ipython",
    "version": 3
   },
   "file_extension": ".py",
   "mimetype": "text/x-python",
   "name": "python",
   "nbconvert_exporter": "python",
   "pygments_lexer": "ipython3",
   "version": "3.9.10"
  }
 },
 "nbformat": 4,
 "nbformat_minor": 5
}
