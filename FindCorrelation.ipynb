{
 "cells": [
  {
   "cell_type": "code",
   "execution_count": 62,
   "id": "e56852d8",
   "metadata": {},
   "outputs": [],
   "source": [
    "import pandas as pd\n",
    "import os\n",
    "\n",
    "\n",
    "# %matplotlib inline\n",
    "import matplotlib.pyplot as plt\n",
    "import seaborn as sn\n",
    "import datetime as datetime"
   ]
  },
  {
   "cell_type": "code",
   "execution_count": 63,
   "id": "05b27b74",
   "metadata": {},
   "outputs": [
    {
     "name": "stdout",
     "output_type": "stream",
     "text": [
      "2022-04-01\n",
      "2022-06-09\n"
     ]
    }
   ],
   "source": [
    "root_path=r'D:\\JupyterCode\\MyQuantFinProject\\Data'\n",
    "file_name='MyGlobalPort_Apr-08Jun22.csv'\n",
    "today=datetime.datetime.today()\n",
    "\n",
    "from_month_str='2022-04-01'\n",
    "to_month_str= today.strftime(\"%Y-%m-%d\")\n",
    "\n",
    "\n",
    "\n",
    "print(from_month_str)\n",
    "print(to_month_str)"
   ]
  },
  {
   "cell_type": "code",
   "execution_count": 64,
   "id": "a3996222",
   "metadata": {},
   "outputs": [],
   "source": [
    "col_corr=['close']\n",
    "col_key='Ticker'\n",
    "col_datetime='Date/Time'"
   ]
  },
  {
   "cell_type": "code",
   "execution_count": 65,
   "id": "611e79c2",
   "metadata": {},
   "outputs": [
    {
     "name": "stdout",
     "output_type": "stream",
     "text": [
      "['82823.HK', 'ACWI', 'BNB-USD', 'ETH-USD', 'EEM', 'BTC-USD', 'IXJ', 'QQQ']\n"
     ]
    }
   ],
   "source": [
    "dfAll=pd.read_csv(f'{root_path}\\\\{file_name}',index_col=col_datetime,parse_dates=[col_datetime],dayfirst=True)\n",
    "\n",
    "\n",
    "df=dfAll.loc[from_month_str:to_month_str,:]\n",
    "\n",
    "df=df[[col_key]+col_corr]\n",
    "\n",
    "list_symbol=df[col_key].unique().tolist()\n",
    "print(list_symbol)\n",
    "\n",
    "list_symbol=['82823.HK', 'ACWI', 'EEM', 'IXJ', 'QQQ']\n",
    "list_symbol=[ 'ACWI', 'IXJ', 'QQQ','BTC-USD','ETH-USD']"
   ]
  },
  {
   "cell_type": "code",
   "execution_count": 66,
   "id": "ca05dd96",
   "metadata": {},
   "outputs": [
    {
     "data": {
      "text/html": [
       "<div>\n",
       "<style scoped>\n",
       "    .dataframe tbody tr th:only-of-type {\n",
       "        vertical-align: middle;\n",
       "    }\n",
       "\n",
       "    .dataframe tbody tr th {\n",
       "        vertical-align: top;\n",
       "    }\n",
       "\n",
       "    .dataframe thead th {\n",
       "        text-align: right;\n",
       "    }\n",
       "</style>\n",
       "<table border=\"1\" class=\"dataframe\">\n",
       "  <thead>\n",
       "    <tr style=\"text-align: right;\">\n",
       "      <th></th>\n",
       "      <th>Ticker</th>\n",
       "      <th>close</th>\n",
       "    </tr>\n",
       "    <tr>\n",
       "      <th>Date/Time</th>\n",
       "      <th></th>\n",
       "      <th></th>\n",
       "    </tr>\n",
       "  </thead>\n",
       "  <tbody>\n",
       "    <tr>\n",
       "      <th>2022-04-01</th>\n",
       "      <td>82823.HK</td>\n",
       "      <td>13.38</td>\n",
       "    </tr>\n",
       "    <tr>\n",
       "      <th>2022-04-04</th>\n",
       "      <td>82823.HK</td>\n",
       "      <td>13.36</td>\n",
       "    </tr>\n",
       "    <tr>\n",
       "      <th>2022-04-06</th>\n",
       "      <td>82823.HK</td>\n",
       "      <td>13.28</td>\n",
       "    </tr>\n",
       "    <tr>\n",
       "      <th>2022-04-07</th>\n",
       "      <td>82823.HK</td>\n",
       "      <td>13.23</td>\n",
       "    </tr>\n",
       "    <tr>\n",
       "      <th>2022-04-08</th>\n",
       "      <td>82823.HK</td>\n",
       "      <td>13.32</td>\n",
       "    </tr>\n",
       "  </tbody>\n",
       "</table>\n",
       "</div>"
      ],
      "text/plain": [
       "              Ticker  close\n",
       "Date/Time                  \n",
       "2022-04-01  82823.HK  13.38\n",
       "2022-04-04  82823.HK  13.36\n",
       "2022-04-06  82823.HK  13.28\n",
       "2022-04-07  82823.HK  13.23\n",
       "2022-04-08  82823.HK  13.32"
      ]
     },
     "execution_count": 66,
     "metadata": {},
     "output_type": "execute_result"
    }
   ],
   "source": [
    "df.head()"
   ]
  },
  {
   "cell_type": "code",
   "execution_count": 67,
   "id": "e7eb7c70",
   "metadata": {},
   "outputs": [
    {
     "data": {
      "text/html": [
       "<div>\n",
       "<style scoped>\n",
       "    .dataframe tbody tr th:only-of-type {\n",
       "        vertical-align: middle;\n",
       "    }\n",
       "\n",
       "    .dataframe tbody tr th {\n",
       "        vertical-align: top;\n",
       "    }\n",
       "\n",
       "    .dataframe thead th {\n",
       "        text-align: right;\n",
       "    }\n",
       "</style>\n",
       "<table border=\"1\" class=\"dataframe\">\n",
       "  <thead>\n",
       "    <tr style=\"text-align: right;\">\n",
       "      <th></th>\n",
       "      <th>Ticker</th>\n",
       "      <th>close</th>\n",
       "    </tr>\n",
       "    <tr>\n",
       "      <th>Date/Time</th>\n",
       "      <th></th>\n",
       "      <th></th>\n",
       "    </tr>\n",
       "  </thead>\n",
       "  <tbody>\n",
       "    <tr>\n",
       "      <th>2022-06-02</th>\n",
       "      <td>QQQ</td>\n",
       "      <td>314.38</td>\n",
       "    </tr>\n",
       "    <tr>\n",
       "      <th>2022-06-03</th>\n",
       "      <td>QQQ</td>\n",
       "      <td>306.20</td>\n",
       "    </tr>\n",
       "    <tr>\n",
       "      <th>2022-06-06</th>\n",
       "      <td>QQQ</td>\n",
       "      <td>307.22</td>\n",
       "    </tr>\n",
       "    <tr>\n",
       "      <th>2022-06-07</th>\n",
       "      <td>QQQ</td>\n",
       "      <td>309.87</td>\n",
       "    </tr>\n",
       "    <tr>\n",
       "      <th>2022-06-08</th>\n",
       "      <td>QQQ</td>\n",
       "      <td>307.64</td>\n",
       "    </tr>\n",
       "  </tbody>\n",
       "</table>\n",
       "</div>"
      ],
      "text/plain": [
       "           Ticker   close\n",
       "Date/Time                \n",
       "2022-06-02    QQQ  314.38\n",
       "2022-06-03    QQQ  306.20\n",
       "2022-06-06    QQQ  307.22\n",
       "2022-06-07    QQQ  309.87\n",
       "2022-06-08    QQQ  307.64"
      ]
     },
     "execution_count": 67,
     "metadata": {},
     "output_type": "execute_result"
    }
   ],
   "source": [
    "df.tail()"
   ]
  },
  {
   "cell_type": "code",
   "execution_count": null,
   "id": "d46ae978",
   "metadata": {},
   "outputs": [],
   "source": []
  },
  {
   "cell_type": "code",
   "execution_count": 68,
   "id": "1a24ad8c",
   "metadata": {},
   "outputs": [
    {
     "data": {
      "image/png": "[encoded data removed]",
      "text/plain": [
       "<Figure size 1080x576 with 2 Axes>"
      ]
     },
     "metadata": {
      "needs_background": "light"
     },
     "output_type": "display_data"
    }
   ],
   "source": [
    "\n",
    "\n",
    "for col in col_corr:  \n",
    "    pd_corr=pd.DataFrame()\n",
    "    for symbol in list_symbol:\n",
    "\n",
    "      df_by_symbol=df.query(f'{col_key}==@symbol')[[col]]\n",
    "      df_by_symbol=df_by_symbol.rename(columns={col:symbol})   \n",
    "      #print(df_by_symbol)  \n",
    "      pd_corr=pd.concat([pd_corr, df_by_symbol], axis=1)\n",
    "        \n",
    "    corrMatrix = pd_corr.corr()\n",
    "    plt.figure(figsize = (15,8))\n",
    "    plt.title(f'{col} || {from_month_str} - {to_month_str}',fontweight =\"bold\")\n",
    "    \n",
    "    sn.heatmap(corrMatrix, annot=True)\n",
    "    plt.show()\n",
    "    \n",
    "#     print(pd_corr)"
   ]
  },
  {
   "cell_type": "code",
   "execution_count": null,
   "id": "0524a2cb",
   "metadata": {},
   "outputs": [],
   "source": []
  },
  {
   "cell_type": "code",
   "execution_count": null,
   "id": "6a84e7cd",
   "metadata": {},
   "outputs": [],
   "source": []
  },
  {
   "cell_type": "code",
   "execution_count": null,
   "id": "eb491100-08ff-48d9-8619-5db261fcee39",
   "metadata": {},
   "outputs": [],
   "source": []
  },
  {
   "cell_type": "code",
   "execution_count": null,
   "id": "d67c383a-34c9-4615-92b2-7d3e948ae5e4",
   "metadata": {},
   "outputs": [],
   "source": []
  }
 ],
 "metadata": {
  "kernelspec": {
   "display_name": "Python 3 (ipykernel)",
   "language": "python",
   "name": "python3"
  },
  "language_info": {
   "codemirror_mode": {
    "name": "ipython",
    "version": 3
   },
   "file_extension": ".py",
   "mimetype": "text/x-python",
   "name": "python",
   "nbconvert_exporter": "python",
   "pygments_lexer": "ipython3",
   "version": "3.9.10"
  }
 },
 "nbformat": 4,
 "nbformat_minor": 5
}
