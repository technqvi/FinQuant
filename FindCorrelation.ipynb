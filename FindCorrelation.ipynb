{
 "cells": [
  {
   "cell_type": "code",
   "execution_count": 2,
   "id": "e56852d8",
   "metadata": {},
   "outputs": [],
   "source": [
    "import pandas as pd\n",
    "import os\n",
    "\n",
    "\n",
    "# %matplotlib inline\n",
    "import matplotlib.pyplot as plt\n",
    "import seaborn as sn\n",
    "import datetime as datetime\n",
    "\n",
    "import common_libs.data_loader as load_data"
   ]
  },
  {
   "cell_type": "raw",
   "id": "ee925c0d-feba-4a5d-8a01-ad822c016410",
   "metadata": {},
   "source": [
    "Amibroker\n",
    "Filter=1; \n",
    "\n",
    "\n",
    "AddColumn(O,\"open\"); \n",
    "AddColumn(H,\"high\"); \n",
    "AddColumn(L,\"low\"); \n",
    "AddColumn(C,\"close\"); "
   ]
  },
  {
   "cell_type": "code",
   "execution_count": 3,
   "id": "05b27b74",
   "metadata": {},
   "outputs": [
    {
     "name": "stdout",
     "output_type": "stream",
     "text": [
      "2020-01-01\n",
      "2022-12-03\n"
     ]
    }
   ],
   "source": [
    "root_path=r'D:\\PythonDev\\MyQuantFinProject\\Data'\n",
    "#file_name='MyGlobalPort_Mar-08Jun22.csv'\n",
    "file_name='THAI-y17_011222.csv'\n",
    "data_file=os.path.join(root_path,file_name)\n",
    "\n",
    "today=datetime.datetime.today()\n",
    "\n",
    "from_month_str='2020-01-01'\n",
    "to_month_str= today.strftime(\"%Y-%m-%d\")\n",
    "\n",
    "print(from_month_str)\n",
    "print(to_month_str)"
   ]
  },
  {
   "cell_type": "code",
   "execution_count": 26,
   "id": "cc9a3a1d-552d-4cff-8e2b-9cfa15b2dbfb",
   "metadata": {},
   "outputs": [
    {
     "name": "stdout",
     "output_type": "stream",
     "text": [
      "Load Price Data\n",
      "                symbol  price\n",
      "date                         \n",
      "2020-01-02  TISCOFLEXP  34.17\n",
      "2020-01-03  TISCOFLEXP  34.06\n",
      "2020-01-06  TISCOFLEXP  33.21\n",
      "             symbol  price\n",
      "date                      \n",
      "2022-11-29  TDEX.BK   9.78\n",
      "2022-11-30  TDEX.BK   9.83\n",
      "2022-12-01  TDEX.BK   9.86\n",
      "<class 'pandas.core.frame.DataFrame'>\n",
      "DatetimeIndex: 2814 entries, 2020-01-02 to 2022-12-01\n",
      "Data columns (total 2 columns):\n",
      " #   Column  Non-Null Count  Dtype  \n",
      "---  ------  --------------  -----  \n",
      " 0   symbol  2814 non-null   object \n",
      " 1   price   2814 non-null   float64\n",
      "dtypes: float64(1), object(1)\n",
      "memory usage: 66.0+ KB\n",
      "None\n",
      "['TISCOFLEXP', 'PHATRAEQRMF', 'TSF-A', 'TDEX.BK']\n"
     ]
    },
    {
     "name": "stderr",
     "output_type": "stream",
     "text": [
      "D:\\PythonDev\\MyQuantFinProject\\FinQuant\\common_libs\\data_loader.py:42: FutureWarning: Value based partial slicing on non-monotonic DatetimeIndexes with non-existing keys is deprecated and will raise a KeyError in a future Version.\n",
      "  df=df.loc[from_month_str:to_month_str,:]\n"
     ]
    }
   ],
   "source": [
    "df,list_symbol=load_data.load_offline_data(from_month_str,to_month_str,data_file)\n",
    "print(df.info())\n",
    "print(list_symbol)"
   ]
  },
  {
   "cell_type": "code",
   "execution_count": 27,
   "id": "ca05dd96",
   "metadata": {},
   "outputs": [
    {
     "data": {
      "text/html": [
       "<div>\n",
       "<style scoped>\n",
       "    .dataframe tbody tr th:only-of-type {\n",
       "        vertical-align: middle;\n",
       "    }\n",
       "\n",
       "    .dataframe tbody tr th {\n",
       "        vertical-align: top;\n",
       "    }\n",
       "\n",
       "    .dataframe thead th {\n",
       "        text-align: right;\n",
       "    }\n",
       "</style>\n",
       "<table border=\"1\" class=\"dataframe\">\n",
       "  <thead>\n",
       "    <tr style=\"text-align: right;\">\n",
       "      <th></th>\n",
       "      <th>symbol</th>\n",
       "      <th>price</th>\n",
       "    </tr>\n",
       "    <tr>\n",
       "      <th>date</th>\n",
       "      <th></th>\n",
       "      <th></th>\n",
       "    </tr>\n",
       "  </thead>\n",
       "  <tbody>\n",
       "    <tr>\n",
       "      <th>2020-01-02</th>\n",
       "      <td>TISCOFLEXP</td>\n",
       "      <td>34.17</td>\n",
       "    </tr>\n",
       "    <tr>\n",
       "      <th>2020-01-03</th>\n",
       "      <td>TISCOFLEXP</td>\n",
       "      <td>34.06</td>\n",
       "    </tr>\n",
       "    <tr>\n",
       "      <th>2020-01-06</th>\n",
       "      <td>TISCOFLEXP</td>\n",
       "      <td>33.21</td>\n",
       "    </tr>\n",
       "    <tr>\n",
       "      <th>2020-01-07</th>\n",
       "      <td>TISCOFLEXP</td>\n",
       "      <td>33.58</td>\n",
       "    </tr>\n",
       "    <tr>\n",
       "      <th>2020-01-08</th>\n",
       "      <td>TISCOFLEXP</td>\n",
       "      <td>32.70</td>\n",
       "    </tr>\n",
       "  </tbody>\n",
       "</table>\n",
       "</div>"
      ],
      "text/plain": [
       "                symbol  price\n",
       "date                         \n",
       "2020-01-02  TISCOFLEXP  34.17\n",
       "2020-01-03  TISCOFLEXP  34.06\n",
       "2020-01-06  TISCOFLEXP  33.21\n",
       "2020-01-07  TISCOFLEXP  33.58\n",
       "2020-01-08  TISCOFLEXP  32.70"
      ]
     },
     "execution_count": 27,
     "metadata": {},
     "output_type": "execute_result"
    }
   ],
   "source": [
    "df.head()"
   ]
  },
  {
   "cell_type": "code",
   "execution_count": 28,
   "id": "e7eb7c70",
   "metadata": {},
   "outputs": [
    {
     "data": {
      "text/html": [
       "<div>\n",
       "<style scoped>\n",
       "    .dataframe tbody tr th:only-of-type {\n",
       "        vertical-align: middle;\n",
       "    }\n",
       "\n",
       "    .dataframe tbody tr th {\n",
       "        vertical-align: top;\n",
       "    }\n",
       "\n",
       "    .dataframe thead th {\n",
       "        text-align: right;\n",
       "    }\n",
       "</style>\n",
       "<table border=\"1\" class=\"dataframe\">\n",
       "  <thead>\n",
       "    <tr style=\"text-align: right;\">\n",
       "      <th></th>\n",
       "      <th>symbol</th>\n",
       "      <th>price</th>\n",
       "    </tr>\n",
       "    <tr>\n",
       "      <th>date</th>\n",
       "      <th></th>\n",
       "      <th></th>\n",
       "    </tr>\n",
       "  </thead>\n",
       "  <tbody>\n",
       "    <tr>\n",
       "      <th>2022-11-25</th>\n",
       "      <td>TDEX.BK</td>\n",
       "      <td>9.70</td>\n",
       "    </tr>\n",
       "    <tr>\n",
       "      <th>2022-11-28</th>\n",
       "      <td>TDEX.BK</td>\n",
       "      <td>9.72</td>\n",
       "    </tr>\n",
       "    <tr>\n",
       "      <th>2022-11-29</th>\n",
       "      <td>TDEX.BK</td>\n",
       "      <td>9.78</td>\n",
       "    </tr>\n",
       "    <tr>\n",
       "      <th>2022-11-30</th>\n",
       "      <td>TDEX.BK</td>\n",
       "      <td>9.83</td>\n",
       "    </tr>\n",
       "    <tr>\n",
       "      <th>2022-12-01</th>\n",
       "      <td>TDEX.BK</td>\n",
       "      <td>9.86</td>\n",
       "    </tr>\n",
       "  </tbody>\n",
       "</table>\n",
       "</div>"
      ],
      "text/plain": [
       "             symbol  price\n",
       "date                      \n",
       "2022-11-25  TDEX.BK   9.70\n",
       "2022-11-28  TDEX.BK   9.72\n",
       "2022-11-29  TDEX.BK   9.78\n",
       "2022-11-30  TDEX.BK   9.83\n",
       "2022-12-01  TDEX.BK   9.86"
      ]
     },
     "execution_count": 28,
     "metadata": {},
     "output_type": "execute_result"
    }
   ],
   "source": [
    "df.tail()"
   ]
  },
  {
   "cell_type": "code",
   "execution_count": 29,
   "id": "1a24ad8c",
   "metadata": {},
   "outputs": [
    {
     "data": {
      "image/png": "[encoded data removed]",
      "text/plain": [
       "<Figure size 1080x576 with 2 Axes>"
      ]
     },
     "metadata": {
      "needs_background": "light"
     },
     "output_type": "display_data"
    }
   ],
   "source": [
    "\n",
    "col_corr=['price']\n",
    "col_key='symbol'\n",
    "\n",
    "for col in col_corr:  \n",
    "    pd_corr=pd.DataFrame()\n",
    "    for symbol in list_symbol:\n",
    "\n",
    "      df_by_symbol=df.query(f'{col_key}==@symbol')[[col]]\n",
    "      df_by_symbol=df_by_symbol.rename(columns={col:symbol})   \n",
    "      #print(df_by_symbol)  \n",
    "      pd_corr=pd.concat([pd_corr, df_by_symbol], axis=1)\n",
    "        \n",
    "    corrMatrix = pd_corr.corr()\n",
    "    plt.figure(figsize = (15,8))\n",
    "    plt.title(f'{col} || {from_month_str} - {to_month_str}',fontweight =\"bold\")\n",
    "    \n",
    "    sn.heatmap(corrMatrix, annot=True)\n",
    "    plt.show()\n",
    "    \n",
    "#     print(pd_corr)"
   ]
  },
  {
   "cell_type": "code",
   "execution_count": null,
   "id": "0524a2cb",
   "metadata": {},
   "outputs": [],
   "source": []
  },
  {
   "cell_type": "code",
   "execution_count": null,
   "id": "6a84e7cd",
   "metadata": {},
   "outputs": [],
   "source": []
  },
  {
   "cell_type": "code",
   "execution_count": null,
   "id": "eb491100-08ff-48d9-8619-5db261fcee39",
   "metadata": {},
   "outputs": [],
   "source": []
  },
  {
   "cell_type": "code",
   "execution_count": null,
   "id": "143ed588-3017-4bbc-8bde-9a3a7fe4f4ec",
   "metadata": {},
   "outputs": [],
   "source": []
  },
  {
   "cell_type": "code",
   "execution_count": null,
   "id": "d67c383a-34c9-4615-92b2-7d3e948ae5e4",
   "metadata": {},
   "outputs": [],
   "source": []
  }
 ],
 "metadata": {
  "kernelspec": {
   "display_name": "Python 3 (ipykernel)",
   "language": "python",
   "name": "python3"
  },
  "language_info": {
   "codemirror_mode": {
    "name": "ipython",
    "version": 3
   },
   "file_extension": ".py",
   "mimetype": "text/x-python",
   "name": "python",
   "nbconvert_exporter": "python",
   "pygments_lexer": "ipython3",
   "version": "3.9.12"
  }
 },
 "nbformat": 4,
 "nbformat_minor": 5
}
