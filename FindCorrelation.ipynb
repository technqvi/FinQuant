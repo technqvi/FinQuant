{
 "cells": [
  {
   "cell_type": "code",
   "execution_count": 2,
   "id": "e56852d8",
   "metadata": {},
   "outputs": [],
   "source": [
    "import pandas as pd\n",
    "import os\n",
    "\n",
    "\n",
    "# %matplotlib inline\n",
    "import matplotlib.pyplot as plt\n",
    "import seaborn as sn\n",
    "import datetime as datetime"
   ]
  },
  {
   "cell_type": "code",
   "execution_count": 3,
   "id": "05b27b74",
   "metadata": {},
   "outputs": [
    {
     "name": "stdout",
     "output_type": "stream",
     "text": [
      "2022-06-01\n",
      "2022-08-06\n"
     ]
    }
   ],
   "source": [
    "root_path=r'D:\\PythonDev\\MyQuantFinProject\\Data'\n",
    "#file_name='MyGlobalPort_Mar-08Jun22.csv'\n",
    "file_name='Tech-Cypto-World.csv'\n",
    "today=datetime.datetime.today()\n",
    "\n",
    "from_month_str='2022-06-01'\n",
    "to_month_str= today.strftime(\"%Y-%m-%d\")\n",
    "\n",
    "\n",
    "\n",
    "print(from_month_str)\n",
    "print(to_month_str)"
   ]
  },
  {
   "cell_type": "code",
   "execution_count": 4,
   "id": "a3996222",
   "metadata": {},
   "outputs": [],
   "source": [
    "col_corr=['close']\n",
    "col_key='Ticker'\n",
    "col_datetime='Date/Time'"
   ]
  },
  {
   "cell_type": "code",
   "execution_count": 5,
   "id": "cc9a3a1d-552d-4cff-8e2b-9cfa15b2dbfb",
   "metadata": {},
   "outputs": [],
   "source": [
    "dfAll=pd.read_csv(f'{root_path}\\\\{file_name}',index_col=col_datetime,parse_dates=[col_datetime],dayfirst=True)"
   ]
  },
  {
   "cell_type": "code",
   "execution_count": 6,
   "id": "376540cb-97a1-42e3-974c-84125dd84277",
   "metadata": {},
   "outputs": [
    {
     "data": {
      "text/html": [
       "<div>\n",
       "<style scoped>\n",
       "    .dataframe tbody tr th:only-of-type {\n",
       "        vertical-align: middle;\n",
       "    }\n",
       "\n",
       "    .dataframe tbody tr th {\n",
       "        vertical-align: top;\n",
       "    }\n",
       "\n",
       "    .dataframe thead th {\n",
       "        text-align: right;\n",
       "    }\n",
       "</style>\n",
       "<table border=\"1\" class=\"dataframe\">\n",
       "  <thead>\n",
       "    <tr style=\"text-align: right;\">\n",
       "      <th></th>\n",
       "      <th>Ticker</th>\n",
       "      <th>open</th>\n",
       "      <th>high</th>\n",
       "      <th>low</th>\n",
       "      <th>close</th>\n",
       "      <th>volume</th>\n",
       "    </tr>\n",
       "    <tr>\n",
       "      <th>Date/Time</th>\n",
       "      <th></th>\n",
       "      <th></th>\n",
       "      <th></th>\n",
       "      <th></th>\n",
       "      <th></th>\n",
       "      <th></th>\n",
       "    </tr>\n",
       "  </thead>\n",
       "  <tbody>\n",
       "    <tr>\n",
       "      <th>2022-06-21</th>\n",
       "      <td>ACWI</td>\n",
       "      <td>83.34</td>\n",
       "      <td>84.08</td>\n",
       "      <td>83.25</td>\n",
       "      <td>83.76</td>\n",
       "      <td>4832300.0</td>\n",
       "    </tr>\n",
       "    <tr>\n",
       "      <th>2022-06-22</th>\n",
       "      <td>ACWI</td>\n",
       "      <td>82.77</td>\n",
       "      <td>84.14</td>\n",
       "      <td>82.56</td>\n",
       "      <td>83.28</td>\n",
       "      <td>3650800.0</td>\n",
       "    </tr>\n",
       "    <tr>\n",
       "      <th>2022-06-23</th>\n",
       "      <td>ACWI</td>\n",
       "      <td>83.62</td>\n",
       "      <td>83.91</td>\n",
       "      <td>82.77</td>\n",
       "      <td>83.76</td>\n",
       "      <td>3691000.0</td>\n",
       "    </tr>\n",
       "    <tr>\n",
       "      <th>2022-06-24</th>\n",
       "      <td>ACWI</td>\n",
       "      <td>84.61</td>\n",
       "      <td>86.34</td>\n",
       "      <td>84.61</td>\n",
       "      <td>86.31</td>\n",
       "      <td>3355000.0</td>\n",
       "    </tr>\n",
       "    <tr>\n",
       "      <th>2022-06-27</th>\n",
       "      <td>ACWI</td>\n",
       "      <td>86.54</td>\n",
       "      <td>86.61</td>\n",
       "      <td>85.88</td>\n",
       "      <td>86.06</td>\n",
       "      <td>4133600.0</td>\n",
       "    </tr>\n",
       "    <tr>\n",
       "      <th>...</th>\n",
       "      <td>...</td>\n",
       "      <td>...</td>\n",
       "      <td>...</td>\n",
       "      <td>...</td>\n",
       "      <td>...</td>\n",
       "      <td>...</td>\n",
       "    </tr>\n",
       "    <tr>\n",
       "      <th>2022-07-29</th>\n",
       "      <td>QQQ</td>\n",
       "      <td>311.39</td>\n",
       "      <td>316.39</td>\n",
       "      <td>309.93</td>\n",
       "      <td>315.46</td>\n",
       "      <td>57433300.0</td>\n",
       "    </tr>\n",
       "    <tr>\n",
       "      <th>2022-08-01</th>\n",
       "      <td>QQQ</td>\n",
       "      <td>313.65</td>\n",
       "      <td>318.81</td>\n",
       "      <td>312.53</td>\n",
       "      <td>315.27</td>\n",
       "      <td>46358800.0</td>\n",
       "    </tr>\n",
       "    <tr>\n",
       "      <th>2022-08-02</th>\n",
       "      <td>QQQ</td>\n",
       "      <td>312.92</td>\n",
       "      <td>318.55</td>\n",
       "      <td>311.84</td>\n",
       "      <td>314.33</td>\n",
       "      <td>48676500.0</td>\n",
       "    </tr>\n",
       "    <tr>\n",
       "      <th>2022-08-03</th>\n",
       "      <td>QQQ</td>\n",
       "      <td>316.05</td>\n",
       "      <td>323.73</td>\n",
       "      <td>315.99</td>\n",
       "      <td>322.89</td>\n",
       "      <td>53735700.0</td>\n",
       "    </tr>\n",
       "    <tr>\n",
       "      <th>2022-08-04</th>\n",
       "      <td>QQQ</td>\n",
       "      <td>322.97</td>\n",
       "      <td>324.72</td>\n",
       "      <td>320.77</td>\n",
       "      <td>324.40</td>\n",
       "      <td>38856700.0</td>\n",
       "    </tr>\n",
       "  </tbody>\n",
       "</table>\n",
       "<p>111 rows × 6 columns</p>\n",
       "</div>"
      ],
      "text/plain": [
       "           Ticker    open    high     low   close      volume\n",
       "Date/Time                                                    \n",
       "2022-06-21   ACWI   83.34   84.08   83.25   83.76   4832300.0\n",
       "2022-06-22   ACWI   82.77   84.14   82.56   83.28   3650800.0\n",
       "2022-06-23   ACWI   83.62   83.91   82.77   83.76   3691000.0\n",
       "2022-06-24   ACWI   84.61   86.34   84.61   86.31   3355000.0\n",
       "2022-06-27   ACWI   86.54   86.61   85.88   86.06   4133600.0\n",
       "...           ...     ...     ...     ...     ...         ...\n",
       "2022-07-29    QQQ  311.39  316.39  309.93  315.46  57433300.0\n",
       "2022-08-01    QQQ  313.65  318.81  312.53  315.27  46358800.0\n",
       "2022-08-02    QQQ  312.92  318.55  311.84  314.33  48676500.0\n",
       "2022-08-03    QQQ  316.05  323.73  315.99  322.89  53735700.0\n",
       "2022-08-04    QQQ  322.97  324.72  320.77  324.40  38856700.0\n",
       "\n",
       "[111 rows x 6 columns]"
      ]
     },
     "execution_count": 6,
     "metadata": {},
     "output_type": "execute_result"
    }
   ],
   "source": [
    "dfAll"
   ]
  },
  {
   "cell_type": "code",
   "execution_count": 7,
   "id": "611e79c2",
   "metadata": {},
   "outputs": [
    {
     "name": "stdout",
     "output_type": "stream",
     "text": [
      "['ACWI', 'ETH-USD', 'QQQ']\n"
     ]
    },
    {
     "name": "stderr",
     "output_type": "stream",
     "text": [
      "C:\\Users\\pongthsa\\AppData\\Local\\Temp\\ipykernel_7636\\453779772.py:1: FutureWarning: Value based partial slicing on non-monotonic DatetimeIndexes with non-existing keys is deprecated and will raise a KeyError in a future Version.\n",
      "  df=dfAll.loc[from_month_str:to_month_str,:]\n"
     ]
    }
   ],
   "source": [
    "\n",
    "\n",
    "\n",
    "df=dfAll.loc[from_month_str:to_month_str,:]\n",
    "\n",
    "df=df[[col_key]+col_corr]\n",
    "\n",
    "list_symbol=df[col_key].unique().tolist()\n",
    "print(list_symbol)\n",
    "\n",
    "# list_symbol=['82823.HK', 'ACWI', 'EEM', 'IXJ', 'QQQ']\n",
    "# list_symbol=[ 'ACWI', 'IXJ', 'QQQ','BTC-USD','ETH-USD']"
   ]
  },
  {
   "cell_type": "code",
   "execution_count": 8,
   "id": "ca05dd96",
   "metadata": {},
   "outputs": [
    {
     "data": {
      "text/html": [
       "<div>\n",
       "<style scoped>\n",
       "    .dataframe tbody tr th:only-of-type {\n",
       "        vertical-align: middle;\n",
       "    }\n",
       "\n",
       "    .dataframe tbody tr th {\n",
       "        vertical-align: top;\n",
       "    }\n",
       "\n",
       "    .dataframe thead th {\n",
       "        text-align: right;\n",
       "    }\n",
       "</style>\n",
       "<table border=\"1\" class=\"dataframe\">\n",
       "  <thead>\n",
       "    <tr style=\"text-align: right;\">\n",
       "      <th></th>\n",
       "      <th>Ticker</th>\n",
       "      <th>close</th>\n",
       "    </tr>\n",
       "    <tr>\n",
       "      <th>Date/Time</th>\n",
       "      <th></th>\n",
       "      <th></th>\n",
       "    </tr>\n",
       "  </thead>\n",
       "  <tbody>\n",
       "    <tr>\n",
       "      <th>2022-06-21</th>\n",
       "      <td>ACWI</td>\n",
       "      <td>83.76</td>\n",
       "    </tr>\n",
       "    <tr>\n",
       "      <th>2022-06-22</th>\n",
       "      <td>ACWI</td>\n",
       "      <td>83.28</td>\n",
       "    </tr>\n",
       "    <tr>\n",
       "      <th>2022-06-23</th>\n",
       "      <td>ACWI</td>\n",
       "      <td>83.76</td>\n",
       "    </tr>\n",
       "    <tr>\n",
       "      <th>2022-06-24</th>\n",
       "      <td>ACWI</td>\n",
       "      <td>86.31</td>\n",
       "    </tr>\n",
       "    <tr>\n",
       "      <th>2022-06-27</th>\n",
       "      <td>ACWI</td>\n",
       "      <td>86.06</td>\n",
       "    </tr>\n",
       "  </tbody>\n",
       "</table>\n",
       "</div>"
      ],
      "text/plain": [
       "           Ticker  close\n",
       "Date/Time               \n",
       "2022-06-21   ACWI  83.76\n",
       "2022-06-22   ACWI  83.28\n",
       "2022-06-23   ACWI  83.76\n",
       "2022-06-24   ACWI  86.31\n",
       "2022-06-27   ACWI  86.06"
      ]
     },
     "execution_count": 8,
     "metadata": {},
     "output_type": "execute_result"
    }
   ],
   "source": [
    "df.head()"
   ]
  },
  {
   "cell_type": "code",
   "execution_count": 9,
   "id": "e7eb7c70",
   "metadata": {},
   "outputs": [
    {
     "data": {
      "text/html": [
       "<div>\n",
       "<style scoped>\n",
       "    .dataframe tbody tr th:only-of-type {\n",
       "        vertical-align: middle;\n",
       "    }\n",
       "\n",
       "    .dataframe tbody tr th {\n",
       "        vertical-align: top;\n",
       "    }\n",
       "\n",
       "    .dataframe thead th {\n",
       "        text-align: right;\n",
       "    }\n",
       "</style>\n",
       "<table border=\"1\" class=\"dataframe\">\n",
       "  <thead>\n",
       "    <tr style=\"text-align: right;\">\n",
       "      <th></th>\n",
       "      <th>Ticker</th>\n",
       "      <th>close</th>\n",
       "    </tr>\n",
       "    <tr>\n",
       "      <th>Date/Time</th>\n",
       "      <th></th>\n",
       "      <th></th>\n",
       "    </tr>\n",
       "  </thead>\n",
       "  <tbody>\n",
       "    <tr>\n",
       "      <th>2022-07-29</th>\n",
       "      <td>QQQ</td>\n",
       "      <td>315.46</td>\n",
       "    </tr>\n",
       "    <tr>\n",
       "      <th>2022-08-01</th>\n",
       "      <td>QQQ</td>\n",
       "      <td>315.27</td>\n",
       "    </tr>\n",
       "    <tr>\n",
       "      <th>2022-08-02</th>\n",
       "      <td>QQQ</td>\n",
       "      <td>314.33</td>\n",
       "    </tr>\n",
       "    <tr>\n",
       "      <th>2022-08-03</th>\n",
       "      <td>QQQ</td>\n",
       "      <td>322.89</td>\n",
       "    </tr>\n",
       "    <tr>\n",
       "      <th>2022-08-04</th>\n",
       "      <td>QQQ</td>\n",
       "      <td>324.40</td>\n",
       "    </tr>\n",
       "  </tbody>\n",
       "</table>\n",
       "</div>"
      ],
      "text/plain": [
       "           Ticker   close\n",
       "Date/Time                \n",
       "2022-07-29    QQQ  315.46\n",
       "2022-08-01    QQQ  315.27\n",
       "2022-08-02    QQQ  314.33\n",
       "2022-08-03    QQQ  322.89\n",
       "2022-08-04    QQQ  324.40"
      ]
     },
     "execution_count": 9,
     "metadata": {},
     "output_type": "execute_result"
    }
   ],
   "source": [
    "df.tail()"
   ]
  },
  {
   "cell_type": "code",
   "execution_count": null,
   "id": "d46ae978",
   "metadata": {},
   "outputs": [],
   "source": []
  },
  {
   "cell_type": "code",
   "execution_count": 10,
   "id": "1a24ad8c",
   "metadata": {},
   "outputs": [
    {
     "data": {
      "image/png": "[encoded data removed]",
      "text/plain": [
       "<Figure size 1080x576 with 2 Axes>"
      ]
     },
     "metadata": {
      "needs_background": "light"
     },
     "output_type": "display_data"
    }
   ],
   "source": [
    "\n",
    "\n",
    "for col in col_corr:  \n",
    "    pd_corr=pd.DataFrame()\n",
    "    for symbol in list_symbol:\n",
    "\n",
    "      df_by_symbol=df.query(f'{col_key}==@symbol')[[col]]\n",
    "      df_by_symbol=df_by_symbol.rename(columns={col:symbol})   \n",
    "      #print(df_by_symbol)  \n",
    "      pd_corr=pd.concat([pd_corr, df_by_symbol], axis=1)\n",
    "        \n",
    "    corrMatrix = pd_corr.corr()\n",
    "    plt.figure(figsize = (15,8))\n",
    "    plt.title(f'{col} || {from_month_str} - {to_month_str}',fontweight =\"bold\")\n",
    "    \n",
    "    sn.heatmap(corrMatrix, annot=True)\n",
    "    plt.show()\n",
    "    \n",
    "#     print(pd_corr)"
   ]
  },
  {
   "cell_type": "code",
   "execution_count": null,
   "id": "0524a2cb",
   "metadata": {},
   "outputs": [],
   "source": []
  },
  {
   "cell_type": "code",
   "execution_count": null,
   "id": "6a84e7cd",
   "metadata": {},
   "outputs": [],
   "source": []
  },
  {
   "cell_type": "code",
   "execution_count": null,
   "id": "eb491100-08ff-48d9-8619-5db261fcee39",
   "metadata": {},
   "outputs": [],
   "source": []
  },
  {
   "cell_type": "code",
   "execution_count": null,
   "id": "143ed588-3017-4bbc-8bde-9a3a7fe4f4ec",
   "metadata": {},
   "outputs": [],
   "source": []
  },
  {
   "cell_type": "code",
   "execution_count": null,
   "id": "d67c383a-34c9-4615-92b2-7d3e948ae5e4",
   "metadata": {},
   "outputs": [],
   "source": []
  }
 ],
 "metadata": {
  "kernelspec": {
   "display_name": "Python 3 (ipykernel)",
   "language": "python",
   "name": "python3"
  },
  "language_info": {
   "codemirror_mode": {
    "name": "ipython",
    "version": 3
   },
   "file_extension": ".py",
   "mimetype": "text/x-python",
   "name": "python",
   "nbconvert_exporter": "python",
   "pygments_lexer": "ipython3",
   "version": "3.9.12"
  }
 },
 "nbformat": 4,
 "nbformat_minor": 5
}
