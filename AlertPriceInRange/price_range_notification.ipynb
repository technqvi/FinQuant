{
 "cells": [
  {
   "cell_type": "code",
   "execution_count": 25,
   "id": "a6eec080",
   "metadata": {},
   "outputs": [],
   "source": [
    "import sqlite3\n",
    "import pandas as pd\n",
    "import os\n",
    "import datetime as datetime\n",
    "import numpy as np\n",
    "from dotenv import dotenv_values\n",
    "from binance.client import Client\n",
    "import requests\n",
    "import random\n",
    "import yfinance as yf\n",
    "import sys \n",
    "import math"
   ]
  },
  {
   "cell_type": "code",
   "execution_count": 26,
   "id": "26a6c0b7",
   "metadata": {},
   "outputs": [],
   "source": [
    "is_auto=False\n",
    "\n",
    "no_last_items=1\n",
    "no_set=5\n",
    "x_now=datetime.datetime.now()\n",
    "\n",
    "api_source='yahoo'\n",
    "#api_source='bn'"
   ]
  },
  {
   "cell_type": "code",
   "execution_count": 27,
   "id": "cb9223bb",
   "metadata": {},
   "outputs": [],
   "source": [
    "if is_auto==True:\n",
    "    if len(sys.argv)==2:\n",
    "       print(sys.argv[1] ) \n",
    "       api_source=sys.argv[1] \n",
    "        \n",
    "       with open('readme.txt', 'w') as f:\n",
    "        for i in range(len(sys.argv)):\n",
    "         f.write(sys.argv[i]+\"\\n\") \n",
    "    else:\n",
    "        raise Exception(\"take api_source as param bn or yahoo\")\n",
    "\n",
    "\n",
    "#exit()\n"
   ]
  },
  {
   "cell_type": "code",
   "execution_count": 28,
   "id": "6790ee03",
   "metadata": {},
   "outputs": [],
   "source": [
    "config_path=r'D:\\AB_DB\\Script_ImportData\\.env'\n",
    "data_base_file='alert_price_db.sqlite3'\n",
    "# data_base_file=r'D:\\AB_DB\\Script_ImportData\\Database\\alert_price_db.sqlite3'"
   ]
  },
  {
   "cell_type": "code",
   "execution_count": 29,
   "id": "295e830d",
   "metadata": {},
   "outputs": [
    {
     "name": "stdout",
     "output_type": "stream",
     "text": [
      "12Jul23_0053\n"
     ]
    }
   ],
   "source": [
    "buildtime = x_now.strftime('%d%b%y_%H%M')\n",
    "print(buildtime)"
   ]
  },
  {
   "cell_type": "code",
   "execution_count": 30,
   "id": "984fac78-30dc-494c-93f6-731b4a2d3438",
   "metadata": {},
   "outputs": [],
   "source": [
    "# config_values= dotenv_values(dotenv_path=f'{path_config}\\\\.env')\n",
    "config_values= dotenv_values(dotenv_path=config_path)\n",
    "api_key = config_values['bn_key']\n",
    "api_secret =config_values['bn_secrete']\n",
    "client=Client(api_key,api_secret)\n",
    "\n",
    "line_token = config_values['line_token']"
   ]
  },
  {
   "cell_type": "code",
   "execution_count": 31,
   "id": "75eb22e6",
   "metadata": {},
   "outputs": [
    {
     "name": "stdout",
     "output_type": "stream",
     "text": [
      "Connect SQLite\n"
     ]
    }
   ],
   "source": [
    "print(\"Connect SQLite\")\n",
    "conn = sqlite3.connect(os.path.abspath(data_base_file))\n",
    "\n",
    "sqlite3.register_adapter(np.int64, lambda val: int(val))\n",
    "sqlite3.register_adapter(np.int32, lambda val: int(val))"
   ]
  },
  {
   "cell_type": "code",
   "execution_count": 32,
   "id": "f87df016",
   "metadata": {},
   "outputs": [
    {
     "name": "stdout",
     "output_type": "stream",
     "text": [
      "  symbol_key symbol_x symbol_pair  price_range  is_active api_source\n",
      "0     s&p500      SPY      SPYUSD  400,420,335          1      yahoo\n",
      "1      nadaq      QQQ      QQQUSD  360,370,380          1      yahoo\n"
     ]
    }
   ],
   "source": [
    "if api_source=='bn':\n",
    "    sql_price_range=\"select * from symbol_price_info where is_active=1 and api_source='bn'\"\n",
    "\n",
    "elif api_source=='yahoo':\n",
    "    sql_price_range=\"select * from symbol_price_info where is_active=1 and api_source='yahoo'\"\n",
    "    \n",
    "df=pd.read_sql_query(sql_price_range, conn)\n",
    "df['symbol_pair']=df.apply( lambda x: f\"{x.symbol_x}{x.symbol_pair}\",axis=1)\n",
    "\n",
    "print(df)\n",
    "\n"
   ]
  },
  {
   "cell_type": "code",
   "execution_count": 33,
   "id": "fd504374-f890-4fd0-a05b-f202541b4618",
   "metadata": {},
   "outputs": [
    {
     "name": "stdout",
     "output_type": "stream",
     "text": [
      "SPY QQQ\n",
      "[*********************100%***********************]  2 of 2 completed\n",
      "                   QQQ                                                  \\\n",
      "                  Open        High         Low       Close   Adj Close   \n",
      "Date                                                                     \n",
      "2023-07-11  366.790009  367.945007  364.619995  366.582703  366.582703   \n",
      "\n",
      "                             SPY                                      \\\n",
      "              Volume        Open        High         Low       Close   \n",
      "Date                                                                   \n",
      "2023-07-11  25460441  440.450012  441.700012  439.440002  440.834991   \n",
      "\n",
      "                                  \n",
      "             Adj Close    Volume  \n",
      "Date                              \n",
      "2023-07-11  440.834991  30734998  \n",
      "{'s&p500': 440.83, 'nadaq': 366.58}\n"
     ]
    }
   ],
   "source": [
    "# get price from binace\n",
    "\n",
    "# get price from yahoo\n",
    "# https://aroussi.com/post/python-yahoo-finance\n",
    "# https://github.com/ranaroussi/yfinance\n",
    "\n",
    "current_price_dict={}\n",
    "list_symbol=[]\n",
    "\n",
    "if api_source=='bn':\n",
    "    for index,item in df.iterrows():\n",
    "        current_price =(client.get_symbol_ticker(symbol=item[\"symbol_pair\"]))['price']\n",
    "        # current_price=random.randint(1, 30)\n",
    "        current_price_dict[item[\"symbol_key\"]]= round( float(current_price),4)\n",
    "        list_symbol.append(item[\"symbol_key\"])\n",
    "          \n",
    "        \n",
    "#auto_adjust = True\n",
    "elif api_source=='yahoo':\n",
    "    fund_symbols=df['symbol_x'].tolist()\n",
    "    fund_keys=df['symbol_key'].tolist()\n",
    "    \n",
    "    symbol_str=' '.join(fund_symbols )\n",
    "    print(symbol_str)\n",
    "    list_current_price = yf.download( tickers = symbol_str,threads = True,\n",
    "                                 group_by=True,period = \"1d\",prepost = True)\n",
    "    print(list_current_price)\n",
    "    list_fund= list(zip(fund_keys,fund_symbols))\n",
    "    for x in list_fund:\n",
    "        # print(type(list_current_price))\n",
    "        # if len(list_current_price)==1:\n",
    "        #  print(\"xyx\")   \n",
    "        #  current_price_dict[x[0]]=round( list_current_price['Close'][0],2) # new verion\n",
    "        # else:\n",
    "         # print(\"abc\")   \n",
    "        current_price_dict[x[0]]=round( list_current_price[x[1]]['Close'][0],2) # old verion 2022\n",
    "        list_symbol.append(x[0])\n",
    "\n",
    "print(current_price_dict )  \n"
   ]
  },
  {
   "cell_type": "code",
   "execution_count": 34,
   "id": "532f476b-45c4-42c7-a3dd-0f590748ef68",
   "metadata": {},
   "outputs": [],
   "source": [
    "def get_last_record():\n",
    "    conn = sqlite3.connect(os.path.abspath(data_base_file))\n",
    "\n",
    "    df_all_last_update=pd.DataFrame()\n",
    "\n",
    "    for item in list_symbol:\n",
    "        sql=f\"select * from notification_transaction where symbol_key='{item}' order by datetime desc limit 1\"\n",
    "        df_item=pd.read_sql_query(sql, conn)\n",
    "        df_all_last_update=pd.concat([df_all_last_update,df_item])\n",
    "        #print(df_item)\n",
    "    return df_all_last_update\n"
   ]
  },
  {
   "cell_type": "code",
   "execution_count": 35,
   "id": "ebc45ae4-1aea-429d-aabd-678dc0e5683d",
   "metadata": {},
   "outputs": [
    {
     "data": {
      "text/html": [
       "<div>\n",
       "<style scoped>\n",
       "    .dataframe tbody tr th:only-of-type {\n",
       "        vertical-align: middle;\n",
       "    }\n",
       "\n",
       "    .dataframe tbody tr th {\n",
       "        vertical-align: top;\n",
       "    }\n",
       "\n",
       "    .dataframe thead th {\n",
       "        text-align: right;\n",
       "    }\n",
       "</style>\n",
       "<table border=\"1\" class=\"dataframe\">\n",
       "  <thead>\n",
       "    <tr style=\"text-align: right;\">\n",
       "      <th></th>\n",
       "      <th>datetime</th>\n",
       "      <th>symbol_key</th>\n",
       "      <th>price</th>\n",
       "      <th>all_ranges</th>\n",
       "      <th>no_ranges</th>\n",
       "      <th>idx_pos</th>\n",
       "      <th>idx_pct</th>\n",
       "      <th>msg</th>\n",
       "      <th>prev_msg</th>\n",
       "      <th>prev_pct_chg</th>\n",
       "      <th>prev_price</th>\n",
       "    </tr>\n",
       "  </thead>\n",
       "  <tbody>\n",
       "    <tr>\n",
       "      <th>0</th>\n",
       "      <td>2023-07-12 00:38:44</td>\n",
       "      <td>s&amp;p500</td>\n",
       "      <td>440.87</td>\n",
       "      <td>400,420,335</td>\n",
       "      <td>4</td>\n",
       "      <td>4</td>\n",
       "      <td>100.0</td>\n",
       "      <td>s&amp;p500:440.87 &gt; 420.0</td>\n",
       "      <td>None</td>\n",
       "      <td>None</td>\n",
       "      <td>None</td>\n",
       "    </tr>\n",
       "    <tr>\n",
       "      <th>0</th>\n",
       "      <td>2023-07-12 00:38:44</td>\n",
       "      <td>nadaq</td>\n",
       "      <td>366.61</td>\n",
       "      <td>360,370,380</td>\n",
       "      <td>4</td>\n",
       "      <td>2</td>\n",
       "      <td>50.0</td>\n",
       "      <td>360.0 &lt;= (366.61) &gt;= 370.0</td>\n",
       "      <td>None</td>\n",
       "      <td>None</td>\n",
       "      <td>None</td>\n",
       "    </tr>\n",
       "  </tbody>\n",
       "</table>\n",
       "</div>"
      ],
      "text/plain": [
       "              datetime symbol_key   price   all_ranges  no_ranges  idx_pos  \\\n",
       "0  2023-07-12 00:38:44     s&p500  440.87  400,420,335          4        4   \n",
       "0  2023-07-12 00:38:44      nadaq  366.61  360,370,380          4        2   \n",
       "\n",
       "   idx_pct                         msg prev_msg prev_pct_chg prev_price  \n",
       "0    100.0       s&p500:440.87 > 420.0     None         None       None  \n",
       "0     50.0  360.0 <= (366.61) >= 370.0     None         None       None  "
      ]
     },
     "execution_count": 35,
     "metadata": {},
     "output_type": "execute_result"
    }
   ],
   "source": [
    "df_all_prev=get_last_record()\n",
    "df_all_prev"
   ]
  },
  {
   "cell_type": "code",
   "execution_count": 36,
   "id": "94fc7d56-e3a9-429f-bb51-fb1e0446760a",
   "metadata": {},
   "outputs": [
    {
     "name": "stdout",
     "output_type": "stream",
     "text": [
      "['s&p500', 'nadaq']\n"
     ]
    }
   ],
   "source": [
    "print(list_symbol)"
   ]
  },
  {
   "cell_type": "code",
   "execution_count": 37,
   "id": "a132cd48-b9b3-4a08-b3f2-65d96f677163",
   "metadata": {},
   "outputs": [
    {
     "name": "stdout",
     "output_type": "stream",
     "text": [
      "{'s&p500': ('4# s&p500:440.87 > 420.0', 440.87), 'nadaq': ('2# 360.0 <= (366.61) >= 370.0', 366.61)}\n"
     ]
    }
   ],
   "source": [
    "dict_prev_item={}\n",
    "for  symb in  list_symbol:\n",
    "    df_temp=df_all_prev.query(\"symbol_key==@symb\")\n",
    "    #print(df_temp)\n",
    "    str_prev_msg=None\n",
    "    prev_price=None\n",
    "    # print(df_temp)\n",
    "    if  df_temp.empty==False:\n",
    "      temp=df_temp.loc[0]\n",
    "      str_prev_msg=f\"{temp['idx_pos']}# {temp['msg']}\"\n",
    "      prev_price=  temp['price']\n",
    "\n",
    "    dict_prev_item[symb]=(str_prev_msg,prev_price)\n",
    "print(dict_prev_item)"
   ]
  },
  {
   "cell_type": "code",
   "execution_count": 38,
   "id": "d26c4751",
   "metadata": {},
   "outputs": [
    {
     "name": "stdout",
     "output_type": "stream",
     "text": [
      "s&p500 : 440.83\n",
      "[335.0, 400.0, 420.0]\n",
      "s&p500:440.83 > 420.0\n",
      "{'datetime': '2023-07-12 00:53:58', 'symbol_key': 's&p500', 'price': 440.83, 'all_ranges': '400,420,335', 'no_ranges': 4, 'msg': 's&p500:440.83 > 420.0', 'prev_msg': '4# s&p500:440.87 > 420.0', 'prev_price': 440.87, 'prev_pct_chg': -0.0, 'idx_pos': 4, 'idx_pct': 100.0}\n",
      "===========================================================\n",
      "nadaq : 366.58\n",
      "[360.0, 370.0, 380.0]\n",
      "360.0 <= (366.58) >= 370.0\n",
      "{'datetime': '2023-07-12 00:53:58', 'symbol_key': 'nadaq', 'price': 366.58, 'all_ranges': '360,370,380', 'no_ranges': 4, 'msg': '360.0 <= (366.58) >= 370.0', 'prev_msg': '2# 360.0 <= (366.61) >= 370.0', 'prev_price': 366.61, 'prev_pct_chg': -0.0, 'idx_pos': 2, 'idx_pct': 50.0}\n",
      "===========================================================\n"
     ]
    }
   ],
   "source": [
    "def find_range(item):\n",
    "   symbol_key=item['symbol_key'] \n",
    "\n",
    "   p=current_price_dict[symbol_key]\n",
    "   print(f'{symbol_key} : {p}') \n",
    "\n",
    "   priceList_str= item[\"price_range\"].strip().split(\",\")\n",
    "   priceList=[ float(x) for x in priceList_str]\n",
    "   list.sort(priceList) \n",
    "   print(priceList)\n",
    "     \n",
    "   log_info={}\n",
    "\n",
    "   log_info['datetime']=(x_now).strftime(\"%Y-%m-%d %H:%M:%S\")\n",
    "   log_info['symbol_key']=symbol_key   \n",
    "   log_info['price']=p\n",
    "   log_info['all_ranges']= item[\"price_range\"]\n",
    "   \n",
    "   range_length=len(priceList)\n",
    "   log_info['no_ranges']=range_length+1\n",
    "   \n",
    "   position=0;\n",
    "   for index in range(0,range_length):   \n",
    "     # print(\"iterate:\",index)\n",
    "     if (index==0) and (p<priceList[index]):\n",
    "            position= 1\n",
    "            log_info['msg']=f\"{symbol_key}:{p} < {priceList[index]}\"\n",
    "            \n",
    "     elif (index>0) and (index< range_length ) and ( p>=priceList[index-1] and p<=priceList[index] ):\n",
    "            position=  index+1\n",
    "            log_info['msg']= f\"{priceList[index-1]} <= ({p}) >= {priceList[index] }\"\n",
    "          \n",
    "     elif   (index==range_length-1) and (p>priceList[index])    :\n",
    "            position= range_length+1\n",
    "            log_info['msg']= f\"{symbol_key}:{p} > {priceList[index]}\"\n",
    "   \n",
    "   print( log_info['msg'])   \n",
    "    \n",
    "   # write prev log info         \n",
    "   if  symbol_key in dict_prev_item:\n",
    "\n",
    "        msg,prev_p=dict_prev_item[symbol_key]\n",
    "\n",
    "        if msg is not None and prev_p is not None :\n",
    "         log_info['prev_msg']=msg   \n",
    "         log_info['prev_price']= prev_p\n",
    "         log_info['prev_pct_chg']= round( (p-prev_p)/prev_p*100 ,1)\n",
    "        else:\n",
    "         log_info['prev_msg']=None   \n",
    "         log_info['prev_price']=None   \n",
    "         log_info['prev_pct_chg']=None\n",
    "         \n",
    "    \n",
    "   log_info['idx_pos']=position \n",
    "   log_info['idx_pct']= round( log_info['idx_pos']/log_info['no_ranges']*100,1)  \n",
    "                \n",
    "   # else:\n",
    "   #      raise Exception(\"There are someting wrong!!!!\")\n",
    "        \n",
    "   print(log_info)\n",
    "   print(\"===========================================================\")\n",
    "   return log_info \n",
    "   \n",
    "df['transaction']=df.apply(find_range,axis=1)  "
   ]
  },
  {
   "cell_type": "code",
   "execution_count": 39,
   "id": "b4f74e3d-4168-495c-9b70-0f25745fd1bd",
   "metadata": {},
   "outputs": [
    {
     "name": "stdout",
     "output_type": "stream",
     "text": [
      "  symbol_key symbol_x symbol_pair  price_range  is_active api_source  \\\n",
      "0     s&p500      SPY      SPYUSD  400,420,335          1      yahoo   \n",
      "1      nadaq      QQQ      QQQUSD  360,370,380          1      yahoo   \n",
      "\n",
      "                                         transaction  \n",
      "0  {'datetime': '2023-07-12 00:53:58', 'symbol_ke...  \n",
      "1  {'datetime': '2023-07-12 00:53:58', 'symbol_ke...  \n"
     ]
    }
   ],
   "source": [
    "print(df)"
   ]
  },
  {
   "cell_type": "code",
   "execution_count": 40,
   "id": "4baf31ba",
   "metadata": {},
   "outputs": [
    {
     "name": "stdout",
     "output_type": "stream",
     "text": [
      "<class 'pandas.core.frame.DataFrame'>\n",
      "RangeIndex: 2 entries, 0 to 1\n",
      "Data columns (total 11 columns):\n",
      " #   Column        Non-Null Count  Dtype  \n",
      "---  ------        --------------  -----  \n",
      " 0   datetime      2 non-null      object \n",
      " 1   symbol_key    2 non-null      object \n",
      " 2   price         2 non-null      float64\n",
      " 3   all_ranges    2 non-null      object \n",
      " 4   no_ranges     2 non-null      int64  \n",
      " 5   msg           2 non-null      object \n",
      " 6   prev_msg      2 non-null      object \n",
      " 7   prev_price    2 non-null      float64\n",
      " 8   prev_pct_chg  2 non-null      float64\n",
      " 9   idx_pos       2 non-null      int32  \n",
      " 10  idx_pct       2 non-null      float64\n",
      "dtypes: float64(4), int32(1), int64(1), object(5)\n",
      "memory usage: 296.0+ bytes\n",
      "None\n"
     ]
    },
    {
     "data": {
      "text/html": [
       "<div>\n",
       "<style scoped>\n",
       "    .dataframe tbody tr th:only-of-type {\n",
       "        vertical-align: middle;\n",
       "    }\n",
       "\n",
       "    .dataframe tbody tr th {\n",
       "        vertical-align: top;\n",
       "    }\n",
       "\n",
       "    .dataframe thead th {\n",
       "        text-align: right;\n",
       "    }\n",
       "</style>\n",
       "<table border=\"1\" class=\"dataframe\">\n",
       "  <thead>\n",
       "    <tr style=\"text-align: right;\">\n",
       "      <th></th>\n",
       "      <th>datetime</th>\n",
       "      <th>symbol_key</th>\n",
       "      <th>price</th>\n",
       "      <th>all_ranges</th>\n",
       "      <th>no_ranges</th>\n",
       "      <th>msg</th>\n",
       "      <th>prev_msg</th>\n",
       "      <th>prev_price</th>\n",
       "      <th>prev_pct_chg</th>\n",
       "      <th>idx_pos</th>\n",
       "      <th>idx_pct</th>\n",
       "    </tr>\n",
       "  </thead>\n",
       "  <tbody>\n",
       "    <tr>\n",
       "      <th>0</th>\n",
       "      <td>2023-07-12 00:53:58</td>\n",
       "      <td>s&amp;p500</td>\n",
       "      <td>440.83</td>\n",
       "      <td>400,420,335</td>\n",
       "      <td>4</td>\n",
       "      <td>s&amp;p500:440.83 &gt; 420.0</td>\n",
       "      <td>4# s&amp;p500:440.87 &gt; 420.0</td>\n",
       "      <td>440.87</td>\n",
       "      <td>-0.0</td>\n",
       "      <td>4</td>\n",
       "      <td>100.0</td>\n",
       "    </tr>\n",
       "    <tr>\n",
       "      <th>1</th>\n",
       "      <td>2023-07-12 00:53:58</td>\n",
       "      <td>nadaq</td>\n",
       "      <td>366.58</td>\n",
       "      <td>360,370,380</td>\n",
       "      <td>4</td>\n",
       "      <td>360.0 &lt;= (366.58) &gt;= 370.0</td>\n",
       "      <td>2# 360.0 &lt;= (366.61) &gt;= 370.0</td>\n",
       "      <td>366.61</td>\n",
       "      <td>-0.0</td>\n",
       "      <td>2</td>\n",
       "      <td>50.0</td>\n",
       "    </tr>\n",
       "  </tbody>\n",
       "</table>\n",
       "</div>"
      ],
      "text/plain": [
       "              datetime symbol_key   price   all_ranges  no_ranges  \\\n",
       "0  2023-07-12 00:53:58     s&p500  440.83  400,420,335          4   \n",
       "1  2023-07-12 00:53:58      nadaq  366.58  360,370,380          4   \n",
       "\n",
       "                          msg                       prev_msg  prev_price  \\\n",
       "0       s&p500:440.83 > 420.0       4# s&p500:440.87 > 420.0      440.87   \n",
       "1  360.0 <= (366.58) >= 370.0  2# 360.0 <= (366.61) >= 370.0      366.61   \n",
       "\n",
       "   prev_pct_chg  idx_pos  idx_pct  \n",
       "0          -0.0        4    100.0  \n",
       "1          -0.0        2     50.0  "
      ]
     },
     "execution_count": 40,
     "metadata": {},
     "output_type": "execute_result"
    }
   ],
   "source": [
    "list_trans=[]\n",
    "for index,item in df.iterrows():\n",
    "    list_trans.append(item['transaction'])\n",
    "df_tran=pd.DataFrame(list_trans)\n",
    "\n",
    "df_tran['idx_pos']=df_tran['idx_pos'].astype('int')\n",
    "\n",
    "\n",
    "print(df_tran.info())\n",
    "df_tran"
   ]
  },
  {
   "cell_type": "code",
   "execution_count": 42,
   "id": "1cd0eee0-878d-42e0-a27a-8c13fa0ab04e",
   "metadata": {},
   "outputs": [
    {
     "name": "stdout",
     "output_type": "stream",
     "text": [
      "Connected to SQLite\n",
      "Total 2 Add transaction successfully\n",
      "The SQLite connection is closed\n"
     ]
    }
   ],
   "source": [
    "def insertMultipleItems(recordList):\n",
    "    try:\n",
    "        sqliteConnection = sqlite3.connect(os.path.abspath(data_base_file))\n",
    "        cursor = sqliteConnection.cursor()\n",
    "        print(\"Connected to SQLite\")\n",
    "\n",
    "        sqlite_insert_query = \"\"\"\n",
    "        INSERT INTO notification_transaction\n",
    "        (datetime, symbol_key,price,all_ranges,no_ranges,\n",
    "         msg,prev_msg,prev_price,prev_pct_chg,idx_pos,idx_pct) \n",
    "         VALUES (?,?,?, ?, ?,?,?,?,?,?,?);\n",
    "         \"\"\"\n",
    "\n",
    "        cursor.executemany(sqlite_insert_query, recordList)\n",
    "        sqliteConnection.commit()\n",
    "        print(\"Total\", cursor.rowcount, \"Add transaction successfully\")\n",
    "        sqliteConnection.commit()\n",
    "        cursor.close()\n",
    "\n",
    "    except sqlite3.Error as error:\n",
    "        print(\"Failed to insert multiple records into product table\", error)\n",
    "    finally:\n",
    "        if sqliteConnection:\n",
    "            sqliteConnection.close()\n",
    "            print(\"The SQLite connection is closed\")\n",
    "\n",
    "\n",
    "recordsToInsert=list(df_tran.to_records(index=False))\n",
    "insertMultipleItems(recordsToInsert)"
   ]
  },
  {
   "cell_type": "code",
   "execution_count": 43,
   "id": "d81cb2f8-0497-48a1-9373-80eba1e8a966",
   "metadata": {},
   "outputs": [
    {
     "name": "stdout",
     "output_type": "stream",
     "text": [
      "<class 'pandas.core.frame.DataFrame'>\n",
      "Int64Index: 2 entries, 0 to 0\n",
      "Data columns (total 8 columns):\n",
      " #   Column        Non-Null Count  Dtype  \n",
      "---  ------        --------------  -----  \n",
      " 0   datetime      2 non-null      object \n",
      " 1   symbol_key    2 non-null      object \n",
      " 2   price         2 non-null      float64\n",
      " 3   prev_price    2 non-null      float64\n",
      " 4   prev_pct_chg  2 non-null      float64\n",
      " 5   msg           2 non-null      object \n",
      " 6   idx_pos       2 non-null      int64  \n",
      " 7   all_ranges    2 non-null      object \n",
      "dtypes: float64(3), int64(1), object(4)\n",
      "memory usage: 144.0+ bytes\n"
     ]
    },
    {
     "data": {
      "text/html": [
       "<div>\n",
       "<style scoped>\n",
       "    .dataframe tbody tr th:only-of-type {\n",
       "        vertical-align: middle;\n",
       "    }\n",
       "\n",
       "    .dataframe tbody tr th {\n",
       "        vertical-align: top;\n",
       "    }\n",
       "\n",
       "    .dataframe thead th {\n",
       "        text-align: right;\n",
       "    }\n",
       "</style>\n",
       "<table border=\"1\" class=\"dataframe\">\n",
       "  <thead>\n",
       "    <tr style=\"text-align: right;\">\n",
       "      <th></th>\n",
       "      <th>datetime</th>\n",
       "      <th>symbol_key</th>\n",
       "      <th>price</th>\n",
       "      <th>prev_price</th>\n",
       "      <th>prev_pct_chg</th>\n",
       "      <th>msg</th>\n",
       "      <th>idx_pos</th>\n",
       "      <th>all_ranges</th>\n",
       "    </tr>\n",
       "  </thead>\n",
       "  <tbody>\n",
       "    <tr>\n",
       "      <th>0</th>\n",
       "      <td>2023-07-12 00:53:58</td>\n",
       "      <td>s&amp;p500</td>\n",
       "      <td>440.83</td>\n",
       "      <td>440.87</td>\n",
       "      <td>0.0</td>\n",
       "      <td>s&amp;p500:440.83 &gt; 420.0</td>\n",
       "      <td>4</td>\n",
       "      <td>400,420,335</td>\n",
       "    </tr>\n",
       "    <tr>\n",
       "      <th>0</th>\n",
       "      <td>2023-07-12 00:53:58</td>\n",
       "      <td>nadaq</td>\n",
       "      <td>366.58</td>\n",
       "      <td>366.61</td>\n",
       "      <td>0.0</td>\n",
       "      <td>360.0 &lt;= (366.58) &gt;= 370.0</td>\n",
       "      <td>2</td>\n",
       "      <td>360,370,380</td>\n",
       "    </tr>\n",
       "  </tbody>\n",
       "</table>\n",
       "</div>"
      ],
      "text/plain": [
       "              datetime symbol_key   price  prev_price  prev_pct_chg  \\\n",
       "0  2023-07-12 00:53:58     s&p500  440.83      440.87           0.0   \n",
       "0  2023-07-12 00:53:58      nadaq  366.58      366.61           0.0   \n",
       "\n",
       "                          msg  idx_pos   all_ranges  \n",
       "0       s&p500:440.83 > 420.0        4  400,420,335  \n",
       "0  360.0 <= (366.58) >= 370.0        2  360,370,380  "
      ]
     },
     "execution_count": 43,
     "metadata": {},
     "output_type": "execute_result"
    }
   ],
   "source": [
    "df_all_last_update=get_last_record()\n",
    "\n",
    "#df_all_last_update=df_all_last_update[['datetime','symbol_key','price','prev_price','prev_pct_chg','msg','prev_msg','idx_pct','idx_pos','all_ranges']]\n",
    "df_all_last_update=df_all_last_update[['datetime','symbol_key','price','prev_price','prev_pct_chg','msg','idx_pos','all_ranges']]\n",
    "df_all_last_update.fillna(\"-\",inplace=True)\n",
    "df_all_last_update.info()\n",
    "df_all_last_update"
   ]
  },
  {
   "cell_type": "code",
   "execution_count": 44,
   "id": "e396f35e-cba8-46bf-9b2b-54c10f7f1b45",
   "metadata": {},
   "outputs": [],
   "source": [
    "#!/usr/local/bin/python3\n",
    "import requests\n",
    "url = 'https://notify-api.line.me/api/notify'\n",
    "token = line_token\n",
    "headers = {'content-type':'application/x-www-form-urlencoded','Authorization':'Bearer '+token}"
   ]
  },
  {
   "cell_type": "code",
   "execution_count": 45,
   "id": "5e00c1bf-6118-4e96-ba40-11c5c54d6f56",
   "metadata": {},
   "outputs": [
    {
     "name": "stdout",
     "output_type": "stream",
     "text": [
      "1\n",
      "336\n",
      "{\"status\":200,\"message\":\"ok\"}\n",
      "===========================================\n"
     ]
    }
   ],
   "source": [
    "no_split=math.ceil(len(df_all_last_update)/no_set)\n",
    "print(no_split)\n",
    "info_array = np.array_split(df_all_last_update,no_split)\n",
    "for info in info_array:\n",
    "    string_msg=info.to_string(index=False,header=True)\n",
    "    string_msg='\\n'+string_msg\n",
    "    print(len(string_msg))\n",
    "    r = requests.post(url, headers=headers, data = {'message':string_msg})\n",
    "    print (r.text)\n",
    "    print(\"===========================================\") "
   ]
  },
  {
   "cell_type": "code",
   "execution_count": null,
   "id": "3d3c9adf",
   "metadata": {},
   "outputs": [],
   "source": []
  },
  {
   "cell_type": "code",
   "execution_count": null,
   "id": "7265b5e8-70d6-4a94-ae59-34a956437412",
   "metadata": {},
   "outputs": [],
   "source": []
  },
  {
   "cell_type": "code",
   "execution_count": null,
   "id": "513e82c5-d6a4-4b90-a848-6ac985ed2f51",
   "metadata": {},
   "outputs": [],
   "source": []
  }
 ],
 "metadata": {
  "kernelspec": {
   "display_name": "Python 3 (ipykernel)",
   "language": "python",
   "name": "python3"
  },
  "language_info": {
   "codemirror_mode": {
    "name": "ipython",
    "version": 3
   },
   "file_extension": ".py",
   "mimetype": "text/x-python",
   "name": "python",
   "nbconvert_exporter": "python",
   "pygments_lexer": "ipython3",
   "version": "3.9.16"
  }
 },
 "nbformat": 4,
 "nbformat_minor": 5
}
