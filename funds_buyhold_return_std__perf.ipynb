{
 "cells": [
  {
   "cell_type": "code",
   "execution_count": 1,
   "id": "71719cb7-6fa2-4c50-920b-5698f807d1a9",
   "metadata": {
    "tags": []
   },
   "outputs": [],
   "source": [
    "import pandas as pd\n",
    "import datetime as datetime\n",
    "import os\n",
    "# ! pip install xlsxwriter --user\n",
    "from IPython.display import HTML\n",
    "\n",
    "def df_horizontal(dfs):\n",
    "    html = '<div style=\"display:flex\">'\n",
    "    for df in dfs:\n",
    "        html += '<div style=\"margin-right: 32px\">'\n",
    "        html += df.to_html()\n",
    "        html += '</div>'\n",
    "    html += '</div>'\n",
    "    display(HTML(html))\n",
    "    "
   ]
  },
  {
   "cell_type": "code",
   "execution_count": 3,
   "id": "0e939474-9b32-4a4b-8f8e-5ec1b619a2b4",
   "metadata": {
    "tags": []
   },
   "outputs": [],
   "source": [
    "data_path=r'D:\\PythonDev\\MyQuantFinProject\\Data'\n",
    "data_file='World_Sep-Nov-23.csv'\n",
    "isPy=False \n",
    "isPriceExcel=True"
   ]
  },
  {
   "cell_type": "markdown",
   "id": "83d296e7-5dd0-4425-b8ef-b63b76b08c7a",
   "metadata": {},
   "source": [
    "# Specify Period and Timefame to caculate fund performance and"
   ]
  },
  {
   "cell_type": "code",
   "execution_count": 4,
   "id": "b51e9c53-d823-4d0e-8037-ecc085d71df9",
   "metadata": {
    "tags": []
   },
   "outputs": [],
   "source": [
    "# If you want to see July-Oct, you have to have last trading day of June\n",
    "from_str='2022-08-01'  \n",
    "to_str='2023-11-30' \n",
    "timeframe='M'\n",
    "\n",
    "pct_return_col=f\"pct_change_{timeframe}\"\n",
    "std_col=\"std_of_pct_Daily\"\n",
    "# timeframe='W-FRI'"
   ]
  },
  {
   "cell_type": "markdown",
   "id": "67a2b2b8-86cf-4f54-99d8-8d5a69619019",
   "metadata": {},
   "source": [
    "# Input data"
   ]
  },
  {
   "cell_type": "code",
   "execution_count": 5,
   "id": "41fb0fd5-f97d-4e5e-a4cb-2c50f1628f54",
   "metadata": {
    "tags": []
   },
   "outputs": [],
   "source": [
    "if isPy:\n",
    "    print(f\"Data csv file in Path: {data_path}\")\n",
    "    data_file=input(\"CSV file name : \")\n",
    "\n",
    "    from_str=input(\"From_date(2020-10-01) : \") \n",
    "    to_str=input(\"To_date(2022-12-31): \") \n",
    "    timeframe=input(\"Timeframe(W-FRI,M,Q,Y): \") \n",
    "  \n",
    "    print(f\"Process data from {from_str} to {to_str} in {timeframe} timeframe\")\n",
    "    press_y=input(f\"Press y=True and n=False to run analaystics : \") \n",
    "    if press_y.lower()=='y':\n",
    "     ok=True\n",
    "    else:\n",
    "     exit()\n"
   ]
  },
  {
   "cell_type": "code",
   "execution_count": 6,
   "id": "5dca23f5-2106-4e69-85cb-e65bb26b6cca",
   "metadata": {
    "tags": []
   },
   "outputs": [
    {
     "name": "stdout",
     "output_type": "stream",
     "text": [
      "Process file D:\\PythonDev\\MyQuantFinProject\\Data\\World_Sep-Nov-23.csv\n",
      "D:\\PythonDev\\MyQuantFinProject\\Data\\World_Sep-Nov-23.csv\n"
     ]
    }
   ],
   "source": [
    "report_prefix_name=data_file.split('.')[0]\n",
    "data_file=os.path.join(data_path,data_file)\n",
    "if os.path.exists(data_file)==False:\n",
    "    raise Exception(f\"not found {data_file}\")\n",
    "else:\n",
    "    print(f\"Process file {data_file}\")\n",
    "print(data_file)"
   ]
  },
  {
   "cell_type": "markdown",
   "id": "412a9817-b8b9-4075-86cb-4a69949d6c06",
   "metadata": {},
   "source": [
    "# Read csv file and extract and transform data as need"
   ]
  },
  {
   "cell_type": "code",
   "execution_count": 7,
   "id": "dcd64589-b7c5-4d71-93f9-ceb6b8e6c6da",
   "metadata": {
    "tags": []
   },
   "outputs": [
    {
     "data": {
      "text/html": [
       "<div>\n",
       "<style scoped>\n",
       "    .dataframe tbody tr th:only-of-type {\n",
       "        vertical-align: middle;\n",
       "    }\n",
       "\n",
       "    .dataframe tbody tr th {\n",
       "        vertical-align: top;\n",
       "    }\n",
       "\n",
       "    .dataframe thead th {\n",
       "        text-align: right;\n",
       "    }\n",
       "</style>\n",
       "<table border=\"1\" class=\"dataframe\">\n",
       "  <thead>\n",
       "    <tr style=\"text-align: right;\">\n",
       "      <th></th>\n",
       "      <th>symbol</th>\n",
       "      <th>price</th>\n",
       "    </tr>\n",
       "    <tr>\n",
       "      <th>date</th>\n",
       "      <th></th>\n",
       "      <th></th>\n",
       "    </tr>\n",
       "  </thead>\n",
       "  <tbody>\n",
       "    <tr>\n",
       "      <th>2023-11-24</th>\n",
       "      <td>AAXJ</td>\n",
       "      <td>65.74</td>\n",
       "    </tr>\n",
       "    <tr>\n",
       "      <th>2023-11-24</th>\n",
       "      <td>ACWI</td>\n",
       "      <td>97.88</td>\n",
       "    </tr>\n",
       "    <tr>\n",
       "      <th>2023-11-27</th>\n",
       "      <td>QQQ</td>\n",
       "      <td>389.17</td>\n",
       "    </tr>\n",
       "    <tr>\n",
       "      <th>2023-11-27</th>\n",
       "      <td>SPY</td>\n",
       "      <td>454.48</td>\n",
       "    </tr>\n",
       "    <tr>\n",
       "      <th>2023-11-27</th>\n",
       "      <td>ACWI</td>\n",
       "      <td>97.62</td>\n",
       "    </tr>\n",
       "    <tr>\n",
       "      <th>2023-11-27</th>\n",
       "      <td>AAXJ</td>\n",
       "      <td>65.38</td>\n",
       "    </tr>\n",
       "    <tr>\n",
       "      <th>2023-11-28</th>\n",
       "      <td>ACWI</td>\n",
       "      <td>97.78</td>\n",
       "    </tr>\n",
       "    <tr>\n",
       "      <th>2023-11-28</th>\n",
       "      <td>AAXJ</td>\n",
       "      <td>65.84</td>\n",
       "    </tr>\n",
       "    <tr>\n",
       "      <th>2023-11-28</th>\n",
       "      <td>QQQ</td>\n",
       "      <td>390.19</td>\n",
       "    </tr>\n",
       "    <tr>\n",
       "      <th>2023-11-28</th>\n",
       "      <td>SPY</td>\n",
       "      <td>454.93</td>\n",
       "    </tr>\n",
       "  </tbody>\n",
       "</table>\n",
       "</div>"
      ],
      "text/plain": [
       "           symbol   price\n",
       "date                     \n",
       "2023-11-24   AAXJ   65.74\n",
       "2023-11-24   ACWI   97.88\n",
       "2023-11-27    QQQ  389.17\n",
       "2023-11-27    SPY  454.48\n",
       "2023-11-27   ACWI   97.62\n",
       "2023-11-27   AAXJ   65.38\n",
       "2023-11-28   ACWI   97.78\n",
       "2023-11-28   AAXJ   65.84\n",
       "2023-11-28    QQQ  390.19\n",
       "2023-11-28    SPY  454.93"
      ]
     },
     "execution_count": 7,
     "metadata": {},
     "output_type": "execute_result"
    }
   ],
   "source": [
    "df = pd.read_csv(data_file,index_col='Date/Time',parse_dates=['Date/Time'],dayfirst=True)\n",
    "df.index.set_names('date',inplace=True)\n",
    "df.sort_index(inplace=True)\n",
    "df=df.rename(columns={'Ticker':'symbol','close':'price'})\n",
    "df=df[['symbol','price']]\n",
    "\n",
    "#test 1\n",
    "# df=df.query(\"symbol not in ('BTC-USD')\")\n",
    "# print(df.info())\n",
    "\n",
    "df.tail(10)"
   ]
  },
  {
   "cell_type": "code",
   "execution_count": 8,
   "id": "7e42990f-e162-4575-9628-534508ed98be",
   "metadata": {
    "tags": []
   },
   "outputs": [
    {
     "name": "stdout",
     "output_type": "stream",
     "text": [
      "['AAXJ', 'QQQ', 'ACWI', 'SPY']\n"
     ]
    }
   ],
   "source": [
    "list_symbol=df['symbol'].unique().tolist() \n",
    "\n",
    "print(list_symbol)\n"
   ]
  },
  {
   "cell_type": "markdown",
   "id": "0cc04abe-e72a-4dfb-a735-928b94be49d3",
   "metadata": {},
   "source": [
    "# Basic"
   ]
  },
  {
   "cell_type": "markdown",
   "id": "3b87771b-7afc-4d03-bff4-b8dc283be9cd",
   "metadata": {},
   "source": [
    "# Resample data and calculate Percentage of change"
   ]
  },
  {
   "cell_type": "code",
   "execution_count": 9,
   "id": "a0855824-5628-471f-bc94-bcabdcd7fc5e",
   "metadata": {
    "tags": []
   },
   "outputs": [
    {
     "name": "stdout",
     "output_type": "stream",
     "text": [
      "Empty DataFrame\n",
      "Columns: [symbol, date, pct_change_M, std_of_pct_Daily]\n",
      "Index: []\n",
      "====================================AAXJ====================================\n",
      "  symbol       date  pct_change_M  std_of_pct_Daily\n",
      "0   AAXJ 2023-09-30         -3.17          0.880001\n",
      "1   AAXJ 2023-10-31         -3.29          0.976224\n",
      "2   AAXJ 2023-11-30          7.21          1.015098\n",
      "====================================QQQ====================================\n",
      "  symbol       date  pct_change_M  std_of_pct_Daily\n",
      "0    QQQ 2023-09-30         -5.22          0.889364\n",
      "1    QQQ 2023-10-31         -2.07          1.189801\n",
      "2    QQQ 2023-11-30         11.21          0.918072\n",
      "====================================ACWI====================================\n",
      "  symbol       date  pct_change_M  std_of_pct_Daily\n",
      "0   ACWI 2023-09-30         -4.28          0.658931\n",
      "1   ACWI 2023-10-31         -2.54          0.857609\n",
      "2   ACWI 2023-11-30          8.62          0.748724\n",
      "====================================SPY====================================\n",
      "  symbol       date  pct_change_M  std_of_pct_Daily\n",
      "0    SPY 2023-09-30         -5.08          0.716959\n",
      "1    SPY 2023-10-31         -2.17          0.880649\n",
      "2    SPY 2023-11-30          8.78          0.734806\n"
     ]
    },
    {
     "name": "stderr",
     "output_type": "stream",
     "text": [
      "C:\\Users\\pongthsa\\AppData\\Local\\Temp\\ipykernel_10256\\317653757.py:13: SettingWithCopyWarning: \n",
      "A value is trying to be set on a copy of a slice from a DataFrame.\n",
      "Try using .loc[row_indexer,col_indexer] = value instead\n",
      "\n",
      "See the caveats in the documentation: https://pandas.pydata.org/pandas-docs/stable/user_guide/indexing.html#returning-a-view-versus-a-copy\n",
      "  dfx_symbol['_pct_compare_prev_']=dfx_symbol['price'].pct_change()\n",
      "C:\\Users\\pongthsa\\AppData\\Local\\Temp\\ipykernel_10256\\317653757.py:13: SettingWithCopyWarning: \n",
      "A value is trying to be set on a copy of a slice from a DataFrame.\n",
      "Try using .loc[row_indexer,col_indexer] = value instead\n",
      "\n",
      "See the caveats in the documentation: https://pandas.pydata.org/pandas-docs/stable/user_guide/indexing.html#returning-a-view-versus-a-copy\n",
      "  dfx_symbol['_pct_compare_prev_']=dfx_symbol['price'].pct_change()\n",
      "C:\\Users\\pongthsa\\AppData\\Local\\Temp\\ipykernel_10256\\317653757.py:13: SettingWithCopyWarning: \n",
      "A value is trying to be set on a copy of a slice from a DataFrame.\n",
      "Try using .loc[row_indexer,col_indexer] = value instead\n",
      "\n",
      "See the caveats in the documentation: https://pandas.pydata.org/pandas-docs/stable/user_guide/indexing.html#returning-a-view-versus-a-copy\n",
      "  dfx_symbol['_pct_compare_prev_']=dfx_symbol['price'].pct_change()\n",
      "C:\\Users\\pongthsa\\AppData\\Local\\Temp\\ipykernel_10256\\317653757.py:13: SettingWithCopyWarning: \n",
      "A value is trying to be set on a copy of a slice from a DataFrame.\n",
      "Try using .loc[row_indexer,col_indexer] = value instead\n",
      "\n",
      "See the caveats in the documentation: https://pandas.pydata.org/pandas-docs/stable/user_guide/indexing.html#returning-a-view-versus-a-copy\n",
      "  dfx_symbol['_pct_compare_prev_']=dfx_symbol['price'].pct_change()\n"
     ]
    }
   ],
   "source": [
    "# colsROC=['symbol','date','pct_change','std_of_daily_pct','return_to_std']\n",
    "colsROC=['symbol','date',pct_return_col,std_col]\n",
    "df_Pct_Price=pd.DataFrame(columns=colsROC)\n",
    "print(df_Pct_Price)\n",
    "\n",
    "#https://pandas.pydata.org/docs/reference/api/pandas.core.resample.Resampler.aggregate.html\n",
    "#https://stackoverflow.com/questions/47938372/pandas-dataframe-resample-aggregate-function-use-multiple-columns-with-a-customi\n",
    "#https://www.alpharithms.com/aggregating-time-series-data-with-pandas-resampling-411212/\n",
    "# https://sparkbyexamples.com/pandas/pandas-aggregate-functions-with-examples/\n",
    "for symbol_name in list_symbol:\n",
    "    print(f\"===================================={symbol_name}====================================\")\n",
    "    dfx_symbol=df.query('symbol==@symbol_name')\n",
    "    dfx_symbol['_pct_compare_prev_']=dfx_symbol['price'].pct_change()\n",
    "    dfx_symbol=dfx_symbol.loc[from_str:to_str]\n",
    "    #print(dfx_symbol.tail())\n",
    "    \n",
    "    \n",
    "    dfx_px=dfx_symbol.resample(timeframe).agg({'price': 'last','_pct_compare_prev_':'std'}) \n",
    "    dfx_px=dfx_px.rename(columns={'_pct_compare_prev_':std_col})\n",
    "\n",
    "    dfx_px[pct_return_col]=dfx_px['price'].pct_change()\n",
    "    dfx_px[pct_return_col]=dfx_px[pct_return_col].round(4)\n",
    "\n",
    "    dfx_px=dfx_px.dropna() # the first  rown \n",
    "    dfx_px=dfx_px.drop(columns=['price']) # remove price becase we are focuse ROC of Price\n",
    "    \n",
    "    dfx_px[pct_return_col]=dfx_px[pct_return_col]*100\n",
    "    dfx_px[std_col]=dfx_px[std_col]*100\n",
    "    \n",
    "    # dfx_px[pct_return_col]=dfx_px[pct_return_col]/dfx_px[std_col]\n",
    "    \n",
    "    dfx_px=dfx_px.reset_index()\n",
    "    dfx_px['symbol']=symbol_name\n",
    "    dfx_px=dfx_px[colsROC]\n",
    "    \n",
    "#     print(f\"Calculate ROC of {symbol_name}\")\n",
    "    print(dfx_px)\n",
    "    \n",
    "    df_Pct_Price=pd.concat([df_Pct_Price,dfx_px],ignore_index=True,axis=0)"
   ]
  },
  {
   "cell_type": "code",
   "execution_count": 10,
   "id": "810c8e0f-4345-40bc-81b3-5074b8adf7ec",
   "metadata": {
    "tags": []
   },
   "outputs": [
    {
     "name": "stdout",
     "output_type": "stream",
     "text": [
      "===============List All================================\n",
      "   symbol       date  pct_change_M  std_of_pct_Daily\n",
      "0    AAXJ 2023-09-30         -3.17          0.880001\n",
      "1    AAXJ 2023-10-31         -3.29          0.976224\n",
      "2    AAXJ 2023-11-30          7.21          1.015098\n",
      "3     QQQ 2023-09-30         -5.22          0.889364\n",
      "4     QQQ 2023-10-31         -2.07          1.189801\n",
      "5     QQQ 2023-11-30         11.21          0.918072\n",
      "6    ACWI 2023-09-30         -4.28          0.658931\n",
      "7    ACWI 2023-10-31         -2.54          0.857609\n",
      "8    ACWI 2023-11-30          8.62          0.748724\n",
      "9     SPY 2023-09-30         -5.08          0.716959\n",
      "10    SPY 2023-10-31         -2.17          0.880649\n",
      "11    SPY 2023-11-30          8.78          0.734806\n"
     ]
    }
   ],
   "source": [
    "print(\"===============List All================================\")\n",
    "print(df_Pct_Price)"
   ]
  },
  {
   "cell_type": "code",
   "execution_count": null,
   "id": "40e96df5-1bc5-4a15-b1f9-a688af36415e",
   "metadata": {},
   "outputs": [],
   "source": []
  },
  {
   "cell_type": "markdown",
   "id": "86d7dd09-b073-4089-9992-c5e5c3de96fc",
   "metadata": {},
   "source": [
    "# Total Period : Summarize and Combinำ return and std"
   ]
  },
  {
   "cell_type": "code",
   "execution_count": 12,
   "id": "0a42719e-4712-4f59-bc25-142dee7f853b",
   "metadata": {
    "tags": []
   },
   "outputs": [
    {
     "name": "stdout",
     "output_type": "stream",
     "text": [
      "==================Sum-Return and Avg-Std based on M===========================\n",
      "Sum percentage of fund return\n",
      "==============================================================\n",
      "Average Std of fund \n"
     ]
    },
    {
     "data": {
      "text/html": [
       "<div>\n",
       "<style scoped>\n",
       "    .dataframe tbody tr th:only-of-type {\n",
       "        vertical-align: middle;\n",
       "    }\n",
       "\n",
       "    .dataframe tbody tr th {\n",
       "        vertical-align: top;\n",
       "    }\n",
       "\n",
       "    .dataframe thead th {\n",
       "        text-align: right;\n",
       "    }\n",
       "</style>\n",
       "<table border=\"1\" class=\"dataframe\">\n",
       "  <thead>\n",
       "    <tr style=\"text-align: right;\">\n",
       "      <th></th>\n",
       "      <th>pct_change_M</th>\n",
       "      <th>std_of_pct_Daily</th>\n",
       "    </tr>\n",
       "    <tr>\n",
       "      <th>symbol</th>\n",
       "      <th></th>\n",
       "      <th></th>\n",
       "    </tr>\n",
       "  </thead>\n",
       "  <tbody>\n",
       "    <tr>\n",
       "      <th>AAXJ</th>\n",
       "      <td>0.8</td>\n",
       "      <td>0.96</td>\n",
       "    </tr>\n",
       "    <tr>\n",
       "      <th>ACWI</th>\n",
       "      <td>1.8</td>\n",
       "      <td>0.76</td>\n",
       "    </tr>\n",
       "    <tr>\n",
       "      <th>QQQ</th>\n",
       "      <td>3.9</td>\n",
       "      <td>1.00</td>\n",
       "    </tr>\n",
       "    <tr>\n",
       "      <th>SPY</th>\n",
       "      <td>1.5</td>\n",
       "      <td>0.78</td>\n",
       "    </tr>\n",
       "  </tbody>\n",
       "</table>\n",
       "</div>"
      ],
      "text/plain": [
       "        pct_change_M  std_of_pct_Daily\n",
       "symbol                                \n",
       "AAXJ             0.8              0.96\n",
       "ACWI             1.8              0.76\n",
       "QQQ              3.9              1.00\n",
       "SPY              1.5              0.78"
      ]
     },
     "execution_count": 12,
     "metadata": {},
     "output_type": "execute_result"
    }
   ],
   "source": [
    "print(f\"==================Sum-Return and Avg-Std based on {timeframe}===========================\")\n",
    "print(\"Sum percentage of fund return\")\n",
    "dfSum_Pct_Price=df_Pct_Price.groupby(['symbol'])[[pct_return_col]].sum()\n",
    "dfSum_Pct_Price.reset_index(drop=False,inplace=True)\n",
    "dfSum_Pct_Price[pct_return_col]=dfSum_Pct_Price[pct_return_col].round(1)\n",
    "\n",
    "\n",
    "print(\"==============================================================\")\n",
    "print(\"Average Std of fund \")\n",
    "dfAvg_Std_Price=df_Pct_Price.groupby(['symbol'])[[std_col]].mean()\n",
    "dfAvg_Std_Price.reset_index(drop=False,inplace=True)\n",
    "dfAvg_Std_Price[std_col]=dfAvg_Std_Price[std_col].round(2)\n",
    "\n",
    "dfValueSummary=pd.merge(left=dfSum_Pct_Price,right=dfAvg_Std_Price,on='symbol')\n",
    "dfValueSummary.fillna(value=0,inplace=True)\n",
    "dfValueSummary.set_index('symbol',inplace=True)\n",
    "dfValueSummary"
   ]
  },
  {
   "cell_type": "markdown",
   "id": "1da8f6c0-3297-466b-a229-a5c3e9ed2e72",
   "metadata": {},
   "source": [
    "# Timeframe Period "
   ]
  },
  {
   "cell_type": "markdown",
   "id": "23404b4f-839d-468b-a554-f3d595c521a6",
   "metadata": {},
   "source": [
    "# Pivot Percent Return & Std and theire Rank To Dataframe"
   ]
  },
  {
   "cell_type": "code",
   "execution_count": 13,
   "id": "f1aa21e9-8d26-4ca2-becd-4dfaccdb0fa4",
   "metadata": {
    "tags": []
   },
   "outputs": [
    {
     "name": "stdout",
     "output_type": "stream",
     "text": [
      "==============================================================\n",
      "Pivot Percent Return and Rank M To Dataframe\n"
     ]
    }
   ],
   "source": [
    "print(\"==============================================================\")\n",
    "print(f\"Pivot Percent Return and Rank {timeframe} To Dataframe\")\n",
    "dfPct=df_Pct_Price.pivot(index='date', columns='symbol', values=pct_return_col)\n",
    "dfRank=dfPct[dfPct.columns.tolist()].rank(axis=1)\n",
    "# print(dfPct.info())"
   ]
  },
  {
   "cell_type": "code",
   "execution_count": 14,
   "id": "53ce03df-744a-483d-a327-7081b1c09463",
   "metadata": {
    "tags": []
   },
   "outputs": [
    {
     "name": "stdout",
     "output_type": "stream",
     "text": [
      "==============================================================\n",
      "Pivot Daily STD and Rank in M and Rank To Dataframe\n"
     ]
    }
   ],
   "source": [
    "print(\"==============================================================\")\n",
    "print(f\"Pivot Daily STD and Rank in {timeframe} and Rank To Dataframe\")\n",
    "dfStd=df_Pct_Price.pivot(index='date', columns='symbol', values=std_col)\n",
    "dfRankStd=dfStd[dfStd.columns.tolist()].rank(axis=1,ascending=False)\n"
   ]
  },
  {
   "cell_type": "code",
   "execution_count": 15,
   "id": "5e8dc806-eebe-45f1-a06c-9674d4e0b6a3",
   "metadata": {
    "tags": []
   },
   "outputs": [
    {
     "data": {
      "text/html": [
       "<div style=\"display:flex\"><div style=\"margin-right: 32px\"><table border=\"1\" class=\"dataframe\">\n",
       "  <thead>\n",
       "    <tr style=\"text-align: right;\">\n",
       "      <th>symbol</th>\n",
       "      <th>AAXJ</th>\n",
       "      <th>ACWI</th>\n",
       "      <th>QQQ</th>\n",
       "      <th>SPY</th>\n",
       "    </tr>\n",
       "    <tr>\n",
       "      <th>date</th>\n",
       "      <th></th>\n",
       "      <th></th>\n",
       "      <th></th>\n",
       "      <th></th>\n",
       "    </tr>\n",
       "  </thead>\n",
       "  <tbody>\n",
       "    <tr>\n",
       "      <th>2023-09-30</th>\n",
       "      <td>4.0</td>\n",
       "      <td>3.0</td>\n",
       "      <td>1.0</td>\n",
       "      <td>2.0</td>\n",
       "    </tr>\n",
       "    <tr>\n",
       "      <th>2023-10-31</th>\n",
       "      <td>1.0</td>\n",
       "      <td>2.0</td>\n",
       "      <td>4.0</td>\n",
       "      <td>3.0</td>\n",
       "    </tr>\n",
       "    <tr>\n",
       "      <th>2023-11-30</th>\n",
       "      <td>1.0</td>\n",
       "      <td>2.0</td>\n",
       "      <td>4.0</td>\n",
       "      <td>3.0</td>\n",
       "    </tr>\n",
       "  </tbody>\n",
       "</table></div><div style=\"margin-right: 32px\"><table border=\"1\" class=\"dataframe\">\n",
       "  <thead>\n",
       "    <tr style=\"text-align: right;\">\n",
       "      <th>symbol</th>\n",
       "      <th>AAXJ</th>\n",
       "      <th>ACWI</th>\n",
       "      <th>QQQ</th>\n",
       "      <th>SPY</th>\n",
       "    </tr>\n",
       "    <tr>\n",
       "      <th>date</th>\n",
       "      <th></th>\n",
       "      <th></th>\n",
       "      <th></th>\n",
       "      <th></th>\n",
       "    </tr>\n",
       "  </thead>\n",
       "  <tbody>\n",
       "    <tr>\n",
       "      <th>2023-09-30</th>\n",
       "      <td>-3.17</td>\n",
       "      <td>-4.28</td>\n",
       "      <td>-5.22</td>\n",
       "      <td>-5.08</td>\n",
       "    </tr>\n",
       "    <tr>\n",
       "      <th>2023-10-31</th>\n",
       "      <td>-3.29</td>\n",
       "      <td>-2.54</td>\n",
       "      <td>-2.07</td>\n",
       "      <td>-2.17</td>\n",
       "    </tr>\n",
       "    <tr>\n",
       "      <th>2023-11-30</th>\n",
       "      <td>7.21</td>\n",
       "      <td>8.62</td>\n",
       "      <td>11.21</td>\n",
       "      <td>8.78</td>\n",
       "    </tr>\n",
       "  </tbody>\n",
       "</table></div></div>"
      ],
      "text/plain": [
       "<IPython.core.display.HTML object>"
      ]
     },
     "metadata": {},
     "output_type": "display_data"
    },
    {
     "data": {
      "text/html": [
       "<div style=\"display:flex\"><div style=\"margin-right: 32px\"><table border=\"1\" class=\"dataframe\">\n",
       "  <thead>\n",
       "    <tr style=\"text-align: right;\">\n",
       "      <th>symbol</th>\n",
       "      <th>AAXJ</th>\n",
       "      <th>ACWI</th>\n",
       "      <th>QQQ</th>\n",
       "      <th>SPY</th>\n",
       "    </tr>\n",
       "    <tr>\n",
       "      <th>date</th>\n",
       "      <th></th>\n",
       "      <th></th>\n",
       "      <th></th>\n",
       "      <th></th>\n",
       "    </tr>\n",
       "  </thead>\n",
       "  <tbody>\n",
       "    <tr>\n",
       "      <th>2023-09-30</th>\n",
       "      <td>2.0</td>\n",
       "      <td>4.0</td>\n",
       "      <td>1.0</td>\n",
       "      <td>3.0</td>\n",
       "    </tr>\n",
       "    <tr>\n",
       "      <th>2023-10-31</th>\n",
       "      <td>2.0</td>\n",
       "      <td>4.0</td>\n",
       "      <td>1.0</td>\n",
       "      <td>3.0</td>\n",
       "    </tr>\n",
       "    <tr>\n",
       "      <th>2023-11-30</th>\n",
       "      <td>1.0</td>\n",
       "      <td>3.0</td>\n",
       "      <td>2.0</td>\n",
       "      <td>4.0</td>\n",
       "    </tr>\n",
       "  </tbody>\n",
       "</table></div><div style=\"margin-right: 32px\"><table border=\"1\" class=\"dataframe\">\n",
       "  <thead>\n",
       "    <tr style=\"text-align: right;\">\n",
       "      <th>symbol</th>\n",
       "      <th>AAXJ</th>\n",
       "      <th>ACWI</th>\n",
       "      <th>QQQ</th>\n",
       "      <th>SPY</th>\n",
       "    </tr>\n",
       "    <tr>\n",
       "      <th>date</th>\n",
       "      <th></th>\n",
       "      <th></th>\n",
       "      <th></th>\n",
       "      <th></th>\n",
       "    </tr>\n",
       "  </thead>\n",
       "  <tbody>\n",
       "    <tr>\n",
       "      <th>2023-09-30</th>\n",
       "      <td>0.880001</td>\n",
       "      <td>0.658931</td>\n",
       "      <td>0.889364</td>\n",
       "      <td>0.716959</td>\n",
       "    </tr>\n",
       "    <tr>\n",
       "      <th>2023-10-31</th>\n",
       "      <td>0.976224</td>\n",
       "      <td>0.857609</td>\n",
       "      <td>1.189801</td>\n",
       "      <td>0.880649</td>\n",
       "    </tr>\n",
       "    <tr>\n",
       "      <th>2023-11-30</th>\n",
       "      <td>1.015098</td>\n",
       "      <td>0.748724</td>\n",
       "      <td>0.918072</td>\n",
       "      <td>0.734806</td>\n",
       "    </tr>\n",
       "  </tbody>\n",
       "</table></div></div>"
      ],
      "text/plain": [
       "<IPython.core.display.HTML object>"
      ]
     },
     "metadata": {},
     "output_type": "display_data"
    }
   ],
   "source": [
    "df_horizontal([dfRank,dfPct])\n",
    "df_horizontal([dfRankStd,dfStd])"
   ]
  },
  {
   "cell_type": "markdown",
   "id": "867a96dc-668e-4a86-85ca-bf29c6cf81fb",
   "metadata": {
    "tags": []
   },
   "source": [
    "# Combine Return and Std Rank as Score"
   ]
  },
  {
   "cell_type": "code",
   "execution_count": 16,
   "id": "459ec0a8-785f-4b93-9eec-e1a4a53b6703",
   "metadata": {
    "tags": []
   },
   "outputs": [
    {
     "name": "stdout",
     "output_type": "stream",
     "text": [
      "==============================================================\n",
      "Combine Both Pct Return and Rank\n",
      "Return :higher total score , greater performance\n",
      "Std : higher total score , worse perfromance\n"
     ]
    },
    {
     "data": {
      "text/html": [
       "<div>\n",
       "<style scoped>\n",
       "    .dataframe tbody tr th:only-of-type {\n",
       "        vertical-align: middle;\n",
       "    }\n",
       "\n",
       "    .dataframe tbody tr th {\n",
       "        vertical-align: top;\n",
       "    }\n",
       "\n",
       "    .dataframe thead th {\n",
       "        text-align: right;\n",
       "    }\n",
       "</style>\n",
       "<table border=\"1\" class=\"dataframe\">\n",
       "  <thead>\n",
       "    <tr style=\"text-align: right;\">\n",
       "      <th></th>\n",
       "      <th>sum_return_rank</th>\n",
       "      <th>sum_std_rank</th>\n",
       "    </tr>\n",
       "    <tr>\n",
       "      <th>symbol</th>\n",
       "      <th></th>\n",
       "      <th></th>\n",
       "    </tr>\n",
       "  </thead>\n",
       "  <tbody>\n",
       "    <tr>\n",
       "      <th>AAXJ</th>\n",
       "      <td>6.0</td>\n",
       "      <td>5.0</td>\n",
       "    </tr>\n",
       "    <tr>\n",
       "      <th>ACWI</th>\n",
       "      <td>7.0</td>\n",
       "      <td>11.0</td>\n",
       "    </tr>\n",
       "    <tr>\n",
       "      <th>QQQ</th>\n",
       "      <td>9.0</td>\n",
       "      <td>4.0</td>\n",
       "    </tr>\n",
       "    <tr>\n",
       "      <th>SPY</th>\n",
       "      <td>8.0</td>\n",
       "      <td>10.0</td>\n",
       "    </tr>\n",
       "  </tbody>\n",
       "</table>\n",
       "</div>"
      ],
      "text/plain": [
       "        sum_return_rank  sum_std_rank\n",
       "symbol                               \n",
       "AAXJ                6.0           5.0\n",
       "ACWI                7.0          11.0\n",
       "QQQ                 9.0           4.0\n",
       "SPY                 8.0          10.0"
      ]
     },
     "execution_count": 16,
     "metadata": {},
     "output_type": "execute_result"
    }
   ],
   "source": [
    "print(\"==============================================================\")\n",
    "print(\"Combine Both Pct Return and Rank\")\n",
    "print(\"Return :higher total score , greater performance\")\n",
    "print(\"Std : higher total score , worse perfromance\")\n",
    "dfRankSummary=pd.concat([\n",
    "                     dfRank.sum().to_frame(name='sum_return_rank'),\n",
    "                     dfRankStd.sum().to_frame(name='sum_std_rank'),  \n",
    "                    ],axis=1)\n",
    "dfRankSummary.fillna(value=0,inplace=True)\n",
    "dfRankSummary"
   ]
  },
  {
   "cell_type": "markdown",
   "id": "164a55f4-f00b-45ef-940f-a204ef89288d",
   "metadata": {},
   "source": [
    "# Convert value score   and rank score to final rank"
   ]
  },
  {
   "cell_type": "code",
   "execution_count": 17,
   "id": "e54b85af-15cd-44cc-88c4-0dc0db8d63ed",
   "metadata": {
    "tags": []
   },
   "outputs": [],
   "source": [
    "dfValueSummary['value_return_rank']=dfValueSummary[pct_return_col].rank()\n",
    "dfValueSummary['value_std_rank']=dfValueSummary[std_col].rank(ascending=False)"
   ]
  },
  {
   "cell_type": "code",
   "execution_count": 18,
   "id": "c63ff90b-5dd5-4cf0-82bf-56fe0422b1c2",
   "metadata": {
    "tags": []
   },
   "outputs": [],
   "source": [
    "# real score\n",
    "dfRankSummary['return_rank']=dfRankSummary['sum_return_rank'].rank()\n",
    "dfRankSummary['std_rank']=dfRankSummary['sum_std_rank'].rank()\n",
    "\n"
   ]
  },
  {
   "cell_type": "code",
   "execution_count": 19,
   "id": "043401eb-4b1d-4c47-96ec-562730a6af28",
   "metadata": {
    "tags": []
   },
   "outputs": [
    {
     "data": {
      "text/html": [
       "<div style=\"display:flex\"><div style=\"margin-right: 32px\"><table border=\"1\" class=\"dataframe\">\n",
       "  <thead>\n",
       "    <tr style=\"text-align: right;\">\n",
       "      <th></th>\n",
       "      <th>pct_change_M</th>\n",
       "      <th>std_of_pct_Daily</th>\n",
       "      <th>value_return_rank</th>\n",
       "      <th>value_std_rank</th>\n",
       "    </tr>\n",
       "    <tr>\n",
       "      <th>symbol</th>\n",
       "      <th></th>\n",
       "      <th></th>\n",
       "      <th></th>\n",
       "      <th></th>\n",
       "    </tr>\n",
       "  </thead>\n",
       "  <tbody>\n",
       "    <tr>\n",
       "      <th>AAXJ</th>\n",
       "      <td>0.8</td>\n",
       "      <td>0.96</td>\n",
       "      <td>1.0</td>\n",
       "      <td>2.0</td>\n",
       "    </tr>\n",
       "    <tr>\n",
       "      <th>ACWI</th>\n",
       "      <td>1.8</td>\n",
       "      <td>0.76</td>\n",
       "      <td>3.0</td>\n",
       "      <td>4.0</td>\n",
       "    </tr>\n",
       "    <tr>\n",
       "      <th>QQQ</th>\n",
       "      <td>3.9</td>\n",
       "      <td>1.00</td>\n",
       "      <td>4.0</td>\n",
       "      <td>1.0</td>\n",
       "    </tr>\n",
       "    <tr>\n",
       "      <th>SPY</th>\n",
       "      <td>1.5</td>\n",
       "      <td>0.78</td>\n",
       "      <td>2.0</td>\n",
       "      <td>3.0</td>\n",
       "    </tr>\n",
       "  </tbody>\n",
       "</table></div><div style=\"margin-right: 32px\"><table border=\"1\" class=\"dataframe\">\n",
       "  <thead>\n",
       "    <tr style=\"text-align: right;\">\n",
       "      <th></th>\n",
       "      <th>sum_return_rank</th>\n",
       "      <th>sum_std_rank</th>\n",
       "      <th>return_rank</th>\n",
       "      <th>std_rank</th>\n",
       "    </tr>\n",
       "    <tr>\n",
       "      <th>symbol</th>\n",
       "      <th></th>\n",
       "      <th></th>\n",
       "      <th></th>\n",
       "      <th></th>\n",
       "    </tr>\n",
       "  </thead>\n",
       "  <tbody>\n",
       "    <tr>\n",
       "      <th>AAXJ</th>\n",
       "      <td>6.0</td>\n",
       "      <td>5.0</td>\n",
       "      <td>1.0</td>\n",
       "      <td>2.0</td>\n",
       "    </tr>\n",
       "    <tr>\n",
       "      <th>ACWI</th>\n",
       "      <td>7.0</td>\n",
       "      <td>11.0</td>\n",
       "      <td>2.0</td>\n",
       "      <td>4.0</td>\n",
       "    </tr>\n",
       "    <tr>\n",
       "      <th>QQQ</th>\n",
       "      <td>9.0</td>\n",
       "      <td>4.0</td>\n",
       "      <td>4.0</td>\n",
       "      <td>1.0</td>\n",
       "    </tr>\n",
       "    <tr>\n",
       "      <th>SPY</th>\n",
       "      <td>8.0</td>\n",
       "      <td>10.0</td>\n",
       "      <td>3.0</td>\n",
       "      <td>3.0</td>\n",
       "    </tr>\n",
       "  </tbody>\n",
       "</table></div></div>"
      ],
      "text/plain": [
       "<IPython.core.display.HTML object>"
      ]
     },
     "metadata": {},
     "output_type": "display_data"
    }
   ],
   "source": [
    "df_horizontal([dfValueSummary, dfRankSummary])"
   ]
  },
  {
   "cell_type": "markdown",
   "id": "ac303ef7-7bc0-40da-833e-c3b3b8e3de5c",
   "metadata": {},
   "source": [
    "# Summarize Total Score "
   ]
  },
  {
   "cell_type": "code",
   "execution_count": 23,
   "id": "d9c37039-6153-4056-b566-6937830fb321",
   "metadata": {
    "tags": []
   },
   "outputs": [
    {
     "data": {
      "text/html": [
       "<div>\n",
       "<style scoped>\n",
       "    .dataframe tbody tr th:only-of-type {\n",
       "        vertical-align: middle;\n",
       "    }\n",
       "\n",
       "    .dataframe tbody tr th {\n",
       "        vertical-align: top;\n",
       "    }\n",
       "\n",
       "    .dataframe thead th {\n",
       "        text-align: right;\n",
       "    }\n",
       "</style>\n",
       "<table border=\"1\" class=\"dataframe\">\n",
       "  <thead>\n",
       "    <tr style=\"text-align: right;\">\n",
       "      <th></th>\n",
       "      <th>TotalScore</th>\n",
       "      <th>value_return_rank</th>\n",
       "      <th>value_std_rank</th>\n",
       "      <th>return_rank</th>\n",
       "      <th>std_rank</th>\n",
       "    </tr>\n",
       "    <tr>\n",
       "      <th>symbol</th>\n",
       "      <th></th>\n",
       "      <th></th>\n",
       "      <th></th>\n",
       "      <th></th>\n",
       "      <th></th>\n",
       "    </tr>\n",
       "  </thead>\n",
       "  <tbody>\n",
       "    <tr>\n",
       "      <th>ACWI</th>\n",
       "      <td>13.0</td>\n",
       "      <td>3.0</td>\n",
       "      <td>4.0</td>\n",
       "      <td>2.0</td>\n",
       "      <td>4.0</td>\n",
       "    </tr>\n",
       "    <tr>\n",
       "      <th>SPY</th>\n",
       "      <td>11.0</td>\n",
       "      <td>2.0</td>\n",
       "      <td>3.0</td>\n",
       "      <td>3.0</td>\n",
       "      <td>3.0</td>\n",
       "    </tr>\n",
       "    <tr>\n",
       "      <th>QQQ</th>\n",
       "      <td>10.0</td>\n",
       "      <td>4.0</td>\n",
       "      <td>1.0</td>\n",
       "      <td>4.0</td>\n",
       "      <td>1.0</td>\n",
       "    </tr>\n",
       "    <tr>\n",
       "      <th>AAXJ</th>\n",
       "      <td>6.0</td>\n",
       "      <td>1.0</td>\n",
       "      <td>2.0</td>\n",
       "      <td>1.0</td>\n",
       "      <td>2.0</td>\n",
       "    </tr>\n",
       "  </tbody>\n",
       "</table>\n",
       "</div>"
      ],
      "text/plain": [
       "        TotalScore  value_return_rank  value_std_rank  return_rank  std_rank\n",
       "symbol                                                                      \n",
       "ACWI          13.0                3.0             4.0          2.0       4.0\n",
       "SPY           11.0                2.0             3.0          3.0       3.0\n",
       "QQQ           10.0                4.0             1.0          4.0       1.0\n",
       "AAXJ           6.0                1.0             2.0          1.0       2.0"
      ]
     },
     "execution_count": 23,
     "metadata": {},
     "output_type": "execute_result"
    }
   ],
   "source": [
    "dfFinalScore= pd.concat([ dfValueSummary[['value_return_rank','value_std_rank']],dfRankSummary[['return_rank','std_rank']]],axis=1)\n",
    "dfFinalScore['TotalScore']=dfFinalScore.sum(axis=1)\n",
    "dfFinalScore=dfFinalScore.sort_values(by='TotalScore',ascending=False)\n",
    "\n",
    "# dfFinalScore['pctChangeScore']=dfFinalScore['TotalScore'].pct_change()*100\n",
    "# dfFinalScore['pctChangeScore']=dfFinalScore['pctChangeScore'].round(0)\n",
    "# dfFinalScore.fillna(value=0,inplace=True)\n",
    "\n",
    "# dfFinalScore=dfFinalScore[['TotalScore','pctChangeScore','value_return_rank','value_std_rank','return_rank','std_rank']]\n",
    "dfFinalScore=dfFinalScore[['TotalScore','value_return_rank','value_std_rank','return_rank','std_rank']]\n",
    "dfFinalScore"
   ]
  },
  {
   "cell_type": "code",
   "execution_count": 24,
   "id": "94b64c56-3979-421a-8f46-97bb9da9eebe",
   "metadata": {
    "tags": []
   },
   "outputs": [
    {
     "name": "stdout",
     "output_type": "stream",
     "text": [
      "Export outcoome as Excel\n"
     ]
    }
   ],
   "source": [
    "if isPriceExcel:\n",
    "    print(\"Export outcoome as Excel\")\n",
    "    with pd.ExcelWriter(f\"{report_prefix_name}_{timeframe}_{from_str}To{to_str}.xlsx\") as writer:\n",
    "        df_Pct_Price.to_excel(writer, sheet_name=f\"{timeframe}\")\n",
    "        \n",
    "        dfPct.to_excel(writer, sheet_name=f\"{timeframe}-Return\")\n",
    "        dfRankStd.to_excel(writer, sheet_name=f\"{timeframe}-RankStd\")\n",
    "        \n",
    "        dfStd.to_excel(writer, sheet_name=f\"{timeframe}-Std\")\n",
    "        dfRank.to_excel(writer, sheet_name=f\"{timeframe}-RankReturn\")\n",
    "        \n",
    "        \n",
    "        dfValueSummary.to_excel(writer, sheet_name=\"Value-Summary\")\n",
    "        dfRankSummary.to_excel(writer, sheet_name=\"Rank-Summary\")\n",
    "\n",
    "        dfFinalScore.to_excel(writer, sheet_name=\"FinalScore\")"
   ]
  },
  {
   "cell_type": "code",
   "execution_count": null,
   "id": "f7315e89-464a-4c7b-87bf-acad9315b14d",
   "metadata": {},
   "outputs": [],
   "source": []
  },
  {
   "cell_type": "code",
   "execution_count": null,
   "id": "25630d4e-a0b2-4411-88bd-ba171440429d",
   "metadata": {},
   "outputs": [],
   "source": []
  }
 ],
 "metadata": {
  "kernelspec": {
   "display_name": "Python 3 (ipykernel)",
   "language": "python",
   "name": "python3"
  },
  "language_info": {
   "codemirror_mode": {
    "name": "ipython",
    "version": 3
   },
   "file_extension": ".py",
   "mimetype": "text/x-python",
   "name": "python",
   "nbconvert_exporter": "python",
   "pygments_lexer": "ipython3",
   "version": "3.9.12"
  }
 },
 "nbformat": 4,
 "nbformat_minor": 5
}
