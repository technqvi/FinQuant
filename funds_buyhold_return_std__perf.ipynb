{
 "cells": [
  {
   "cell_type": "code",
   "execution_count": 30,
   "id": "71719cb7-6fa2-4c50-920b-5698f807d1a9",
   "metadata": {
    "tags": []
   },
   "outputs": [],
   "source": [
    "import pandas as pd\n",
    "import datetime as datetime\n",
    "import os\n",
    "# ! pip install xlsxwriter --user\n",
    "from IPython.display import HTML\n",
    "\n",
    "def df_horizontal(dfs):\n",
    "    html = '<div style=\"display:flex\">'\n",
    "    for df in dfs:\n",
    "        html += '<div style=\"margin-right: 32px\">'\n",
    "        html += df.to_html()\n",
    "        html += '</div>'\n",
    "    html += '</div>'\n",
    "    display(HTML(html))\n",
    "    "
   ]
  },
  {
   "cell_type": "code",
   "execution_count": 31,
   "id": "0e939474-9b32-4a4b-8f8e-5ec1b619a2b4",
   "metadata": {
    "tags": []
   },
   "outputs": [],
   "source": [
    "data_path=r'D:\\PythonDev\\MyQuantFinProject\\Data'\n",
    "data_file='World-Focus-1Q24.csv'\n",
    "isPy=False \n",
    "isPriceExcel=True"
   ]
  },
  {
   "cell_type": "markdown",
   "id": "83d296e7-5dd0-4425-b8ef-b63b76b08c7a",
   "metadata": {},
   "source": [
    "# Specify Period and Timefame to caculate fund performance and"
   ]
  },
  {
   "cell_type": "code",
   "execution_count": 32,
   "id": "b51e9c53-d823-4d0e-8037-ecc085d71df9",
   "metadata": {
    "tags": []
   },
   "outputs": [],
   "source": [
    "# If you want to see July-Oct, you have to have last trading day of June\n",
    "from_str='2023-12-01'  \n",
    "to_str='2024-03-31' \n",
    "timeframe='M'\n",
    "\n",
    "pct_return_col=f\"pct_change_{timeframe}\"\n",
    "std_col=\"std_of_pct_Daily\"\n",
    "# timeframe='W-FRI'"
   ]
  },
  {
   "cell_type": "markdown",
   "id": "67a2b2b8-86cf-4f54-99d8-8d5a69619019",
   "metadata": {},
   "source": [
    "# Input data"
   ]
  },
  {
   "cell_type": "code",
   "execution_count": 33,
   "id": "41fb0fd5-f97d-4e5e-a4cb-2c50f1628f54",
   "metadata": {
    "tags": []
   },
   "outputs": [],
   "source": [
    "if isPy:\n",
    "    print(f\"Data csv file in Path: {data_path}\")\n",
    "    data_file=input(\"CSV file name : \")\n",
    "\n",
    "    from_str=input(\"From_date(2020-10-01) : \") \n",
    "    to_str=input(\"To_date(2022-12-31): \") \n",
    "    timeframe=input(\"Timeframe(W-FRI,M,Q,Y): \") \n",
    "  \n",
    "    print(f\"Process data from {from_str} to {to_str} in {timeframe} timeframe\")\n",
    "    press_y=input(f\"Press y=True and n=False to run analaystics : \") \n",
    "    if press_y.lower()=='y':\n",
    "     ok=True\n",
    "    else:\n",
    "     exit()\n"
   ]
  },
  {
   "cell_type": "code",
   "execution_count": 34,
   "id": "5dca23f5-2106-4e69-85cb-e65bb26b6cca",
   "metadata": {
    "tags": []
   },
   "outputs": [
    {
     "name": "stdout",
     "output_type": "stream",
     "text": [
      "Process file D:\\PythonDev\\MyQuantFinProject\\Data\\World-Focus-1Q24.csv\n",
      "D:\\PythonDev\\MyQuantFinProject\\Data\\World-Focus-1Q24.csv\n"
     ]
    }
   ],
   "source": [
    "report_prefix_name=data_file.split('.')[0]\n",
    "data_file=os.path.join(data_path,data_file)\n",
    "if os.path.exists(data_file)==False:\n",
    "    raise Exception(f\"not found {data_file}\")\n",
    "else:\n",
    "    print(f\"Process file {data_file}\")\n",
    "print(data_file)"
   ]
  },
  {
   "cell_type": "markdown",
   "id": "412a9817-b8b9-4075-86cb-4a69949d6c06",
   "metadata": {},
   "source": [
    "# Read csv file and extract and transform data as need"
   ]
  },
  {
   "cell_type": "code",
   "execution_count": 35,
   "id": "dcd64589-b7c5-4d71-93f9-ceb6b8e6c6da",
   "metadata": {
    "tags": []
   },
   "outputs": [
    {
     "data": {
      "text/html": [
       "<div>\n",
       "<style scoped>\n",
       "    .dataframe tbody tr th:only-of-type {\n",
       "        vertical-align: middle;\n",
       "    }\n",
       "\n",
       "    .dataframe tbody tr th {\n",
       "        vertical-align: top;\n",
       "    }\n",
       "\n",
       "    .dataframe thead th {\n",
       "        text-align: right;\n",
       "    }\n",
       "</style>\n",
       "<table border=\"1\" class=\"dataframe\">\n",
       "  <thead>\n",
       "    <tr style=\"text-align: right;\">\n",
       "      <th></th>\n",
       "      <th>symbol</th>\n",
       "      <th>price</th>\n",
       "    </tr>\n",
       "    <tr>\n",
       "      <th>date</th>\n",
       "      <th></th>\n",
       "      <th></th>\n",
       "    </tr>\n",
       "  </thead>\n",
       "  <tbody>\n",
       "    <tr>\n",
       "      <th>2024-03-27</th>\n",
       "      <td>^BSESN</td>\n",
       "      <td>72996.31</td>\n",
       "    </tr>\n",
       "    <tr>\n",
       "      <th>2024-03-27</th>\n",
       "      <td>ACWI</td>\n",
       "      <td>110.15</td>\n",
       "    </tr>\n",
       "    <tr>\n",
       "      <th>2024-03-27</th>\n",
       "      <td>SPY</td>\n",
       "      <td>523.17</td>\n",
       "    </tr>\n",
       "    <tr>\n",
       "      <th>2024-03-28</th>\n",
       "      <td>^STOXX50E</td>\n",
       "      <td>5083.42</td>\n",
       "    </tr>\n",
       "    <tr>\n",
       "      <th>2024-03-28</th>\n",
       "      <td>ACWI</td>\n",
       "      <td>110.13</td>\n",
       "    </tr>\n",
       "    <tr>\n",
       "      <th>2024-03-28</th>\n",
       "      <td>^N225</td>\n",
       "      <td>40168.07</td>\n",
       "    </tr>\n",
       "    <tr>\n",
       "      <th>2024-03-28</th>\n",
       "      <td>^BSESN</td>\n",
       "      <td>73651.35</td>\n",
       "    </tr>\n",
       "    <tr>\n",
       "      <th>2024-03-28</th>\n",
       "      <td>SPY</td>\n",
       "      <td>523.07</td>\n",
       "    </tr>\n",
       "    <tr>\n",
       "      <th>2024-03-28</th>\n",
       "      <td>VNM</td>\n",
       "      <td>13.90</td>\n",
       "    </tr>\n",
       "    <tr>\n",
       "      <th>2024-03-29</th>\n",
       "      <td>^N225</td>\n",
       "      <td>40369.44</td>\n",
       "    </tr>\n",
       "  </tbody>\n",
       "</table>\n",
       "</div>"
      ],
      "text/plain": [
       "               symbol     price\n",
       "date                           \n",
       "2024-03-27     ^BSESN  72996.31\n",
       "2024-03-27       ACWI    110.15\n",
       "2024-03-27        SPY    523.17\n",
       "2024-03-28  ^STOXX50E   5083.42\n",
       "2024-03-28       ACWI    110.13\n",
       "2024-03-28      ^N225  40168.07\n",
       "2024-03-28     ^BSESN  73651.35\n",
       "2024-03-28        SPY    523.07\n",
       "2024-03-28        VNM     13.90\n",
       "2024-03-29      ^N225  40369.44"
      ]
     },
     "execution_count": 35,
     "metadata": {},
     "output_type": "execute_result"
    }
   ],
   "source": [
    "df = pd.read_csv(data_file,index_col='Date/Time',parse_dates=['Date/Time'],dayfirst=True)\n",
    "df.index.set_names('date',inplace=True)\n",
    "df.sort_index(inplace=True)\n",
    "df=df.rename(columns={'Ticker':'symbol','close':'price'})\n",
    "df=df[['symbol','price']]\n",
    "\n",
    "#test 1\n",
    "# df=df.query(\"symbol not in ('BTC-USD')\")\n",
    "# print(df.info())\n",
    "\n",
    "df.tail(10)"
   ]
  },
  {
   "cell_type": "code",
   "execution_count": 36,
   "id": "7e42990f-e162-4575-9628-534508ed98be",
   "metadata": {
    "tags": []
   },
   "outputs": [
    {
     "name": "stdout",
     "output_type": "stream",
     "text": [
      "['^BSESN', '^STOXX50E', 'SPY', 'VNM', 'ACWI', '^N225']\n"
     ]
    }
   ],
   "source": [
    "list_symbol=df['symbol'].unique().tolist() \n",
    "\n",
    "print(list_symbol)\n"
   ]
  },
  {
   "cell_type": "markdown",
   "id": "0cc04abe-e72a-4dfb-a735-928b94be49d3",
   "metadata": {},
   "source": [
    "# Basic"
   ]
  },
  {
   "cell_type": "markdown",
   "id": "3b87771b-7afc-4d03-bff4-b8dc283be9cd",
   "metadata": {},
   "source": [
    "# Resample data and calculate Percentage of change"
   ]
  },
  {
   "cell_type": "code",
   "execution_count": 37,
   "id": "a0855824-5628-471f-bc94-bcabdcd7fc5e",
   "metadata": {
    "tags": []
   },
   "outputs": [
    {
     "name": "stderr",
     "output_type": "stream",
     "text": [
      "C:\\Users\\pongthsa\\AppData\\Local\\Temp\\ipykernel_17004\\317653757.py:13: SettingWithCopyWarning: \n",
      "A value is trying to be set on a copy of a slice from a DataFrame.\n",
      "Try using .loc[row_indexer,col_indexer] = value instead\n",
      "\n",
      "See the caveats in the documentation: https://pandas.pydata.org/pandas-docs/stable/user_guide/indexing.html#returning-a-view-versus-a-copy\n",
      "  dfx_symbol['_pct_compare_prev_']=dfx_symbol['price'].pct_change()\n",
      "C:\\Users\\pongthsa\\AppData\\Local\\Temp\\ipykernel_17004\\317653757.py:18: FutureWarning: 'M' is deprecated and will be removed in a future version, please use 'ME' instead.\n",
      "  dfx_px=dfx_symbol.resample(timeframe).agg({'price': 'last','_pct_compare_prev_':'std'})\n",
      "C:\\Users\\pongthsa\\AppData\\Local\\Temp\\ipykernel_17004\\317653757.py:39: FutureWarning: The behavior of DataFrame concatenation with empty or all-NA entries is deprecated. In a future version, this will no longer exclude empty or all-NA columns when determining the result dtypes. To retain the old behavior, exclude the relevant entries before the concat operation.\n",
      "  df_Pct_Price=pd.concat([df_Pct_Price,dfx_px],ignore_index=True,axis=0)\n",
      "C:\\Users\\pongthsa\\AppData\\Local\\Temp\\ipykernel_17004\\317653757.py:13: SettingWithCopyWarning: \n",
      "A value is trying to be set on a copy of a slice from a DataFrame.\n",
      "Try using .loc[row_indexer,col_indexer] = value instead\n",
      "\n",
      "See the caveats in the documentation: https://pandas.pydata.org/pandas-docs/stable/user_guide/indexing.html#returning-a-view-versus-a-copy\n",
      "  dfx_symbol['_pct_compare_prev_']=dfx_symbol['price'].pct_change()\n",
      "C:\\Users\\pongthsa\\AppData\\Local\\Temp\\ipykernel_17004\\317653757.py:18: FutureWarning: 'M' is deprecated and will be removed in a future version, please use 'ME' instead.\n",
      "  dfx_px=dfx_symbol.resample(timeframe).agg({'price': 'last','_pct_compare_prev_':'std'})\n",
      "C:\\Users\\pongthsa\\AppData\\Local\\Temp\\ipykernel_17004\\317653757.py:13: SettingWithCopyWarning: \n",
      "A value is trying to be set on a copy of a slice from a DataFrame.\n",
      "Try using .loc[row_indexer,col_indexer] = value instead\n",
      "\n",
      "See the caveats in the documentation: https://pandas.pydata.org/pandas-docs/stable/user_guide/indexing.html#returning-a-view-versus-a-copy\n",
      "  dfx_symbol['_pct_compare_prev_']=dfx_symbol['price'].pct_change()\n",
      "C:\\Users\\pongthsa\\AppData\\Local\\Temp\\ipykernel_17004\\317653757.py:18: FutureWarning: 'M' is deprecated and will be removed in a future version, please use 'ME' instead.\n",
      "  dfx_px=dfx_symbol.resample(timeframe).agg({'price': 'last','_pct_compare_prev_':'std'})\n",
      "C:\\Users\\pongthsa\\AppData\\Local\\Temp\\ipykernel_17004\\317653757.py:13: SettingWithCopyWarning: \n",
      "A value is trying to be set on a copy of a slice from a DataFrame.\n",
      "Try using .loc[row_indexer,col_indexer] = value instead\n",
      "\n",
      "See the caveats in the documentation: https://pandas.pydata.org/pandas-docs/stable/user_guide/indexing.html#returning-a-view-versus-a-copy\n",
      "  dfx_symbol['_pct_compare_prev_']=dfx_symbol['price'].pct_change()\n",
      "C:\\Users\\pongthsa\\AppData\\Local\\Temp\\ipykernel_17004\\317653757.py:18: FutureWarning: 'M' is deprecated and will be removed in a future version, please use 'ME' instead.\n",
      "  dfx_px=dfx_symbol.resample(timeframe).agg({'price': 'last','_pct_compare_prev_':'std'})\n",
      "C:\\Users\\pongthsa\\AppData\\Local\\Temp\\ipykernel_17004\\317653757.py:13: SettingWithCopyWarning: \n",
      "A value is trying to be set on a copy of a slice from a DataFrame.\n",
      "Try using .loc[row_indexer,col_indexer] = value instead\n",
      "\n",
      "See the caveats in the documentation: https://pandas.pydata.org/pandas-docs/stable/user_guide/indexing.html#returning-a-view-versus-a-copy\n",
      "  dfx_symbol['_pct_compare_prev_']=dfx_symbol['price'].pct_change()\n",
      "C:\\Users\\pongthsa\\AppData\\Local\\Temp\\ipykernel_17004\\317653757.py:18: FutureWarning: 'M' is deprecated and will be removed in a future version, please use 'ME' instead.\n",
      "  dfx_px=dfx_symbol.resample(timeframe).agg({'price': 'last','_pct_compare_prev_':'std'})\n",
      "C:\\Users\\pongthsa\\AppData\\Local\\Temp\\ipykernel_17004\\317653757.py:13: SettingWithCopyWarning: \n",
      "A value is trying to be set on a copy of a slice from a DataFrame.\n",
      "Try using .loc[row_indexer,col_indexer] = value instead\n",
      "\n",
      "See the caveats in the documentation: https://pandas.pydata.org/pandas-docs/stable/user_guide/indexing.html#returning-a-view-versus-a-copy\n",
      "  dfx_symbol['_pct_compare_prev_']=dfx_symbol['price'].pct_change()\n",
      "C:\\Users\\pongthsa\\AppData\\Local\\Temp\\ipykernel_17004\\317653757.py:18: FutureWarning: 'M' is deprecated and will be removed in a future version, please use 'ME' instead.\n",
      "  dfx_px=dfx_symbol.resample(timeframe).agg({'price': 'last','_pct_compare_prev_':'std'})\n"
     ]
    },
    {
     "name": "stdout",
     "output_type": "stream",
     "text": [
      "Empty DataFrame\n",
      "Columns: [symbol, date, pct_change_M, std_of_pct_Daily]\n",
      "Index: []\n",
      "====================================^BSESN====================================\n",
      "   symbol       date  pct_change_M  std_of_pct_Daily\n",
      "0  ^BSESN 2024-01-31         -0.68          0.980966\n",
      "1  ^BSESN 2024-02-29          1.04          0.569562\n",
      "2  ^BSESN 2024-03-31          1.59          0.720421\n",
      "====================================^STOXX50E====================================\n",
      "      symbol       date  pct_change_M  std_of_pct_Daily\n",
      "0  ^STOXX50E 2024-01-31          2.80          0.796696\n",
      "1  ^STOXX50E 2024-02-29          4.93          0.558556\n",
      "2  ^STOXX50E 2024-03-31          4.22          0.504795\n",
      "====================================SPY====================================\n",
      "  symbol       date  pct_change_M  std_of_pct_Daily\n",
      "0    SPY 2024-01-31          1.59          0.703624\n",
      "1    SPY 2024-02-29          5.22          0.764592\n",
      "2    SPY 2024-03-31          2.95          0.638912\n",
      "====================================VNM====================================\n",
      "  symbol       date  pct_change_M  std_of_pct_Daily\n",
      "0    VNM 2024-01-31         -1.70          1.028443\n",
      "1    VNM 2024-02-29          6.38          1.128090\n",
      "2    VNM 2024-03-31          2.89          1.060282\n",
      "====================================ACWI====================================\n",
      "  symbol       date  pct_change_M  std_of_pct_Daily\n",
      "0   ACWI 2024-01-31          0.28          0.666869\n",
      "1   ACWI 2024-02-29          4.51          0.714834\n",
      "2   ACWI 2024-03-31          3.26          0.585742\n",
      "====================================^N225====================================\n",
      "  symbol       date  pct_change_M  std_of_pct_Daily\n",
      "0  ^N225 2024-01-31          8.43          0.977318\n",
      "1  ^N225 2024-02-29          7.94          1.014105\n",
      "2  ^N225 2024-03-31          3.07          1.173914\n"
     ]
    }
   ],
   "source": [
    "# colsROC=['symbol','date','pct_change','std_of_daily_pct','return_to_std']\n",
    "colsROC=['symbol','date',pct_return_col,std_col]\n",
    "df_Pct_Price=pd.DataFrame(columns=colsROC)\n",
    "print(df_Pct_Price)\n",
    "\n",
    "#https://pandas.pydata.org/docs/reference/api/pandas.core.resample.Resampler.aggregate.html\n",
    "#https://stackoverflow.com/questions/47938372/pandas-dataframe-resample-aggregate-function-use-multiple-columns-with-a-customi\n",
    "#https://www.alpharithms.com/aggregating-time-series-data-with-pandas-resampling-411212/\n",
    "# https://sparkbyexamples.com/pandas/pandas-aggregate-functions-with-examples/\n",
    "for symbol_name in list_symbol:\n",
    "    print(f\"===================================={symbol_name}====================================\")\n",
    "    dfx_symbol=df.query('symbol==@symbol_name')\n",
    "    dfx_symbol['_pct_compare_prev_']=dfx_symbol['price'].pct_change()\n",
    "    dfx_symbol=dfx_symbol.loc[from_str:to_str]\n",
    "    #print(dfx_symbol.tail())\n",
    "    \n",
    "    \n",
    "    dfx_px=dfx_symbol.resample(timeframe).agg({'price': 'last','_pct_compare_prev_':'std'}) \n",
    "    dfx_px=dfx_px.rename(columns={'_pct_compare_prev_':std_col})\n",
    "\n",
    "    dfx_px[pct_return_col]=dfx_px['price'].pct_change()\n",
    "    dfx_px[pct_return_col]=dfx_px[pct_return_col].round(4)\n",
    "\n",
    "    dfx_px=dfx_px.dropna() # the first  rown \n",
    "    dfx_px=dfx_px.drop(columns=['price']) # remove price becase we are focuse ROC of Price\n",
    "    \n",
    "    dfx_px[pct_return_col]=dfx_px[pct_return_col]*100\n",
    "    dfx_px[std_col]=dfx_px[std_col]*100\n",
    "    \n",
    "    # dfx_px[pct_return_col]=dfx_px[pct_return_col]/dfx_px[std_col]\n",
    "    \n",
    "    dfx_px=dfx_px.reset_index()\n",
    "    dfx_px['symbol']=symbol_name\n",
    "    dfx_px=dfx_px[colsROC]\n",
    "    \n",
    "#     print(f\"Calculate ROC of {symbol_name}\")\n",
    "    print(dfx_px)\n",
    "    \n",
    "    df_Pct_Price=pd.concat([df_Pct_Price,dfx_px],ignore_index=True,axis=0)"
   ]
  },
  {
   "cell_type": "code",
   "execution_count": 38,
   "id": "810c8e0f-4345-40bc-81b3-5074b8adf7ec",
   "metadata": {
    "tags": []
   },
   "outputs": [
    {
     "name": "stdout",
     "output_type": "stream",
     "text": [
      "===============List All================================\n",
      "       symbol       date  pct_change_M  std_of_pct_Daily\n",
      "0      ^BSESN 2024-01-31         -0.68          0.980966\n",
      "1      ^BSESN 2024-02-29          1.04          0.569562\n",
      "2      ^BSESN 2024-03-31          1.59          0.720421\n",
      "3   ^STOXX50E 2024-01-31          2.80          0.796696\n",
      "4   ^STOXX50E 2024-02-29          4.93          0.558556\n",
      "5   ^STOXX50E 2024-03-31          4.22          0.504795\n",
      "6         SPY 2024-01-31          1.59          0.703624\n",
      "7         SPY 2024-02-29          5.22          0.764592\n",
      "8         SPY 2024-03-31          2.95          0.638912\n",
      "9         VNM 2024-01-31         -1.70          1.028443\n",
      "10        VNM 2024-02-29          6.38          1.128090\n",
      "11        VNM 2024-03-31          2.89          1.060282\n",
      "12       ACWI 2024-01-31          0.28          0.666869\n",
      "13       ACWI 2024-02-29          4.51          0.714834\n",
      "14       ACWI 2024-03-31          3.26          0.585742\n",
      "15      ^N225 2024-01-31          8.43          0.977318\n",
      "16      ^N225 2024-02-29          7.94          1.014105\n",
      "17      ^N225 2024-03-31          3.07          1.173914\n"
     ]
    }
   ],
   "source": [
    "print(\"===============List All================================\")\n",
    "print(df_Pct_Price)"
   ]
  },
  {
   "cell_type": "code",
   "execution_count": null,
   "id": "40e96df5-1bc5-4a15-b1f9-a688af36415e",
   "metadata": {},
   "outputs": [],
   "source": []
  },
  {
   "cell_type": "markdown",
   "id": "86d7dd09-b073-4089-9992-c5e5c3de96fc",
   "metadata": {},
   "source": [
    "# Total Period : Summarize and Combine return and std"
   ]
  },
  {
   "cell_type": "code",
   "execution_count": 39,
   "id": "0a42719e-4712-4f59-bc25-142dee7f853b",
   "metadata": {
    "tags": []
   },
   "outputs": [
    {
     "name": "stdout",
     "output_type": "stream",
     "text": [
      "==================Sum-Return and Avg-Std based on M===========================\n",
      "Sum percentage of fund return\n",
      "==============================================================\n",
      "Average Std of fund \n"
     ]
    },
    {
     "data": {
      "text/html": [
       "<div>\n",
       "<style scoped>\n",
       "    .dataframe tbody tr th:only-of-type {\n",
       "        vertical-align: middle;\n",
       "    }\n",
       "\n",
       "    .dataframe tbody tr th {\n",
       "        vertical-align: top;\n",
       "    }\n",
       "\n",
       "    .dataframe thead th {\n",
       "        text-align: right;\n",
       "    }\n",
       "</style>\n",
       "<table border=\"1\" class=\"dataframe\">\n",
       "  <thead>\n",
       "    <tr style=\"text-align: right;\">\n",
       "      <th></th>\n",
       "      <th>pct_change_M</th>\n",
       "      <th>std_of_pct_Daily</th>\n",
       "    </tr>\n",
       "    <tr>\n",
       "      <th>symbol</th>\n",
       "      <th></th>\n",
       "      <th></th>\n",
       "    </tr>\n",
       "  </thead>\n",
       "  <tbody>\n",
       "    <tr>\n",
       "      <th>ACWI</th>\n",
       "      <td>8.0</td>\n",
       "      <td>0.66</td>\n",
       "    </tr>\n",
       "    <tr>\n",
       "      <th>SPY</th>\n",
       "      <td>9.8</td>\n",
       "      <td>0.70</td>\n",
       "    </tr>\n",
       "    <tr>\n",
       "      <th>VNM</th>\n",
       "      <td>7.6</td>\n",
       "      <td>1.07</td>\n",
       "    </tr>\n",
       "    <tr>\n",
       "      <th>^BSESN</th>\n",
       "      <td>2.0</td>\n",
       "      <td>0.76</td>\n",
       "    </tr>\n",
       "    <tr>\n",
       "      <th>^N225</th>\n",
       "      <td>19.4</td>\n",
       "      <td>1.06</td>\n",
       "    </tr>\n",
       "    <tr>\n",
       "      <th>^STOXX50E</th>\n",
       "      <td>12.0</td>\n",
       "      <td>0.62</td>\n",
       "    </tr>\n",
       "  </tbody>\n",
       "</table>\n",
       "</div>"
      ],
      "text/plain": [
       "           pct_change_M  std_of_pct_Daily\n",
       "symbol                                   \n",
       "ACWI                8.0              0.66\n",
       "SPY                 9.8              0.70\n",
       "VNM                 7.6              1.07\n",
       "^BSESN              2.0              0.76\n",
       "^N225              19.4              1.06\n",
       "^STOXX50E          12.0              0.62"
      ]
     },
     "execution_count": 39,
     "metadata": {},
     "output_type": "execute_result"
    }
   ],
   "source": [
    "print(f\"==================Sum-Return and Avg-Std based on {timeframe}===========================\")\n",
    "print(\"Sum percentage of fund return\")\n",
    "dfSum_Pct_Price=df_Pct_Price.groupby(['symbol'])[[pct_return_col]].sum()\n",
    "dfSum_Pct_Price.reset_index(drop=False,inplace=True)\n",
    "dfSum_Pct_Price[pct_return_col]=dfSum_Pct_Price[pct_return_col].round(1)\n",
    "\n",
    "\n",
    "print(\"==============================================================\")\n",
    "print(\"Average Std of fund \")\n",
    "dfAvg_Std_Price=df_Pct_Price.groupby(['symbol'])[[std_col]].mean()\n",
    "dfAvg_Std_Price.reset_index(drop=False,inplace=True)\n",
    "dfAvg_Std_Price[std_col]=dfAvg_Std_Price[std_col].round(2)\n",
    "\n",
    "dfValueSummary=pd.merge(left=dfSum_Pct_Price,right=dfAvg_Std_Price,on='symbol')\n",
    "dfValueSummary.fillna(value=0,inplace=True)\n",
    "dfValueSummary.set_index('symbol',inplace=True)\n",
    "dfValueSummary"
   ]
  },
  {
   "cell_type": "markdown",
   "id": "1da8f6c0-3297-466b-a229-a5c3e9ed2e72",
   "metadata": {},
   "source": [
    "# Timeframe Period "
   ]
  },
  {
   "cell_type": "markdown",
   "id": "23404b4f-839d-468b-a554-f3d595c521a6",
   "metadata": {},
   "source": [
    "# Pivot Percent Return & Std and theire Rank To Dataframe"
   ]
  },
  {
   "cell_type": "code",
   "execution_count": 40,
   "id": "f1aa21e9-8d26-4ca2-becd-4dfaccdb0fa4",
   "metadata": {
    "tags": []
   },
   "outputs": [
    {
     "name": "stdout",
     "output_type": "stream",
     "text": [
      "==============================================================\n",
      "Pivot Percent Return and Rank M To Dataframe\n"
     ]
    }
   ],
   "source": [
    "print(\"==============================================================\")\n",
    "print(f\"Pivot Percent Return and Rank {timeframe} To Dataframe\")\n",
    "dfPct=df_Pct_Price.pivot(index='date', columns='symbol', values=pct_return_col)\n",
    "dfRank=dfPct[dfPct.columns.tolist()].rank(axis=1)\n",
    "# print(dfPct.info())"
   ]
  },
  {
   "cell_type": "code",
   "execution_count": 41,
   "id": "53ce03df-744a-483d-a327-7081b1c09463",
   "metadata": {
    "tags": []
   },
   "outputs": [
    {
     "name": "stdout",
     "output_type": "stream",
     "text": [
      "==============================================================\n",
      "Pivot Daily STD and Rank in M and Rank To Dataframe\n"
     ]
    }
   ],
   "source": [
    "print(\"==============================================================\")\n",
    "print(f\"Pivot Daily STD and Rank in {timeframe} and Rank To Dataframe\")\n",
    "dfStd=df_Pct_Price.pivot(index='date', columns='symbol', values=std_col)\n",
    "dfRankStd=dfStd[dfStd.columns.tolist()].rank(axis=1,ascending=False)\n"
   ]
  },
  {
   "cell_type": "code",
   "execution_count": 42,
   "id": "5e8dc806-eebe-45f1-a06c-9674d4e0b6a3",
   "metadata": {
    "tags": []
   },
   "outputs": [
    {
     "data": {
      "text/html": [
       "<div style=\"display:flex\"><div style=\"margin-right: 32px\"><table border=\"1\" class=\"dataframe\">\n",
       "  <thead>\n",
       "    <tr style=\"text-align: right;\">\n",
       "      <th>symbol</th>\n",
       "      <th>ACWI</th>\n",
       "      <th>SPY</th>\n",
       "      <th>VNM</th>\n",
       "      <th>^BSESN</th>\n",
       "      <th>^N225</th>\n",
       "      <th>^STOXX50E</th>\n",
       "    </tr>\n",
       "    <tr>\n",
       "      <th>date</th>\n",
       "      <th></th>\n",
       "      <th></th>\n",
       "      <th></th>\n",
       "      <th></th>\n",
       "      <th></th>\n",
       "      <th></th>\n",
       "    </tr>\n",
       "  </thead>\n",
       "  <tbody>\n",
       "    <tr>\n",
       "      <th>2024-01-31</th>\n",
       "      <td>3.0</td>\n",
       "      <td>4.0</td>\n",
       "      <td>1.0</td>\n",
       "      <td>2.0</td>\n",
       "      <td>6.0</td>\n",
       "      <td>5.0</td>\n",
       "    </tr>\n",
       "    <tr>\n",
       "      <th>2024-02-29</th>\n",
       "      <td>2.0</td>\n",
       "      <td>4.0</td>\n",
       "      <td>5.0</td>\n",
       "      <td>1.0</td>\n",
       "      <td>6.0</td>\n",
       "      <td>3.0</td>\n",
       "    </tr>\n",
       "    <tr>\n",
       "      <th>2024-03-31</th>\n",
       "      <td>5.0</td>\n",
       "      <td>3.0</td>\n",
       "      <td>2.0</td>\n",
       "      <td>1.0</td>\n",
       "      <td>4.0</td>\n",
       "      <td>6.0</td>\n",
       "    </tr>\n",
       "  </tbody>\n",
       "</table></div><div style=\"margin-right: 32px\"><table border=\"1\" class=\"dataframe\">\n",
       "  <thead>\n",
       "    <tr style=\"text-align: right;\">\n",
       "      <th>symbol</th>\n",
       "      <th>ACWI</th>\n",
       "      <th>SPY</th>\n",
       "      <th>VNM</th>\n",
       "      <th>^BSESN</th>\n",
       "      <th>^N225</th>\n",
       "      <th>^STOXX50E</th>\n",
       "    </tr>\n",
       "    <tr>\n",
       "      <th>date</th>\n",
       "      <th></th>\n",
       "      <th></th>\n",
       "      <th></th>\n",
       "      <th></th>\n",
       "      <th></th>\n",
       "      <th></th>\n",
       "    </tr>\n",
       "  </thead>\n",
       "  <tbody>\n",
       "    <tr>\n",
       "      <th>2024-01-31</th>\n",
       "      <td>0.28</td>\n",
       "      <td>1.59</td>\n",
       "      <td>-1.70</td>\n",
       "      <td>-0.68</td>\n",
       "      <td>8.43</td>\n",
       "      <td>2.80</td>\n",
       "    </tr>\n",
       "    <tr>\n",
       "      <th>2024-02-29</th>\n",
       "      <td>4.51</td>\n",
       "      <td>5.22</td>\n",
       "      <td>6.38</td>\n",
       "      <td>1.04</td>\n",
       "      <td>7.94</td>\n",
       "      <td>4.93</td>\n",
       "    </tr>\n",
       "    <tr>\n",
       "      <th>2024-03-31</th>\n",
       "      <td>3.26</td>\n",
       "      <td>2.95</td>\n",
       "      <td>2.89</td>\n",
       "      <td>1.59</td>\n",
       "      <td>3.07</td>\n",
       "      <td>4.22</td>\n",
       "    </tr>\n",
       "  </tbody>\n",
       "</table></div></div>"
      ],
      "text/plain": [
       "<IPython.core.display.HTML object>"
      ]
     },
     "metadata": {},
     "output_type": "display_data"
    },
    {
     "data": {
      "text/html": [
       "<div style=\"display:flex\"><div style=\"margin-right: 32px\"><table border=\"1\" class=\"dataframe\">\n",
       "  <thead>\n",
       "    <tr style=\"text-align: right;\">\n",
       "      <th>symbol</th>\n",
       "      <th>ACWI</th>\n",
       "      <th>SPY</th>\n",
       "      <th>VNM</th>\n",
       "      <th>^BSESN</th>\n",
       "      <th>^N225</th>\n",
       "      <th>^STOXX50E</th>\n",
       "    </tr>\n",
       "    <tr>\n",
       "      <th>date</th>\n",
       "      <th></th>\n",
       "      <th></th>\n",
       "      <th></th>\n",
       "      <th></th>\n",
       "      <th></th>\n",
       "      <th></th>\n",
       "    </tr>\n",
       "  </thead>\n",
       "  <tbody>\n",
       "    <tr>\n",
       "      <th>2024-01-31</th>\n",
       "      <td>6.0</td>\n",
       "      <td>5.0</td>\n",
       "      <td>1.0</td>\n",
       "      <td>2.0</td>\n",
       "      <td>3.0</td>\n",
       "      <td>4.0</td>\n",
       "    </tr>\n",
       "    <tr>\n",
       "      <th>2024-02-29</th>\n",
       "      <td>4.0</td>\n",
       "      <td>3.0</td>\n",
       "      <td>1.0</td>\n",
       "      <td>5.0</td>\n",
       "      <td>2.0</td>\n",
       "      <td>6.0</td>\n",
       "    </tr>\n",
       "    <tr>\n",
       "      <th>2024-03-31</th>\n",
       "      <td>5.0</td>\n",
       "      <td>4.0</td>\n",
       "      <td>2.0</td>\n",
       "      <td>3.0</td>\n",
       "      <td>1.0</td>\n",
       "      <td>6.0</td>\n",
       "    </tr>\n",
       "  </tbody>\n",
       "</table></div><div style=\"margin-right: 32px\"><table border=\"1\" class=\"dataframe\">\n",
       "  <thead>\n",
       "    <tr style=\"text-align: right;\">\n",
       "      <th>symbol</th>\n",
       "      <th>ACWI</th>\n",
       "      <th>SPY</th>\n",
       "      <th>VNM</th>\n",
       "      <th>^BSESN</th>\n",
       "      <th>^N225</th>\n",
       "      <th>^STOXX50E</th>\n",
       "    </tr>\n",
       "    <tr>\n",
       "      <th>date</th>\n",
       "      <th></th>\n",
       "      <th></th>\n",
       "      <th></th>\n",
       "      <th></th>\n",
       "      <th></th>\n",
       "      <th></th>\n",
       "    </tr>\n",
       "  </thead>\n",
       "  <tbody>\n",
       "    <tr>\n",
       "      <th>2024-01-31</th>\n",
       "      <td>0.666869</td>\n",
       "      <td>0.703624</td>\n",
       "      <td>1.028443</td>\n",
       "      <td>0.980966</td>\n",
       "      <td>0.977318</td>\n",
       "      <td>0.796696</td>\n",
       "    </tr>\n",
       "    <tr>\n",
       "      <th>2024-02-29</th>\n",
       "      <td>0.714834</td>\n",
       "      <td>0.764592</td>\n",
       "      <td>1.128090</td>\n",
       "      <td>0.569562</td>\n",
       "      <td>1.014105</td>\n",
       "      <td>0.558556</td>\n",
       "    </tr>\n",
       "    <tr>\n",
       "      <th>2024-03-31</th>\n",
       "      <td>0.585742</td>\n",
       "      <td>0.638912</td>\n",
       "      <td>1.060282</td>\n",
       "      <td>0.720421</td>\n",
       "      <td>1.173914</td>\n",
       "      <td>0.504795</td>\n",
       "    </tr>\n",
       "  </tbody>\n",
       "</table></div></div>"
      ],
      "text/plain": [
       "<IPython.core.display.HTML object>"
      ]
     },
     "metadata": {},
     "output_type": "display_data"
    }
   ],
   "source": [
    "df_horizontal([dfRank,dfPct])\n",
    "df_horizontal([dfRankStd,dfStd])"
   ]
  },
  {
   "cell_type": "markdown",
   "id": "867a96dc-668e-4a86-85ca-bf29c6cf81fb",
   "metadata": {
    "tags": []
   },
   "source": [
    "# Combine Return and Std Rank as Score"
   ]
  },
  {
   "cell_type": "code",
   "execution_count": 43,
   "id": "459ec0a8-785f-4b93-9eec-e1a4a53b6703",
   "metadata": {
    "tags": []
   },
   "outputs": [
    {
     "name": "stdout",
     "output_type": "stream",
     "text": [
      "==============================================================\n",
      "Combine Both Pct Return and Rank\n",
      "Return :higher total score , greater performance\n",
      "Std : higher total score , worse perfromance\n"
     ]
    },
    {
     "data": {
      "text/html": [
       "<div>\n",
       "<style scoped>\n",
       "    .dataframe tbody tr th:only-of-type {\n",
       "        vertical-align: middle;\n",
       "    }\n",
       "\n",
       "    .dataframe tbody tr th {\n",
       "        vertical-align: top;\n",
       "    }\n",
       "\n",
       "    .dataframe thead th {\n",
       "        text-align: right;\n",
       "    }\n",
       "</style>\n",
       "<table border=\"1\" class=\"dataframe\">\n",
       "  <thead>\n",
       "    <tr style=\"text-align: right;\">\n",
       "      <th></th>\n",
       "      <th>sum_return_rank</th>\n",
       "      <th>sum_std_rank</th>\n",
       "    </tr>\n",
       "    <tr>\n",
       "      <th>symbol</th>\n",
       "      <th></th>\n",
       "      <th></th>\n",
       "    </tr>\n",
       "  </thead>\n",
       "  <tbody>\n",
       "    <tr>\n",
       "      <th>ACWI</th>\n",
       "      <td>10.0</td>\n",
       "      <td>15.0</td>\n",
       "    </tr>\n",
       "    <tr>\n",
       "      <th>SPY</th>\n",
       "      <td>11.0</td>\n",
       "      <td>12.0</td>\n",
       "    </tr>\n",
       "    <tr>\n",
       "      <th>VNM</th>\n",
       "      <td>8.0</td>\n",
       "      <td>4.0</td>\n",
       "    </tr>\n",
       "    <tr>\n",
       "      <th>^BSESN</th>\n",
       "      <td>4.0</td>\n",
       "      <td>10.0</td>\n",
       "    </tr>\n",
       "    <tr>\n",
       "      <th>^N225</th>\n",
       "      <td>16.0</td>\n",
       "      <td>6.0</td>\n",
       "    </tr>\n",
       "    <tr>\n",
       "      <th>^STOXX50E</th>\n",
       "      <td>14.0</td>\n",
       "      <td>16.0</td>\n",
       "    </tr>\n",
       "  </tbody>\n",
       "</table>\n",
       "</div>"
      ],
      "text/plain": [
       "           sum_return_rank  sum_std_rank\n",
       "symbol                                  \n",
       "ACWI                  10.0          15.0\n",
       "SPY                   11.0          12.0\n",
       "VNM                    8.0           4.0\n",
       "^BSESN                 4.0          10.0\n",
       "^N225                 16.0           6.0\n",
       "^STOXX50E             14.0          16.0"
      ]
     },
     "execution_count": 43,
     "metadata": {},
     "output_type": "execute_result"
    }
   ],
   "source": [
    "print(\"==============================================================\")\n",
    "print(\"Combine Both Pct Return and Rank\")\n",
    "print(\"Return :higher total score , greater performance\")\n",
    "print(\"Std : higher total score , worse perfromance\")\n",
    "dfRankSummary=pd.concat([\n",
    "                     dfRank.sum().to_frame(name='sum_return_rank'),\n",
    "                     dfRankStd.sum().to_frame(name='sum_std_rank'),  \n",
    "                    ],axis=1)\n",
    "dfRankSummary.fillna(value=0,inplace=True)\n",
    "dfRankSummary"
   ]
  },
  {
   "cell_type": "markdown",
   "id": "39826cb4-2d1f-472e-9be8-f5d1e80c6a39",
   "metadata": {},
   "source": [
    "# Sum Rank Value(OK)  # FinalOut Y2024 Update 09April24"
   ]
  },
  {
   "cell_type": "code",
   "execution_count": 45,
   "id": "a41bf97b-6bda-448c-bde1-c7a238572767",
   "metadata": {},
   "outputs": [
    {
     "data": {
      "text/html": [
       "<div>\n",
       "<style scoped>\n",
       "    .dataframe tbody tr th:only-of-type {\n",
       "        vertical-align: middle;\n",
       "    }\n",
       "\n",
       "    .dataframe tbody tr th {\n",
       "        vertical-align: top;\n",
       "    }\n",
       "\n",
       "    .dataframe thead th {\n",
       "        text-align: right;\n",
       "    }\n",
       "</style>\n",
       "<table border=\"1\" class=\"dataframe\">\n",
       "  <thead>\n",
       "    <tr style=\"text-align: right;\">\n",
       "      <th></th>\n",
       "      <th>sum_return_rank</th>\n",
       "      <th>sum_std_rank</th>\n",
       "      <th>TotalScoreByRankValue</th>\n",
       "    </tr>\n",
       "    <tr>\n",
       "      <th>symbol</th>\n",
       "      <th></th>\n",
       "      <th></th>\n",
       "      <th></th>\n",
       "    </tr>\n",
       "  </thead>\n",
       "  <tbody>\n",
       "    <tr>\n",
       "      <th>^STOXX50E</th>\n",
       "      <td>14.0</td>\n",
       "      <td>16.0</td>\n",
       "      <td>30.0</td>\n",
       "    </tr>\n",
       "    <tr>\n",
       "      <th>ACWI</th>\n",
       "      <td>10.0</td>\n",
       "      <td>15.0</td>\n",
       "      <td>25.0</td>\n",
       "    </tr>\n",
       "    <tr>\n",
       "      <th>SPY</th>\n",
       "      <td>11.0</td>\n",
       "      <td>12.0</td>\n",
       "      <td>23.0</td>\n",
       "    </tr>\n",
       "    <tr>\n",
       "      <th>^N225</th>\n",
       "      <td>16.0</td>\n",
       "      <td>6.0</td>\n",
       "      <td>22.0</td>\n",
       "    </tr>\n",
       "    <tr>\n",
       "      <th>^BSESN</th>\n",
       "      <td>4.0</td>\n",
       "      <td>10.0</td>\n",
       "      <td>14.0</td>\n",
       "    </tr>\n",
       "    <tr>\n",
       "      <th>VNM</th>\n",
       "      <td>8.0</td>\n",
       "      <td>4.0</td>\n",
       "      <td>12.0</td>\n",
       "    </tr>\n",
       "  </tbody>\n",
       "</table>\n",
       "</div>"
      ],
      "text/plain": [
       "           sum_return_rank  sum_std_rank  TotalScoreByRankValue\n",
       "symbol                                                         \n",
       "^STOXX50E             14.0          16.0                   30.0\n",
       "ACWI                  10.0          15.0                   25.0\n",
       "SPY                   11.0          12.0                   23.0\n",
       "^N225                 16.0           6.0                   22.0\n",
       "^BSESN                 4.0          10.0                   14.0\n",
       "VNM                    8.0           4.0                   12.0"
      ]
     },
     "execution_count": 45,
     "metadata": {},
     "output_type": "execute_result"
    }
   ],
   "source": [
    "dfSumOfRankSummaryY24=dfRankSummary[[\"sum_return_rank\",\"sum_std_rank\"]].copy()\n",
    "dfSumOfRankSummaryY24['TotalScoreByRankValue']=dfSumOfRankSummaryY24[\"sum_return_rank\"]+dfSumOfRankSummaryY24[\"sum_std_rank\"]\n",
    "dfSumOfRankSummaryY24=dfSumOfRankSummaryY24.sort_values(by='TotalScoreByRankValue',ascending=False)\n",
    "dfSumOfRankSummaryY24"
   ]
  },
  {
   "cell_type": "markdown",
   "id": "164a55f4-f00b-45ef-940f-a204ef89288d",
   "metadata": {},
   "source": [
    "# Convert value score   and rank score to final rank"
   ]
  },
  {
   "cell_type": "code",
   "execution_count": 46,
   "id": "e54b85af-15cd-44cc-88c4-0dc0db8d63ed",
   "metadata": {
    "tags": []
   },
   "outputs": [],
   "source": [
    "dfValueSummary['value_return_rank']=dfValueSummary[pct_return_col].rank()\n",
    "dfValueSummary['value_std_rank']=dfValueSummary[std_col].rank(ascending=False)"
   ]
  },
  {
   "cell_type": "code",
   "execution_count": 47,
   "id": "c63ff90b-5dd5-4cf0-82bf-56fe0422b1c2",
   "metadata": {
    "tags": []
   },
   "outputs": [],
   "source": [
    "# real score\n",
    "dfRankSummary['return_rank']=dfRankSummary['sum_return_rank'].rank()\n",
    "dfRankSummary['std_rank']=dfRankSummary['sum_std_rank'].rank()\n",
    "\n"
   ]
  },
  {
   "cell_type": "code",
   "execution_count": 48,
   "id": "043401eb-4b1d-4c47-96ec-562730a6af28",
   "metadata": {
    "tags": []
   },
   "outputs": [
    {
     "data": {
      "text/html": [
       "<div style=\"display:flex\"><div style=\"margin-right: 32px\"><table border=\"1\" class=\"dataframe\">\n",
       "  <thead>\n",
       "    <tr style=\"text-align: right;\">\n",
       "      <th></th>\n",
       "      <th>pct_change_M</th>\n",
       "      <th>std_of_pct_Daily</th>\n",
       "      <th>value_return_rank</th>\n",
       "      <th>value_std_rank</th>\n",
       "    </tr>\n",
       "    <tr>\n",
       "      <th>symbol</th>\n",
       "      <th></th>\n",
       "      <th></th>\n",
       "      <th></th>\n",
       "      <th></th>\n",
       "    </tr>\n",
       "  </thead>\n",
       "  <tbody>\n",
       "    <tr>\n",
       "      <th>ACWI</th>\n",
       "      <td>8.0</td>\n",
       "      <td>0.66</td>\n",
       "      <td>3.0</td>\n",
       "      <td>5.0</td>\n",
       "    </tr>\n",
       "    <tr>\n",
       "      <th>SPY</th>\n",
       "      <td>9.8</td>\n",
       "      <td>0.70</td>\n",
       "      <td>4.0</td>\n",
       "      <td>4.0</td>\n",
       "    </tr>\n",
       "    <tr>\n",
       "      <th>VNM</th>\n",
       "      <td>7.6</td>\n",
       "      <td>1.07</td>\n",
       "      <td>2.0</td>\n",
       "      <td>1.0</td>\n",
       "    </tr>\n",
       "    <tr>\n",
       "      <th>^BSESN</th>\n",
       "      <td>2.0</td>\n",
       "      <td>0.76</td>\n",
       "      <td>1.0</td>\n",
       "      <td>3.0</td>\n",
       "    </tr>\n",
       "    <tr>\n",
       "      <th>^N225</th>\n",
       "      <td>19.4</td>\n",
       "      <td>1.06</td>\n",
       "      <td>6.0</td>\n",
       "      <td>2.0</td>\n",
       "    </tr>\n",
       "    <tr>\n",
       "      <th>^STOXX50E</th>\n",
       "      <td>12.0</td>\n",
       "      <td>0.62</td>\n",
       "      <td>5.0</td>\n",
       "      <td>6.0</td>\n",
       "    </tr>\n",
       "  </tbody>\n",
       "</table></div><div style=\"margin-right: 32px\"><table border=\"1\" class=\"dataframe\">\n",
       "  <thead>\n",
       "    <tr style=\"text-align: right;\">\n",
       "      <th></th>\n",
       "      <th>sum_return_rank</th>\n",
       "      <th>sum_std_rank</th>\n",
       "      <th>return_rank</th>\n",
       "      <th>std_rank</th>\n",
       "    </tr>\n",
       "    <tr>\n",
       "      <th>symbol</th>\n",
       "      <th></th>\n",
       "      <th></th>\n",
       "      <th></th>\n",
       "      <th></th>\n",
       "    </tr>\n",
       "  </thead>\n",
       "  <tbody>\n",
       "    <tr>\n",
       "      <th>ACWI</th>\n",
       "      <td>10.0</td>\n",
       "      <td>15.0</td>\n",
       "      <td>3.0</td>\n",
       "      <td>5.0</td>\n",
       "    </tr>\n",
       "    <tr>\n",
       "      <th>SPY</th>\n",
       "      <td>11.0</td>\n",
       "      <td>12.0</td>\n",
       "      <td>4.0</td>\n",
       "      <td>4.0</td>\n",
       "    </tr>\n",
       "    <tr>\n",
       "      <th>VNM</th>\n",
       "      <td>8.0</td>\n",
       "      <td>4.0</td>\n",
       "      <td>2.0</td>\n",
       "      <td>1.0</td>\n",
       "    </tr>\n",
       "    <tr>\n",
       "      <th>^BSESN</th>\n",
       "      <td>4.0</td>\n",
       "      <td>10.0</td>\n",
       "      <td>1.0</td>\n",
       "      <td>3.0</td>\n",
       "    </tr>\n",
       "    <tr>\n",
       "      <th>^N225</th>\n",
       "      <td>16.0</td>\n",
       "      <td>6.0</td>\n",
       "      <td>6.0</td>\n",
       "      <td>2.0</td>\n",
       "    </tr>\n",
       "    <tr>\n",
       "      <th>^STOXX50E</th>\n",
       "      <td>14.0</td>\n",
       "      <td>16.0</td>\n",
       "      <td>5.0</td>\n",
       "      <td>6.0</td>\n",
       "    </tr>\n",
       "  </tbody>\n",
       "</table></div></div>"
      ],
      "text/plain": [
       "<IPython.core.display.HTML object>"
      ]
     },
     "metadata": {},
     "output_type": "display_data"
    }
   ],
   "source": [
    "df_horizontal([dfValueSummary, dfRankSummary])"
   ]
  },
  {
   "cell_type": "markdown",
   "id": "ac303ef7-7bc0-40da-833e-c3b3b8e3de5c",
   "metadata": {},
   "source": [
    "# Summarize Total Score "
   ]
  },
  {
   "cell_type": "code",
   "execution_count": 49,
   "id": "d9c37039-6153-4056-b566-6937830fb321",
   "metadata": {
    "tags": []
   },
   "outputs": [
    {
     "data": {
      "text/html": [
       "<div>\n",
       "<style scoped>\n",
       "    .dataframe tbody tr th:only-of-type {\n",
       "        vertical-align: middle;\n",
       "    }\n",
       "\n",
       "    .dataframe tbody tr th {\n",
       "        vertical-align: top;\n",
       "    }\n",
       "\n",
       "    .dataframe thead th {\n",
       "        text-align: right;\n",
       "    }\n",
       "</style>\n",
       "<table border=\"1\" class=\"dataframe\">\n",
       "  <thead>\n",
       "    <tr style=\"text-align: right;\">\n",
       "      <th></th>\n",
       "      <th>TotalScore</th>\n",
       "      <th>value_return_rank</th>\n",
       "      <th>value_std_rank</th>\n",
       "      <th>return_rank</th>\n",
       "      <th>std_rank</th>\n",
       "    </tr>\n",
       "    <tr>\n",
       "      <th>symbol</th>\n",
       "      <th></th>\n",
       "      <th></th>\n",
       "      <th></th>\n",
       "      <th></th>\n",
       "      <th></th>\n",
       "    </tr>\n",
       "  </thead>\n",
       "  <tbody>\n",
       "    <tr>\n",
       "      <th>^STOXX50E</th>\n",
       "      <td>22.0</td>\n",
       "      <td>5.0</td>\n",
       "      <td>6.0</td>\n",
       "      <td>5.0</td>\n",
       "      <td>6.0</td>\n",
       "    </tr>\n",
       "    <tr>\n",
       "      <th>ACWI</th>\n",
       "      <td>16.0</td>\n",
       "      <td>3.0</td>\n",
       "      <td>5.0</td>\n",
       "      <td>3.0</td>\n",
       "      <td>5.0</td>\n",
       "    </tr>\n",
       "    <tr>\n",
       "      <th>SPY</th>\n",
       "      <td>16.0</td>\n",
       "      <td>4.0</td>\n",
       "      <td>4.0</td>\n",
       "      <td>4.0</td>\n",
       "      <td>4.0</td>\n",
       "    </tr>\n",
       "    <tr>\n",
       "      <th>^N225</th>\n",
       "      <td>16.0</td>\n",
       "      <td>6.0</td>\n",
       "      <td>2.0</td>\n",
       "      <td>6.0</td>\n",
       "      <td>2.0</td>\n",
       "    </tr>\n",
       "    <tr>\n",
       "      <th>^BSESN</th>\n",
       "      <td>8.0</td>\n",
       "      <td>1.0</td>\n",
       "      <td>3.0</td>\n",
       "      <td>1.0</td>\n",
       "      <td>3.0</td>\n",
       "    </tr>\n",
       "    <tr>\n",
       "      <th>VNM</th>\n",
       "      <td>6.0</td>\n",
       "      <td>2.0</td>\n",
       "      <td>1.0</td>\n",
       "      <td>2.0</td>\n",
       "      <td>1.0</td>\n",
       "    </tr>\n",
       "  </tbody>\n",
       "</table>\n",
       "</div>"
      ],
      "text/plain": [
       "           TotalScore  value_return_rank  value_std_rank  return_rank  \\\n",
       "symbol                                                                  \n",
       "^STOXX50E        22.0                5.0             6.0          5.0   \n",
       "ACWI             16.0                3.0             5.0          3.0   \n",
       "SPY              16.0                4.0             4.0          4.0   \n",
       "^N225            16.0                6.0             2.0          6.0   \n",
       "^BSESN            8.0                1.0             3.0          1.0   \n",
       "VNM               6.0                2.0             1.0          2.0   \n",
       "\n",
       "           std_rank  \n",
       "symbol               \n",
       "^STOXX50E       6.0  \n",
       "ACWI            5.0  \n",
       "SPY             4.0  \n",
       "^N225           2.0  \n",
       "^BSESN          3.0  \n",
       "VNM             1.0  "
      ]
     },
     "execution_count": 49,
     "metadata": {},
     "output_type": "execute_result"
    }
   ],
   "source": [
    "dfFinalScore= pd.concat([ dfValueSummary[['value_return_rank','value_std_rank']],dfRankSummary[['return_rank','std_rank']]],axis=1)\n",
    "dfFinalScore['TotalScore']=dfFinalScore.sum(axis=1)\n",
    "dfFinalScore=dfFinalScore.sort_values(by='TotalScore',ascending=False)\n",
    "\n",
    "# dfFinalScore['pctChangeScore']=dfFinalScore['TotalScore'].pct_change()*100\n",
    "# dfFinalScore['pctChangeScore']=dfFinalScore['pctChangeScore'].round(0)\n",
    "# dfFinalScore.fillna(value=0,inplace=True)\n",
    "\n",
    "# dfFinalScore=dfFinalScore[['TotalScore','pctChangeScore','value_return_rank','value_std_rank','return_rank','std_rank']]\n",
    "dfFinalScore=dfFinalScore[['TotalScore','value_return_rank','value_std_rank','return_rank','std_rank']]\n",
    "dfFinalScore"
   ]
  },
  {
   "cell_type": "code",
   "execution_count": 51,
   "id": "94b64c56-3979-421a-8f46-97bb9da9eebe",
   "metadata": {
    "tags": []
   },
   "outputs": [
    {
     "name": "stdout",
     "output_type": "stream",
     "text": [
      "Export outcoome as Excel\n"
     ]
    }
   ],
   "source": [
    "if isPriceExcel:\n",
    "    print(\"Export outcoome as Excel\")\n",
    "    with pd.ExcelWriter(f\"{report_prefix_name}_{timeframe}_{from_str}To{to_str}.xlsx\") as writer:\n",
    "        df_Pct_Price.to_excel(writer, sheet_name=f\"{timeframe}\")\n",
    "\n",
    "        dfSumOfRankSummaryY24.to_excel(writer, sheet_name=\"FinalScoreOnlyRankY24\")\n",
    "        \n",
    "        dfPct.to_excel(writer, sheet_name=f\"{timeframe}-Return\")\n",
    "        dfRankStd.to_excel(writer, sheet_name=f\"{timeframe}-RankStd\")\n",
    "        \n",
    "        dfStd.to_excel(writer, sheet_name=f\"{timeframe}-Std\")\n",
    "        dfRank.to_excel(writer, sheet_name=f\"{timeframe}-RankReturn\")\n",
    "        \n",
    "        \n",
    "        dfValueSummary.to_excel(writer, sheet_name=\"Value-Summary\")\n",
    "        dfRankSummary.to_excel(writer, sheet_name=\"Rank-Summary\")\n",
    "\n",
    "        dfFinalScore.to_excel(writer, sheet_name=\"FinalScore\")"
   ]
  },
  {
   "cell_type": "code",
   "execution_count": null,
   "id": "f7315e89-464a-4c7b-87bf-acad9315b14d",
   "metadata": {},
   "outputs": [],
   "source": []
  },
  {
   "cell_type": "code",
   "execution_count": null,
   "id": "25630d4e-a0b2-4411-88bd-ba171440429d",
   "metadata": {},
   "outputs": [],
   "source": []
  }
 ],
 "metadata": {
  "kernelspec": {
   "display_name": "Python 3 (ipykernel)",
   "language": "python",
   "name": "python3"
  },
  "language_info": {
   "codemirror_mode": {
    "name": "ipython",
    "version": 3
   },
   "file_extension": ".py",
   "mimetype": "text/x-python",
   "name": "python",
   "nbconvert_exporter": "python",
   "pygments_lexer": "ipython3",
   "version": "3.10.12"
  }
 },
 "nbformat": 4,
 "nbformat_minor": 5
}
