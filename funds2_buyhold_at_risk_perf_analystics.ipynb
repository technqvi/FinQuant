{
 "cells": [
  {
   "cell_type": "code",
   "execution_count": 23,
   "id": "71719cb7-6fa2-4c50-920b-5698f807d1a9",
   "metadata": {
    "tags": []
   },
   "outputs": [],
   "source": [
    "import pandas as pd\n",
    "import datetime as datetime\n",
    "import os\n",
    "# ! pip install xlsxwriter --user"
   ]
  },
  {
   "cell_type": "code",
   "execution_count": 36,
   "id": "0e939474-9b32-4a4b-8f8e-5ec1b619a2b4",
   "metadata": {
    "tags": []
   },
   "outputs": [],
   "source": [
    "data_path=r'D:\\PythonDev\\MyQuantFinProject\\Data'\n",
    "data_file='Tech-World-EEM-GLD-10YBond.csv'\n",
    "data_file='KeyRiskAsset.csv'\n",
    "isPy=False \n",
    "isPriceExcel=False"
   ]
  },
  {
   "cell_type": "markdown",
   "id": "83d296e7-5dd0-4425-b8ef-b63b76b08c7a",
   "metadata": {},
   "source": [
    "# Specify Period and Timefame to caculate fund performance and"
   ]
  },
  {
   "cell_type": "code",
   "execution_count": 48,
   "id": "b51e9c53-d823-4d0e-8037-ecc085d71df9",
   "metadata": {
    "tags": []
   },
   "outputs": [],
   "source": [
    "# If you want to see July-Oct, you have to have last trading day of June\n",
    "from_str='2023-07-30'  \n",
    "to_str='2023-10-31' \n",
    "timeframe='M'\n",
    "# timeframe='W-FRI'"
   ]
  },
  {
   "cell_type": "markdown",
   "id": "67a2b2b8-86cf-4f54-99d8-8d5a69619019",
   "metadata": {},
   "source": [
    "# Input data"
   ]
  },
  {
   "cell_type": "code",
   "execution_count": 49,
   "id": "41fb0fd5-f97d-4e5e-a4cb-2c50f1628f54",
   "metadata": {
    "tags": []
   },
   "outputs": [],
   "source": [
    "if isPy:\n",
    "    print(f\"Data csv file in Path: {data_path}\")\n",
    "    data_file=input(\"CSV file name : \")\n",
    "\n",
    "    from_str=input(\"From_date(2020-10-01) : \") \n",
    "    to_str=input(\"To_date(2022-12-31): \") \n",
    "    timeframe=input(\"Timeframe(W-FRI,M,Q,Y): \") \n",
    "  \n",
    "    print(f\"Process data from {from_str} to {to_str} in {timeframe} timeframe\")\n",
    "    press_y=input(f\"Press y=True and n=False to run analaystics : \") \n",
    "    if press_y.lower()=='y':\n",
    "     ok=True\n",
    "    else:\n",
    "     exit()\n"
   ]
  },
  {
   "cell_type": "code",
   "execution_count": 50,
   "id": "5dca23f5-2106-4e69-85cb-e65bb26b6cca",
   "metadata": {
    "tags": []
   },
   "outputs": [
    {
     "name": "stdout",
     "output_type": "stream",
     "text": [
      "Process file D:\\PythonDev\\MyQuantFinProject\\Data\\KeyRiskAsset.csv\n",
      "D:\\PythonDev\\MyQuantFinProject\\Data\\KeyRiskAsset.csv\n"
     ]
    }
   ],
   "source": [
    "report_prefix_name=data_file.split('.')[0]\n",
    "data_file=os.path.join(data_path,data_file)\n",
    "if os.path.exists(data_file)==False:\n",
    "    raise Exception(f\"not found {data_file}\")\n",
    "else:\n",
    "    print(f\"Process file {data_file}\")\n",
    "print(data_file)"
   ]
  },
  {
   "cell_type": "markdown",
   "id": "412a9817-b8b9-4075-86cb-4a69949d6c06",
   "metadata": {},
   "source": [
    "# Read csv file and extract and transform data as need"
   ]
  },
  {
   "cell_type": "code",
   "execution_count": 51,
   "id": "dcd64589-b7c5-4d71-93f9-ceb6b8e6c6da",
   "metadata": {
    "tags": []
   },
   "outputs": [
    {
     "name": "stdout",
     "output_type": "stream",
     "text": [
      "<class 'pandas.core.frame.DataFrame'>\n",
      "DatetimeIndex: 365 entries, 2023-06-01 to 2023-10-31\n",
      "Data columns (total 2 columns):\n",
      " #   Column  Non-Null Count  Dtype  \n",
      "---  ------  --------------  -----  \n",
      " 0   symbol  365 non-null    object \n",
      " 1   price   365 non-null    float64\n",
      "dtypes: float64(1), object(1)\n",
      "memory usage: 8.6+ KB\n",
      "None\n"
     ]
    },
    {
     "data": {
      "text/html": [
       "<div>\n",
       "<style scoped>\n",
       "    .dataframe tbody tr th:only-of-type {\n",
       "        vertical-align: middle;\n",
       "    }\n",
       "\n",
       "    .dataframe tbody tr th {\n",
       "        vertical-align: top;\n",
       "    }\n",
       "\n",
       "    .dataframe thead th {\n",
       "        text-align: right;\n",
       "    }\n",
       "</style>\n",
       "<table border=\"1\" class=\"dataframe\">\n",
       "  <thead>\n",
       "    <tr style=\"text-align: right;\">\n",
       "      <th></th>\n",
       "      <th>symbol</th>\n",
       "      <th>price</th>\n",
       "    </tr>\n",
       "    <tr>\n",
       "      <th>date</th>\n",
       "      <th></th>\n",
       "      <th></th>\n",
       "    </tr>\n",
       "  </thead>\n",
       "  <tbody>\n",
       "    <tr>\n",
       "      <th>2023-10-27</th>\n",
       "      <td>BTC-USD</td>\n",
       "      <td>33909.80</td>\n",
       "    </tr>\n",
       "    <tr>\n",
       "      <th>2023-10-27</th>\n",
       "      <td>GLD</td>\n",
       "      <td>186.15</td>\n",
       "    </tr>\n",
       "    <tr>\n",
       "      <th>2023-10-28</th>\n",
       "      <td>BTC-USD</td>\n",
       "      <td>34089.57</td>\n",
       "    </tr>\n",
       "    <tr>\n",
       "      <th>2023-10-29</th>\n",
       "      <td>BTC-USD</td>\n",
       "      <td>34538.48</td>\n",
       "    </tr>\n",
       "    <tr>\n",
       "      <th>2023-10-30</th>\n",
       "      <td>GLD</td>\n",
       "      <td>185.10</td>\n",
       "    </tr>\n",
       "    <tr>\n",
       "      <th>2023-10-30</th>\n",
       "      <td>QQQ</td>\n",
       "      <td>349.20</td>\n",
       "    </tr>\n",
       "    <tr>\n",
       "      <th>2023-10-30</th>\n",
       "      <td>BTC-USD</td>\n",
       "      <td>34502.36</td>\n",
       "    </tr>\n",
       "    <tr>\n",
       "      <th>2023-10-31</th>\n",
       "      <td>BTC-USD</td>\n",
       "      <td>34667.78</td>\n",
       "    </tr>\n",
       "    <tr>\n",
       "      <th>2023-10-31</th>\n",
       "      <td>GLD</td>\n",
       "      <td>184.09</td>\n",
       "    </tr>\n",
       "    <tr>\n",
       "      <th>2023-10-31</th>\n",
       "      <td>QQQ</td>\n",
       "      <td>350.87</td>\n",
       "    </tr>\n",
       "  </tbody>\n",
       "</table>\n",
       "</div>"
      ],
      "text/plain": [
       "             symbol     price\n",
       "date                         \n",
       "2023-10-27  BTC-USD  33909.80\n",
       "2023-10-27      GLD    186.15\n",
       "2023-10-28  BTC-USD  34089.57\n",
       "2023-10-29  BTC-USD  34538.48\n",
       "2023-10-30      GLD    185.10\n",
       "2023-10-30      QQQ    349.20\n",
       "2023-10-30  BTC-USD  34502.36\n",
       "2023-10-31  BTC-USD  34667.78\n",
       "2023-10-31      GLD    184.09\n",
       "2023-10-31      QQQ    350.87"
      ]
     },
     "execution_count": 51,
     "metadata": {},
     "output_type": "execute_result"
    }
   ],
   "source": [
    "df = pd.read_csv(data_file,index_col='Date/Time',parse_dates=['Date/Time'],dayfirst=True)\n",
    "df.index.set_names('date',inplace=True)\n",
    "df.sort_index(inplace=True)\n",
    "df=df.rename(columns={'Ticker':'symbol','close':'price'})\n",
    "df=df[['symbol','price']]\n",
    "\n",
    "#test 1\n",
    "df=df.query(\"symbol in ('QQQ','GLD','BTC-USD')\")\n",
    "print(df.info())\n",
    "\n",
    "df.tail(10)"
   ]
  },
  {
   "cell_type": "code",
   "execution_count": 52,
   "id": "7e42990f-e162-4575-9628-534508ed98be",
   "metadata": {
    "tags": []
   },
   "outputs": [
    {
     "name": "stdout",
     "output_type": "stream",
     "text": [
      "['GLD', 'BTC-USD', 'QQQ']\n"
     ]
    }
   ],
   "source": [
    "list_symbol=df['symbol'].unique().tolist() \n",
    "\n",
    "print(list_symbol)\n"
   ]
  },
  {
   "cell_type": "markdown",
   "id": "0cc04abe-e72a-4dfb-a735-928b94be49d3",
   "metadata": {},
   "source": [
    "# Basic"
   ]
  },
  {
   "cell_type": "markdown",
   "id": "3b87771b-7afc-4d03-bff4-b8dc283be9cd",
   "metadata": {},
   "source": [
    "# Resample data and calculate Percentage of change"
   ]
  },
  {
   "cell_type": "code",
   "execution_count": 57,
   "id": "820598bf-8c3b-44c7-bf87-e5bbc51f14aa",
   "metadata": {
    "tags": []
   },
   "outputs": [
    {
     "name": "stdout",
     "output_type": "stream",
     "text": [
      "Empty DataFrame\n",
      "Columns: [symbol, date, pct_change, std_of_daily_pct, return_to_std]\n",
      "Index: []\n"
     ]
    }
   ],
   "source": [
    "colsROC=['symbol','date','pct_change','std_of_daily_pct','return_to_std']\n",
    "df_Pct_Price=pd.DataFrame(columns=colsROC)\n",
    "print(df_Pct_Price)"
   ]
  },
  {
   "cell_type": "code",
   "execution_count": 58,
   "id": "a0855824-5628-471f-bc94-bcabdcd7fc5e",
   "metadata": {
    "tags": []
   },
   "outputs": [
    {
     "name": "stdout",
     "output_type": "stream",
     "text": [
      "====================================GLD====================================\n",
      "  symbol       date  pct_change  std_of_daily_pct  return_to_std\n",
      "0    GLD 2023-08-31       -1.28          0.469818      -2.724459\n",
      "1    GLD 2023-09-30       -4.76          0.524789      -9.070317\n",
      "2    GLD 2023-10-31        7.37          0.968912       7.606467\n",
      "====================================BTC-USD====================================\n",
      "    symbol       date  pct_change  std_of_daily_pct  return_to_std\n",
      "0  BTC-USD 2023-08-31      -11.29          2.127747      -5.306082\n",
      "1  BTC-USD 2023-09-30        4.00          1.171055       3.415723\n",
      "2  BTC-USD 2023-10-31       28.55          2.368086      12.056151\n",
      "====================================QQQ====================================\n",
      "  symbol       date  pct_change  std_of_daily_pct  return_to_std\n",
      "0    QQQ 2023-08-31       -1.48          1.145144      -1.292413\n",
      "1    QQQ 2023-09-30       -5.22          0.889364      -5.869360\n",
      "2    QQQ 2023-10-31       -2.07          1.189801      -1.739787\n"
     ]
    },
    {
     "name": "stderr",
     "output_type": "stream",
     "text": [
      "C:\\Users\\pongthsa\\AppData\\Local\\Temp\\ipykernel_20200\\1989384564.py:8: SettingWithCopyWarning: \n",
      "A value is trying to be set on a copy of a slice from a DataFrame.\n",
      "Try using .loc[row_indexer,col_indexer] = value instead\n",
      "\n",
      "See the caveats in the documentation: https://pandas.pydata.org/pandas-docs/stable/user_guide/indexing.html#returning-a-view-versus-a-copy\n",
      "  dfx_symbol['_pct_compare_prev_']=dfx_symbol['price'].pct_change()\n",
      "C:\\Users\\pongthsa\\AppData\\Local\\Temp\\ipykernel_20200\\1989384564.py:8: SettingWithCopyWarning: \n",
      "A value is trying to be set on a copy of a slice from a DataFrame.\n",
      "Try using .loc[row_indexer,col_indexer] = value instead\n",
      "\n",
      "See the caveats in the documentation: https://pandas.pydata.org/pandas-docs/stable/user_guide/indexing.html#returning-a-view-versus-a-copy\n",
      "  dfx_symbol['_pct_compare_prev_']=dfx_symbol['price'].pct_change()\n",
      "C:\\Users\\pongthsa\\AppData\\Local\\Temp\\ipykernel_20200\\1989384564.py:8: SettingWithCopyWarning: \n",
      "A value is trying to be set on a copy of a slice from a DataFrame.\n",
      "Try using .loc[row_indexer,col_indexer] = value instead\n",
      "\n",
      "See the caveats in the documentation: https://pandas.pydata.org/pandas-docs/stable/user_guide/indexing.html#returning-a-view-versus-a-copy\n",
      "  dfx_symbol['_pct_compare_prev_']=dfx_symbol['price'].pct_change()\n"
     ]
    }
   ],
   "source": [
    "#https://pandas.pydata.org/docs/reference/api/pandas.core.resample.Resampler.aggregate.html\n",
    "#https://stackoverflow.com/questions/47938372/pandas-dataframe-resample-aggregate-function-use-multiple-columns-with-a-customi\n",
    "#https://www.alpharithms.com/aggregating-time-series-data-with-pandas-resampling-411212/\n",
    "# https://sparkbyexamples.com/pandas/pandas-aggregate-functions-with-examples/\n",
    "for symbol_name in list_symbol:\n",
    "    print(f\"===================================={symbol_name}====================================\")\n",
    "    dfx_symbol=df.query('symbol==@symbol_name')\n",
    "    dfx_symbol['_pct_compare_prev_']=dfx_symbol['price'].pct_change()\n",
    "    dfx_symbol=dfx_symbol.loc[from_str:to_str]\n",
    "    #print(dfx_symbol.tail())\n",
    "    \n",
    "    \n",
    "    dfx_px=dfx_symbol.resample(timeframe).agg({'price': 'last','_pct_compare_prev_':'std'}) \n",
    "    dfx_px=dfx_px.rename(columns={'_pct_compare_prev_':'std_of_daily_pct'})\n",
    "\n",
    "    dfx_px['pct_change']=dfx_px['price'].pct_change()\n",
    "    dfx_px['pct_change']=dfx_px['pct_change'].round(4)\n",
    "\n",
    "    dfx_px=dfx_px.dropna() # the first  rown \n",
    "    dfx_px=dfx_px.drop(columns=['price']) # remove price becase we are focuse ROC of Price\n",
    "    \n",
    "    dfx_px['pct_change']=dfx_px['pct_change']*100\n",
    "    dfx_px['std_of_daily_pct']=dfx_px['std_of_daily_pct']*100\n",
    "    \n",
    "    dfx_px['return_to_std']=dfx_px['pct_change']/dfx_px['std_of_daily_pct']\n",
    "    \n",
    "    dfx_px=dfx_px.reset_index()\n",
    "    dfx_px['symbol']=symbol_name\n",
    "    dfx_px=dfx_px[colsROC]\n",
    "    \n",
    "#     print(f\"Calculate ROC of {symbol_name}\")\n",
    "    print(dfx_px)\n",
    "    \n",
    "    df_Pct_Price=pd.concat([df_Pct_Price,dfx_px],ignore_index=True,axis=0)"
   ]
  },
  {
   "cell_type": "code",
   "execution_count": 59,
   "id": "810c8e0f-4345-40bc-81b3-5074b8adf7ec",
   "metadata": {
    "tags": []
   },
   "outputs": [
    {
     "name": "stdout",
     "output_type": "stream",
     "text": [
      "==============================================================\n",
      "List calculate Percentage of change\n",
      "    symbol       date  pct_change  std_of_daily_pct  return_to_std\n",
      "0      GLD 2023-08-31       -1.28          0.469818      -2.724459\n",
      "1      GLD 2023-09-30       -4.76          0.524789      -9.070317\n",
      "2      GLD 2023-10-31        7.37          0.968912       7.606467\n",
      "3  BTC-USD 2023-08-31      -11.29          2.127747      -5.306082\n",
      "4  BTC-USD 2023-09-30        4.00          1.171055       3.415723\n",
      "5  BTC-USD 2023-10-31       28.55          2.368086      12.056151\n",
      "6      QQQ 2023-08-31       -1.48          1.145144      -1.292413\n",
      "7      QQQ 2023-09-30       -5.22          0.889364      -5.869360\n",
      "8      QQQ 2023-10-31       -2.07          1.189801      -1.739787\n"
     ]
    }
   ],
   "source": [
    "print(\"==============================================================\")\n",
    "print(\"List calculate Percentage of change\")\n",
    "print(df_Pct_Price)"
   ]
  },
  {
   "cell_type": "code",
   "execution_count": null,
   "id": "847226bb-cce6-4292-9602-be393cde2138",
   "metadata": {},
   "outputs": [],
   "source": []
  },
  {
   "cell_type": "code",
   "execution_count": null,
   "id": "40e96df5-1bc5-4a15-b1f9-a688af36415e",
   "metadata": {},
   "outputs": [],
   "source": []
  },
  {
   "cell_type": "markdown",
   "id": "86d7dd09-b073-4089-9992-c5e5c3de96fc",
   "metadata": {},
   "source": [
    "# Sum percentage of fund return"
   ]
  },
  {
   "cell_type": "code",
   "execution_count": 70,
   "id": "0a42719e-4712-4f59-bc25-142dee7f853b",
   "metadata": {
    "tags": []
   },
   "outputs": [
    {
     "name": "stdout",
     "output_type": "stream",
     "text": [
      "==============================================================\n",
      "Sum percentage of fund return\n",
      "Empty DataFrame\n",
      "Columns: [symbol, pct_change]\n",
      "Index: []\n"
     ]
    }
   ],
   "source": [
    "print(\"==============================================================\")\n",
    "print(\"Sum percentage of fund return\")\n",
    "dfSum_Pct_Price=df_Pct_Price.groupby(['symbol'])[['pct_change']].sum()\n",
    "dfSum_Pct_Price.reset_index(drop=False,inplace=True)\n",
    "dfSum_Pct_Price=dfSum_Pct_Price.sort_values(by=\"pct_change\",ascending=False)\n",
    "dfSum_Pct_Price[\"pct_change\"]=dfSum_Pct_Price[\"pct_change\"].round(1)\n",
    "print(dfSum_Pct_Price)"
   ]
  },
  {
   "cell_type": "code",
   "execution_count": 71,
   "id": "d5fea99c-fff5-4be6-85dc-b2aced7e32d1",
   "metadata": {
    "tags": []
   },
   "outputs": [],
   "source": [
    "# writer=pd.ExcelWriter( \"BasicFundPerformanceReport.xlsx\",engine='openpyxl') \n",
    "\n",
    "# df_Pct_Price.to_csv(f\"ETF-{timeframe}-Return.csv\",index=False)\n",
    "# dfSum_Pct_Price.to_csv(f\"ETF-{timeframe}-TotalReturn.csv\",index=False)\n"
   ]
  },
  {
   "cell_type": "markdown",
   "id": "1da8f6c0-3297-466b-a229-a5c3e9ed2e72",
   "metadata": {},
   "source": [
    "# Advance"
   ]
  },
  {
   "cell_type": "markdown",
   "id": "23404b4f-839d-468b-a554-f3d595c521a6",
   "metadata": {},
   "source": [
    "# Pivot Percent Return To Dataframe"
   ]
  },
  {
   "cell_type": "code",
   "execution_count": 64,
   "id": "f1aa21e9-8d26-4ca2-becd-4dfaccdb0fa4",
   "metadata": {
    "tags": []
   },
   "outputs": [
    {
     "data": {
      "text/html": [
       "<div>\n",
       "<style scoped>\n",
       "    .dataframe tbody tr th:only-of-type {\n",
       "        vertical-align: middle;\n",
       "    }\n",
       "\n",
       "    .dataframe tbody tr th {\n",
       "        vertical-align: top;\n",
       "    }\n",
       "\n",
       "    .dataframe thead th {\n",
       "        text-align: right;\n",
       "    }\n",
       "</style>\n",
       "<table border=\"1\" class=\"dataframe\">\n",
       "  <thead>\n",
       "    <tr style=\"text-align: right;\">\n",
       "      <th>symbol</th>\n",
       "      <th>ASP-SME</th>\n",
       "      <th>K-MIDSMALL</th>\n",
       "      <th>KKP-SM-CAP</th>\n",
       "      <th>KKP-TQG</th>\n",
       "      <th>KTMSEQ</th>\n",
       "      <th>TISCOMS-A</th>\n",
       "    </tr>\n",
       "    <tr>\n",
       "      <th>date</th>\n",
       "      <th></th>\n",
       "      <th></th>\n",
       "      <th></th>\n",
       "      <th></th>\n",
       "      <th></th>\n",
       "      <th></th>\n",
       "    </tr>\n",
       "  </thead>\n",
       "  <tbody>\n",
       "    <tr>\n",
       "      <th>2023-09-08</th>\n",
       "      <td>-0.93</td>\n",
       "      <td>-0.11</td>\n",
       "      <td>-0.53</td>\n",
       "      <td>-1.04</td>\n",
       "      <td>0.05</td>\n",
       "      <td>0.54</td>\n",
       "    </tr>\n",
       "    <tr>\n",
       "      <th>2023-09-15</th>\n",
       "      <td>-0.94</td>\n",
       "      <td>-1.21</td>\n",
       "      <td>-0.53</td>\n",
       "      <td>0.12</td>\n",
       "      <td>-0.63</td>\n",
       "      <td>-0.83</td>\n",
       "    </tr>\n",
       "    <tr>\n",
       "      <th>2023-09-22</th>\n",
       "      <td>-0.69</td>\n",
       "      <td>-1.16</td>\n",
       "      <td>-1.07</td>\n",
       "      <td>0.00</td>\n",
       "      <td>-0.80</td>\n",
       "      <td>-0.98</td>\n",
       "    </tr>\n",
       "    <tr>\n",
       "      <th>2023-09-29</th>\n",
       "      <td>-2.02</td>\n",
       "      <td>-3.59</td>\n",
       "      <td>-2.29</td>\n",
       "      <td>-3.14</td>\n",
       "      <td>-2.84</td>\n",
       "      <td>-2.53</td>\n",
       "    </tr>\n",
       "  </tbody>\n",
       "</table>\n",
       "</div>"
      ],
      "text/plain": [
       "symbol      ASP-SME  K-MIDSMALL  KKP-SM-CAP  KKP-TQG  KTMSEQ  TISCOMS-A\n",
       "date                                                                   \n",
       "2023-09-08    -0.93       -0.11       -0.53    -1.04    0.05       0.54\n",
       "2023-09-15    -0.94       -1.21       -0.53     0.12   -0.63      -0.83\n",
       "2023-09-22    -0.69       -1.16       -1.07     0.00   -0.80      -0.98\n",
       "2023-09-29    -2.02       -3.59       -2.29    -3.14   -2.84      -2.53"
      ]
     },
     "execution_count": 64,
     "metadata": {},
     "output_type": "execute_result"
    }
   ],
   "source": [
    "print(\"==============================================================\")\n",
    "print(\"Pivot Percent Return To Dataframe\")\n",
    "dfPct=df_Pct_Price.pivot(index='date', columns='symbol', values='pct_change')\n",
    "# print(dfPct.info())\n",
    "print(dfPct)"
   ]
  },
  {
   "cell_type": "markdown",
   "id": "6d9d2077-2b8e-4760-8945-961fed91d7b0",
   "metadata": {},
   "source": [
    "# Take Percent Return to Find Rank"
   ]
  },
  {
   "cell_type": "code",
   "execution_count": 65,
   "id": "5d58ed8a-f023-41ea-905b-6463a4622976",
   "metadata": {
    "tags": []
   },
   "outputs": [
    {
     "data": {
      "text/html": [
       "<div>\n",
       "<style scoped>\n",
       "    .dataframe tbody tr th:only-of-type {\n",
       "        vertical-align: middle;\n",
       "    }\n",
       "\n",
       "    .dataframe tbody tr th {\n",
       "        vertical-align: top;\n",
       "    }\n",
       "\n",
       "    .dataframe thead th {\n",
       "        text-align: right;\n",
       "    }\n",
       "</style>\n",
       "<table border=\"1\" class=\"dataframe\">\n",
       "  <thead>\n",
       "    <tr style=\"text-align: right;\">\n",
       "      <th>symbol</th>\n",
       "      <th>ASP-SME</th>\n",
       "      <th>K-MIDSMALL</th>\n",
       "      <th>KKP-SM-CAP</th>\n",
       "      <th>KKP-TQG</th>\n",
       "      <th>KTMSEQ</th>\n",
       "      <th>TISCOMS-A</th>\n",
       "    </tr>\n",
       "    <tr>\n",
       "      <th>date</th>\n",
       "      <th></th>\n",
       "      <th></th>\n",
       "      <th></th>\n",
       "      <th></th>\n",
       "      <th></th>\n",
       "      <th></th>\n",
       "    </tr>\n",
       "  </thead>\n",
       "  <tbody>\n",
       "    <tr>\n",
       "      <th>2023-09-08</th>\n",
       "      <td>2.0</td>\n",
       "      <td>4.0</td>\n",
       "      <td>3.0</td>\n",
       "      <td>1.0</td>\n",
       "      <td>5.0</td>\n",
       "      <td>6.0</td>\n",
       "    </tr>\n",
       "    <tr>\n",
       "      <th>2023-09-15</th>\n",
       "      <td>2.0</td>\n",
       "      <td>1.0</td>\n",
       "      <td>5.0</td>\n",
       "      <td>6.0</td>\n",
       "      <td>4.0</td>\n",
       "      <td>3.0</td>\n",
       "    </tr>\n",
       "    <tr>\n",
       "      <th>2023-09-22</th>\n",
       "      <td>5.0</td>\n",
       "      <td>1.0</td>\n",
       "      <td>2.0</td>\n",
       "      <td>6.0</td>\n",
       "      <td>4.0</td>\n",
       "      <td>3.0</td>\n",
       "    </tr>\n",
       "    <tr>\n",
       "      <th>2023-09-29</th>\n",
       "      <td>6.0</td>\n",
       "      <td>1.0</td>\n",
       "      <td>5.0</td>\n",
       "      <td>2.0</td>\n",
       "      <td>3.0</td>\n",
       "      <td>4.0</td>\n",
       "    </tr>\n",
       "  </tbody>\n",
       "</table>\n",
       "</div>"
      ],
      "text/plain": [
       "symbol      ASP-SME  K-MIDSMALL  KKP-SM-CAP  KKP-TQG  KTMSEQ  TISCOMS-A\n",
       "date                                                                   \n",
       "2023-09-08      2.0         4.0         3.0      1.0     5.0        6.0\n",
       "2023-09-15      2.0         1.0         5.0      6.0     4.0        3.0\n",
       "2023-09-22      5.0         1.0         2.0      6.0     4.0        3.0\n",
       "2023-09-29      6.0         1.0         5.0      2.0     3.0        4.0"
      ]
     },
     "execution_count": 65,
     "metadata": {},
     "output_type": "execute_result"
    }
   ],
   "source": [
    "print(\"==============================================================\")\n",
    "print(\"Take Percent Return to Find Rank\")\n",
    "dfRank=dfPct[dfPct.columns.tolist()].rank(method='max',axis=1)\n",
    "print(dfRank)"
   ]
  },
  {
   "cell_type": "markdown",
   "id": "867a96dc-668e-4a86-85ca-bf29c6cf81fb",
   "metadata": {
    "tags": []
   },
   "source": [
    "# Combine Both return and Rank"
   ]
  },
  {
   "cell_type": "code",
   "execution_count": 67,
   "id": "459ec0a8-785f-4b93-9eec-e1a4a53b6703",
   "metadata": {
    "tags": []
   },
   "outputs": [
    {
     "data": {
      "text/html": [
       "<div>\n",
       "<style scoped>\n",
       "    .dataframe tbody tr th:only-of-type {\n",
       "        vertical-align: middle;\n",
       "    }\n",
       "\n",
       "    .dataframe tbody tr th {\n",
       "        vertical-align: top;\n",
       "    }\n",
       "\n",
       "    .dataframe thead th {\n",
       "        text-align: right;\n",
       "    }\n",
       "</style>\n",
       "<table border=\"1\" class=\"dataframe\">\n",
       "  <thead>\n",
       "    <tr style=\"text-align: right;\">\n",
       "      <th></th>\n",
       "      <th>sum_return</th>\n",
       "      <th>sum_rank</th>\n",
       "    </tr>\n",
       "    <tr>\n",
       "      <th>symbol</th>\n",
       "      <th></th>\n",
       "      <th></th>\n",
       "    </tr>\n",
       "  </thead>\n",
       "  <tbody>\n",
       "    <tr>\n",
       "      <th>ASP-SME</th>\n",
       "      <td>-4.58</td>\n",
       "      <td>15.0</td>\n",
       "    </tr>\n",
       "    <tr>\n",
       "      <th>K-MIDSMALL</th>\n",
       "      <td>-6.07</td>\n",
       "      <td>7.0</td>\n",
       "    </tr>\n",
       "    <tr>\n",
       "      <th>KKP-SM-CAP</th>\n",
       "      <td>-4.42</td>\n",
       "      <td>15.0</td>\n",
       "    </tr>\n",
       "    <tr>\n",
       "      <th>KKP-TQG</th>\n",
       "      <td>-4.06</td>\n",
       "      <td>15.0</td>\n",
       "    </tr>\n",
       "    <tr>\n",
       "      <th>KTMSEQ</th>\n",
       "      <td>-4.22</td>\n",
       "      <td>16.0</td>\n",
       "    </tr>\n",
       "    <tr>\n",
       "      <th>TISCOMS-A</th>\n",
       "      <td>-3.80</td>\n",
       "      <td>16.0</td>\n",
       "    </tr>\n",
       "  </tbody>\n",
       "</table>\n",
       "</div>"
      ],
      "text/plain": [
       "            sum_return  sum_rank\n",
       "symbol                          \n",
       "ASP-SME          -4.58      15.0\n",
       "K-MIDSMALL       -6.07       7.0\n",
       "KKP-SM-CAP       -4.42      15.0\n",
       "KKP-TQG          -4.06      15.0\n",
       "KTMSEQ           -4.22      16.0\n",
       "TISCOMS-A        -3.80      16.0"
      ]
     },
     "execution_count": 67,
     "metadata": {},
     "output_type": "execute_result"
    }
   ],
   "source": [
    "print(\"==============================================================\")\n",
    "print(\"Combine Both return and Rank\")\n",
    "dfSummary=pd.concat([\\\n",
    "                     dfPct.sum().to_frame(name='sum_return'),\\\n",
    "                     dfRank.sum().to_frame(name='sum_rank'),\\\n",
    "                    ],axis=1)\n",
    "dfSummary.fillna(value=0,inplace=True)\n",
    "print(dfSummary)"
   ]
  },
  {
   "cell_type": "markdown",
   "id": "ac303ef7-7bc0-40da-833e-c3b3b8e3de5c",
   "metadata": {},
   "source": [
    "# Summarize Total Score "
   ]
  },
  {
   "cell_type": "code",
   "execution_count": 68,
   "id": "a0858adb-076e-41d2-8b61-2bbf5aa4e848",
   "metadata": {
    "tags": []
   },
   "outputs": [
    {
     "data": {
      "text/html": [
       "<div>\n",
       "<style scoped>\n",
       "    .dataframe tbody tr th:only-of-type {\n",
       "        vertical-align: middle;\n",
       "    }\n",
       "\n",
       "    .dataframe tbody tr th {\n",
       "        vertical-align: top;\n",
       "    }\n",
       "\n",
       "    .dataframe thead th {\n",
       "        text-align: right;\n",
       "    }\n",
       "</style>\n",
       "<table border=\"1\" class=\"dataframe\">\n",
       "  <thead>\n",
       "    <tr style=\"text-align: right;\">\n",
       "      <th></th>\n",
       "      <th>sum_return</th>\n",
       "      <th>sum_rank</th>\n",
       "      <th>TotalScore</th>\n",
       "    </tr>\n",
       "    <tr>\n",
       "      <th>symbol</th>\n",
       "      <th></th>\n",
       "      <th></th>\n",
       "      <th></th>\n",
       "    </tr>\n",
       "  </thead>\n",
       "  <tbody>\n",
       "    <tr>\n",
       "      <th>TISCOMS-A</th>\n",
       "      <td>6.0</td>\n",
       "      <td>6.0</td>\n",
       "      <td>12.0</td>\n",
       "    </tr>\n",
       "    <tr>\n",
       "      <th>KTMSEQ</th>\n",
       "      <td>4.0</td>\n",
       "      <td>6.0</td>\n",
       "      <td>10.0</td>\n",
       "    </tr>\n",
       "    <tr>\n",
       "      <th>KKP-TQG</th>\n",
       "      <td>5.0</td>\n",
       "      <td>4.0</td>\n",
       "      <td>9.0</td>\n",
       "    </tr>\n",
       "    <tr>\n",
       "      <th>KKP-SM-CAP</th>\n",
       "      <td>3.0</td>\n",
       "      <td>4.0</td>\n",
       "      <td>7.0</td>\n",
       "    </tr>\n",
       "    <tr>\n",
       "      <th>ASP-SME</th>\n",
       "      <td>2.0</td>\n",
       "      <td>4.0</td>\n",
       "      <td>6.0</td>\n",
       "    </tr>\n",
       "    <tr>\n",
       "      <th>K-MIDSMALL</th>\n",
       "      <td>1.0</td>\n",
       "      <td>1.0</td>\n",
       "      <td>2.0</td>\n",
       "    </tr>\n",
       "  </tbody>\n",
       "</table>\n",
       "</div>"
      ],
      "text/plain": [
       "            sum_return  sum_rank  TotalScore\n",
       "symbol                                      \n",
       "TISCOMS-A          6.0       6.0        12.0\n",
       "KTMSEQ             4.0       6.0        10.0\n",
       "KKP-TQG            5.0       4.0         9.0\n",
       "KKP-SM-CAP         3.0       4.0         7.0\n",
       "ASP-SME            2.0       4.0         6.0\n",
       "K-MIDSMALL         1.0       1.0         2.0"
      ]
     },
     "execution_count": 68,
     "metadata": {},
     "output_type": "execute_result"
    }
   ],
   "source": [
    "print(\"==============================================================\")\n",
    "print(\"Summarize Total Score \")\n",
    "dfFinalScore=dfSummary.rank(method='max',axis=0)\n",
    "dfFinalScore['TotalScore']=dfFinalScore.sum(axis=1)\n",
    "dfFinalScore.sort_values(by='TotalScore',ascending=False,inplace=True)\n",
    "print(dfFinalScore)"
   ]
  },
  {
   "cell_type": "code",
   "execution_count": 69,
   "id": "94b64c56-3979-421a-8f46-97bb9da9eebe",
   "metadata": {
    "tags": []
   },
   "outputs": [],
   "source": [
    "if isPriceExcel:\n",
    "    print(\"Export outcoome as Excel\")\n",
    "    with pd.ExcelWriter(f\"{report_prefix_name}_{timeframe}_{from_str}To{to_str}.xlsx\") as writer:\n",
    "        dfPct.to_excel(writer, sheet_name=f\"{timeframe}-Return\")\n",
    "        dfSum_Pct_Price.to_excel(writer, sheet_name=\"Return\")\n",
    "        dfRank.to_excel(writer, sheet_name=\"RANK\")\n",
    "        dfSummary.to_excel(writer, sheet_name=\"Summary\")\n",
    "        dfFinalScore.to_excel(writer, sheet_name=\"FinalScore\")"
   ]
  },
  {
   "cell_type": "code",
   "execution_count": null,
   "id": "7d931b7c-bd57-47dd-8004-8d0122494ba4",
   "metadata": {},
   "outputs": [],
   "source": []
  }
 ],
 "metadata": {
  "kernelspec": {
   "display_name": "Python 3 (ipykernel)",
   "language": "python",
   "name": "python3"
  },
  "language_info": {
   "codemirror_mode": {
    "name": "ipython",
    "version": 3
   },
   "file_extension": ".py",
   "mimetype": "text/x-python",
   "name": "python",
   "nbconvert_exporter": "python",
   "pygments_lexer": "ipython3",
   "version": "3.10.12"
  }
 },
 "nbformat": 4,
 "nbformat_minor": 5
}
