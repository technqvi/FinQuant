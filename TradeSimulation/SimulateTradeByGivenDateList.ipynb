{
 "cells": [
  {
   "cell_type": "code",
   "execution_count": 7,
   "id": "44d3c23d-1929-4980-a31b-bd31b011ac4b",
   "metadata": {},
   "outputs": [],
   "source": [
    "import pandas as pd\n",
    "import numpy as np\n",
    "from datetime import datetime"
   ]
  },
  {
   "cell_type": "code",
   "execution_count": 8,
   "id": "b0fdef72-d82b-40bf-a4a7-88f979739ab0",
   "metadata": {},
   "outputs": [
    {
     "name": "stdout",
     "output_type": "stream",
     "text": [
      "['KKP-SM-CAP' 'ASP-SME' 'TISCOFLEXP']\n",
      "<class 'pandas.core.frame.DataFrame'>\n",
      "RangeIndex: 2181 entries, 0 to 2180\n",
      "Data columns (total 3 columns):\n",
      " #   Column  Non-Null Count  Dtype         \n",
      "---  ------  --------------  -----         \n",
      " 0   symbol  2181 non-null   object        \n",
      " 1   date    2181 non-null   datetime64[ns]\n",
      " 2   price   2181 non-null   float64       \n",
      "dtypes: datetime64[ns](1), float64(1), object(1)\n",
      "memory usage: 51.2+ KB\n",
      "          symbol       date  price\n",
      "2176  TISCOFLEXP 2022-12-30  61.68\n",
      "2177  TISCOFLEXP 2023-01-03  61.76\n",
      "2178  TISCOFLEXP 2023-01-04  60.98\n",
      "2179  TISCOFLEXP 2023-01-05  60.75\n",
      "2180  TISCOFLEXP 2023-01-06  60.56\n"
     ]
    }
   ],
   "source": [
    "TotalBudget=100000\n",
    "# df=pd.read_csv('ASP-SME_KKP-SM-TRade.csv',index_col='Date/Time',parse_dates=['Date/Time'],dayfirst=True)\n",
    "df=pd.read_csv('TestPort.csv',parse_dates=['Date/Time'],dayfirst=True)\n",
    "# df.index.set_names('date',inplace=True)\n",
    "df.columns=['symbol','date','price']\n",
    "\n",
    "list_symbols=df['symbol'].unique()\n",
    "print(list_symbols)\n",
    "df.info()\n",
    "print(df.tail())"
   ]
  },
  {
   "cell_type": "code",
   "execution_count": 9,
   "id": "9a46dfec-0f42-446d-a947-89a1721f1952",
   "metadata": {},
   "outputs": [
    {
     "name": "stdout",
     "output_type": "stream",
     "text": [
      "[Timestamp('2020-12-01 00:00:00'), Timestamp('2021-01-05 00:00:00'), Timestamp('2021-01-15 00:00:00'), Timestamp('2021-02-01 00:00:00'), Timestamp('2022-01-19 00:00:00'), Timestamp('2022-02-10 00:00:00'), Timestamp('2022-03-03 00:00:00'), Timestamp('2022-04-29 00:00:00')]\n",
      "================================================================================================\n",
      "  trade_date  portion_pct action\n",
      "0 2020-12-01         30.0      b\n",
      "1 2021-01-05         20.0      b\n",
      "2 2021-01-15         20.0      b\n",
      "3 2021-02-01         30.0      b\n",
      "4 2022-01-19         40.0      s\n",
      "5 2022-02-10         20.0      s\n",
      "6 2022-03-03         20.0      s\n",
      "7 2022-04-29         20.0      s\n",
      "            buy_comm_pct  sell_comm_pct\n",
      "symbol                                 \n",
      "KKP-SM-CAP           1.0            0.0\n"
     ]
    }
   ],
   "source": [
    "dfPlan=pd.read_excel('ListTradeTran.xlsx',engine=\"openpyxl\",sheet_name='TradePlan', \\\n",
    "                     parse_dates=['trade_date'],dtype ={'portion_pct': np.float64})\n",
    "dfAssetInfo=pd.read_excel('ListTradeTran.xlsx',engine=\"openpyxl\",sheet_name='AssetInfo',\\\n",
    "                    index_col='symbol', dtype ={'buy_comm_pct': np.float64,'sell_comm_pct': np.float64})\n",
    "\n",
    "tradeDateList= [ d for d in list(dfPlan['trade_date']) ]\n",
    "\n",
    "print(tradeDateList)\n",
    "print(\"================================================================================================\")\n",
    "\n",
    "print(dfPlan)\n",
    "print(dfAssetInfo)\n",
    "\n",
    "# verify b and sell , sum of each action have to be 100  "
   ]
  },
  {
   "cell_type": "code",
   "execution_count": 10,
   "id": "c8da1f6f-2281-48fa-8615-a85b8ed7f71d",
   "metadata": {},
   "outputs": [],
   "source": [
    "def set_commision_by_action(item):\n",
    "  x=item['symbol']  \n",
    "  if item['action']=='b':\n",
    "    comm_type='buy_comm_pct'\n",
    "  elif  item['action']=='s':\n",
    "    comm_type='sell_comm_pct'\n",
    "  try:\n",
    "     return dfAssetInfo.loc[x,comm_type]\n",
    "  except Exception as ex:\n",
    "     print(f\"Error : no {x} to get commission\")\n",
    "     return 0\n",
    "def get_qty_buy(item):\n",
    "    xCost=(item['portion_pct']/100)*TotalBudget\n",
    "    xPrice=item['price_on_comm']\n",
    "    qty=xCost/xPrice\n",
    "    return qty\n",
    "def get_qty_sell(item,TotalQty):\n",
    "    qty=(item['portion_pct']/100)*TotalQty\n",
    "    return qty"
   ]
  },
  {
   "cell_type": "code",
   "execution_count": 25,
   "id": "77e7994a-c3be-47a1-9a38-317a0a2d5372",
   "metadata": {},
   "outputs": [
    {
     "name": "stdout",
     "output_type": "stream",
     "text": [
      "KKP-SM-CAP\n",
      "================Buy=================\n",
      "        date  price_on_comm          qty    value  portion_pct\n",
      "0 2020-12-01          12.94  2318.392581  30000.0         30.0\n",
      "1 2021-01-05          13.58  1472.754050  20000.0         20.0\n",
      "2 2021-01-15          13.84  1445.086705  20000.0         20.0\n",
      "3 2021-02-01          14.01  2141.327623  30000.0         30.0\n",
      "=================Sell=================\n",
      "        date  price_on_comm          qty         value  portion_pct\n",
      "4 2022-01-19          18.51  2951.024384  54623.461344         40.0\n",
      "5 2022-02-10          18.06  1475.512192  26647.750186         20.0\n",
      "6 2022-03-03          18.21  1475.512192  26869.077015         20.0\n",
      "7 2022-04-29          18.61  1475.512192  27459.281891         20.0\n"
     ]
    },
    {
     "name": "stderr",
     "output_type": "stream",
     "text": [
      "C:\\Users\\pongthsa\\AppData\\Local\\Temp\\ipykernel_29440\\2972983705.py:19: SettingWithCopyWarning: \n",
      "A value is trying to be set on a copy of a slice from a DataFrame.\n",
      "Try using .loc[row_indexer,col_indexer] = value instead\n",
      "\n",
      "See the caveats in the documentation: https://pandas.pydata.org/pandas-docs/stable/user_guide/indexing.html#returning-a-view-versus-a-copy\n",
      "  buyDF['qty']=buyDF.apply(get_qty_buy,axis=1)\n",
      "C:\\Users\\pongthsa\\AppData\\Local\\Temp\\ipykernel_29440\\2972983705.py:20: SettingWithCopyWarning: \n",
      "A value is trying to be set on a copy of a slice from a DataFrame.\n",
      "Try using .loc[row_indexer,col_indexer] = value instead\n",
      "\n",
      "See the caveats in the documentation: https://pandas.pydata.org/pandas-docs/stable/user_guide/indexing.html#returning-a-view-versus-a-copy\n",
      "  buyDF['value']=buyDF['qty']*buyDF['price_on_comm']\n",
      "C:\\Users\\pongthsa\\AppData\\Local\\Temp\\ipykernel_29440\\2972983705.py:21: SettingWithCopyWarning: \n",
      "A value is trying to be set on a copy of a slice from a DataFrame.\n",
      "Try using .loc[row_indexer,col_indexer] = value instead\n",
      "\n",
      "See the caveats in the documentation: https://pandas.pydata.org/pandas-docs/stable/user_guide/indexing.html#returning-a-view-versus-a-copy\n",
      "  buyDF['action_value']=buyDF['value']\n",
      "C:\\Users\\pongthsa\\AppData\\Local\\Temp\\ipykernel_29440\\2972983705.py:31: SettingWithCopyWarning: \n",
      "A value is trying to be set on a copy of a slice from a DataFrame.\n",
      "Try using .loc[row_indexer,col_indexer] = value instead\n",
      "\n",
      "See the caveats in the documentation: https://pandas.pydata.org/pandas-docs/stable/user_guide/indexing.html#returning-a-view-versus-a-copy\n",
      "  sellDF['qty']=sellDF.apply(get_qty_sell,axis=1,args=(TotalQty,))\n",
      "C:\\Users\\pongthsa\\AppData\\Local\\Temp\\ipykernel_29440\\2972983705.py:32: SettingWithCopyWarning: \n",
      "A value is trying to be set on a copy of a slice from a DataFrame.\n",
      "Try using .loc[row_indexer,col_indexer] = value instead\n",
      "\n",
      "See the caveats in the documentation: https://pandas.pydata.org/pandas-docs/stable/user_guide/indexing.html#returning-a-view-versus-a-copy\n",
      "  sellDF['value']=sellDF['qty']*sellDF['price_on_comm']\n",
      "C:\\Users\\pongthsa\\AppData\\Local\\Temp\\ipykernel_29440\\2972983705.py:33: SettingWithCopyWarning: \n",
      "A value is trying to be set on a copy of a slice from a DataFrame.\n",
      "Try using .loc[row_indexer,col_indexer] = value instead\n",
      "\n",
      "See the caveats in the documentation: https://pandas.pydata.org/pandas-docs/stable/user_guide/indexing.html#returning-a-view-versus-a-copy\n",
      "  sellDF['action_value']=sellDF['value']*-1\n",
      "C:\\Users\\pongthsa\\AppData\\Local\\Temp\\ipykernel_29440\\2972983705.py:48: FutureWarning: The frame.append method is deprecated and will be removed from pandas in a future version. Use pandas.concat instead.\n",
      "  dfSummary=dfSummary.append(summary_data,ignore_index=True)\n"
     ]
    }
   ],
   "source": [
    "dict_dfTran={}\n",
    "dfSummary=pd.DataFrame(columns=['Symbol','BuyValue','AvgBuyPrice','SellValue','AvgSellPrice','PL','Percent_PL'])\n",
    "for index,item in dfAssetInfo.iterrows():\n",
    "    symbol=index\n",
    "    print(symbol)\n",
    "    dfBS=df[ (df['symbol']==symbol) & (df['date'].isin(tradeDateList))]\n",
    "    dfBS=dfBS.merge(dfPlan,how='inner',left_on='date',right_on='trade_date')\n",
    "    \n",
    "    dfBS['comm']=dfBS.apply(set_commision_by_action,axis=1)\n",
    "    dfBS['price_on_comm']=dfBS.apply(lambda item : item['price']*(1+ (item['comm']/100)) if item['action']=='b' else item['price']*(1-(item['comm']/100)), axis=1)\n",
    "    dfBS['price_on_comm']=dfBS['price_on_comm'].round(2)\n",
    "    \n",
    "    dfBS=dfBS.drop(columns=['trade_date'])\n",
    "    #print(dfBS)\n",
    "    \n",
    "    print(\"================Buy=================\")\n",
    "    buyDF=dfBS.query(\"action=='b'\")    \n",
    "    # cal qury and actual value and  total_val and totl qury\n",
    "    buyDF['qty']=buyDF.apply(get_qty_buy,axis=1)\n",
    "    buyDF['value']=buyDF['qty']*buyDF['price_on_comm']\n",
    "    buyDF['action_value']=buyDF['value']\n",
    "    print(buyDF[['date' ,'price_on_comm','qty','value','portion_pct']])\n",
    "    \n",
    "    TotalQty=buyDF['qty'].sum()\n",
    "    TotalValue=round(buyDF['value'].sum(),2)\n",
    "    AvgPrice=round(TotalValue/TotalQty,2)\n",
    "    # print(f\"Total Buy {symbol} : qty={TotalQty} and value={TotalValue} at AvgPrice={AvgPrice}\")\n",
    "    \n",
    "    print(\"=================Sell=================\")\n",
    "    sellDF=dfBS.query(\"action=='s'\")  \n",
    "    sellDF['qty']=sellDF.apply(get_qty_sell,axis=1,args=(TotalQty,))\n",
    "    sellDF['value']=sellDF['qty']*sellDF['price_on_comm']\n",
    "    sellDF['action_value']=sellDF['value']*-1\n",
    "    print(sellDF[['date' ,'price_on_comm','qty','value','portion_pct']])\n",
    "    \n",
    "    SellTotalQty=sellDF['qty'].sum()\n",
    "    SellTotalValue=round(sellDF['value'].sum(),2)\n",
    "    SellAvgPrice=round(SellTotalValue/SellTotalQty,2)\n",
    "    \n",
    "    # print(f\"Total Sell {symbol} : qty={SellTotalQty} and value={SellTotalValue} at AvgPrice={SellAvgPrice}\")\n",
    "    \n",
    "    PL=round(SellTotalValue-TotalValue,0)\n",
    "    PCT_PL=round(PL/TotalValue*100,2)\n",
    "    \n",
    "    summary_data={'Symbol':symbol,'BuyValue':TotalValue,'AvgBuyPrice':AvgPrice,'SellValue':SellTotalValue,'AvgSellPrice':SellAvgPrice, \\\n",
    "                  'PL':PL,'Percent_PL':PCT_PL\n",
    "                 }\n",
    "    dfSummary=dfSummary.append(summary_data,ignore_index=True)\n",
    "    \n",
    "    dfTran=pd.concat([buyDF,sellDF],axis=0)\n",
    "    dfTran[['value','action_value']]=dfTran[['value','action_value']].round(0)\n",
    "    \n",
    "    dict_dfTran[symbol]=dfTran\n",
    "    \n",
    "    \n",
    "    \n",
    "    \n",
    "\n",
    "    \n"
   ]
  },
  {
   "cell_type": "code",
   "execution_count": 26,
   "id": "ecd1bdf0-954a-44e6-9184-9e264888b527",
   "metadata": {},
   "outputs": [
    {
     "data": {
      "text/html": [
       "<div>\n",
       "<style scoped>\n",
       "    .dataframe tbody tr th:only-of-type {\n",
       "        vertical-align: middle;\n",
       "    }\n",
       "\n",
       "    .dataframe tbody tr th {\n",
       "        vertical-align: top;\n",
       "    }\n",
       "\n",
       "    .dataframe thead th {\n",
       "        text-align: right;\n",
       "    }\n",
       "</style>\n",
       "<table border=\"1\" class=\"dataframe\">\n",
       "  <thead>\n",
       "    <tr style=\"text-align: right;\">\n",
       "      <th></th>\n",
       "      <th>Symbol</th>\n",
       "      <th>BuyValue</th>\n",
       "      <th>AvgBuyPrice</th>\n",
       "      <th>SellValue</th>\n",
       "      <th>AvgSellPrice</th>\n",
       "      <th>PL</th>\n",
       "      <th>Percent_PL</th>\n",
       "    </tr>\n",
       "  </thead>\n",
       "  <tbody>\n",
       "    <tr>\n",
       "      <th>0</th>\n",
       "      <td>KKP-SM-CAP</td>\n",
       "      <td>100000.0</td>\n",
       "      <td>13.55</td>\n",
       "      <td>135599.57</td>\n",
       "      <td>18.38</td>\n",
       "      <td>35600.0</td>\n",
       "      <td>35.6</td>\n",
       "    </tr>\n",
       "  </tbody>\n",
       "</table>\n",
       "</div>"
      ],
      "text/plain": [
       "       Symbol  BuyValue  AvgBuyPrice  SellValue  AvgSellPrice       PL  \\\n",
       "0  KKP-SM-CAP  100000.0        13.55  135599.57         18.38  35600.0   \n",
       "\n",
       "   Percent_PL  \n",
       "0        35.6  "
      ]
     },
     "execution_count": 26,
     "metadata": {},
     "output_type": "execute_result"
    }
   ],
   "source": [
    "print(dfSummary)"
   ]
  },
  {
   "cell_type": "code",
   "execution_count": 28,
   "id": "36bf8217-622f-4d3c-a5c4-269db27bb66a",
   "metadata": {},
   "outputs": [
    {
     "name": "stdout",
     "output_type": "stream",
     "text": [
      "       symbol       date  price  portion_pct action  comm  price_on_comm  \\\n",
      "0  KKP-SM-CAP 2020-12-01  12.81         30.0      b   1.0          12.94   \n",
      "1  KKP-SM-CAP 2021-01-05  13.45         20.0      b   1.0          13.58   \n",
      "2  KKP-SM-CAP 2021-01-15  13.70         20.0      b   1.0          13.84   \n",
      "3  KKP-SM-CAP 2021-02-01  13.87         30.0      b   1.0          14.01   \n",
      "4  KKP-SM-CAP 2022-01-19  18.51         40.0      s   0.0          18.51   \n",
      "5  KKP-SM-CAP 2022-02-10  18.06         20.0      s   0.0          18.06   \n",
      "6  KKP-SM-CAP 2022-03-03  18.21         20.0      s   0.0          18.21   \n",
      "7  KKP-SM-CAP 2022-04-29  18.61         20.0      s   0.0          18.61   \n",
      "\n",
      "           qty     value  action_value  \n",
      "0  2318.392581  30000.00      30000.00  \n",
      "1  1472.754050  20000.00      20000.00  \n",
      "2  1445.086705  20000.00      20000.00  \n",
      "3  2141.327623  30000.00      30000.00  \n",
      "4  2951.024384  54623.46     -54623.46  \n",
      "5  1475.512192  26647.75     -26647.75  \n",
      "6  1475.512192  26869.08     -26869.08  \n",
      "7  1475.512192  27459.28     -27459.28  \n"
     ]
    }
   ],
   "source": [
    "for symbol,tranDF in dict_dfTran.items():\n",
    " print(tranDF)"
   ]
  },
  {
   "cell_type": "code",
   "execution_count": null,
   "id": "480d4dd1-5495-4786-9d07-ccd39354ec71",
   "metadata": {},
   "outputs": [],
   "source": []
  }
 ],
 "metadata": {
  "kernelspec": {
   "display_name": "Python 3 (ipykernel)",
   "language": "python",
   "name": "python3"
  },
  "language_info": {
   "codemirror_mode": {
    "name": "ipython",
    "version": 3
   },
   "file_extension": ".py",
   "mimetype": "text/x-python",
   "name": "python",
   "nbconvert_exporter": "python",
   "pygments_lexer": "ipython3",
   "version": "3.9.12"
  }
 },
 "nbformat": 4,
 "nbformat_minor": 5
}
