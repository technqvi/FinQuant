{
 "cells": [
  {
   "cell_type": "code",
   "execution_count": 1,
   "metadata": {},
   "outputs": [],
   "source": [
    "import ffn"
   ]
  },
  {
   "cell_type": "code",
   "execution_count": 6,
   "metadata": {},
   "outputs": [
    {
     "name": "stderr",
     "output_type": "stream",
     "text": [
      "C:\\Users\\pongthsa\\AppData\\Roaming\\Python\\Python310\\site-packages\\ffn\\data.py:163: UserWarning: Could not infer format, so each element will be parsed individually, falling back to `dateutil`. To ensure parsing is consistent and as-expected, please specify a format.\n",
      "  df = pd.read_csv(path, **kwargs)\n"
     ]
    },
    {
     "ename": "ValueError",
     "evalue": "Ticker(field) not present in csv file!",
     "output_type": "error",
     "traceback": [
      "\u001b[1;31m---------------------------------------------------------------------------\u001b[0m",
      "\u001b[1;31mValueError\u001b[0m                                Traceback (most recent call last)",
      "\u001b[1;32md:\\PythonDev\\MyQuantFinProject\\FinQuant\\Demo-FinQuantLib\\intro_ffn.ipynb Cell 2\u001b[0m line \u001b[0;36m4\n\u001b[0;32m      <a href='vscode-notebook-cell:/d%3A/PythonDev/MyQuantFinProject/FinQuant/Demo-FinQuantLib/intro_ffn.ipynb#W1sZmlsZQ%3D%3D?line=0'>1</a>\u001b[0m \u001b[39m# data = ffn.get('qqq,spy,acwi,em', start='2023-08-01', end='2023-11-04',)\u001b[39;00m\n\u001b[0;32m      <a href='vscode-notebook-cell:/d%3A/PythonDev/MyQuantFinProject/FinQuant/Demo-FinQuantLib/intro_ffn.ipynb#W1sZmlsZQ%3D%3D?line=1'>2</a>\u001b[0m \u001b[39m# print(data.tail())\u001b[39;00m\n\u001b[1;32m----> <a href='vscode-notebook-cell:/d%3A/PythonDev/MyQuantFinProject/FinQuant/Demo-FinQuantLib/intro_ffn.ipynb#W1sZmlsZQ%3D%3D?line=3'>4</a>\u001b[0m data2 \u001b[39m=\u001b[39m ffn\u001b[39m.\u001b[39;49mget(\u001b[39m'\u001b[39;49m\u001b[39mAWCI\u001b[39;49m\u001b[39m'\u001b[39;49m, provider\u001b[39m=\u001b[39;49mffn\u001b[39m.\u001b[39;49mdata\u001b[39m.\u001b[39;49mcsv, path\u001b[39m=\u001b[39;49m\u001b[39m'\u001b[39;49m\u001b[39mab_fund.csv\u001b[39;49m\u001b[39m'\u001b[39;49m)\n\u001b[0;32m      <a href='vscode-notebook-cell:/d%3A/PythonDev/MyQuantFinProject/FinQuant/Demo-FinQuantLib/intro_ffn.ipynb#W1sZmlsZQ%3D%3D?line=4'>5</a>\u001b[0m \u001b[39mprint\u001b[39m(data2\u001b[39m.\u001b[39mhead())\n",
      "File \u001b[1;32md:\\ProgramData\\anaconda3\\envs\\google_ai\\lib\\site-packages\\decorator.py:232\u001b[0m, in \u001b[0;36mdecorate.<locals>.fun\u001b[1;34m(*args, **kw)\u001b[0m\n\u001b[0;32m    230\u001b[0m \u001b[39mif\u001b[39;00m \u001b[39mnot\u001b[39;00m kwsyntax:\n\u001b[0;32m    231\u001b[0m     args, kw \u001b[39m=\u001b[39m fix(args, kw, sig)\n\u001b[1;32m--> 232\u001b[0m \u001b[39mreturn\u001b[39;00m caller(func, \u001b[39m*\u001b[39m(extras \u001b[39m+\u001b[39m args), \u001b[39m*\u001b[39m\u001b[39m*\u001b[39mkw)\n",
      "File \u001b[1;32m~\\AppData\\Roaming\\Python\\Python310\\site-packages\\ffn\\utils.py:34\u001b[0m, in \u001b[0;36m_memoize\u001b[1;34m(func, *args, **kw)\u001b[0m\n\u001b[0;32m     32\u001b[0m     \u001b[39mreturn\u001b[39;00m cache[key]\n\u001b[0;32m     33\u001b[0m \u001b[39melse\u001b[39;00m:\n\u001b[1;32m---> 34\u001b[0m     cache[key] \u001b[39m=\u001b[39m result \u001b[39m=\u001b[39m func(\u001b[39m*\u001b[39margs, \u001b[39m*\u001b[39m\u001b[39m*\u001b[39mkw)\n\u001b[0;32m     35\u001b[0m     \u001b[39mreturn\u001b[39;00m result\n",
      "File \u001b[1;32m~\\AppData\\Roaming\\Python\\Python310\\site-packages\\ffn\\data.py:74\u001b[0m, in \u001b[0;36mget\u001b[1;34m(tickers, provider, common_dates, forward_fill, clean_tickers, column_names, ticker_field_sep, mrefresh, existing, **kwargs)\u001b[0m\n\u001b[0;32m     72\u001b[0m \u001b[39m# call provider - check if supports memoization\u001b[39;00m\n\u001b[0;32m     73\u001b[0m \u001b[39mif\u001b[39;00m \u001b[39mhasattr\u001b[39m(provider, \u001b[39m\"\u001b[39m\u001b[39mmcache\u001b[39m\u001b[39m\"\u001b[39m):\n\u001b[1;32m---> 74\u001b[0m     data[ticker] \u001b[39m=\u001b[39m provider(ticker\u001b[39m=\u001b[39mt, field\u001b[39m=\u001b[39mf, mrefresh\u001b[39m=\u001b[39mmrefresh, \u001b[39m*\u001b[39m\u001b[39m*\u001b[39mkwargs)\n\u001b[0;32m     75\u001b[0m \u001b[39melse\u001b[39;00m:\n\u001b[0;32m     76\u001b[0m     data[ticker] \u001b[39m=\u001b[39m provider(ticker\u001b[39m=\u001b[39mt, field\u001b[39m=\u001b[39mf, \u001b[39m*\u001b[39m\u001b[39m*\u001b[39mkwargs)\n",
      "File \u001b[1;32md:\\ProgramData\\anaconda3\\envs\\google_ai\\lib\\site-packages\\decorator.py:232\u001b[0m, in \u001b[0;36mdecorate.<locals>.fun\u001b[1;34m(*args, **kw)\u001b[0m\n\u001b[0;32m    230\u001b[0m \u001b[39mif\u001b[39;00m \u001b[39mnot\u001b[39;00m kwsyntax:\n\u001b[0;32m    231\u001b[0m     args, kw \u001b[39m=\u001b[39m fix(args, kw, sig)\n\u001b[1;32m--> 232\u001b[0m \u001b[39mreturn\u001b[39;00m caller(func, \u001b[39m*\u001b[39m(extras \u001b[39m+\u001b[39m args), \u001b[39m*\u001b[39m\u001b[39m*\u001b[39mkw)\n",
      "File \u001b[1;32m~\\AppData\\Roaming\\Python\\Python310\\site-packages\\ffn\\utils.py:34\u001b[0m, in \u001b[0;36m_memoize\u001b[1;34m(func, *args, **kw)\u001b[0m\n\u001b[0;32m     32\u001b[0m     \u001b[39mreturn\u001b[39;00m cache[key]\n\u001b[0;32m     33\u001b[0m \u001b[39melse\u001b[39;00m:\n\u001b[1;32m---> 34\u001b[0m     cache[key] \u001b[39m=\u001b[39m result \u001b[39m=\u001b[39m func(\u001b[39m*\u001b[39margs, \u001b[39m*\u001b[39m\u001b[39m*\u001b[39mkw)\n\u001b[0;32m     35\u001b[0m     \u001b[39mreturn\u001b[39;00m result\n",
      "File \u001b[1;32m~\\AppData\\Roaming\\Python\\Python310\\site-packages\\ffn\\data.py:171\u001b[0m, in \u001b[0;36mcsv\u001b[1;34m(ticker, path, field, mrefresh, **kwargs)\u001b[0m\n\u001b[0;32m    169\u001b[0m \u001b[39m# check that required column exists\u001b[39;00m\n\u001b[0;32m    170\u001b[0m \u001b[39mif\u001b[39;00m tf \u001b[39mnot\u001b[39;00m \u001b[39min\u001b[39;00m df:\n\u001b[1;32m--> 171\u001b[0m     \u001b[39mraise\u001b[39;00m \u001b[39mValueError\u001b[39;00m(\u001b[39m\"\u001b[39m\u001b[39mTicker(field) not present in csv file!\u001b[39m\u001b[39m\"\u001b[39m)\n\u001b[0;32m    173\u001b[0m \u001b[39mreturn\u001b[39;00m df[tf]\n",
      "\u001b[1;31mValueError\u001b[0m: Ticker(field) not present in csv file!"
     ]
    }
   ],
   "source": [
    "# data = ffn.get('qqq,spy,acwi,em', start='2023-08-01', end='2023-11-04',)\n",
    "# print(data.tail())\n",
    "\n",
    "data2 = ffn.get('AWCI', provider=ffn.data.csv, path='ab_fund.csv')\n",
    "print(data2.head())"
   ]
  }
 ],
 "metadata": {
  "kernelspec": {
   "display_name": "google_ai",
   "language": "python",
   "name": "python3"
  },
  "language_info": {
   "codemirror_mode": {
    "name": "ipython",
    "version": 3
   },
   "file_extension": ".py",
   "mimetype": "text/x-python",
   "name": "python",
   "nbconvert_exporter": "python",
   "pygments_lexer": "ipython3",
   "version": "3.10.12"
  }
 },
 "nbformat": 4,
 "nbformat_minor": 2
}
