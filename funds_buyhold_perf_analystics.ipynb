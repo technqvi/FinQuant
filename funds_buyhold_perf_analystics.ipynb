{
 "cells": [
  {
   "cell_type": "code",
   "execution_count": 51,
   "id": "71719cb7-6fa2-4c50-920b-5698f807d1a9",
   "metadata": {
    "tags": []
   },
   "outputs": [],
   "source": [
    "import pandas as pd\n",
    "import datetime as datetime\n",
    "import os\n",
    "# ! pip install xlsxwriter --user"
   ]
  },
  {
   "cell_type": "code",
   "execution_count": 52,
   "id": "0e939474-9b32-4a4b-8f8e-5ec1b619a2b4",
   "metadata": {
    "tags": []
   },
   "outputs": [],
   "source": [
    "data_path=r'D:\\PythonDev\\MyQuantFinProject\\Data'\n",
    "data_file='TH-SMALL-07To09Y23.csv'\n",
    "isPy=False \n",
    "isPriceExcel=False"
   ]
  },
  {
   "cell_type": "markdown",
   "id": "83d296e7-5dd0-4425-b8ef-b63b76b08c7a",
   "metadata": {},
   "source": [
    "# Specify Period and Timefame to caculate fund performance and"
   ]
  },
  {
   "cell_type": "code",
   "execution_count": 53,
   "id": "b51e9c53-d823-4d0e-8037-ecc085d71df9",
   "metadata": {
    "tags": []
   },
   "outputs": [],
   "source": [
    "from_str='2023-08-28'\n",
    "to_str='2023-09-30' \n",
    "#timeframe='M'\n",
    "timeframe='W-FRI'"
   ]
  },
  {
   "cell_type": "markdown",
   "id": "67a2b2b8-86cf-4f54-99d8-8d5a69619019",
   "metadata": {},
   "source": [
    "# Input data"
   ]
  },
  {
   "cell_type": "code",
   "execution_count": 54,
   "id": "41fb0fd5-f97d-4e5e-a4cb-2c50f1628f54",
   "metadata": {
    "tags": []
   },
   "outputs": [],
   "source": [
    "if isPy:\n",
    "    print(f\"Data csv file in Path: {data_path}\")\n",
    "    data_file=input(\"CSV file name : \")\n",
    "\n",
    "    from_str=input(\"From_date(2020-10-01) : \") \n",
    "    to_str=input(\"To_date(2022-12-31): \") \n",
    "    timeframe=input(\"Timeframe(W-FRI,M,Q,Y): \") \n",
    "  \n",
    "    print(f\"Process data from {from_str} to {to_str} in {timeframe} timeframe\")\n",
    "    press_y=input(f\"Press y=True and n=False to run analaystics : \") \n",
    "    if press_y.lower()=='y':\n",
    "     ok=True\n",
    "    else:\n",
    "     exit()\n"
   ]
  },
  {
   "cell_type": "code",
   "execution_count": 55,
   "id": "5dca23f5-2106-4e69-85cb-e65bb26b6cca",
   "metadata": {
    "tags": []
   },
   "outputs": [
    {
     "name": "stdout",
     "output_type": "stream",
     "text": [
      "Process file D:\\PythonDev\\MyQuantFinProject\\Data\\TH-SMALL-07To09Y23.csv\n",
      "D:\\PythonDev\\MyQuantFinProject\\Data\\TH-SMALL-07To09Y23.csv\n"
     ]
    }
   ],
   "source": [
    "report_prefix_name=data_file.split('.')[0]\n",
    "data_file=os.path.join(data_path,data_file)\n",
    "if os.path.exists(data_file)==False:\n",
    "    raise Exception(f\"not found {data_file}\")\n",
    "else:\n",
    "    print(f\"Process file {data_file}\")\n",
    "print(data_file)"
   ]
  },
  {
   "cell_type": "markdown",
   "id": "412a9817-b8b9-4075-86cb-4a69949d6c06",
   "metadata": {},
   "source": [
    "# Read csv file and extract and transform data as need"
   ]
  },
  {
   "cell_type": "code",
   "execution_count": 56,
   "id": "dcd64589-b7c5-4d71-93f9-ceb6b8e6c6da",
   "metadata": {
    "tags": []
   },
   "outputs": [
    {
     "name": "stdout",
     "output_type": "stream",
     "text": [
      "<class 'pandas.core.frame.DataFrame'>\n",
      "DatetimeIndex: 150 entries, 2023-08-28 to 2023-09-29\n",
      "Data columns (total 2 columns):\n",
      " #   Column  Non-Null Count  Dtype  \n",
      "---  ------  --------------  -----  \n",
      " 0   symbol  150 non-null    object \n",
      " 1   price   150 non-null    float64\n",
      "dtypes: float64(1), object(1)\n",
      "memory usage: 3.5+ KB\n",
      "None\n",
      "['ASP-SME', 'KKP-TQG', 'KKP-SM-CAP', 'KTMSEQ', 'K-MIDSMALL', 'TISCOMS-A']\n"
     ]
    }
   ],
   "source": [
    "df = pd.read_csv(data_file,index_col='Date/Time',parse_dates=['Date/Time'],dayfirst=True)\n",
    "df.index.set_names('date',inplace=True)\n",
    "df.sort_index(inplace=True)\n",
    "df=df.rename(columns={'Ticker':'symbol','close':'price'})\n",
    "df=df.loc[from_str:to_str,['symbol','price']]\n",
    "print(df.info())\n",
    "\n",
    "list_symbol=df['symbol'].unique().tolist() \n",
    "print(list_symbol)\n"
   ]
  },
  {
   "cell_type": "code",
   "execution_count": 57,
   "id": "814737df-b2e7-4a3a-b621-a4471902d094",
   "metadata": {
    "tags": []
   },
   "outputs": [
    {
     "data": {
      "text/html": [
       "<div>\n",
       "<style scoped>\n",
       "    .dataframe tbody tr th:only-of-type {\n",
       "        vertical-align: middle;\n",
       "    }\n",
       "\n",
       "    .dataframe tbody tr th {\n",
       "        vertical-align: top;\n",
       "    }\n",
       "\n",
       "    .dataframe thead th {\n",
       "        text-align: right;\n",
       "    }\n",
       "</style>\n",
       "<table border=\"1\" class=\"dataframe\">\n",
       "  <thead>\n",
       "    <tr style=\"text-align: right;\">\n",
       "      <th></th>\n",
       "      <th>symbol</th>\n",
       "      <th>price</th>\n",
       "    </tr>\n",
       "    <tr>\n",
       "      <th>date</th>\n",
       "      <th></th>\n",
       "      <th></th>\n",
       "    </tr>\n",
       "  </thead>\n",
       "  <tbody>\n",
       "    <tr>\n",
       "      <th>2023-08-28</th>\n",
       "      <td>ASP-SME</td>\n",
       "      <td>19.24</td>\n",
       "    </tr>\n",
       "    <tr>\n",
       "      <th>2023-08-28</th>\n",
       "      <td>KKP-TQG</td>\n",
       "      <td>8.59</td>\n",
       "    </tr>\n",
       "    <tr>\n",
       "      <th>2023-08-28</th>\n",
       "      <td>KKP-SM-CAP</td>\n",
       "      <td>15.00</td>\n",
       "    </tr>\n",
       "    <tr>\n",
       "      <th>2023-08-28</th>\n",
       "      <td>KTMSEQ</td>\n",
       "      <td>18.64</td>\n",
       "    </tr>\n",
       "    <tr>\n",
       "      <th>2023-08-28</th>\n",
       "      <td>K-MIDSMALL</td>\n",
       "      <td>17.17</td>\n",
       "    </tr>\n",
       "    <tr>\n",
       "      <th>2023-08-28</th>\n",
       "      <td>TISCOMS-A</td>\n",
       "      <td>20.03</td>\n",
       "    </tr>\n",
       "    <tr>\n",
       "      <th>2023-08-29</th>\n",
       "      <td>KKP-TQG</td>\n",
       "      <td>8.72</td>\n",
       "    </tr>\n",
       "    <tr>\n",
       "      <th>2023-08-29</th>\n",
       "      <td>KKP-SM-CAP</td>\n",
       "      <td>15.10</td>\n",
       "    </tr>\n",
       "    <tr>\n",
       "      <th>2023-08-29</th>\n",
       "      <td>K-MIDSMALL</td>\n",
       "      <td>17.35</td>\n",
       "    </tr>\n",
       "    <tr>\n",
       "      <th>2023-08-29</th>\n",
       "      <td>ASP-SME</td>\n",
       "      <td>19.42</td>\n",
       "    </tr>\n",
       "    <tr>\n",
       "      <th>2023-08-29</th>\n",
       "      <td>KTMSEQ</td>\n",
       "      <td>18.81</td>\n",
       "    </tr>\n",
       "    <tr>\n",
       "      <th>2023-08-29</th>\n",
       "      <td>TISCOMS-A</td>\n",
       "      <td>20.25</td>\n",
       "    </tr>\n",
       "    <tr>\n",
       "      <th>2023-08-30</th>\n",
       "      <td>ASP-SME</td>\n",
       "      <td>19.51</td>\n",
       "    </tr>\n",
       "    <tr>\n",
       "      <th>2023-08-30</th>\n",
       "      <td>KTMSEQ</td>\n",
       "      <td>18.99</td>\n",
       "    </tr>\n",
       "    <tr>\n",
       "      <th>2023-08-30</th>\n",
       "      <td>KKP-TQG</td>\n",
       "      <td>8.82</td>\n",
       "    </tr>\n",
       "    <tr>\n",
       "      <th>2023-08-30</th>\n",
       "      <td>KKP-SM-CAP</td>\n",
       "      <td>15.37</td>\n",
       "    </tr>\n",
       "    <tr>\n",
       "      <th>2023-08-30</th>\n",
       "      <td>K-MIDSMALL</td>\n",
       "      <td>17.52</td>\n",
       "    </tr>\n",
       "    <tr>\n",
       "      <th>2023-08-30</th>\n",
       "      <td>TISCOMS-A</td>\n",
       "      <td>20.49</td>\n",
       "    </tr>\n",
       "  </tbody>\n",
       "</table>\n",
       "</div>"
      ],
      "text/plain": [
       "                symbol  price\n",
       "date                         \n",
       "2023-08-28     ASP-SME  19.24\n",
       "2023-08-28     KKP-TQG   8.59\n",
       "2023-08-28  KKP-SM-CAP  15.00\n",
       "2023-08-28      KTMSEQ  18.64\n",
       "2023-08-28  K-MIDSMALL  17.17\n",
       "2023-08-28   TISCOMS-A  20.03\n",
       "2023-08-29     KKP-TQG   8.72\n",
       "2023-08-29  KKP-SM-CAP  15.10\n",
       "2023-08-29  K-MIDSMALL  17.35\n",
       "2023-08-29     ASP-SME  19.42\n",
       "2023-08-29      KTMSEQ  18.81\n",
       "2023-08-29   TISCOMS-A  20.25\n",
       "2023-08-30     ASP-SME  19.51\n",
       "2023-08-30      KTMSEQ  18.99\n",
       "2023-08-30     KKP-TQG   8.82\n",
       "2023-08-30  KKP-SM-CAP  15.37\n",
       "2023-08-30  K-MIDSMALL  17.52\n",
       "2023-08-30   TISCOMS-A  20.49"
      ]
     },
     "execution_count": 57,
     "metadata": {},
     "output_type": "execute_result"
    }
   ],
   "source": [
    "df.head(len(list_symbol)*3)"
   ]
  },
  {
   "cell_type": "code",
   "execution_count": 58,
   "id": "fd466bd1-b900-4e76-bbdb-a9043f67b6cc",
   "metadata": {
    "tags": []
   },
   "outputs": [
    {
     "data": {
      "text/html": [
       "<div>\n",
       "<style scoped>\n",
       "    .dataframe tbody tr th:only-of-type {\n",
       "        vertical-align: middle;\n",
       "    }\n",
       "\n",
       "    .dataframe tbody tr th {\n",
       "        vertical-align: top;\n",
       "    }\n",
       "\n",
       "    .dataframe thead th {\n",
       "        text-align: right;\n",
       "    }\n",
       "</style>\n",
       "<table border=\"1\" class=\"dataframe\">\n",
       "  <thead>\n",
       "    <tr style=\"text-align: right;\">\n",
       "      <th></th>\n",
       "      <th>symbol</th>\n",
       "      <th>price</th>\n",
       "    </tr>\n",
       "    <tr>\n",
       "      <th>date</th>\n",
       "      <th></th>\n",
       "      <th></th>\n",
       "    </tr>\n",
       "  </thead>\n",
       "  <tbody>\n",
       "    <tr>\n",
       "      <th>2023-09-27</th>\n",
       "      <td>KKP-SM-CAP</td>\n",
       "      <td>14.54</td>\n",
       "    </tr>\n",
       "    <tr>\n",
       "      <th>2023-09-27</th>\n",
       "      <td>K-MIDSMALL</td>\n",
       "      <td>16.53</td>\n",
       "    </tr>\n",
       "    <tr>\n",
       "      <th>2023-09-27</th>\n",
       "      <td>TISCOMS-A</td>\n",
       "      <td>19.81</td>\n",
       "    </tr>\n",
       "    <tr>\n",
       "      <th>2023-09-27</th>\n",
       "      <td>ASP-SME</td>\n",
       "      <td>18.51</td>\n",
       "    </tr>\n",
       "    <tr>\n",
       "      <th>2023-09-27</th>\n",
       "      <td>KKP-TQG</td>\n",
       "      <td>8.43</td>\n",
       "    </tr>\n",
       "    <tr>\n",
       "      <th>2023-09-27</th>\n",
       "      <td>KTMSEQ</td>\n",
       "      <td>18.29</td>\n",
       "    </tr>\n",
       "    <tr>\n",
       "      <th>2023-09-28</th>\n",
       "      <td>KKP-SM-CAP</td>\n",
       "      <td>14.48</td>\n",
       "    </tr>\n",
       "    <tr>\n",
       "      <th>2023-09-28</th>\n",
       "      <td>K-MIDSMALL</td>\n",
       "      <td>16.38</td>\n",
       "    </tr>\n",
       "    <tr>\n",
       "      <th>2023-09-28</th>\n",
       "      <td>TISCOMS-A</td>\n",
       "      <td>19.57</td>\n",
       "    </tr>\n",
       "    <tr>\n",
       "      <th>2023-09-28</th>\n",
       "      <td>ASP-SME</td>\n",
       "      <td>18.40</td>\n",
       "    </tr>\n",
       "    <tr>\n",
       "      <th>2023-09-28</th>\n",
       "      <td>KKP-TQG</td>\n",
       "      <td>8.36</td>\n",
       "    </tr>\n",
       "    <tr>\n",
       "      <th>2023-09-28</th>\n",
       "      <td>KTMSEQ</td>\n",
       "      <td>18.14</td>\n",
       "    </tr>\n",
       "    <tr>\n",
       "      <th>2023-09-29</th>\n",
       "      <td>K-MIDSMALL</td>\n",
       "      <td>16.37</td>\n",
       "    </tr>\n",
       "    <tr>\n",
       "      <th>2023-09-29</th>\n",
       "      <td>KKP-TQG</td>\n",
       "      <td>8.33</td>\n",
       "    </tr>\n",
       "    <tr>\n",
       "      <th>2023-09-29</th>\n",
       "      <td>KKP-SM-CAP</td>\n",
       "      <td>14.52</td>\n",
       "    </tr>\n",
       "    <tr>\n",
       "      <th>2023-09-29</th>\n",
       "      <td>ASP-SME</td>\n",
       "      <td>18.39</td>\n",
       "    </tr>\n",
       "    <tr>\n",
       "      <th>2023-09-29</th>\n",
       "      <td>KTMSEQ</td>\n",
       "      <td>18.11</td>\n",
       "    </tr>\n",
       "    <tr>\n",
       "      <th>2023-09-29</th>\n",
       "      <td>TISCOMS-A</td>\n",
       "      <td>19.68</td>\n",
       "    </tr>\n",
       "  </tbody>\n",
       "</table>\n",
       "</div>"
      ],
      "text/plain": [
       "                symbol  price\n",
       "date                         \n",
       "2023-09-27  KKP-SM-CAP  14.54\n",
       "2023-09-27  K-MIDSMALL  16.53\n",
       "2023-09-27   TISCOMS-A  19.81\n",
       "2023-09-27     ASP-SME  18.51\n",
       "2023-09-27     KKP-TQG   8.43\n",
       "2023-09-27      KTMSEQ  18.29\n",
       "2023-09-28  KKP-SM-CAP  14.48\n",
       "2023-09-28  K-MIDSMALL  16.38\n",
       "2023-09-28   TISCOMS-A  19.57\n",
       "2023-09-28     ASP-SME  18.40\n",
       "2023-09-28     KKP-TQG   8.36\n",
       "2023-09-28      KTMSEQ  18.14\n",
       "2023-09-29  K-MIDSMALL  16.37\n",
       "2023-09-29     KKP-TQG   8.33\n",
       "2023-09-29  KKP-SM-CAP  14.52\n",
       "2023-09-29     ASP-SME  18.39\n",
       "2023-09-29      KTMSEQ  18.11\n",
       "2023-09-29   TISCOMS-A  19.68"
      ]
     },
     "execution_count": 58,
     "metadata": {},
     "output_type": "execute_result"
    }
   ],
   "source": [
    "df.tail(len(list_symbol)*3)"
   ]
  },
  {
   "cell_type": "markdown",
   "id": "0cc04abe-e72a-4dfb-a735-928b94be49d3",
   "metadata": {},
   "source": [
    "# Basic"
   ]
  },
  {
   "cell_type": "markdown",
   "id": "3b87771b-7afc-4d03-bff4-b8dc283be9cd",
   "metadata": {},
   "source": [
    "# Resample data and calculate Percentage of change"
   ]
  },
  {
   "cell_type": "code",
   "execution_count": 59,
   "id": "820598bf-8c3b-44c7-bf87-e5bbc51f14aa",
   "metadata": {
    "tags": []
   },
   "outputs": [
    {
     "data": {
      "text/html": [
       "<div>\n",
       "<style scoped>\n",
       "    .dataframe tbody tr th:only-of-type {\n",
       "        vertical-align: middle;\n",
       "    }\n",
       "\n",
       "    .dataframe tbody tr th {\n",
       "        vertical-align: top;\n",
       "    }\n",
       "\n",
       "    .dataframe thead th {\n",
       "        text-align: right;\n",
       "    }\n",
       "</style>\n",
       "<table border=\"1\" class=\"dataframe\">\n",
       "  <thead>\n",
       "    <tr style=\"text-align: right;\">\n",
       "      <th></th>\n",
       "      <th>symbol</th>\n",
       "      <th>date</th>\n",
       "      <th>pct_change</th>\n",
       "    </tr>\n",
       "  </thead>\n",
       "  <tbody>\n",
       "  </tbody>\n",
       "</table>\n",
       "</div>"
      ],
      "text/plain": [
       "Empty DataFrame\n",
       "Columns: [symbol, date, pct_change]\n",
       "Index: []"
      ]
     },
     "execution_count": 59,
     "metadata": {},
     "output_type": "execute_result"
    }
   ],
   "source": [
    "colsROC=['symbol','date','pct_change']\n",
    "df_Pct_Price=pd.DataFrame(columns=colsROC)\n",
    "df_Pct_Price"
   ]
  },
  {
   "cell_type": "code",
   "execution_count": 60,
   "id": "a0855824-5628-471f-bc94-bcabdcd7fc5e",
   "metadata": {
    "tags": []
   },
   "outputs": [
    {
     "name": "stdout",
     "output_type": "stream",
     "text": [
      "====================================ASP-SME====================================\n",
      "List W-FRI Price\n",
      "        date   symbol  price\n",
      "0 2023-09-01  ASP-SME  19.26\n",
      "1 2023-09-08  ASP-SME  19.08\n",
      "2 2023-09-15  ASP-SME  18.90\n",
      "3 2023-09-22  ASP-SME  18.77\n",
      "4 2023-09-29  ASP-SME  18.39\n",
      "Calculate ROC of ASP-SME\n",
      "    symbol       date  pct_change\n",
      "1  ASP-SME 2023-09-08       -0.93\n",
      "2  ASP-SME 2023-09-15       -0.94\n",
      "3  ASP-SME 2023-09-22       -0.69\n",
      "4  ASP-SME 2023-09-29       -2.02\n",
      "====================================KKP-TQG====================================\n",
      "List W-FRI Price\n",
      "        date   symbol  price\n",
      "0 2023-09-01  KKP-TQG   8.68\n",
      "1 2023-09-08  KKP-TQG   8.59\n",
      "2 2023-09-15  KKP-TQG   8.60\n",
      "3 2023-09-22  KKP-TQG   8.60\n",
      "4 2023-09-29  KKP-TQG   8.33\n",
      "Calculate ROC of KKP-TQG\n",
      "    symbol       date  pct_change\n",
      "1  KKP-TQG 2023-09-08       -1.04\n",
      "2  KKP-TQG 2023-09-15        0.12\n",
      "3  KKP-TQG 2023-09-22        0.00\n",
      "4  KKP-TQG 2023-09-29       -3.14\n",
      "====================================KKP-SM-CAP====================================\n",
      "List W-FRI Price\n",
      "        date      symbol  price\n",
      "0 2023-09-01  KKP-SM-CAP  15.18\n",
      "1 2023-09-08  KKP-SM-CAP  15.10\n",
      "2 2023-09-15  KKP-SM-CAP  15.02\n",
      "3 2023-09-22  KKP-SM-CAP  14.86\n",
      "4 2023-09-29  KKP-SM-CAP  14.52\n",
      "Calculate ROC of KKP-SM-CAP\n",
      "       symbol       date  pct_change\n",
      "1  KKP-SM-CAP 2023-09-08       -0.53\n",
      "2  KKP-SM-CAP 2023-09-15       -0.53\n",
      "3  KKP-SM-CAP 2023-09-22       -1.07\n",
      "4  KKP-SM-CAP 2023-09-29       -2.29\n",
      "====================================KTMSEQ====================================\n",
      "List W-FRI Price\n",
      "        date  symbol  price\n",
      "0 2023-09-01  KTMSEQ  18.90\n",
      "1 2023-09-08  KTMSEQ  18.91\n",
      "2 2023-09-15  KTMSEQ  18.79\n",
      "3 2023-09-22  KTMSEQ  18.64\n",
      "4 2023-09-29  KTMSEQ  18.11\n",
      "Calculate ROC of KTMSEQ\n",
      "   symbol       date  pct_change\n",
      "1  KTMSEQ 2023-09-08        0.05\n",
      "2  KTMSEQ 2023-09-15       -0.63\n",
      "3  KTMSEQ 2023-09-22       -0.80\n",
      "4  KTMSEQ 2023-09-29       -2.84\n",
      "====================================K-MIDSMALL====================================\n",
      "List W-FRI Price\n",
      "        date      symbol  price\n",
      "0 2023-09-01  K-MIDSMALL  17.41\n",
      "1 2023-09-08  K-MIDSMALL  17.39\n",
      "2 2023-09-15  K-MIDSMALL  17.18\n",
      "3 2023-09-22  K-MIDSMALL  16.98\n",
      "4 2023-09-29  K-MIDSMALL  16.37\n",
      "Calculate ROC of K-MIDSMALL\n",
      "       symbol       date  pct_change\n",
      "1  K-MIDSMALL 2023-09-08       -0.11\n",
      "2  K-MIDSMALL 2023-09-15       -1.21\n",
      "3  K-MIDSMALL 2023-09-22       -1.16\n",
      "4  K-MIDSMALL 2023-09-29       -3.59\n",
      "====================================TISCOMS-A====================================\n",
      "List W-FRI Price\n",
      "        date     symbol  price\n",
      "0 2023-09-01  TISCOMS-A  20.45\n",
      "1 2023-09-08  TISCOMS-A  20.56\n",
      "2 2023-09-15  TISCOMS-A  20.39\n",
      "3 2023-09-22  TISCOMS-A  20.19\n",
      "4 2023-09-29  TISCOMS-A  19.68\n",
      "Calculate ROC of TISCOMS-A\n",
      "      symbol       date  pct_change\n",
      "1  TISCOMS-A 2023-09-08        0.54\n",
      "2  TISCOMS-A 2023-09-15       -0.83\n",
      "3  TISCOMS-A 2023-09-22       -0.98\n",
      "4  TISCOMS-A 2023-09-29       -2.53\n"
     ]
    }
   ],
   "source": [
    "for symbol_name in list_symbol:\n",
    "\n",
    "    dfx_symbol=df.query('symbol==@symbol_name')\n",
    "    print(f\"===================================={symbol_name}====================================\")\n",
    "\n",
    "    dfx_px=dfx_symbol.resample(timeframe).last()\n",
    "    dfx_px=dfx_px.reset_index()\n",
    "    print(f\"List {timeframe} Price\")\n",
    "    print(dfx_px)\n",
    "\n",
    "    dfx_px['pct_change']=dfx_px['price'].pct_change()*100\n",
    "    dfx_px['pct_change']=dfx_px['pct_change'].round(2)\n",
    "\n",
    "    dfx_px=dfx_px.dropna() # the first  rown \n",
    "    dfx_px=dfx_px.drop(columns=['price']) # remove price becase we are focuse ROC of Price\n",
    "    dfx_px=dfx_px[colsROC]\n",
    "    \n",
    "    print(f\"Calculate ROC of {symbol_name}\")\n",
    "    print(dfx_px)\n",
    "    \n",
    "    df_Pct_Price=pd.concat([df_Pct_Price,dfx_px],ignore_index=True,axis=0)"
   ]
  },
  {
   "cell_type": "code",
   "execution_count": 70,
   "id": "810c8e0f-4345-40bc-81b3-5074b8adf7ec",
   "metadata": {
    "tags": []
   },
   "outputs": [
    {
     "name": "stdout",
     "output_type": "stream",
     "text": [
      "        symbol       date  pct_change\n",
      "0      ASP-SME 2023-09-08       -0.93\n",
      "1      ASP-SME 2023-09-15       -0.94\n",
      "2      ASP-SME 2023-09-22       -0.69\n",
      "3      ASP-SME 2023-09-29       -2.02\n",
      "4      KKP-TQG 2023-09-08       -1.04\n",
      "5      KKP-TQG 2023-09-15        0.12\n",
      "6      KKP-TQG 2023-09-22        0.00\n",
      "7      KKP-TQG 2023-09-29       -3.14\n",
      "8   KKP-SM-CAP 2023-09-08       -0.53\n",
      "9   KKP-SM-CAP 2023-09-15       -0.53\n",
      "10  KKP-SM-CAP 2023-09-22       -1.07\n",
      "11  KKP-SM-CAP 2023-09-29       -2.29\n",
      "12      KTMSEQ 2023-09-08        0.05\n",
      "13      KTMSEQ 2023-09-15       -0.63\n",
      "14      KTMSEQ 2023-09-22       -0.80\n",
      "15      KTMSEQ 2023-09-29       -2.84\n",
      "16  K-MIDSMALL 2023-09-08       -0.11\n",
      "17  K-MIDSMALL 2023-09-15       -1.21\n",
      "18  K-MIDSMALL 2023-09-22       -1.16\n",
      "19  K-MIDSMALL 2023-09-29       -3.59\n",
      "20   TISCOMS-A 2023-09-08        0.54\n",
      "21   TISCOMS-A 2023-09-15       -0.83\n",
      "22   TISCOMS-A 2023-09-22       -0.98\n",
      "23   TISCOMS-A 2023-09-29       -2.53\n"
     ]
    }
   ],
   "source": [
    "print(\"==============================================================\")\n",
    "print(\"List calculate Percentage of change\")\n",
    "print(df_Pct_Price)"
   ]
  },
  {
   "cell_type": "markdown",
   "id": "86d7dd09-b073-4089-9992-c5e5c3de96fc",
   "metadata": {},
   "source": [
    "# Sum percentage of fund return"
   ]
  },
  {
   "cell_type": "code",
   "execution_count": 62,
   "id": "0a42719e-4712-4f59-bc25-142dee7f853b",
   "metadata": {
    "tags": []
   },
   "outputs": [
    {
     "data": {
      "text/html": [
       "<div>\n",
       "<style scoped>\n",
       "    .dataframe tbody tr th:only-of-type {\n",
       "        vertical-align: middle;\n",
       "    }\n",
       "\n",
       "    .dataframe tbody tr th {\n",
       "        vertical-align: top;\n",
       "    }\n",
       "\n",
       "    .dataframe thead th {\n",
       "        text-align: right;\n",
       "    }\n",
       "</style>\n",
       "<table border=\"1\" class=\"dataframe\">\n",
       "  <thead>\n",
       "    <tr style=\"text-align: right;\">\n",
       "      <th></th>\n",
       "      <th>symbol</th>\n",
       "      <th>pct_change</th>\n",
       "    </tr>\n",
       "  </thead>\n",
       "  <tbody>\n",
       "    <tr>\n",
       "      <th>0</th>\n",
       "      <td>ASP-SME</td>\n",
       "      <td>-4.6</td>\n",
       "    </tr>\n",
       "    <tr>\n",
       "      <th>1</th>\n",
       "      <td>K-MIDSMALL</td>\n",
       "      <td>-6.1</td>\n",
       "    </tr>\n",
       "    <tr>\n",
       "      <th>2</th>\n",
       "      <td>KKP-SM-CAP</td>\n",
       "      <td>-4.4</td>\n",
       "    </tr>\n",
       "    <tr>\n",
       "      <th>3</th>\n",
       "      <td>KKP-TQG</td>\n",
       "      <td>-4.1</td>\n",
       "    </tr>\n",
       "    <tr>\n",
       "      <th>4</th>\n",
       "      <td>KTMSEQ</td>\n",
       "      <td>-4.2</td>\n",
       "    </tr>\n",
       "    <tr>\n",
       "      <th>5</th>\n",
       "      <td>TISCOMS-A</td>\n",
       "      <td>-3.8</td>\n",
       "    </tr>\n",
       "  </tbody>\n",
       "</table>\n",
       "</div>"
      ],
      "text/plain": [
       "       symbol  pct_change\n",
       "0     ASP-SME        -4.6\n",
       "1  K-MIDSMALL        -6.1\n",
       "2  KKP-SM-CAP        -4.4\n",
       "3     KKP-TQG        -4.1\n",
       "4      KTMSEQ        -4.2\n",
       "5   TISCOMS-A        -3.8"
      ]
     },
     "execution_count": 62,
     "metadata": {},
     "output_type": "execute_result"
    }
   ],
   "source": [
    "print(\"==============================================================\")\n",
    "print(\"Sum percentage of fund return\")\n",
    "dfSum_Pct_Price=df_Pct_Price.groupby(['symbol'])[['pct_change']].sum()\n",
    "dfSum_Pct_Price.reset_index(drop=False,inplace=True)\n",
    "dfSum_Pct_Pric=dfSum_Pct_Price.sort_values(by=\"pct_change\",ascending=False)\n",
    "dfSum_Pct_Price[\"pct_change\"]=dfSum_Pct_Price[\"pct_change\"].round(1)\n",
    "print(dfSum_Pct_Price)"
   ]
  },
  {
   "cell_type": "code",
   "execution_count": 63,
   "id": "d5fea99c-fff5-4be6-85dc-b2aced7e32d1",
   "metadata": {
    "tags": []
   },
   "outputs": [],
   "source": [
    "# writer=pd.ExcelWriter( \"BasicFundPerformanceReport.xlsx\",engine='openpyxl') \n",
    "\n",
    "# df_Pct_Price.to_csv(f\"ETF-{timeframe}-Return.csv\",index=False)\n",
    "# dfSum_Pct_Price.to_csv(f\"ETF-{timeframe}-TotalReturn.csv\",index=False)\n"
   ]
  },
  {
   "cell_type": "markdown",
   "id": "1da8f6c0-3297-466b-a229-a5c3e9ed2e72",
   "metadata": {},
   "source": [
    "# Advance"
   ]
  },
  {
   "cell_type": "markdown",
   "id": "23404b4f-839d-468b-a554-f3d595c521a6",
   "metadata": {},
   "source": [
    "# Pivot Percent Return To Dataframe"
   ]
  },
  {
   "cell_type": "code",
   "execution_count": 64,
   "id": "f1aa21e9-8d26-4ca2-becd-4dfaccdb0fa4",
   "metadata": {
    "tags": []
   },
   "outputs": [
    {
     "data": {
      "text/html": [
       "<div>\n",
       "<style scoped>\n",
       "    .dataframe tbody tr th:only-of-type {\n",
       "        vertical-align: middle;\n",
       "    }\n",
       "\n",
       "    .dataframe tbody tr th {\n",
       "        vertical-align: top;\n",
       "    }\n",
       "\n",
       "    .dataframe thead th {\n",
       "        text-align: right;\n",
       "    }\n",
       "</style>\n",
       "<table border=\"1\" class=\"dataframe\">\n",
       "  <thead>\n",
       "    <tr style=\"text-align: right;\">\n",
       "      <th>symbol</th>\n",
       "      <th>ASP-SME</th>\n",
       "      <th>K-MIDSMALL</th>\n",
       "      <th>KKP-SM-CAP</th>\n",
       "      <th>KKP-TQG</th>\n",
       "      <th>KTMSEQ</th>\n",
       "      <th>TISCOMS-A</th>\n",
       "    </tr>\n",
       "    <tr>\n",
       "      <th>date</th>\n",
       "      <th></th>\n",
       "      <th></th>\n",
       "      <th></th>\n",
       "      <th></th>\n",
       "      <th></th>\n",
       "      <th></th>\n",
       "    </tr>\n",
       "  </thead>\n",
       "  <tbody>\n",
       "    <tr>\n",
       "      <th>2023-09-08</th>\n",
       "      <td>-0.93</td>\n",
       "      <td>-0.11</td>\n",
       "      <td>-0.53</td>\n",
       "      <td>-1.04</td>\n",
       "      <td>0.05</td>\n",
       "      <td>0.54</td>\n",
       "    </tr>\n",
       "    <tr>\n",
       "      <th>2023-09-15</th>\n",
       "      <td>-0.94</td>\n",
       "      <td>-1.21</td>\n",
       "      <td>-0.53</td>\n",
       "      <td>0.12</td>\n",
       "      <td>-0.63</td>\n",
       "      <td>-0.83</td>\n",
       "    </tr>\n",
       "    <tr>\n",
       "      <th>2023-09-22</th>\n",
       "      <td>-0.69</td>\n",
       "      <td>-1.16</td>\n",
       "      <td>-1.07</td>\n",
       "      <td>0.00</td>\n",
       "      <td>-0.80</td>\n",
       "      <td>-0.98</td>\n",
       "    </tr>\n",
       "    <tr>\n",
       "      <th>2023-09-29</th>\n",
       "      <td>-2.02</td>\n",
       "      <td>-3.59</td>\n",
       "      <td>-2.29</td>\n",
       "      <td>-3.14</td>\n",
       "      <td>-2.84</td>\n",
       "      <td>-2.53</td>\n",
       "    </tr>\n",
       "  </tbody>\n",
       "</table>\n",
       "</div>"
      ],
      "text/plain": [
       "symbol      ASP-SME  K-MIDSMALL  KKP-SM-CAP  KKP-TQG  KTMSEQ  TISCOMS-A\n",
       "date                                                                   \n",
       "2023-09-08    -0.93       -0.11       -0.53    -1.04    0.05       0.54\n",
       "2023-09-15    -0.94       -1.21       -0.53     0.12   -0.63      -0.83\n",
       "2023-09-22    -0.69       -1.16       -1.07     0.00   -0.80      -0.98\n",
       "2023-09-29    -2.02       -3.59       -2.29    -3.14   -2.84      -2.53"
      ]
     },
     "execution_count": 64,
     "metadata": {},
     "output_type": "execute_result"
    }
   ],
   "source": [
    "print(\"==============================================================\")\n",
    "print(\"Pivot Percent Return To Dataframe\")\n",
    "dfPct=df_Pct_Price.pivot(index='date', columns='symbol', values='pct_change')\n",
    "# print(dfPct.info())\n",
    "print(dfPct)"
   ]
  },
  {
   "cell_type": "markdown",
   "id": "6d9d2077-2b8e-4760-8945-961fed91d7b0",
   "metadata": {},
   "source": [
    "# Take Percent Return to Find Rank"
   ]
  },
  {
   "cell_type": "code",
   "execution_count": 65,
   "id": "5d58ed8a-f023-41ea-905b-6463a4622976",
   "metadata": {
    "tags": []
   },
   "outputs": [
    {
     "data": {
      "text/html": [
       "<div>\n",
       "<style scoped>\n",
       "    .dataframe tbody tr th:only-of-type {\n",
       "        vertical-align: middle;\n",
       "    }\n",
       "\n",
       "    .dataframe tbody tr th {\n",
       "        vertical-align: top;\n",
       "    }\n",
       "\n",
       "    .dataframe thead th {\n",
       "        text-align: right;\n",
       "    }\n",
       "</style>\n",
       "<table border=\"1\" class=\"dataframe\">\n",
       "  <thead>\n",
       "    <tr style=\"text-align: right;\">\n",
       "      <th>symbol</th>\n",
       "      <th>ASP-SME</th>\n",
       "      <th>K-MIDSMALL</th>\n",
       "      <th>KKP-SM-CAP</th>\n",
       "      <th>KKP-TQG</th>\n",
       "      <th>KTMSEQ</th>\n",
       "      <th>TISCOMS-A</th>\n",
       "    </tr>\n",
       "    <tr>\n",
       "      <th>date</th>\n",
       "      <th></th>\n",
       "      <th></th>\n",
       "      <th></th>\n",
       "      <th></th>\n",
       "      <th></th>\n",
       "      <th></th>\n",
       "    </tr>\n",
       "  </thead>\n",
       "  <tbody>\n",
       "    <tr>\n",
       "      <th>2023-09-08</th>\n",
       "      <td>2.0</td>\n",
       "      <td>4.0</td>\n",
       "      <td>3.0</td>\n",
       "      <td>1.0</td>\n",
       "      <td>5.0</td>\n",
       "      <td>6.0</td>\n",
       "    </tr>\n",
       "    <tr>\n",
       "      <th>2023-09-15</th>\n",
       "      <td>2.0</td>\n",
       "      <td>1.0</td>\n",
       "      <td>5.0</td>\n",
       "      <td>6.0</td>\n",
       "      <td>4.0</td>\n",
       "      <td>3.0</td>\n",
       "    </tr>\n",
       "    <tr>\n",
       "      <th>2023-09-22</th>\n",
       "      <td>5.0</td>\n",
       "      <td>1.0</td>\n",
       "      <td>2.0</td>\n",
       "      <td>6.0</td>\n",
       "      <td>4.0</td>\n",
       "      <td>3.0</td>\n",
       "    </tr>\n",
       "    <tr>\n",
       "      <th>2023-09-29</th>\n",
       "      <td>6.0</td>\n",
       "      <td>1.0</td>\n",
       "      <td>5.0</td>\n",
       "      <td>2.0</td>\n",
       "      <td>3.0</td>\n",
       "      <td>4.0</td>\n",
       "    </tr>\n",
       "  </tbody>\n",
       "</table>\n",
       "</div>"
      ],
      "text/plain": [
       "symbol      ASP-SME  K-MIDSMALL  KKP-SM-CAP  KKP-TQG  KTMSEQ  TISCOMS-A\n",
       "date                                                                   \n",
       "2023-09-08      2.0         4.0         3.0      1.0     5.0        6.0\n",
       "2023-09-15      2.0         1.0         5.0      6.0     4.0        3.0\n",
       "2023-09-22      5.0         1.0         2.0      6.0     4.0        3.0\n",
       "2023-09-29      6.0         1.0         5.0      2.0     3.0        4.0"
      ]
     },
     "execution_count": 65,
     "metadata": {},
     "output_type": "execute_result"
    }
   ],
   "source": [
    "print(\"==============================================================\")\n",
    "print(\"Take Percent Return to Find Rank\")\n",
    "dfRank=dfPct[dfPct.columns.tolist()].rank(method='max',axis=1)\n",
    "print(dfRank)"
   ]
  },
  {
   "cell_type": "markdown",
   "id": "867a96dc-668e-4a86-85ca-bf29c6cf81fb",
   "metadata": {
    "tags": []
   },
   "source": [
    "# Combine Both return and Rank"
   ]
  },
  {
   "cell_type": "code",
   "execution_count": 67,
   "id": "459ec0a8-785f-4b93-9eec-e1a4a53b6703",
   "metadata": {
    "tags": []
   },
   "outputs": [
    {
     "data": {
      "text/html": [
       "<div>\n",
       "<style scoped>\n",
       "    .dataframe tbody tr th:only-of-type {\n",
       "        vertical-align: middle;\n",
       "    }\n",
       "\n",
       "    .dataframe tbody tr th {\n",
       "        vertical-align: top;\n",
       "    }\n",
       "\n",
       "    .dataframe thead th {\n",
       "        text-align: right;\n",
       "    }\n",
       "</style>\n",
       "<table border=\"1\" class=\"dataframe\">\n",
       "  <thead>\n",
       "    <tr style=\"text-align: right;\">\n",
       "      <th></th>\n",
       "      <th>sum_return</th>\n",
       "      <th>sum_rank</th>\n",
       "    </tr>\n",
       "    <tr>\n",
       "      <th>symbol</th>\n",
       "      <th></th>\n",
       "      <th></th>\n",
       "    </tr>\n",
       "  </thead>\n",
       "  <tbody>\n",
       "    <tr>\n",
       "      <th>ASP-SME</th>\n",
       "      <td>-4.58</td>\n",
       "      <td>15.0</td>\n",
       "    </tr>\n",
       "    <tr>\n",
       "      <th>K-MIDSMALL</th>\n",
       "      <td>-6.07</td>\n",
       "      <td>7.0</td>\n",
       "    </tr>\n",
       "    <tr>\n",
       "      <th>KKP-SM-CAP</th>\n",
       "      <td>-4.42</td>\n",
       "      <td>15.0</td>\n",
       "    </tr>\n",
       "    <tr>\n",
       "      <th>KKP-TQG</th>\n",
       "      <td>-4.06</td>\n",
       "      <td>15.0</td>\n",
       "    </tr>\n",
       "    <tr>\n",
       "      <th>KTMSEQ</th>\n",
       "      <td>-4.22</td>\n",
       "      <td>16.0</td>\n",
       "    </tr>\n",
       "    <tr>\n",
       "      <th>TISCOMS-A</th>\n",
       "      <td>-3.80</td>\n",
       "      <td>16.0</td>\n",
       "    </tr>\n",
       "  </tbody>\n",
       "</table>\n",
       "</div>"
      ],
      "text/plain": [
       "            sum_return  sum_rank\n",
       "symbol                          \n",
       "ASP-SME          -4.58      15.0\n",
       "K-MIDSMALL       -6.07       7.0\n",
       "KKP-SM-CAP       -4.42      15.0\n",
       "KKP-TQG          -4.06      15.0\n",
       "KTMSEQ           -4.22      16.0\n",
       "TISCOMS-A        -3.80      16.0"
      ]
     },
     "execution_count": 67,
     "metadata": {},
     "output_type": "execute_result"
    }
   ],
   "source": [
    "print(\"==============================================================\")\n",
    "print(\"Combine Both return and Rank\")\n",
    "dfSummary=pd.concat([\\\n",
    "                     dfPct.sum().to_frame(name='sum_return'),\\\n",
    "                     dfRank.sum().to_frame(name='sum_rank'),\\\n",
    "                    ],axis=1)\n",
    "dfSummary.fillna(value=0,inplace=True)\n",
    "print(dfSummary)"
   ]
  },
  {
   "cell_type": "markdown",
   "id": "ac303ef7-7bc0-40da-833e-c3b3b8e3de5c",
   "metadata": {},
   "source": [
    "# Summarize Total Score "
   ]
  },
  {
   "cell_type": "code",
   "execution_count": 68,
   "id": "a0858adb-076e-41d2-8b61-2bbf5aa4e848",
   "metadata": {
    "tags": []
   },
   "outputs": [
    {
     "data": {
      "text/html": [
       "<div>\n",
       "<style scoped>\n",
       "    .dataframe tbody tr th:only-of-type {\n",
       "        vertical-align: middle;\n",
       "    }\n",
       "\n",
       "    .dataframe tbody tr th {\n",
       "        vertical-align: top;\n",
       "    }\n",
       "\n",
       "    .dataframe thead th {\n",
       "        text-align: right;\n",
       "    }\n",
       "</style>\n",
       "<table border=\"1\" class=\"dataframe\">\n",
       "  <thead>\n",
       "    <tr style=\"text-align: right;\">\n",
       "      <th></th>\n",
       "      <th>sum_return</th>\n",
       "      <th>sum_rank</th>\n",
       "      <th>TotalScore</th>\n",
       "    </tr>\n",
       "    <tr>\n",
       "      <th>symbol</th>\n",
       "      <th></th>\n",
       "      <th></th>\n",
       "      <th></th>\n",
       "    </tr>\n",
       "  </thead>\n",
       "  <tbody>\n",
       "    <tr>\n",
       "      <th>TISCOMS-A</th>\n",
       "      <td>6.0</td>\n",
       "      <td>6.0</td>\n",
       "      <td>12.0</td>\n",
       "    </tr>\n",
       "    <tr>\n",
       "      <th>KTMSEQ</th>\n",
       "      <td>4.0</td>\n",
       "      <td>6.0</td>\n",
       "      <td>10.0</td>\n",
       "    </tr>\n",
       "    <tr>\n",
       "      <th>KKP-TQG</th>\n",
       "      <td>5.0</td>\n",
       "      <td>4.0</td>\n",
       "      <td>9.0</td>\n",
       "    </tr>\n",
       "    <tr>\n",
       "      <th>KKP-SM-CAP</th>\n",
       "      <td>3.0</td>\n",
       "      <td>4.0</td>\n",
       "      <td>7.0</td>\n",
       "    </tr>\n",
       "    <tr>\n",
       "      <th>ASP-SME</th>\n",
       "      <td>2.0</td>\n",
       "      <td>4.0</td>\n",
       "      <td>6.0</td>\n",
       "    </tr>\n",
       "    <tr>\n",
       "      <th>K-MIDSMALL</th>\n",
       "      <td>1.0</td>\n",
       "      <td>1.0</td>\n",
       "      <td>2.0</td>\n",
       "    </tr>\n",
       "  </tbody>\n",
       "</table>\n",
       "</div>"
      ],
      "text/plain": [
       "            sum_return  sum_rank  TotalScore\n",
       "symbol                                      \n",
       "TISCOMS-A          6.0       6.0        12.0\n",
       "KTMSEQ             4.0       6.0        10.0\n",
       "KKP-TQG            5.0       4.0         9.0\n",
       "KKP-SM-CAP         3.0       4.0         7.0\n",
       "ASP-SME            2.0       4.0         6.0\n",
       "K-MIDSMALL         1.0       1.0         2.0"
      ]
     },
     "execution_count": 68,
     "metadata": {},
     "output_type": "execute_result"
    }
   ],
   "source": [
    "print(\"==============================================================\")\n",
    "print(\"Summarize Total Score \")\n",
    "dfFinalScore=dfSummary.rank(method='max',axis=0)\n",
    "dfFinalScore['TotalScore']=dfFinalScore.sum(axis=1)\n",
    "dfFinalScore.sort_values(by='TotalScore',ascending=False,inplace=True)\n",
    "print(dfFinalScore)"
   ]
  },
  {
   "cell_type": "code",
   "execution_count": 69,
   "id": "94b64c56-3979-421a-8f46-97bb9da9eebe",
   "metadata": {
    "tags": []
   },
   "outputs": [],
   "source": [
    "if isPriceExcel:\n",
    "    print(\"Export outcoome as Excel\")\n",
    "    with pd.ExcelWriter(f\"{report_prefix_name}_{timeframe}_{from_str}To{to_str}.xlsx\") as writer:\n",
    "        dfPct.to_excel(writer, sheet_name=f\"{timeframe}-Return\")\n",
    "        dfSum_Pct_Price.to_excel(writer, sheet_name=\"Return\")\n",
    "        dfRank.to_excel(writer, sheet_name=\"RANK\")\n",
    "        dfSummary.to_excel(writer, sheet_name=\"Summary\")\n",
    "        dfFinalScore.to_excel(writer, sheet_name=\"FinalScore\")"
   ]
  },
  {
   "cell_type": "code",
   "execution_count": null,
   "id": "7d931b7c-bd57-47dd-8004-8d0122494ba4",
   "metadata": {},
   "outputs": [],
   "source": []
  }
 ],
 "metadata": {
  "kernelspec": {
   "display_name": "Python 3 (ipykernel)",
   "language": "python",
   "name": "python3"
  },
  "language_info": {
   "codemirror_mode": {
    "name": "ipython",
    "version": 3
   },
   "file_extension": ".py",
   "mimetype": "text/x-python",
   "name": "python",
   "nbconvert_exporter": "python",
   "pygments_lexer": "ipython3",
   "version": "3.9.16"
  }
 },
 "nbformat": 4,
 "nbformat_minor": 5
}
