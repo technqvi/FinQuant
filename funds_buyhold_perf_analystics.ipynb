{
 "cells": [
  {
   "cell_type": "code",
   "execution_count": 62,
   "id": "71719cb7-6fa2-4c50-920b-5698f807d1a9",
   "metadata": {
    "tags": []
   },
   "outputs": [],
   "source": [
    "import pandas as pd\n",
    "import datetime as datetime\n",
    "import os\n",
    "# ! pip install xlsxwriter --user"
   ]
  },
  {
   "cell_type": "code",
   "execution_count": 63,
   "id": "0e939474-9b32-4a4b-8f8e-5ec1b619a2b4",
   "metadata": {
    "tags": []
   },
   "outputs": [
    {
     "name": "stdout",
     "output_type": "stream",
     "text": [
      "Found D:\\PythonDev\\MyQuantFinProject\\Data\\4ETF-MarToSep23-Funds.csv\n"
     ]
    }
   ],
   "source": [
    "data_file=r'D:\\PythonDev\\MyQuantFinProject\\Data\\4ETF-MarToSep23-Funds.csv'\n",
    "isPy=False\n",
    "if os.path.exists(data_file):\n",
    " print(f\"Found {os.path.abspath(data_file)}\")\n",
    "else:\n",
    " raise FileNotFoundError(f\"Not found file {data_file}\")  "
   ]
  },
  {
   "cell_type": "markdown",
   "id": "83d296e7-5dd0-4425-b8ef-b63b76b08c7a",
   "metadata": {},
   "source": [
    "# Specify Period and Timefame to caculate fund performance and"
   ]
  },
  {
   "cell_type": "code",
   "execution_count": 64,
   "id": "b51e9c53-d823-4d0e-8037-ecc085d71df9",
   "metadata": {
    "tags": []
   },
   "outputs": [],
   "source": [
    "from_str='2023-05-10'\n",
    "to_str='2023-09-30' \n",
    "timeframe='M'\n",
    "#timeframe='W-FRI'"
   ]
  },
  {
   "cell_type": "markdown",
   "id": "67a2b2b8-86cf-4f54-99d8-8d5a69619019",
   "metadata": {},
   "source": [
    "# Input data"
   ]
  },
  {
   "cell_type": "code",
   "execution_count": 65,
   "id": "41fb0fd5-f97d-4e5e-a4cb-2c50f1628f54",
   "metadata": {
    "tags": []
   },
   "outputs": [],
   "source": [
    "if isPy:\n",
    "    print(f\"Data csv file in {data_file}\")\n",
    "    data_file=input(\"CSV file name : \")\n",
    "    if os.path.exists(data_file)==False:\n",
    "        raise Exception(f\"not found {data_file}\")\n",
    "    else:\n",
    "        print(f\"Process file {data_file}\")\n",
    "\n",
    "    from_str=input(\"From_date(2020-10-01) : \") \n",
    "    to_str=input(\"To_date(2022-12-31): \") \n",
    "    feq=input(\"Timeframe(W-FRI,M,Q,Y): \") \n",
    "  \n",
    "    print(f\"Process data from {from_str} to {to_str} in {feq} timeframe\")\n",
    "    press_y=input(f\"Press y=True and n=False to run analaystics : \") \n",
    "    if press_y.lower()=='y':\n",
    "     ok=True\n",
    "    else:\n",
    "     exit()"
   ]
  },
  {
   "cell_type": "markdown",
   "id": "412a9817-b8b9-4075-86cb-4a69949d6c06",
   "metadata": {},
   "source": [
    "# Read csv file and extract and transform data as need"
   ]
  },
  {
   "cell_type": "code",
   "execution_count": 66,
   "id": "dcd64589-b7c5-4d71-93f9-ceb6b8e6c6da",
   "metadata": {
    "tags": []
   },
   "outputs": [
    {
     "name": "stdout",
     "output_type": "stream",
     "text": [
      "<class 'pandas.core.frame.DataFrame'>\n",
      "DatetimeIndex: 297 entries, 2023-05-10 to 2023-09-29\n",
      "Data columns (total 2 columns):\n",
      " #   Column  Non-Null Count  Dtype  \n",
      "---  ------  --------------  -----  \n",
      " 0   symbol  297 non-null    object \n",
      " 1   price   297 non-null    float64\n",
      "dtypes: float64(1), object(1)\n",
      "memory usage: 7.0+ KB\n",
      "None\n",
      "['QQQ', 'ACWI', 'THD']\n"
     ]
    }
   ],
   "source": [
    "df = pd.read_csv(data_file,index_col='Date/Time',parse_dates=['Date/Time'],dayfirst=True)\n",
    "df.index.set_names('date',inplace=True)\n",
    "df.sort_index(inplace=True)\n",
    "df=df.rename(columns={'Ticker':'symbol','close':'price'})\n",
    "df=df.loc[from_str:to_str,['symbol','price']]\n",
    "print(df.info())\n",
    "\n",
    "list_symbol=df['symbol'].unique().tolist() \n",
    "print(list_symbol)\n"
   ]
  },
  {
   "cell_type": "code",
   "execution_count": 67,
   "id": "814737df-b2e7-4a3a-b621-a4471902d094",
   "metadata": {
    "tags": []
   },
   "outputs": [
    {
     "data": {
      "text/html": [
       "<div>\n",
       "<style scoped>\n",
       "    .dataframe tbody tr th:only-of-type {\n",
       "        vertical-align: middle;\n",
       "    }\n",
       "\n",
       "    .dataframe tbody tr th {\n",
       "        vertical-align: top;\n",
       "    }\n",
       "\n",
       "    .dataframe thead th {\n",
       "        text-align: right;\n",
       "    }\n",
       "</style>\n",
       "<table border=\"1\" class=\"dataframe\">\n",
       "  <thead>\n",
       "    <tr style=\"text-align: right;\">\n",
       "      <th></th>\n",
       "      <th>symbol</th>\n",
       "      <th>price</th>\n",
       "    </tr>\n",
       "    <tr>\n",
       "      <th>date</th>\n",
       "      <th></th>\n",
       "      <th></th>\n",
       "    </tr>\n",
       "  </thead>\n",
       "  <tbody>\n",
       "    <tr>\n",
       "      <th>2023-05-10</th>\n",
       "      <td>QQQ</td>\n",
       "      <td>325.14</td>\n",
       "    </tr>\n",
       "    <tr>\n",
       "      <th>2023-05-10</th>\n",
       "      <td>ACWI</td>\n",
       "      <td>92.19</td>\n",
       "    </tr>\n",
       "    <tr>\n",
       "      <th>2023-05-10</th>\n",
       "      <td>THD</td>\n",
       "      <td>73.85</td>\n",
       "    </tr>\n",
       "    <tr>\n",
       "      <th>2023-05-11</th>\n",
       "      <td>QQQ</td>\n",
       "      <td>326.20</td>\n",
       "    </tr>\n",
       "    <tr>\n",
       "      <th>2023-05-11</th>\n",
       "      <td>ACWI</td>\n",
       "      <td>91.96</td>\n",
       "    </tr>\n",
       "    <tr>\n",
       "      <th>2023-05-11</th>\n",
       "      <td>THD</td>\n",
       "      <td>72.77</td>\n",
       "    </tr>\n",
       "    <tr>\n",
       "      <th>2023-05-12</th>\n",
       "      <td>QQQ</td>\n",
       "      <td>325.03</td>\n",
       "    </tr>\n",
       "    <tr>\n",
       "      <th>2023-05-12</th>\n",
       "      <td>ACWI</td>\n",
       "      <td>91.70</td>\n",
       "    </tr>\n",
       "    <tr>\n",
       "      <th>2023-05-12</th>\n",
       "      <td>THD</td>\n",
       "      <td>72.17</td>\n",
       "    </tr>\n",
       "  </tbody>\n",
       "</table>\n",
       "</div>"
      ],
      "text/plain": [
       "           symbol   price\n",
       "date                     \n",
       "2023-05-10    QQQ  325.14\n",
       "2023-05-10   ACWI   92.19\n",
       "2023-05-10    THD   73.85\n",
       "2023-05-11    QQQ  326.20\n",
       "2023-05-11   ACWI   91.96\n",
       "2023-05-11    THD   72.77\n",
       "2023-05-12    QQQ  325.03\n",
       "2023-05-12   ACWI   91.70\n",
       "2023-05-12    THD   72.17"
      ]
     },
     "execution_count": 67,
     "metadata": {},
     "output_type": "execute_result"
    }
   ],
   "source": [
    "df.head(len(list_symbol)*3)"
   ]
  },
  {
   "cell_type": "code",
   "execution_count": 68,
   "id": "fd466bd1-b900-4e76-bbdb-a9043f67b6cc",
   "metadata": {
    "tags": []
   },
   "outputs": [
    {
     "data": {
      "text/html": [
       "<div>\n",
       "<style scoped>\n",
       "    .dataframe tbody tr th:only-of-type {\n",
       "        vertical-align: middle;\n",
       "    }\n",
       "\n",
       "    .dataframe tbody tr th {\n",
       "        vertical-align: top;\n",
       "    }\n",
       "\n",
       "    .dataframe thead th {\n",
       "        text-align: right;\n",
       "    }\n",
       "</style>\n",
       "<table border=\"1\" class=\"dataframe\">\n",
       "  <thead>\n",
       "    <tr style=\"text-align: right;\">\n",
       "      <th></th>\n",
       "      <th>symbol</th>\n",
       "      <th>price</th>\n",
       "    </tr>\n",
       "    <tr>\n",
       "      <th>date</th>\n",
       "      <th></th>\n",
       "      <th></th>\n",
       "    </tr>\n",
       "  </thead>\n",
       "  <tbody>\n",
       "    <tr>\n",
       "      <th>2023-09-27</th>\n",
       "      <td>QQQ</td>\n",
       "      <td>355.04</td>\n",
       "    </tr>\n",
       "    <tr>\n",
       "      <th>2023-09-27</th>\n",
       "      <td>THD</td>\n",
       "      <td>63.19</td>\n",
       "    </tr>\n",
       "    <tr>\n",
       "      <th>2023-09-27</th>\n",
       "      <td>ACWI</td>\n",
       "      <td>92.06</td>\n",
       "    </tr>\n",
       "    <tr>\n",
       "      <th>2023-09-28</th>\n",
       "      <td>THD</td>\n",
       "      <td>62.94</td>\n",
       "    </tr>\n",
       "    <tr>\n",
       "      <th>2023-09-28</th>\n",
       "      <td>ACWI</td>\n",
       "      <td>92.63</td>\n",
       "    </tr>\n",
       "    <tr>\n",
       "      <th>2023-09-28</th>\n",
       "      <td>QQQ</td>\n",
       "      <td>358.01</td>\n",
       "    </tr>\n",
       "    <tr>\n",
       "      <th>2023-09-29</th>\n",
       "      <td>QQQ</td>\n",
       "      <td>358.27</td>\n",
       "    </tr>\n",
       "    <tr>\n",
       "      <th>2023-09-29</th>\n",
       "      <td>ACWI</td>\n",
       "      <td>92.37</td>\n",
       "    </tr>\n",
       "    <tr>\n",
       "      <th>2023-09-29</th>\n",
       "      <td>THD</td>\n",
       "      <td>62.49</td>\n",
       "    </tr>\n",
       "  </tbody>\n",
       "</table>\n",
       "</div>"
      ],
      "text/plain": [
       "           symbol   price\n",
       "date                     \n",
       "2023-09-27    QQQ  355.04\n",
       "2023-09-27    THD   63.19\n",
       "2023-09-27   ACWI   92.06\n",
       "2023-09-28    THD   62.94\n",
       "2023-09-28   ACWI   92.63\n",
       "2023-09-28    QQQ  358.01\n",
       "2023-09-29    QQQ  358.27\n",
       "2023-09-29   ACWI   92.37\n",
       "2023-09-29    THD   62.49"
      ]
     },
     "execution_count": 68,
     "metadata": {},
     "output_type": "execute_result"
    }
   ],
   "source": [
    "df.tail(len(list_symbol)*3)"
   ]
  },
  {
   "cell_type": "markdown",
   "id": "0cc04abe-e72a-4dfb-a735-928b94be49d3",
   "metadata": {},
   "source": [
    "# Basic"
   ]
  },
  {
   "cell_type": "markdown",
   "id": "3b87771b-7afc-4d03-bff4-b8dc283be9cd",
   "metadata": {},
   "source": [
    "# Resample data and calculate Percentage of change"
   ]
  },
  {
   "cell_type": "code",
   "execution_count": 69,
   "id": "820598bf-8c3b-44c7-bf87-e5bbc51f14aa",
   "metadata": {
    "tags": []
   },
   "outputs": [
    {
     "data": {
      "text/html": [
       "<div>\n",
       "<style scoped>\n",
       "    .dataframe tbody tr th:only-of-type {\n",
       "        vertical-align: middle;\n",
       "    }\n",
       "\n",
       "    .dataframe tbody tr th {\n",
       "        vertical-align: top;\n",
       "    }\n",
       "\n",
       "    .dataframe thead th {\n",
       "        text-align: right;\n",
       "    }\n",
       "</style>\n",
       "<table border=\"1\" class=\"dataframe\">\n",
       "  <thead>\n",
       "    <tr style=\"text-align: right;\">\n",
       "      <th></th>\n",
       "      <th>symbol</th>\n",
       "      <th>date</th>\n",
       "      <th>pct_change</th>\n",
       "    </tr>\n",
       "  </thead>\n",
       "  <tbody>\n",
       "  </tbody>\n",
       "</table>\n",
       "</div>"
      ],
      "text/plain": [
       "Empty DataFrame\n",
       "Columns: [symbol, date, pct_change]\n",
       "Index: []"
      ]
     },
     "execution_count": 69,
     "metadata": {},
     "output_type": "execute_result"
    }
   ],
   "source": [
    "colsROC=['symbol','date','pct_change']\n",
    "df_Pct_Price=pd.DataFrame(columns=colsROC)\n",
    "df_Pct_Price"
   ]
  },
  {
   "cell_type": "code",
   "execution_count": 70,
   "id": "a0855824-5628-471f-bc94-bcabdcd7fc5e",
   "metadata": {
    "tags": []
   },
   "outputs": [
    {
     "name": "stdout",
     "output_type": "stream",
     "text": [
      "====================================QQQ====================================\n",
      "List M Price\n",
      "        date symbol   price\n",
      "0 2023-05-31    QQQ  347.99\n",
      "1 2023-06-30    QQQ  369.42\n",
      "2 2023-07-31    QQQ  383.68\n",
      "3 2023-08-31    QQQ  377.99\n",
      "4 2023-09-30    QQQ  358.27\n",
      "Calculate ROC of QQQ\n",
      "  symbol       date  pct_change\n",
      "1    QQQ 2023-06-30        6.16\n",
      "2    QQQ 2023-07-31        3.86\n",
      "3    QQQ 2023-08-31       -1.48\n",
      "4    QQQ 2023-09-30       -5.22\n",
      "====================================ACWI====================================\n",
      "List M Price\n",
      "        date symbol  price\n",
      "0 2023-05-31   ACWI  91.62\n",
      "1 2023-06-30   ACWI  95.94\n",
      "2 2023-07-31   ACWI  99.39\n",
      "3 2023-08-31   ACWI  96.50\n",
      "4 2023-09-30   ACWI  92.37\n",
      "Calculate ROC of ACWI\n",
      "  symbol       date  pct_change\n",
      "1   ACWI 2023-06-30        4.72\n",
      "2   ACWI 2023-07-31        3.60\n",
      "3   ACWI 2023-08-31       -2.91\n",
      "4   ACWI 2023-09-30       -4.28\n",
      "====================================THD====================================\n",
      "List M Price\n",
      "        date symbol  price\n",
      "0 2023-05-31    THD  68.37\n",
      "1 2023-06-30    THD  65.78\n",
      "2 2023-07-31    THD  70.74\n",
      "3 2023-08-31    THD  69.04\n",
      "4 2023-09-30    THD  62.49\n",
      "Calculate ROC of THD\n",
      "  symbol       date  pct_change\n",
      "1    THD 2023-06-30       -3.79\n",
      "2    THD 2023-07-31        7.54\n",
      "3    THD 2023-08-31       -2.40\n",
      "4    THD 2023-09-30       -9.49\n"
     ]
    }
   ],
   "source": [
    "for symbol_name in list_symbol:\n",
    "\n",
    "    dfx_symbol=df.query('symbol==@symbol_name')\n",
    "    print(f\"===================================={symbol_name}====================================\")\n",
    "\n",
    "    dfx_px=dfx_symbol.resample(timeframe).last()\n",
    "    dfx_px=dfx_px.reset_index()\n",
    "    print(f\"List {timeframe} Price\")\n",
    "    print(dfx_px)\n",
    "\n",
    "    dfx_px['pct_change']=dfx_px['price'].pct_change()*100\n",
    "    dfx_px['pct_change']=dfx_px['pct_change'].round(2)\n",
    "\n",
    "    dfx_px=dfx_px.dropna() # the first  rown \n",
    "    dfx_px=dfx_px.drop(columns=['price']) # remove price becase we are focuse ROC of Price\n",
    "    dfx_px=dfx_px[colsROC]\n",
    "    \n",
    "    print(f\"Calculate ROC of {symbol_name}\")\n",
    "    print(dfx_px)\n",
    "    \n",
    "    df_Pct_Price=pd.concat([df_Pct_Price,dfx_px],ignore_index=True,axis=0)"
   ]
  },
  {
   "cell_type": "code",
   "execution_count": 71,
   "id": "810c8e0f-4345-40bc-81b3-5074b8adf7ec",
   "metadata": {
    "tags": []
   },
   "outputs": [
    {
     "data": {
      "text/html": [
       "<div>\n",
       "<style scoped>\n",
       "    .dataframe tbody tr th:only-of-type {\n",
       "        vertical-align: middle;\n",
       "    }\n",
       "\n",
       "    .dataframe tbody tr th {\n",
       "        vertical-align: top;\n",
       "    }\n",
       "\n",
       "    .dataframe thead th {\n",
       "        text-align: right;\n",
       "    }\n",
       "</style>\n",
       "<table border=\"1\" class=\"dataframe\">\n",
       "  <thead>\n",
       "    <tr style=\"text-align: right;\">\n",
       "      <th></th>\n",
       "      <th>symbol</th>\n",
       "      <th>date</th>\n",
       "      <th>pct_change</th>\n",
       "    </tr>\n",
       "  </thead>\n",
       "  <tbody>\n",
       "    <tr>\n",
       "      <th>0</th>\n",
       "      <td>QQQ</td>\n",
       "      <td>2023-06-30</td>\n",
       "      <td>6.16</td>\n",
       "    </tr>\n",
       "    <tr>\n",
       "      <th>1</th>\n",
       "      <td>QQQ</td>\n",
       "      <td>2023-07-31</td>\n",
       "      <td>3.86</td>\n",
       "    </tr>\n",
       "    <tr>\n",
       "      <th>2</th>\n",
       "      <td>QQQ</td>\n",
       "      <td>2023-08-31</td>\n",
       "      <td>-1.48</td>\n",
       "    </tr>\n",
       "    <tr>\n",
       "      <th>3</th>\n",
       "      <td>QQQ</td>\n",
       "      <td>2023-09-30</td>\n",
       "      <td>-5.22</td>\n",
       "    </tr>\n",
       "    <tr>\n",
       "      <th>4</th>\n",
       "      <td>ACWI</td>\n",
       "      <td>2023-06-30</td>\n",
       "      <td>4.72</td>\n",
       "    </tr>\n",
       "    <tr>\n",
       "      <th>5</th>\n",
       "      <td>ACWI</td>\n",
       "      <td>2023-07-31</td>\n",
       "      <td>3.60</td>\n",
       "    </tr>\n",
       "    <tr>\n",
       "      <th>6</th>\n",
       "      <td>ACWI</td>\n",
       "      <td>2023-08-31</td>\n",
       "      <td>-2.91</td>\n",
       "    </tr>\n",
       "    <tr>\n",
       "      <th>7</th>\n",
       "      <td>ACWI</td>\n",
       "      <td>2023-09-30</td>\n",
       "      <td>-4.28</td>\n",
       "    </tr>\n",
       "    <tr>\n",
       "      <th>8</th>\n",
       "      <td>THD</td>\n",
       "      <td>2023-06-30</td>\n",
       "      <td>-3.79</td>\n",
       "    </tr>\n",
       "    <tr>\n",
       "      <th>9</th>\n",
       "      <td>THD</td>\n",
       "      <td>2023-07-31</td>\n",
       "      <td>7.54</td>\n",
       "    </tr>\n",
       "    <tr>\n",
       "      <th>10</th>\n",
       "      <td>THD</td>\n",
       "      <td>2023-08-31</td>\n",
       "      <td>-2.40</td>\n",
       "    </tr>\n",
       "    <tr>\n",
       "      <th>11</th>\n",
       "      <td>THD</td>\n",
       "      <td>2023-09-30</td>\n",
       "      <td>-9.49</td>\n",
       "    </tr>\n",
       "  </tbody>\n",
       "</table>\n",
       "</div>"
      ],
      "text/plain": [
       "   symbol       date  pct_change\n",
       "0     QQQ 2023-06-30        6.16\n",
       "1     QQQ 2023-07-31        3.86\n",
       "2     QQQ 2023-08-31       -1.48\n",
       "3     QQQ 2023-09-30       -5.22\n",
       "4    ACWI 2023-06-30        4.72\n",
       "5    ACWI 2023-07-31        3.60\n",
       "6    ACWI 2023-08-31       -2.91\n",
       "7    ACWI 2023-09-30       -4.28\n",
       "8     THD 2023-06-30       -3.79\n",
       "9     THD 2023-07-31        7.54\n",
       "10    THD 2023-08-31       -2.40\n",
       "11    THD 2023-09-30       -9.49"
      ]
     },
     "execution_count": 71,
     "metadata": {},
     "output_type": "execute_result"
    }
   ],
   "source": [
    "df_Pct_Price"
   ]
  },
  {
   "cell_type": "markdown",
   "id": "86d7dd09-b073-4089-9992-c5e5c3de96fc",
   "metadata": {},
   "source": [
    "# Sum percentage of fund return"
   ]
  },
  {
   "cell_type": "code",
   "execution_count": 72,
   "id": "0a42719e-4712-4f59-bc25-142dee7f853b",
   "metadata": {
    "tags": []
   },
   "outputs": [
    {
     "data": {
      "text/html": [
       "<div>\n",
       "<style scoped>\n",
       "    .dataframe tbody tr th:only-of-type {\n",
       "        vertical-align: middle;\n",
       "    }\n",
       "\n",
       "    .dataframe tbody tr th {\n",
       "        vertical-align: top;\n",
       "    }\n",
       "\n",
       "    .dataframe thead th {\n",
       "        text-align: right;\n",
       "    }\n",
       "</style>\n",
       "<table border=\"1\" class=\"dataframe\">\n",
       "  <thead>\n",
       "    <tr style=\"text-align: right;\">\n",
       "      <th></th>\n",
       "      <th>symbol</th>\n",
       "      <th>pct_change</th>\n",
       "    </tr>\n",
       "  </thead>\n",
       "  <tbody>\n",
       "    <tr>\n",
       "      <th>0</th>\n",
       "      <td>ACWI</td>\n",
       "      <td>1.1</td>\n",
       "    </tr>\n",
       "    <tr>\n",
       "      <th>1</th>\n",
       "      <td>QQQ</td>\n",
       "      <td>3.3</td>\n",
       "    </tr>\n",
       "    <tr>\n",
       "      <th>2</th>\n",
       "      <td>THD</td>\n",
       "      <td>-8.1</td>\n",
       "    </tr>\n",
       "  </tbody>\n",
       "</table>\n",
       "</div>"
      ],
      "text/plain": [
       "  symbol  pct_change\n",
       "0   ACWI         1.1\n",
       "1    QQQ         3.3\n",
       "2    THD        -8.1"
      ]
     },
     "execution_count": 72,
     "metadata": {},
     "output_type": "execute_result"
    }
   ],
   "source": [
    "dfSum_Pct_Price=df_Pct_Price.groupby(['symbol'])[['pct_change']].sum()\n",
    "dfSum_Pct_Price.reset_index(drop=False,inplace=True)\n",
    "dfSum_Pct_Pric=dfSum_Pct_Price.sort_values(by=\"pct_change\",ascending=False)\n",
    "dfSum_Pct_Price[\"pct_change\"]=dfSum_Pct_Price[\"pct_change\"].round(1)\n",
    "dfSum_Pct_Price"
   ]
  },
  {
   "cell_type": "code",
   "execution_count": 73,
   "id": "d5fea99c-fff5-4be6-85dc-b2aced7e32d1",
   "metadata": {
    "tags": []
   },
   "outputs": [],
   "source": [
    "# writer=pd.ExcelWriter( \"BasicFundPerformanceReport.xlsx\",engine='openpyxl') \n",
    "\n",
    "# df_Pct_Price.to_csv(f\"ETF-{timeframe}-Return.csv\",index=False)\n",
    "# dfSum_Pct_Price.to_csv(f\"ETF-{timeframe}-TotalReturn.csv\",index=False)\n"
   ]
  },
  {
   "cell_type": "markdown",
   "id": "1da8f6c0-3297-466b-a229-a5c3e9ed2e72",
   "metadata": {},
   "source": [
    "# Advance"
   ]
  },
  {
   "cell_type": "markdown",
   "id": "23404b4f-839d-468b-a554-f3d595c521a6",
   "metadata": {},
   "source": [
    "# Pivot Percent Return To Dataframe"
   ]
  },
  {
   "cell_type": "code",
   "execution_count": 75,
   "id": "f1aa21e9-8d26-4ca2-becd-4dfaccdb0fa4",
   "metadata": {
    "tags": []
   },
   "outputs": [
    {
     "data": {
      "text/html": [
       "<div>\n",
       "<style scoped>\n",
       "    .dataframe tbody tr th:only-of-type {\n",
       "        vertical-align: middle;\n",
       "    }\n",
       "\n",
       "    .dataframe tbody tr th {\n",
       "        vertical-align: top;\n",
       "    }\n",
       "\n",
       "    .dataframe thead th {\n",
       "        text-align: right;\n",
       "    }\n",
       "</style>\n",
       "<table border=\"1\" class=\"dataframe\">\n",
       "  <thead>\n",
       "    <tr style=\"text-align: right;\">\n",
       "      <th>symbol</th>\n",
       "      <th>ACWI</th>\n",
       "      <th>QQQ</th>\n",
       "      <th>THD</th>\n",
       "    </tr>\n",
       "    <tr>\n",
       "      <th>date</th>\n",
       "      <th></th>\n",
       "      <th></th>\n",
       "      <th></th>\n",
       "    </tr>\n",
       "  </thead>\n",
       "  <tbody>\n",
       "    <tr>\n",
       "      <th>2023-06-30</th>\n",
       "      <td>4.72</td>\n",
       "      <td>6.16</td>\n",
       "      <td>-3.79</td>\n",
       "    </tr>\n",
       "    <tr>\n",
       "      <th>2023-07-31</th>\n",
       "      <td>3.60</td>\n",
       "      <td>3.86</td>\n",
       "      <td>7.54</td>\n",
       "    </tr>\n",
       "    <tr>\n",
       "      <th>2023-08-31</th>\n",
       "      <td>-2.91</td>\n",
       "      <td>-1.48</td>\n",
       "      <td>-2.40</td>\n",
       "    </tr>\n",
       "    <tr>\n",
       "      <th>2023-09-30</th>\n",
       "      <td>-4.28</td>\n",
       "      <td>-5.22</td>\n",
       "      <td>-9.49</td>\n",
       "    </tr>\n",
       "  </tbody>\n",
       "</table>\n",
       "</div>"
      ],
      "text/plain": [
       "symbol      ACWI   QQQ   THD\n",
       "date                        \n",
       "2023-06-30  4.72  6.16 -3.79\n",
       "2023-07-31  3.60  3.86  7.54\n",
       "2023-08-31 -2.91 -1.48 -2.40\n",
       "2023-09-30 -4.28 -5.22 -9.49"
      ]
     },
     "execution_count": 75,
     "metadata": {},
     "output_type": "execute_result"
    }
   ],
   "source": [
    "dfPct=df_Pct_Price.pivot(index='date', columns='symbol', values='pct_change')\n",
    "# print(dfPct.info())\n",
    "dfPct"
   ]
  },
  {
   "cell_type": "markdown",
   "id": "6d9d2077-2b8e-4760-8945-961fed91d7b0",
   "metadata": {},
   "source": [
    "# Take Percent Return to Find Rank"
   ]
  },
  {
   "cell_type": "code",
   "execution_count": 76,
   "id": "5d58ed8a-f023-41ea-905b-6463a4622976",
   "metadata": {
    "tags": []
   },
   "outputs": [
    {
     "data": {
      "text/html": [
       "<div>\n",
       "<style scoped>\n",
       "    .dataframe tbody tr th:only-of-type {\n",
       "        vertical-align: middle;\n",
       "    }\n",
       "\n",
       "    .dataframe tbody tr th {\n",
       "        vertical-align: top;\n",
       "    }\n",
       "\n",
       "    .dataframe thead th {\n",
       "        text-align: right;\n",
       "    }\n",
       "</style>\n",
       "<table border=\"1\" class=\"dataframe\">\n",
       "  <thead>\n",
       "    <tr style=\"text-align: right;\">\n",
       "      <th>symbol</th>\n",
       "      <th>ACWI</th>\n",
       "      <th>QQQ</th>\n",
       "      <th>THD</th>\n",
       "    </tr>\n",
       "    <tr>\n",
       "      <th>date</th>\n",
       "      <th></th>\n",
       "      <th></th>\n",
       "      <th></th>\n",
       "    </tr>\n",
       "  </thead>\n",
       "  <tbody>\n",
       "    <tr>\n",
       "      <th>2023-06-30</th>\n",
       "      <td>2.0</td>\n",
       "      <td>3.0</td>\n",
       "      <td>1.0</td>\n",
       "    </tr>\n",
       "    <tr>\n",
       "      <th>2023-07-31</th>\n",
       "      <td>1.0</td>\n",
       "      <td>2.0</td>\n",
       "      <td>3.0</td>\n",
       "    </tr>\n",
       "    <tr>\n",
       "      <th>2023-08-31</th>\n",
       "      <td>1.0</td>\n",
       "      <td>3.0</td>\n",
       "      <td>2.0</td>\n",
       "    </tr>\n",
       "    <tr>\n",
       "      <th>2023-09-30</th>\n",
       "      <td>3.0</td>\n",
       "      <td>2.0</td>\n",
       "      <td>1.0</td>\n",
       "    </tr>\n",
       "  </tbody>\n",
       "</table>\n",
       "</div>"
      ],
      "text/plain": [
       "symbol      ACWI  QQQ  THD\n",
       "date                      \n",
       "2023-06-30   2.0  3.0  1.0\n",
       "2023-07-31   1.0  2.0  3.0\n",
       "2023-08-31   1.0  3.0  2.0\n",
       "2023-09-30   3.0  2.0  1.0"
      ]
     },
     "execution_count": 76,
     "metadata": {},
     "output_type": "execute_result"
    }
   ],
   "source": [
    "dfRank=dfPct[dfPct.columns.tolist()].rank(method='max',axis=1)\n",
    "dfRank"
   ]
  },
  {
   "cell_type": "code",
   "execution_count": 77,
   "id": "7ab3b8ea-64c4-49f5-989f-11afa1f635de",
   "metadata": {
    "tags": []
   },
   "outputs": [],
   "source": [
    "# Combine Both return and Rank"
   ]
  },
  {
   "cell_type": "code",
   "execution_count": 78,
   "id": "459ec0a8-785f-4b93-9eec-e1a4a53b6703",
   "metadata": {
    "tags": []
   },
   "outputs": [
    {
     "data": {
      "text/html": [
       "<div>\n",
       "<style scoped>\n",
       "    .dataframe tbody tr th:only-of-type {\n",
       "        vertical-align: middle;\n",
       "    }\n",
       "\n",
       "    .dataframe tbody tr th {\n",
       "        vertical-align: top;\n",
       "    }\n",
       "\n",
       "    .dataframe thead th {\n",
       "        text-align: right;\n",
       "    }\n",
       "</style>\n",
       "<table border=\"1\" class=\"dataframe\">\n",
       "  <thead>\n",
       "    <tr style=\"text-align: right;\">\n",
       "      <th></th>\n",
       "      <th>sum_return</th>\n",
       "      <th>sum_rank</th>\n",
       "    </tr>\n",
       "    <tr>\n",
       "      <th>symbol</th>\n",
       "      <th></th>\n",
       "      <th></th>\n",
       "    </tr>\n",
       "  </thead>\n",
       "  <tbody>\n",
       "    <tr>\n",
       "      <th>ACWI</th>\n",
       "      <td>1.13</td>\n",
       "      <td>7.0</td>\n",
       "    </tr>\n",
       "    <tr>\n",
       "      <th>QQQ</th>\n",
       "      <td>3.32</td>\n",
       "      <td>10.0</td>\n",
       "    </tr>\n",
       "    <tr>\n",
       "      <th>THD</th>\n",
       "      <td>-8.14</td>\n",
       "      <td>7.0</td>\n",
       "    </tr>\n",
       "  </tbody>\n",
       "</table>\n",
       "</div>"
      ],
      "text/plain": [
       "        sum_return  sum_rank\n",
       "symbol                      \n",
       "ACWI          1.13       7.0\n",
       "QQQ           3.32      10.0\n",
       "THD          -8.14       7.0"
      ]
     },
     "execution_count": 78,
     "metadata": {},
     "output_type": "execute_result"
    }
   ],
   "source": [
    "dfSummary=pd.concat([\\\n",
    "                     dfPct.sum().to_frame(name='sum_return'),\\\n",
    "                     dfRank.sum().to_frame(name='sum_rank'),\\\n",
    "                    ],axis=1)\n",
    "dfSummary.fillna(value=0,inplace=True)\n",
    "dfSummary"
   ]
  },
  {
   "cell_type": "code",
   "execution_count": 79,
   "id": "a0858adb-076e-41d2-8b61-2bbf5aa4e848",
   "metadata": {
    "tags": []
   },
   "outputs": [
    {
     "data": {
      "text/html": [
       "<div>\n",
       "<style scoped>\n",
       "    .dataframe tbody tr th:only-of-type {\n",
       "        vertical-align: middle;\n",
       "    }\n",
       "\n",
       "    .dataframe tbody tr th {\n",
       "        vertical-align: top;\n",
       "    }\n",
       "\n",
       "    .dataframe thead th {\n",
       "        text-align: right;\n",
       "    }\n",
       "</style>\n",
       "<table border=\"1\" class=\"dataframe\">\n",
       "  <thead>\n",
       "    <tr style=\"text-align: right;\">\n",
       "      <th></th>\n",
       "      <th>sum_return</th>\n",
       "      <th>sum_rank</th>\n",
       "      <th>TotalScore</th>\n",
       "    </tr>\n",
       "    <tr>\n",
       "      <th>symbol</th>\n",
       "      <th></th>\n",
       "      <th></th>\n",
       "      <th></th>\n",
       "    </tr>\n",
       "  </thead>\n",
       "  <tbody>\n",
       "    <tr>\n",
       "      <th>QQQ</th>\n",
       "      <td>3.0</td>\n",
       "      <td>3.0</td>\n",
       "      <td>6.0</td>\n",
       "    </tr>\n",
       "    <tr>\n",
       "      <th>ACWI</th>\n",
       "      <td>2.0</td>\n",
       "      <td>2.0</td>\n",
       "      <td>4.0</td>\n",
       "    </tr>\n",
       "    <tr>\n",
       "      <th>THD</th>\n",
       "      <td>1.0</td>\n",
       "      <td>2.0</td>\n",
       "      <td>3.0</td>\n",
       "    </tr>\n",
       "  </tbody>\n",
       "</table>\n",
       "</div>"
      ],
      "text/plain": [
       "        sum_return  sum_rank  TotalScore\n",
       "symbol                                  \n",
       "QQQ            3.0       3.0         6.0\n",
       "ACWI           2.0       2.0         4.0\n",
       "THD            1.0       2.0         3.0"
      ]
     },
     "execution_count": 79,
     "metadata": {},
     "output_type": "execute_result"
    }
   ],
   "source": [
    "dfFinalScore=dfSummary.rank(method='max',axis=0)\n",
    "dfFinalScore['TotalScore']=dfFinalScore.sum(axis=1)\n",
    "dfFinalScore.sort_values(by='TotalScore',ascending=False,inplace=True)\n",
    "dfFinalScore"
   ]
  },
  {
   "cell_type": "code",
   "execution_count": 45,
   "id": "94b64c56-3979-421a-8f46-97bb9da9eebe",
   "metadata": {
    "tags": []
   },
   "outputs": [],
   "source": [
    "with pd.ExcelWriter(f\"ETFPerReport_{timeframe}_{from_str}To{to_str}.xlsx\") as writer:\n",
    "    dfPct.to_excel(writer, sheet_name=f\"{timeframe}-Return\")\n",
    "    dfSum_Pct_Price.to_excel(writer, sheet_name=\"Return\")\n",
    "    dfRank.to_excel(writer, sheet_name=\"RANK\")\n",
    "    dfSummary.to_excel(writer, sheet_name=\"Summary\")\n",
    "    dfFinalScore.to_excel(writer, sheet_name=\"FinalScore\")"
   ]
  },
  {
   "cell_type": "code",
   "execution_count": null,
   "id": "7d931b7c-bd57-47dd-8004-8d0122494ba4",
   "metadata": {},
   "outputs": [],
   "source": []
  }
 ],
 "metadata": {
  "kernelspec": {
   "display_name": "Python 3 (ipykernel)",
   "language": "python",
   "name": "python3"
  },
  "language_info": {
   "codemirror_mode": {
    "name": "ipython",
    "version": 3
   },
   "file_extension": ".py",
   "mimetype": "text/x-python",
   "name": "python",
   "nbconvert_exporter": "python",
   "pygments_lexer": "ipython3",
   "version": "3.10.12"
  }
 },
 "nbformat": 4,
 "nbformat_minor": 5
}
