{
 "cells": [
  {
   "cell_type": "code",
   "execution_count": 7,
   "id": "71719cb7-6fa2-4c50-920b-5698f807d1a9",
   "metadata": {
    "tags": []
   },
   "outputs": [],
   "source": [
    "import pandas as pd\n",
    "import datetime as datetime\n",
    "import os\n",
    "# ! pip install xlsxwriter --user"
   ]
  },
  {
   "cell_type": "code",
   "execution_count": 8,
   "id": "0e939474-9b32-4a4b-8f8e-5ec1b619a2b4",
   "metadata": {
    "tags": []
   },
   "outputs": [],
   "source": [
    "data_path=r'D:\\PythonDev\\MyQuantFinProject\\Data'\n",
    "data_file='World_Sep-Nov-23.csv'\n",
    "isPy=False \n",
    "isPriceExcel=False"
   ]
  },
  {
   "cell_type": "markdown",
   "id": "83d296e7-5dd0-4425-b8ef-b63b76b08c7a",
   "metadata": {},
   "source": [
    "# Specify Period and Timefame to caculate fund performance and"
   ]
  },
  {
   "cell_type": "code",
   "execution_count": 9,
   "id": "b51e9c53-d823-4d0e-8037-ecc085d71df9",
   "metadata": {
    "tags": []
   },
   "outputs": [],
   "source": [
    "from_str='2023-08-01'\n",
    "to_str='2023-11-30' \n",
    "timeframe='M'\n",
    "#timeframe='W-FRI'"
   ]
  },
  {
   "cell_type": "markdown",
   "id": "67a2b2b8-86cf-4f54-99d8-8d5a69619019",
   "metadata": {},
   "source": [
    "# Input data"
   ]
  },
  {
   "cell_type": "code",
   "execution_count": 10,
   "id": "41fb0fd5-f97d-4e5e-a4cb-2c50f1628f54",
   "metadata": {
    "tags": []
   },
   "outputs": [],
   "source": [
    "if isPy:\n",
    "    print(f\"Data csv file in Path: {data_path}\")\n",
    "    data_file=input(\"CSV file name : \")\n",
    "\n",
    "    from_str=input(\"From_date(2020-10-01) : \") \n",
    "    to_str=input(\"To_date(2022-12-31): \") \n",
    "    timeframe=input(\"Timeframe(W-FRI,M,Q,Y): \") \n",
    "  \n",
    "    print(f\"Process data from {from_str} to {to_str} in {timeframe} timeframe\")\n",
    "    press_y=input(f\"Press y=True and n=False to run analaystics : \") \n",
    "    if press_y.lower()=='y':\n",
    "     ok=True\n",
    "    else:\n",
    "     exit()\n"
   ]
  },
  {
   "cell_type": "code",
   "execution_count": 11,
   "id": "5dca23f5-2106-4e69-85cb-e65bb26b6cca",
   "metadata": {
    "tags": []
   },
   "outputs": [
    {
     "name": "stdout",
     "output_type": "stream",
     "text": [
      "Process file D:\\PythonDev\\MyQuantFinProject\\Data\\World_Sep-Nov-23.csv\n",
      "D:\\PythonDev\\MyQuantFinProject\\Data\\World_Sep-Nov-23.csv\n"
     ]
    }
   ],
   "source": [
    "report_prefix_name=data_file.split('.')[0]\n",
    "data_file=os.path.join(data_path,data_file)\n",
    "if os.path.exists(data_file)==False:\n",
    "    raise Exception(f\"not found {data_file}\")\n",
    "else:\n",
    "    print(f\"Process file {data_file}\")\n",
    "print(data_file)"
   ]
  },
  {
   "cell_type": "markdown",
   "id": "412a9817-b8b9-4075-86cb-4a69949d6c06",
   "metadata": {},
   "source": [
    "# Read csv file and extract and transform data as need"
   ]
  },
  {
   "cell_type": "code",
   "execution_count": 12,
   "id": "dcd64589-b7c5-4d71-93f9-ceb6b8e6c6da",
   "metadata": {
    "tags": []
   },
   "outputs": [
    {
     "name": "stdout",
     "output_type": "stream",
     "text": [
      "<class 'pandas.core.frame.DataFrame'>\n",
      "DatetimeIndex: 336 entries, 2023-08-01 to 2023-11-28\n",
      "Data columns (total 2 columns):\n",
      " #   Column  Non-Null Count  Dtype  \n",
      "---  ------  --------------  -----  \n",
      " 0   symbol  336 non-null    object \n",
      " 1   price   336 non-null    float64\n",
      "dtypes: float64(1), object(1)\n",
      "memory usage: 7.9+ KB\n",
      "None\n",
      "['AAXJ', 'QQQ', 'ACWI', 'SPY']\n"
     ]
    }
   ],
   "source": [
    "df = pd.read_csv(data_file,index_col='Date/Time',parse_dates=['Date/Time'],dayfirst=True)\n",
    "df.index.set_names('date',inplace=True)\n",
    "df.sort_index(inplace=True)\n",
    "df=df.rename(columns={'Ticker':'symbol','close':'price'})\n",
    "df=df.loc[from_str:to_str,['symbol','price']]\n",
    "print(df.info())\n",
    "\n",
    "list_symbol=df['symbol'].unique().tolist() \n",
    "print(list_symbol)\n"
   ]
  },
  {
   "cell_type": "code",
   "execution_count": 13,
   "id": "814737df-b2e7-4a3a-b621-a4471902d094",
   "metadata": {
    "tags": []
   },
   "outputs": [
    {
     "data": {
      "text/html": [
       "<div>\n",
       "<style scoped>\n",
       "    .dataframe tbody tr th:only-of-type {\n",
       "        vertical-align: middle;\n",
       "    }\n",
       "\n",
       "    .dataframe tbody tr th {\n",
       "        vertical-align: top;\n",
       "    }\n",
       "\n",
       "    .dataframe thead th {\n",
       "        text-align: right;\n",
       "    }\n",
       "</style>\n",
       "<table border=\"1\" class=\"dataframe\">\n",
       "  <thead>\n",
       "    <tr style=\"text-align: right;\">\n",
       "      <th></th>\n",
       "      <th>symbol</th>\n",
       "      <th>price</th>\n",
       "    </tr>\n",
       "    <tr>\n",
       "      <th>date</th>\n",
       "      <th></th>\n",
       "      <th></th>\n",
       "    </tr>\n",
       "  </thead>\n",
       "  <tbody>\n",
       "    <tr>\n",
       "      <th>2023-08-01</th>\n",
       "      <td>AAXJ</td>\n",
       "      <td>69.70</td>\n",
       "    </tr>\n",
       "    <tr>\n",
       "      <th>2023-08-01</th>\n",
       "      <td>QQQ</td>\n",
       "      <td>382.79</td>\n",
       "    </tr>\n",
       "    <tr>\n",
       "      <th>2023-08-01</th>\n",
       "      <td>ACWI</td>\n",
       "      <td>98.70</td>\n",
       "    </tr>\n",
       "    <tr>\n",
       "      <th>2023-08-01</th>\n",
       "      <td>SPY</td>\n",
       "      <td>456.48</td>\n",
       "    </tr>\n",
       "    <tr>\n",
       "      <th>2023-08-02</th>\n",
       "      <td>AAXJ</td>\n",
       "      <td>67.90</td>\n",
       "    </tr>\n",
       "    <tr>\n",
       "      <th>2023-08-02</th>\n",
       "      <td>QQQ</td>\n",
       "      <td>374.39</td>\n",
       "    </tr>\n",
       "    <tr>\n",
       "      <th>2023-08-02</th>\n",
       "      <td>SPY</td>\n",
       "      <td>450.13</td>\n",
       "    </tr>\n",
       "    <tr>\n",
       "      <th>2023-08-02</th>\n",
       "      <td>ACWI</td>\n",
       "      <td>97.07</td>\n",
       "    </tr>\n",
       "    <tr>\n",
       "      <th>2023-08-03</th>\n",
       "      <td>AAXJ</td>\n",
       "      <td>68.43</td>\n",
       "    </tr>\n",
       "    <tr>\n",
       "      <th>2023-08-03</th>\n",
       "      <td>QQQ</td>\n",
       "      <td>373.79</td>\n",
       "    </tr>\n",
       "    <tr>\n",
       "      <th>2023-08-03</th>\n",
       "      <td>ACWI</td>\n",
       "      <td>96.84</td>\n",
       "    </tr>\n",
       "    <tr>\n",
       "      <th>2023-08-03</th>\n",
       "      <td>SPY</td>\n",
       "      <td>448.84</td>\n",
       "    </tr>\n",
       "  </tbody>\n",
       "</table>\n",
       "</div>"
      ],
      "text/plain": [
       "           symbol   price\n",
       "date                     \n",
       "2023-08-01   AAXJ   69.70\n",
       "2023-08-01    QQQ  382.79\n",
       "2023-08-01   ACWI   98.70\n",
       "2023-08-01    SPY  456.48\n",
       "2023-08-02   AAXJ   67.90\n",
       "2023-08-02    QQQ  374.39\n",
       "2023-08-02    SPY  450.13\n",
       "2023-08-02   ACWI   97.07\n",
       "2023-08-03   AAXJ   68.43\n",
       "2023-08-03    QQQ  373.79\n",
       "2023-08-03   ACWI   96.84\n",
       "2023-08-03    SPY  448.84"
      ]
     },
     "execution_count": 13,
     "metadata": {},
     "output_type": "execute_result"
    }
   ],
   "source": [
    "df.head(len(list_symbol)*3)"
   ]
  },
  {
   "cell_type": "code",
   "execution_count": 14,
   "id": "fd466bd1-b900-4e76-bbdb-a9043f67b6cc",
   "metadata": {
    "tags": []
   },
   "outputs": [
    {
     "data": {
      "text/html": [
       "<div>\n",
       "<style scoped>\n",
       "    .dataframe tbody tr th:only-of-type {\n",
       "        vertical-align: middle;\n",
       "    }\n",
       "\n",
       "    .dataframe tbody tr th {\n",
       "        vertical-align: top;\n",
       "    }\n",
       "\n",
       "    .dataframe thead th {\n",
       "        text-align: right;\n",
       "    }\n",
       "</style>\n",
       "<table border=\"1\" class=\"dataframe\">\n",
       "  <thead>\n",
       "    <tr style=\"text-align: right;\">\n",
       "      <th></th>\n",
       "      <th>symbol</th>\n",
       "      <th>price</th>\n",
       "    </tr>\n",
       "    <tr>\n",
       "      <th>date</th>\n",
       "      <th></th>\n",
       "      <th></th>\n",
       "    </tr>\n",
       "  </thead>\n",
       "  <tbody>\n",
       "    <tr>\n",
       "      <th>2023-11-24</th>\n",
       "      <td>QQQ</td>\n",
       "      <td>389.51</td>\n",
       "    </tr>\n",
       "    <tr>\n",
       "      <th>2023-11-24</th>\n",
       "      <td>SPY</td>\n",
       "      <td>455.30</td>\n",
       "    </tr>\n",
       "    <tr>\n",
       "      <th>2023-11-24</th>\n",
       "      <td>AAXJ</td>\n",
       "      <td>65.74</td>\n",
       "    </tr>\n",
       "    <tr>\n",
       "      <th>2023-11-24</th>\n",
       "      <td>ACWI</td>\n",
       "      <td>97.88</td>\n",
       "    </tr>\n",
       "    <tr>\n",
       "      <th>2023-11-27</th>\n",
       "      <td>QQQ</td>\n",
       "      <td>389.17</td>\n",
       "    </tr>\n",
       "    <tr>\n",
       "      <th>2023-11-27</th>\n",
       "      <td>SPY</td>\n",
       "      <td>454.48</td>\n",
       "    </tr>\n",
       "    <tr>\n",
       "      <th>2023-11-27</th>\n",
       "      <td>ACWI</td>\n",
       "      <td>97.62</td>\n",
       "    </tr>\n",
       "    <tr>\n",
       "      <th>2023-11-27</th>\n",
       "      <td>AAXJ</td>\n",
       "      <td>65.38</td>\n",
       "    </tr>\n",
       "    <tr>\n",
       "      <th>2023-11-28</th>\n",
       "      <td>ACWI</td>\n",
       "      <td>97.78</td>\n",
       "    </tr>\n",
       "    <tr>\n",
       "      <th>2023-11-28</th>\n",
       "      <td>AAXJ</td>\n",
       "      <td>65.84</td>\n",
       "    </tr>\n",
       "    <tr>\n",
       "      <th>2023-11-28</th>\n",
       "      <td>QQQ</td>\n",
       "      <td>390.19</td>\n",
       "    </tr>\n",
       "    <tr>\n",
       "      <th>2023-11-28</th>\n",
       "      <td>SPY</td>\n",
       "      <td>454.93</td>\n",
       "    </tr>\n",
       "  </tbody>\n",
       "</table>\n",
       "</div>"
      ],
      "text/plain": [
       "           symbol   price\n",
       "date                     \n",
       "2023-11-24    QQQ  389.51\n",
       "2023-11-24    SPY  455.30\n",
       "2023-11-24   AAXJ   65.74\n",
       "2023-11-24   ACWI   97.88\n",
       "2023-11-27    QQQ  389.17\n",
       "2023-11-27    SPY  454.48\n",
       "2023-11-27   ACWI   97.62\n",
       "2023-11-27   AAXJ   65.38\n",
       "2023-11-28   ACWI   97.78\n",
       "2023-11-28   AAXJ   65.84\n",
       "2023-11-28    QQQ  390.19\n",
       "2023-11-28    SPY  454.93"
      ]
     },
     "execution_count": 14,
     "metadata": {},
     "output_type": "execute_result"
    }
   ],
   "source": [
    "df.tail(len(list_symbol)*3)"
   ]
  },
  {
   "cell_type": "markdown",
   "id": "0cc04abe-e72a-4dfb-a735-928b94be49d3",
   "metadata": {},
   "source": [
    "# Basic"
   ]
  },
  {
   "cell_type": "markdown",
   "id": "3b87771b-7afc-4d03-bff4-b8dc283be9cd",
   "metadata": {},
   "source": [
    "# Resample data and calculate Percentage of change"
   ]
  },
  {
   "cell_type": "code",
   "execution_count": 15,
   "id": "820598bf-8c3b-44c7-bf87-e5bbc51f14aa",
   "metadata": {
    "tags": []
   },
   "outputs": [
    {
     "data": {
      "text/html": [
       "<div>\n",
       "<style scoped>\n",
       "    .dataframe tbody tr th:only-of-type {\n",
       "        vertical-align: middle;\n",
       "    }\n",
       "\n",
       "    .dataframe tbody tr th {\n",
       "        vertical-align: top;\n",
       "    }\n",
       "\n",
       "    .dataframe thead th {\n",
       "        text-align: right;\n",
       "    }\n",
       "</style>\n",
       "<table border=\"1\" class=\"dataframe\">\n",
       "  <thead>\n",
       "    <tr style=\"text-align: right;\">\n",
       "      <th></th>\n",
       "      <th>symbol</th>\n",
       "      <th>date</th>\n",
       "      <th>pct_change</th>\n",
       "    </tr>\n",
       "  </thead>\n",
       "  <tbody>\n",
       "  </tbody>\n",
       "</table>\n",
       "</div>"
      ],
      "text/plain": [
       "Empty DataFrame\n",
       "Columns: [symbol, date, pct_change]\n",
       "Index: []"
      ]
     },
     "execution_count": 15,
     "metadata": {},
     "output_type": "execute_result"
    }
   ],
   "source": [
    "colsROC=['symbol','date','pct_change']\n",
    "df_Pct_Price=pd.DataFrame(columns=colsROC)\n",
    "df_Pct_Price"
   ]
  },
  {
   "cell_type": "code",
   "execution_count": 16,
   "id": "a0855824-5628-471f-bc94-bcabdcd7fc5e",
   "metadata": {
    "tags": []
   },
   "outputs": [
    {
     "name": "stdout",
     "output_type": "stream",
     "text": [
      "====================================AAXJ====================================\n",
      "List M Price\n",
      "        date symbol  price\n",
      "0 2023-08-31   AAXJ  65.58\n",
      "1 2023-09-30   AAXJ  63.50\n",
      "2 2023-10-31   AAXJ  61.41\n",
      "3 2023-11-30   AAXJ  65.84\n",
      "Calculate ROC of AAXJ\n",
      "  symbol       date  pct_change\n",
      "1   AAXJ 2023-09-30       -3.17\n",
      "2   AAXJ 2023-10-31       -3.29\n",
      "3   AAXJ 2023-11-30        7.21\n",
      "====================================QQQ====================================\n",
      "List M Price\n",
      "        date symbol   price\n",
      "0 2023-08-31    QQQ  377.99\n",
      "1 2023-09-30    QQQ  358.27\n",
      "2 2023-10-31    QQQ  350.87\n",
      "3 2023-11-30    QQQ  390.19\n",
      "Calculate ROC of QQQ\n",
      "  symbol       date  pct_change\n",
      "1    QQQ 2023-09-30       -5.22\n",
      "2    QQQ 2023-10-31       -2.07\n",
      "3    QQQ 2023-11-30       11.21\n",
      "====================================ACWI====================================\n",
      "List M Price\n",
      "        date symbol  price\n",
      "0 2023-08-31   ACWI  96.50\n",
      "1 2023-09-30   ACWI  92.37\n",
      "2 2023-10-31   ACWI  90.02\n",
      "3 2023-11-30   ACWI  97.78\n",
      "Calculate ROC of ACWI\n",
      "  symbol       date  pct_change\n",
      "1   ACWI 2023-09-30       -4.28\n",
      "2   ACWI 2023-10-31       -2.54\n",
      "3   ACWI 2023-11-30        8.62\n",
      "====================================SPY====================================\n",
      "List M Price\n",
      "        date symbol   price\n",
      "0 2023-08-31    SPY  450.35\n",
      "1 2023-09-30    SPY  427.48\n",
      "2 2023-10-31    SPY  418.20\n",
      "3 2023-11-30    SPY  454.93\n",
      "Calculate ROC of SPY\n",
      "  symbol       date  pct_change\n",
      "1    SPY 2023-09-30       -5.08\n",
      "2    SPY 2023-10-31       -2.17\n",
      "3    SPY 2023-11-30        8.78\n"
     ]
    }
   ],
   "source": [
    "for symbol_name in list_symbol:\n",
    "\n",
    "    dfx_symbol=df.query('symbol==@symbol_name')\n",
    "    print(f\"===================================={symbol_name}====================================\")\n",
    "\n",
    "    dfx_px=dfx_symbol.resample(timeframe).last()\n",
    "    dfx_px=dfx_px.reset_index()\n",
    "    print(f\"List {timeframe} Price\")\n",
    "    print(dfx_px)\n",
    "\n",
    "    dfx_px['pct_change']=dfx_px['price'].pct_change()*100\n",
    "    dfx_px['pct_change']=dfx_px['pct_change'].round(2)\n",
    "\n",
    "    dfx_px=dfx_px.dropna() # the first  rown \n",
    "    dfx_px=dfx_px.drop(columns=['price']) # remove price becase we are focuse ROC of Price\n",
    "    dfx_px=dfx_px[colsROC]\n",
    "    \n",
    "    print(f\"Calculate ROC of {symbol_name}\")\n",
    "    print(dfx_px)\n",
    "    \n",
    "    df_Pct_Price=pd.concat([df_Pct_Price,dfx_px],ignore_index=True,axis=0)"
   ]
  },
  {
   "cell_type": "code",
   "execution_count": 17,
   "id": "810c8e0f-4345-40bc-81b3-5074b8adf7ec",
   "metadata": {
    "tags": []
   },
   "outputs": [
    {
     "name": "stdout",
     "output_type": "stream",
     "text": [
      "==============================================================\n",
      "List calculate Percentage of change\n",
      "   symbol       date  pct_change\n",
      "0    AAXJ 2023-09-30       -3.17\n",
      "1    AAXJ 2023-10-31       -3.29\n",
      "2    AAXJ 2023-11-30        7.21\n",
      "3     QQQ 2023-09-30       -5.22\n",
      "4     QQQ 2023-10-31       -2.07\n",
      "5     QQQ 2023-11-30       11.21\n",
      "6    ACWI 2023-09-30       -4.28\n",
      "7    ACWI 2023-10-31       -2.54\n",
      "8    ACWI 2023-11-30        8.62\n",
      "9     SPY 2023-09-30       -5.08\n",
      "10    SPY 2023-10-31       -2.17\n",
      "11    SPY 2023-11-30        8.78\n"
     ]
    }
   ],
   "source": [
    "print(\"==============================================================\")\n",
    "print(\"List calculate Percentage of change\")\n",
    "print(df_Pct_Price)"
   ]
  },
  {
   "cell_type": "markdown",
   "id": "86d7dd09-b073-4089-9992-c5e5c3de96fc",
   "metadata": {},
   "source": [
    "# Sum percentage of fund return"
   ]
  },
  {
   "cell_type": "code",
   "execution_count": 18,
   "id": "0a42719e-4712-4f59-bc25-142dee7f853b",
   "metadata": {
    "tags": []
   },
   "outputs": [
    {
     "name": "stdout",
     "output_type": "stream",
     "text": [
      "==============================================================\n",
      "Sum percentage of fund return\n",
      "  symbol  pct_change\n",
      "2    QQQ         3.9\n",
      "1   ACWI         1.8\n",
      "3    SPY         1.5\n",
      "0   AAXJ         0.8\n"
     ]
    }
   ],
   "source": [
    "print(\"==============================================================\")\n",
    "print(\"Sum percentage of fund return\")\n",
    "dfSum_Pct_Price=df_Pct_Price.groupby(['symbol'])[['pct_change']].sum()\n",
    "dfSum_Pct_Price.reset_index(drop=False,inplace=True)\n",
    "dfSum_Pct_Price=dfSum_Pct_Price.sort_values(by=\"pct_change\",ascending=False)\n",
    "dfSum_Pct_Price[\"pct_change\"]=dfSum_Pct_Price[\"pct_change\"].round(1)\n",
    "print(dfSum_Pct_Price)"
   ]
  },
  {
   "cell_type": "code",
   "execution_count": 19,
   "id": "d5fea99c-fff5-4be6-85dc-b2aced7e32d1",
   "metadata": {
    "tags": []
   },
   "outputs": [],
   "source": [
    "# writer=pd.ExcelWriter( \"BasicFundPerformanceReport.xlsx\",engine='openpyxl') \n",
    "\n",
    "# df_Pct_Price.to_csv(f\"ETF-{timeframe}-Return.csv\",index=False)\n",
    "# dfSum_Pct_Price.to_csv(f\"ETF-{timeframe}-TotalReturn.csv\",index=False)\n"
   ]
  },
  {
   "cell_type": "markdown",
   "id": "1da8f6c0-3297-466b-a229-a5c3e9ed2e72",
   "metadata": {},
   "source": [
    "# Advance"
   ]
  },
  {
   "cell_type": "markdown",
   "id": "23404b4f-839d-468b-a554-f3d595c521a6",
   "metadata": {},
   "source": [
    "# Pivot Percent Return To Dataframe"
   ]
  },
  {
   "cell_type": "code",
   "execution_count": 20,
   "id": "f1aa21e9-8d26-4ca2-becd-4dfaccdb0fa4",
   "metadata": {
    "tags": []
   },
   "outputs": [
    {
     "name": "stdout",
     "output_type": "stream",
     "text": [
      "==============================================================\n",
      "Pivot Percent Return To Dataframe\n",
      "symbol      AAXJ  ACWI    QQQ   SPY\n",
      "date                               \n",
      "2023-09-30 -3.17 -4.28  -5.22 -5.08\n",
      "2023-10-31 -3.29 -2.54  -2.07 -2.17\n",
      "2023-11-30  7.21  8.62  11.21  8.78\n"
     ]
    }
   ],
   "source": [
    "print(\"==============================================================\")\n",
    "print(\"Pivot Percent Return To Dataframe\")\n",
    "dfPct=df_Pct_Price.pivot(index='date', columns='symbol', values='pct_change')\n",
    "# print(dfPct.info())\n",
    "print(dfPct)"
   ]
  },
  {
   "cell_type": "markdown",
   "id": "6d9d2077-2b8e-4760-8945-961fed91d7b0",
   "metadata": {},
   "source": [
    "# Take Percent Return to Find Rank"
   ]
  },
  {
   "cell_type": "code",
   "execution_count": 21,
   "id": "5d58ed8a-f023-41ea-905b-6463a4622976",
   "metadata": {
    "tags": []
   },
   "outputs": [
    {
     "name": "stdout",
     "output_type": "stream",
     "text": [
      "==============================================================\n",
      "Take Percent Return to Find Rank\n",
      "symbol      AAXJ  ACWI  QQQ  SPY\n",
      "date                            \n",
      "2023-09-30   4.0   3.0  1.0  2.0\n",
      "2023-10-31   1.0   2.0  4.0  3.0\n",
      "2023-11-30   1.0   2.0  4.0  3.0\n"
     ]
    }
   ],
   "source": [
    "print(\"==============================================================\")\n",
    "print(\"Take Percent Return to Find Rank\")\n",
    "dfRank=dfPct[dfPct.columns.tolist()].rank(method='max',axis=1)\n",
    "print(dfRank)"
   ]
  },
  {
   "cell_type": "markdown",
   "id": "867a96dc-668e-4a86-85ca-bf29c6cf81fb",
   "metadata": {
    "tags": []
   },
   "source": [
    "# Combine Both return and Rank"
   ]
  },
  {
   "cell_type": "code",
   "execution_count": 22,
   "id": "459ec0a8-785f-4b93-9eec-e1a4a53b6703",
   "metadata": {
    "tags": []
   },
   "outputs": [
    {
     "name": "stdout",
     "output_type": "stream",
     "text": [
      "==============================================================\n",
      "Combine Both return and Rank\n",
      "        sum_return  sum_rank\n",
      "symbol                      \n",
      "AAXJ          0.75       6.0\n",
      "ACWI          1.80       7.0\n",
      "QQQ           3.92       9.0\n",
      "SPY           1.53       8.0\n"
     ]
    }
   ],
   "source": [
    "print(\"==============================================================\")\n",
    "print(\"Combine Both return and Rank\")\n",
    "dfSummary=pd.concat([\\\n",
    "                     dfPct.sum().to_frame(name='sum_return'),\\\n",
    "                     dfRank.sum().to_frame(name='sum_rank'),\\\n",
    "                    ],axis=1)\n",
    "dfSummary.fillna(value=0,inplace=True)\n",
    "print(dfSummary)"
   ]
  },
  {
   "cell_type": "markdown",
   "id": "ac303ef7-7bc0-40da-833e-c3b3b8e3de5c",
   "metadata": {},
   "source": [
    "# Summarize Total Score "
   ]
  },
  {
   "cell_type": "code",
   "execution_count": 23,
   "id": "a0858adb-076e-41d2-8b61-2bbf5aa4e848",
   "metadata": {
    "tags": []
   },
   "outputs": [
    {
     "name": "stdout",
     "output_type": "stream",
     "text": [
      "==============================================================\n",
      "Summarize Total Score \n",
      "        sum_return  sum_rank  TotalScore\n",
      "symbol                                  \n",
      "QQQ            4.0       4.0         8.0\n",
      "ACWI           3.0       2.0         5.0\n",
      "SPY            2.0       3.0         5.0\n",
      "AAXJ           1.0       1.0         2.0\n"
     ]
    }
   ],
   "source": [
    "print(\"==============================================================\")\n",
    "print(\"Summarize Total Score \")\n",
    "dfFinalScore=dfSummary.rank(method='max',axis=0)\n",
    "dfFinalScore['TotalScore']=dfFinalScore.sum(axis=1)\n",
    "dfFinalScore.sort_values(by='TotalScore',ascending=False,inplace=True)\n",
    "print(dfFinalScore)"
   ]
  },
  {
   "cell_type": "code",
   "execution_count": 24,
   "id": "94b64c56-3979-421a-8f46-97bb9da9eebe",
   "metadata": {
    "tags": []
   },
   "outputs": [],
   "source": [
    "if isPriceExcel:\n",
    "    print(\"Export outcoome as Excel\")\n",
    "    with pd.ExcelWriter(f\"{report_prefix_name}_{timeframe}_{from_str}To{to_str}.xlsx\") as writer:\n",
    "        dfPct.to_excel(writer, sheet_name=f\"{timeframe}-Return\")\n",
    "        dfSum_Pct_Price.to_excel(writer, sheet_name=\"Return\")\n",
    "        dfRank.to_excel(writer, sheet_name=\"RANK\")\n",
    "        dfSummary.to_excel(writer, sheet_name=\"Summary\")\n",
    "        dfFinalScore.to_excel(writer, sheet_name=\"FinalScore\")"
   ]
  },
  {
   "cell_type": "code",
   "execution_count": null,
   "id": "7d931b7c-bd57-47dd-8004-8d0122494ba4",
   "metadata": {},
   "outputs": [],
   "source": []
  }
 ],
 "metadata": {
  "kernelspec": {
   "display_name": "Python 3 (ipykernel)",
   "language": "python",
   "name": "python3"
  },
  "language_info": {
   "codemirror_mode": {
    "name": "ipython",
    "version": 3
   },
   "file_extension": ".py",
   "mimetype": "text/x-python",
   "name": "python",
   "nbconvert_exporter": "python",
   "pygments_lexer": "ipython3",
   "version": "3.9.12"
  }
 },
 "nbformat": 4,
 "nbformat_minor": 5
}
