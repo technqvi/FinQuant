{
 "cells": [
  {
   "cell_type": "code",
   "execution_count": 9,
   "metadata": {},
   "outputs": [],
   "source": [
    "import yfinance as yf\n",
    "import investpy\n",
    "import matplotlib.pyplot as plt\n",
    "\n",
    "from datetime import datetime\n",
    "import pandas as pd\n",
    "\n",
    "import numpy as np\n",
    "\n",
    "import os\n",
    "import glob\n",
    "\n",
    "from my_fin_common_libs import ABFromCSV\n",
    "\n",
    "#https://github.com/ranaroussi/yfinance\n",
    "# https://aroussi.com/post/python-yahoo-finance\n",
    "# https://github.com/ranaroussi/yfinance\n",
    "\n",
    "\n",
    "# Eexclude  'Name' column"
   ]
  },
  {
   "cell_type": "code",
   "execution_count": 16,
   "metadata": {},
   "outputs": [],
   "source": [
    "is_py=True\n",
    "auto_ab=True\n",
    "is_new=False\n",
    "#start_param=\"2016-01-01\"\n",
    "start_param=\"2022-01-01\"\n",
    "end_param=end= datetime.now().strftime(\"%Y-%m-%d\")\n",
    "\n",
    "\n",
    "if is_new:\n",
    " sheet_name='NewYahoo'\n",
    "else:\n",
    " sheet_name='Yahoo'   \n",
    "    "
   ]
  },
  {
   "cell_type": "code",
   "execution_count": 17,
   "metadata": {},
   "outputs": [],
   "source": [
    "# yfinanace for world fund\n",
    "list_cols=['Ticker','Date','Open','High','Low','Close','Volume']\n",
    "list_cols_number=['Open','High','Low','Close','Volume']\n",
    "\n",
    "root_path=r'D:\\AB_DB\\Script_ImportData'\n",
    "\n",
    "data_path=os.path.join(root_path,'Fund_File')\n",
    "\n",
    "\n",
    "metadata_file=os.path.join(data_path,\"List_Fund_Import.xlsx\")\n",
    "output_path=os.path.join(data_path,\"AB_Fund_World.csv\")\n",
    "\n",
    "\n",
    "xPathDict={}\n",
    "xPathDict['db_path']=r\"D:\\AB_DB\\AB_Fund_World\"\n",
    "xPathDict['ab_format_path']=r\"D:\\AB_DB\\Script_ImportData\\AB-Wizard.format\"\n",
    "\n",
    "xPathDict['data_path']=os.path.join(data_path,'AB_*.csv')\n",
    "\n",
    "\n"
   ]
  },
  {
   "cell_type": "markdown",
   "metadata": {},
   "source": [
    "# Veryfy file&folder"
   ]
  },
  {
   "cell_type": "code",
   "execution_count": 18,
   "metadata": {},
   "outputs": [
    {
     "name": "stdout",
     "output_type": "stream",
     "text": [
      "['D:\\\\AB_DB\\\\Script_ImportData\\\\Fund_File\\\\List_Fund_Import.xlsx', 'D:\\\\AB_DB\\\\AB_Fund_World', 'D:\\\\AB_DB\\\\Script_ImportData\\\\AB-Wizard.format'] are existing\n",
      "There is one AB_*.csv in D:\\AB_DB\\Script_ImportData\\Fund_File\n"
     ]
    }
   ],
   "source": [
    "pathList=[metadata_file,xPathDict['db_path'],xPathDict['ab_format_path']]\n",
    "notFoud_pathList=[ path for path in pathList  if os.path.exists(path)==False  ]\n",
    "if len(notFoud_pathList)>0:\n",
    "    raise Exception(notFoud_pathList)\n",
    "else:\n",
    "    print(f\"{pathList} are existing\")\n",
    "    \n",
    "if len(glob.glob(xPathDict['data_path']))==0:\n",
    "   raise Exception(f\"Not found any AB_*.csv in {data_path}\")\n",
    "else:\n",
    "    print(f\"There is one AB_*.csv in {data_path}\")"
   ]
  },
  {
   "cell_type": "code",
   "execution_count": 19,
   "metadata": {},
   "outputs": [
    {
     "name": "stdout",
     "output_type": "stream",
     "text": [
      "Enter start date as yyyy.mm.dd(2019-01-01)\n"
     ]
    },
    {
     "name": "stdin",
     "output_type": "stream",
     "text": [
      "Enter start :  2002-01-01\n"
     ]
    },
    {
     "name": "stdout",
     "output_type": "stream",
     "text": [
      "Enter end date as yyyy.mm.dd(2022-01-01) if today ,press enter\n"
     ]
    },
    {
     "name": "stdin",
     "output_type": "stream",
     "text": [
      "Enter end :  2022-01-20\n"
     ]
    },
    {
     "name": "stdout",
     "output_type": "stream",
     "text": [
      "2002-01-01\n",
      "2022-01-20\n"
     ]
    }
   ],
   "source": [
    "if is_py:\n",
    "    print(\"Enter start date as yyyy.mm.dd(2019-01-01)\")\n",
    "    start_param = input(\"Enter start : \")\n",
    "\n",
    "    print(\"Enter end date as yyyy.mm.dd(2022-01-01) if today ,press enter\")\n",
    "    end_param = input(\"Enter end : \") or ''\n",
    "\n",
    "    start=start_param\n",
    "    if end_param == '':\n",
    "     end_param=datetime.now().strftime(\"%Y-%m-%d\")\n",
    "    \n",
    "\n",
    "print(start_param)\n",
    "print(end_param)\n",
    "    "
   ]
  },
  {
   "cell_type": "markdown",
   "metadata": {},
   "source": [
    "# yfinance"
   ]
  },
  {
   "cell_type": "code",
   "execution_count": 20,
   "metadata": {},
   "outputs": [
    {
     "name": "stdout",
     "output_type": "stream",
     "text": [
      "################################Start Download from Yahoo========================================\n",
      "World Investing\n",
      "      Ticker Name\n",
      "0  ^SET50.BK  SET\n",
      "^SET50.BK\n",
      "[*********************100%***********************]  1 of 1 completed\n",
      "\n",
      "1 Failed download:\n",
      "- ^SET50.BK: No data found for this date range, symbol may be delisted\n",
      "Empty DataFrame\n",
      "Columns: [Ticker, Date, Open, High, Low, Close, Volume]\n",
      "Index: []\n",
      "Save file as csv.\n",
      "\n",
      "################################End Download from Yahoo========================================\n",
      "World fund : Not found symbol\n",
      "[]\n"
     ]
    }
   ],
   "source": [
    "if True:\n",
    "\n",
    "    print(\"################################Start Download from Yahoo========================================\")\n",
    "\n",
    "    df_ticker=pd.read_excel(metadata_file,sheet_name=sheet_name)\n",
    "    print(\"World Investing\")\n",
    "    df_ticker =df_ticker.replace(np.nan, '', regex=True)\n",
    "    print(df_ticker)\n",
    "\n",
    "    list_not_found=[]\n",
    "\n",
    "    df=pd.DataFrame(columns=list_cols)\n",
    "\n",
    "    for index,item in df_ticker.iterrows():\n",
    "\n",
    "       try:\n",
    "\n",
    "        ticker=item['Ticker']\n",
    "        print(ticker)\n",
    "\n",
    "        dfx = yf.download(ticker, start=start_param, end=end_param)\n",
    "        if (dfx.empty==False) or (dfx is not None):\n",
    "            dfx['Ticker'] = ticker\n",
    "            dfx=dfx.reset_index()\n",
    "            dfx=dfx[list_cols]\n",
    "            df=pd.concat([df,dfx])\n",
    "            print(dfx.tail())\n",
    "        else:\n",
    "            print(f\"{ticker} No data found for this date range, symbol may be delisted\")\n",
    "            list_not_found.append(ticker) \n",
    "\n",
    "\n",
    "       except Exception as ex:\n",
    "          print(str(ex))\n",
    "          list_not_found.append(ticker)  \n",
    "\n",
    "    # df=df.rename(columns={'Adj Close':'Close'})\n",
    "\n",
    "    df[list_cols_number]=df[list_cols_number].round(2)\n",
    "    print(\"Save file as csv.\")\n",
    "\n",
    "    df.to_csv(output_path,index=False)\n",
    "    print()\n",
    "\n",
    "    print(\"################################End Download from Yahoo========================================\")\n",
    "\n",
    "    print(\"World fund : Not found symbol\")\n",
    "    print(list_not_found)\n"
   ]
  },
  {
   "cell_type": "markdown",
   "metadata": {},
   "source": [
    "# Export to AB automatically"
   ]
  },
  {
   "cell_type": "code",
   "execution_count": 8,
   "metadata": {},
   "outputs": [
    {
     "name": "stdout",
     "output_type": "stream",
     "text": [
      "[{'db': 'D:\\\\AB_DB\\\\AB_Fund_World', 'data': 'D:\\\\AB_DB\\\\Script_ImportData\\\\Fund_File\\\\AB_*.csv', 'format': 'D:\\\\AB_DB\\\\Script_ImportData\\\\AB-Wizard.format'}]\n",
      "Loading database AB_Fund_World\n",
      "D:\\AB_DB\\Script_ImportData\\Fund_File\\AB_Fund_World.csv\n",
      "Importing datafile D:\\AB_DB\\Script_ImportData\\Fund_File\\AB_Fund_World.csv, using format D:\\AB_DB\\Script_ImportData\\AB-Wizard.format\n",
      "Saving Amibroker\n",
      "Done it Succesfully\n",
      "Terminated\n",
      "True\n"
     ]
    }
   ],
   "source": [
    "if auto_ab:\n",
    "    isSussessful=ABFromCSV.import_files_to_Amibroker(xPathDict)\n",
    "    print(isSussessful)\n",
    "    "
   ]
  },
  {
   "cell_type": "code",
   "execution_count": null,
   "metadata": {},
   "outputs": [],
   "source": []
  }
 ],
 "metadata": {
  "kernelspec": {
   "display_name": "Python 3 (ipykernel)",
   "language": "python",
   "name": "python3"
  },
  "language_info": {
   "codemirror_mode": {
    "name": "ipython",
    "version": 3
   },
   "file_extension": ".py",
   "mimetype": "text/x-python",
   "name": "python",
   "nbconvert_exporter": "python",
   "pygments_lexer": "ipython3",
   "version": "3.9.12"
  },
  "vscode": {
   "interpreter": {
    "hash": "483cd7b0cf9c1b36e044fe47cf35feffa77e1ff39dc9407e212a6f0a62715dde"
   }
  }
 },
 "nbformat": 4,
 "nbformat_minor": 4
}
