{
 "cells": [
  {
   "cell_type": "code",
   "execution_count": 2,
   "id": "9295439d-59ac-4db5-8784-85b075f66e94",
   "metadata": {},
   "outputs": [],
   "source": [
    "import pandas as pd\n",
    "from datetime import datetime\n",
    "import glob\n",
    "import os\n",
    "from currency_symbols import CurrencySymbols\n"
   ]
  },
  {
   "cell_type": "code",
   "execution_count": null,
   "id": "752a348a-865a-4573-9397-51f2e224a283",
   "metadata": {},
   "outputs": [],
   "source": []
  },
  {
   "cell_type": "code",
   "execution_count": 15,
   "id": "8e773520-c4c7-4c8b-824e-a6db62c4d91c",
   "metadata": {},
   "outputs": [
    {
     "ename": "ImportError",
     "evalue": "html5lib not found, please install it",
     "output_type": "error",
     "traceback": [
      "\u001b[1;31m---------------------------------------------------------------------------\u001b[0m",
      "\u001b[1;31mImportError\u001b[0m                               Traceback (most recent call last)",
      "Input \u001b[1;32mIn [15]\u001b[0m, in \u001b[0;36m<cell line: 5>\u001b[1;34m()\u001b[0m\n\u001b[0;32m      3\u001b[0m txt_path\u001b[38;5;241m=\u001b[39m\u001b[38;5;124mr\u001b[39m\u001b[38;5;124m\"\u001b[39m\u001b[38;5;124mD:\u001b[39m\u001b[38;5;124m\\\u001b[39m\u001b[38;5;124mAB_DB\u001b[39m\u001b[38;5;124m\\\u001b[39m\u001b[38;5;124mScript_ImportData\u001b[39m\u001b[38;5;124m\\\u001b[39m\u001b[38;5;124mXYZ_TO_AB\u001b[39m\u001b[38;5;124m\\\u001b[39m\u001b[38;5;124mxsl_files\u001b[39m\u001b[38;5;124m\\\u001b[39m\u001b[38;5;124mMidSmall\u001b[39m\u001b[38;5;124m\\\u001b[39m\u001b[38;5;124mASP-SME_efin.xls\u001b[39m\u001b[38;5;124m\"\u001b[39m\n\u001b[0;32m      4\u001b[0m \u001b[38;5;66;03m# df = pd.read_excel(txt_path,engine=\"xlrd\")\u001b[39;00m\n\u001b[1;32m----> 5\u001b[0m df \u001b[38;5;241m=\u001b[39m \u001b[43mpd\u001b[49m\u001b[38;5;241;43m.\u001b[39;49m\u001b[43mread_html\u001b[49m\u001b[43m(\u001b[49m\u001b[43mtxt_path\u001b[49m\u001b[43m)\u001b[49m\n",
      "File \u001b[1;32mD:\\ProgramData\\Anaconda3\\envs\\myquant_exp\\lib\\site-packages\\pandas\\util\\_decorators.py:317\u001b[0m, in \u001b[0;36mdeprecate_nonkeyword_arguments.<locals>.decorate.<locals>.wrapper\u001b[1;34m(*args, **kwargs)\u001b[0m\n\u001b[0;32m    311\u001b[0m \u001b[38;5;28;01mif\u001b[39;00m \u001b[38;5;28mlen\u001b[39m(args) \u001b[38;5;241m>\u001b[39m num_allow_args:\n\u001b[0;32m    312\u001b[0m     warnings\u001b[38;5;241m.\u001b[39mwarn(\n\u001b[0;32m    313\u001b[0m         msg\u001b[38;5;241m.\u001b[39mformat(arguments\u001b[38;5;241m=\u001b[39marguments),\n\u001b[0;32m    314\u001b[0m         \u001b[38;5;167;01mFutureWarning\u001b[39;00m,\n\u001b[0;32m    315\u001b[0m         stacklevel\u001b[38;5;241m=\u001b[39mfind_stack_level(inspect\u001b[38;5;241m.\u001b[39mcurrentframe()),\n\u001b[0;32m    316\u001b[0m     )\n\u001b[1;32m--> 317\u001b[0m \u001b[38;5;28;01mreturn\u001b[39;00m func(\u001b[38;5;241m*\u001b[39margs, \u001b[38;5;241m*\u001b[39m\u001b[38;5;241m*\u001b[39mkwargs)\n",
      "File \u001b[1;32mD:\\ProgramData\\Anaconda3\\envs\\myquant_exp\\lib\\site-packages\\pandas\\io\\html.py:1205\u001b[0m, in \u001b[0;36mread_html\u001b[1;34m(io, match, flavor, header, index_col, skiprows, attrs, parse_dates, thousands, encoding, decimal, converters, na_values, keep_default_na, displayed_only, extract_links)\u001b[0m\n\u001b[0;32m   1201\u001b[0m validate_header_arg(header)\n\u001b[0;32m   1203\u001b[0m io \u001b[38;5;241m=\u001b[39m stringify_path(io)\n\u001b[1;32m-> 1205\u001b[0m \u001b[38;5;28;01mreturn\u001b[39;00m \u001b[43m_parse\u001b[49m\u001b[43m(\u001b[49m\n\u001b[0;32m   1206\u001b[0m \u001b[43m    \u001b[49m\u001b[43mflavor\u001b[49m\u001b[38;5;241;43m=\u001b[39;49m\u001b[43mflavor\u001b[49m\u001b[43m,\u001b[49m\n\u001b[0;32m   1207\u001b[0m \u001b[43m    \u001b[49m\u001b[43mio\u001b[49m\u001b[38;5;241;43m=\u001b[39;49m\u001b[43mio\u001b[49m\u001b[43m,\u001b[49m\n\u001b[0;32m   1208\u001b[0m \u001b[43m    \u001b[49m\u001b[43mmatch\u001b[49m\u001b[38;5;241;43m=\u001b[39;49m\u001b[43mmatch\u001b[49m\u001b[43m,\u001b[49m\n\u001b[0;32m   1209\u001b[0m \u001b[43m    \u001b[49m\u001b[43mheader\u001b[49m\u001b[38;5;241;43m=\u001b[39;49m\u001b[43mheader\u001b[49m\u001b[43m,\u001b[49m\n\u001b[0;32m   1210\u001b[0m \u001b[43m    \u001b[49m\u001b[43mindex_col\u001b[49m\u001b[38;5;241;43m=\u001b[39;49m\u001b[43mindex_col\u001b[49m\u001b[43m,\u001b[49m\n\u001b[0;32m   1211\u001b[0m \u001b[43m    \u001b[49m\u001b[43mskiprows\u001b[49m\u001b[38;5;241;43m=\u001b[39;49m\u001b[43mskiprows\u001b[49m\u001b[43m,\u001b[49m\n\u001b[0;32m   1212\u001b[0m \u001b[43m    \u001b[49m\u001b[43mparse_dates\u001b[49m\u001b[38;5;241;43m=\u001b[39;49m\u001b[43mparse_dates\u001b[49m\u001b[43m,\u001b[49m\n\u001b[0;32m   1213\u001b[0m \u001b[43m    \u001b[49m\u001b[43mthousands\u001b[49m\u001b[38;5;241;43m=\u001b[39;49m\u001b[43mthousands\u001b[49m\u001b[43m,\u001b[49m\n\u001b[0;32m   1214\u001b[0m \u001b[43m    \u001b[49m\u001b[43mattrs\u001b[49m\u001b[38;5;241;43m=\u001b[39;49m\u001b[43mattrs\u001b[49m\u001b[43m,\u001b[49m\n\u001b[0;32m   1215\u001b[0m \u001b[43m    \u001b[49m\u001b[43mencoding\u001b[49m\u001b[38;5;241;43m=\u001b[39;49m\u001b[43mencoding\u001b[49m\u001b[43m,\u001b[49m\n\u001b[0;32m   1216\u001b[0m \u001b[43m    \u001b[49m\u001b[43mdecimal\u001b[49m\u001b[38;5;241;43m=\u001b[39;49m\u001b[43mdecimal\u001b[49m\u001b[43m,\u001b[49m\n\u001b[0;32m   1217\u001b[0m \u001b[43m    \u001b[49m\u001b[43mconverters\u001b[49m\u001b[38;5;241;43m=\u001b[39;49m\u001b[43mconverters\u001b[49m\u001b[43m,\u001b[49m\n\u001b[0;32m   1218\u001b[0m \u001b[43m    \u001b[49m\u001b[43mna_values\u001b[49m\u001b[38;5;241;43m=\u001b[39;49m\u001b[43mna_values\u001b[49m\u001b[43m,\u001b[49m\n\u001b[0;32m   1219\u001b[0m \u001b[43m    \u001b[49m\u001b[43mkeep_default_na\u001b[49m\u001b[38;5;241;43m=\u001b[39;49m\u001b[43mkeep_default_na\u001b[49m\u001b[43m,\u001b[49m\n\u001b[0;32m   1220\u001b[0m \u001b[43m    \u001b[49m\u001b[43mdisplayed_only\u001b[49m\u001b[38;5;241;43m=\u001b[39;49m\u001b[43mdisplayed_only\u001b[49m\u001b[43m,\u001b[49m\n\u001b[0;32m   1221\u001b[0m \u001b[43m    \u001b[49m\u001b[43mextract_links\u001b[49m\u001b[38;5;241;43m=\u001b[39;49m\u001b[43mextract_links\u001b[49m\u001b[43m,\u001b[49m\n\u001b[0;32m   1222\u001b[0m \u001b[43m\u001b[49m\u001b[43m)\u001b[49m\n",
      "File \u001b[1;32mD:\\ProgramData\\Anaconda3\\envs\\myquant_exp\\lib\\site-packages\\pandas\\io\\html.py:982\u001b[0m, in \u001b[0;36m_parse\u001b[1;34m(flavor, io, match, attrs, encoding, displayed_only, extract_links, **kwargs)\u001b[0m\n\u001b[0;32m    980\u001b[0m retained \u001b[38;5;241m=\u001b[39m \u001b[38;5;28;01mNone\u001b[39;00m\n\u001b[0;32m    981\u001b[0m \u001b[38;5;28;01mfor\u001b[39;00m flav \u001b[38;5;129;01min\u001b[39;00m flavor:\n\u001b[1;32m--> 982\u001b[0m     parser \u001b[38;5;241m=\u001b[39m \u001b[43m_parser_dispatch\u001b[49m\u001b[43m(\u001b[49m\u001b[43mflav\u001b[49m\u001b[43m)\u001b[49m\n\u001b[0;32m    983\u001b[0m     p \u001b[38;5;241m=\u001b[39m parser(io, compiled_match, attrs, encoding, displayed_only, extract_links)\n\u001b[0;32m    985\u001b[0m     \u001b[38;5;28;01mtry\u001b[39;00m:\n",
      "File \u001b[1;32mD:\\ProgramData\\Anaconda3\\envs\\myquant_exp\\lib\\site-packages\\pandas\\io\\html.py:931\u001b[0m, in \u001b[0;36m_parser_dispatch\u001b[1;34m(flavor)\u001b[0m\n\u001b[0;32m    929\u001b[0m \u001b[38;5;28;01mif\u001b[39;00m flavor \u001b[38;5;129;01min\u001b[39;00m (\u001b[38;5;124m\"\u001b[39m\u001b[38;5;124mbs4\u001b[39m\u001b[38;5;124m\"\u001b[39m, \u001b[38;5;124m\"\u001b[39m\u001b[38;5;124mhtml5lib\u001b[39m\u001b[38;5;124m\"\u001b[39m):\n\u001b[0;32m    930\u001b[0m     \u001b[38;5;28;01mif\u001b[39;00m \u001b[38;5;129;01mnot\u001b[39;00m _HAS_HTML5LIB:\n\u001b[1;32m--> 931\u001b[0m         \u001b[38;5;28;01mraise\u001b[39;00m \u001b[38;5;167;01mImportError\u001b[39;00m(\u001b[38;5;124m\"\u001b[39m\u001b[38;5;124mhtml5lib not found, please install it\u001b[39m\u001b[38;5;124m\"\u001b[39m)\n\u001b[0;32m    932\u001b[0m     \u001b[38;5;28;01mif\u001b[39;00m \u001b[38;5;129;01mnot\u001b[39;00m _HAS_BS4:\n\u001b[0;32m    933\u001b[0m         \u001b[38;5;28;01mraise\u001b[39;00m \u001b[38;5;167;01mImportError\u001b[39;00m(\u001b[38;5;124m\"\u001b[39m\u001b[38;5;124mBeautifulSoup4 (bs4) not found, please install it\u001b[39m\u001b[38;5;124m\"\u001b[39m)\n",
      "\u001b[1;31mImportError\u001b[0m: html5lib not found, please install it"
     ]
    }
   ],
   "source": [
    "import csv\n",
    "#txt_path=r'D:\\AB_DB\\Script_ImportData\\XYZ_TO_AB\\xsl_files\\SCBPGF_efin.txt'\n",
    "txt_path=r\"D:\\AB_DB\\Script_ImportData\\XYZ_TO_AB\\xsl_files\\MidSmall\\ASP-SME_efin.xls\"\n",
    "# df = pd.read_excel(txt_path,engine=\"xlrd\")\n",
    "df = pd.read_html(txt_path)\n",
    "# with open(txt_path) as f:\n",
    "#     lines = f.readlines()"
   ]
  },
  {
   "cell_type": "code",
   "execution_count": 10,
   "id": "2c7f5825-7a93-410c-9a88-05522912a486",
   "metadata": {},
   "outputs": [
    {
     "data": {
      "text/html": [
       "<div>\n",
       "<style scoped>\n",
       "    .dataframe tbody tr th:only-of-type {\n",
       "        vertical-align: middle;\n",
       "    }\n",
       "\n",
       "    .dataframe tbody tr th {\n",
       "        vertical-align: top;\n",
       "    }\n",
       "\n",
       "    .dataframe thead th {\n",
       "        text-align: right;\n",
       "    }\n",
       "</style>\n",
       "<table border=\"1\" class=\"dataframe\">\n",
       "  <thead>\n",
       "    <tr style=\"text-align: right;\">\n",
       "      <th></th>\n",
       "      <th>Timestamp\\t#ASP-SME.Open\\t#ASP-SME.High\\t#ASP-SME.Low\\t#ASP-SME.Close\\t</th>\n",
       "    </tr>\n",
       "  </thead>\n",
       "  <tbody>\n",
       "    <tr>\n",
       "      <th>0</th>\n",
       "      <td>11/10/21            \\t              16.569\\t  ...</td>\n",
       "    </tr>\n",
       "    <tr>\n",
       "      <th>1</th>\n",
       "      <td>12/10/21            \\t              16.535\\t  ...</td>\n",
       "    </tr>\n",
       "    <tr>\n",
       "      <th>2</th>\n",
       "      <td>14/10/21            \\t              16.605\\t  ...</td>\n",
       "    </tr>\n",
       "    <tr>\n",
       "      <th>3</th>\n",
       "      <td>15/10/21            \\t              16.580\\t  ...</td>\n",
       "    </tr>\n",
       "    <tr>\n",
       "      <th>4</th>\n",
       "      <td>18/10/21            \\t              16.599\\t  ...</td>\n",
       "    </tr>\n",
       "    <tr>\n",
       "      <th>...</th>\n",
       "      <td>...</td>\n",
       "    </tr>\n",
       "    <tr>\n",
       "      <th>295</th>\n",
       "      <td>30/12/22            \\t              17.628\\t  ...</td>\n",
       "    </tr>\n",
       "    <tr>\n",
       "      <th>296</th>\n",
       "      <td>03/01/23            \\t              17.722\\t  ...</td>\n",
       "    </tr>\n",
       "    <tr>\n",
       "      <th>297</th>\n",
       "      <td>04/01/23            \\t              17.647\\t  ...</td>\n",
       "    </tr>\n",
       "    <tr>\n",
       "      <th>298</th>\n",
       "      <td>05/01/23            \\t              17.488\\t  ...</td>\n",
       "    </tr>\n",
       "    <tr>\n",
       "      <th>299</th>\n",
       "      <td>06/01/23            \\t              17.672\\t  ...</td>\n",
       "    </tr>\n",
       "  </tbody>\n",
       "</table>\n",
       "<p>300 rows × 1 columns</p>\n",
       "</div>"
      ],
      "text/plain": [
       "    Timestamp\\t#ASP-SME.Open\\t#ASP-SME.High\\t#ASP-SME.Low\\t#ASP-SME.Close\\t\n",
       "0    11/10/21            \\t              16.569\\t  ...                     \n",
       "1    12/10/21            \\t              16.535\\t  ...                     \n",
       "2    14/10/21            \\t              16.605\\t  ...                     \n",
       "3    15/10/21            \\t              16.580\\t  ...                     \n",
       "4    18/10/21            \\t              16.599\\t  ...                     \n",
       "..                                                 ...                     \n",
       "295  30/12/22            \\t              17.628\\t  ...                     \n",
       "296  03/01/23            \\t              17.722\\t  ...                     \n",
       "297  04/01/23            \\t              17.647\\t  ...                     \n",
       "298  05/01/23            \\t              17.488\\t  ...                     \n",
       "299  06/01/23            \\t              17.672\\t  ...                     \n",
       "\n",
       "[300 rows x 1 columns]"
      ]
     },
     "execution_count": 10,
     "metadata": {},
     "output_type": "execute_result"
    }
   ],
   "source": [
    "df"
   ]
  },
  {
   "cell_type": "code",
   "execution_count": 20,
   "id": "45046851-c791-4626-a078-603f12d73aa6",
   "metadata": {},
   "outputs": [],
   "source": [
    "csv_soruce_path = r\"D:\\Downloads\\XYZ_TO_AB\"\n",
    "csv_target_path='D:\\AB_DB\\Script_ImportData'\n",
    "#D:\\PythonDev\\MyQuantFinProject\\Data\n",
    "\n",
    "target_file='efin_investing.csv'"
   ]
  },
  {
   "cell_type": "code",
   "execution_count": 21,
   "id": "0b882a37-0cb8-42a0-9718-6db15d4e891c",
   "metadata": {},
   "outputs": [],
   "source": [
    "# from xls2xlsx import XLS2XLSX\n",
    "#python -m pip install xls2xlsx currency-symbols\n",
    "#https://pypi.org/project/xls2xlsx/\n",
    "#fix error at  https://stackoverflow.com/questions/73262028/xls2xxlsx-no-module-named-currency-symbols\n",
    "# error\n",
    "# x2x= XLS2XLSX(os.path.join( csv_soruce_path, \"KKP-ACT-EQ-A_efin.xls\"))\n",
    "# x2x.to_xlsx(os.path.join(csv_soruce_path, \"KKP-ACT-EQ-A_efin.xlsx\"))"
   ]
  },
  {
   "cell_type": "code",
   "execution_count": null,
   "id": "e1ce6f54-05a0-440e-85c0-d4942558439a",
   "metadata": {},
   "outputs": [],
   "source": []
  },
  {
   "cell_type": "code",
   "execution_count": 22,
   "id": "07bdfd3e-291f-4894-be22-e2c54a54d16f",
   "metadata": {},
   "outputs": [
    {
     "name": "stdout",
     "output_type": "stream",
     "text": [
      "1.For efin : Convert xls file to csv UTF-8 and name file {symbol}_efin.csv\n",
      "2.For investing.com : name file {symbol}_ivt.csv\n",
      "D:\\Downloads\\XYZ_TO_AB\\KKP-ACT-EQ-A_efin.csv\n",
      "D:\\Downloads\\XYZ_TO_AB\\TISCOFLEXP_efin.csv\n",
      "D:\\Downloads\\XYZ_TO_AB\\TSF-A_efin.csv\n"
     ]
    },
    {
     "name": "stdin",
     "output_type": "stream",
     "text": [
      "Enter file-name.csv (default name=efin_investing.csv) :  thai-focus-y20_22.csv\n",
      "Press y=True and n=False to build Amibroker file :  y\n"
     ]
    }
   ],
   "source": [
    "print(\"1.For efin : Convert xls file to csv UTF-8 and name file {symbol}_efin.csv\")\n",
    "print(\"2.For investing.com : name file {symbol}_ivt.csv\")\n",
    "      \n",
    "list_filenames = glob.glob(csv_soruce_path + \"\\\\*.csv\")  \n",
    "for x in list_filenames:\n",
    "    print(x) \n",
    "input_target_file=input(f\"Enter file-name.csv (default name={target_file}) : \") \n",
    "\n",
    "press_y=input(f\"Press y=True and n=False to build Amibroker file : \") \n",
    "if press_y.lower()=='y':\n",
    " target_file= input_target_file\n",
    " ok=True\n",
    "else:\n",
    " exit()"
   ]
  },
  {
   "cell_type": "code",
   "execution_count": 13,
   "id": "1c98e6a7-6520-4188-926c-0d2045ec9a60",
   "metadata": {},
   "outputs": [
    {
     "data": {
      "text/html": [
       "<div>\n",
       "<style scoped>\n",
       "    .dataframe tbody tr th:only-of-type {\n",
       "        vertical-align: middle;\n",
       "    }\n",
       "\n",
       "    .dataframe tbody tr th {\n",
       "        vertical-align: top;\n",
       "    }\n",
       "\n",
       "    .dataframe thead th {\n",
       "        text-align: right;\n",
       "    }\n",
       "</style>\n",
       "<table border=\"1\" class=\"dataframe\">\n",
       "  <thead>\n",
       "    <tr style=\"text-align: right;\">\n",
       "      <th></th>\n",
       "      <th>Ticker</th>\n",
       "      <th>Date/Time</th>\n",
       "      <th>open</th>\n",
       "      <th>high</th>\n",
       "      <th>low</th>\n",
       "      <th>close</th>\n",
       "    </tr>\n",
       "  </thead>\n",
       "  <tbody>\n",
       "  </tbody>\n",
       "</table>\n",
       "</div>"
      ],
      "text/plain": [
       "Empty DataFrame\n",
       "Columns: [Ticker, Date/Time, open, high, low, close]\n",
       "Index: []"
      ]
     },
     "execution_count": 13,
     "metadata": {},
     "output_type": "execute_result"
    }
   ],
   "source": [
    "\n",
    "\n",
    "ab_cols=['Ticker','Date/Time','open','high','low','close']\n",
    "\n",
    "ab_df=pd.DataFrame(columns=ab_cols)\n",
    "ab_df"
   ]
  },
  {
   "cell_type": "markdown",
   "id": "07bcfef8-cdf0-4804-833e-a60e1e0b9e2f",
   "metadata": {},
   "source": [
    "# Efin Export as Excel (Save xls to csv with CSV UTF-8 First)"
   ]
  },
  {
   "cell_type": "code",
   "execution_count": 14,
   "id": "2f69d268-7b46-4450-9a04-db2f765e287c",
   "metadata": {},
   "outputs": [
    {
     "name": "stdout",
     "output_type": "stream",
     "text": [
      "D:\\Downloads\\XYZ_TO_AB\\KKP-ACT-EQ-A_efin.csv\n",
      "         Ticker   Date/Time    open    high     low   close\n",
      "0  KKP-ACT-EQ-A  02/01/2020  15.994  15.994  15.994  15.994\n",
      "1  KKP-ACT-EQ-A  03/01/2020  15.985  15.985  15.985  15.985\n",
      "2  KKP-ACT-EQ-A  06/01/2020  15.644  15.644  15.644  15.644\n",
      "3  KKP-ACT-EQ-A  07/01/2020  15.853  15.853  15.853  15.853\n",
      "4  KKP-ACT-EQ-A  08/01/2020  15.583  15.583  15.583  15.583\n",
      "D:\\Downloads\\XYZ_TO_AB\\TISCOFLEXP_efin.csv\n",
      "       Ticker   Date/Time    open    high     low   close\n",
      "0  TISCOFLEXP  02/01/2020  34.167  34.167  34.167  34.167\n",
      "1  TISCOFLEXP  03/01/2020  34.060  34.060  34.060  34.060\n",
      "2  TISCOFLEXP  06/01/2020  33.209  33.209  33.209  33.209\n",
      "3  TISCOFLEXP  07/01/2020  33.585  33.585  33.585  33.585\n",
      "4  TISCOFLEXP  08/01/2020  32.697  32.697  32.697  32.697\n",
      "D:\\Downloads\\XYZ_TO_AB\\TSF-A_efin.csv\n",
      "  Ticker   Date/Time    open    high     low   close\n",
      "0  TSF-A  02/01/2020  54.550  54.550  54.550  54.550\n",
      "1  TSF-A  03/01/2020  54.364  54.364  54.364  54.364\n",
      "2  TSF-A  06/01/2020  53.373  53.373  53.373  53.373\n",
      "3  TSF-A  07/01/2020  53.907  53.907  53.907  53.907\n",
      "4  TSF-A  08/01/2020  52.565  52.565  52.565  52.565\n"
     ]
    }
   ],
   "source": [
    "# read all the files with extension .csv\n",
    "filenames = glob.glob(csv_soruce_path + \"\\\\*_efin.csv\")\n",
    "\n",
    "# for loop to iterate all csv files\n",
    "for file in filenames:\n",
    "    \n",
    " try:   \n",
    "\n",
    "   print(file) \n",
    "   symbol_name= ((file.split(\"\\\\\")[-1]).split('.')[0]).strip()\n",
    "   symbol_name= symbol_name.replace('_efin','')\n",
    "\n",
    "   df=pd.read_csv(file)\n",
    "\n",
    "   df['Ticker'] =symbol_name\n",
    "   df.columns=['Date/Time','open','high','low','close','Ticker']\n",
    "   # #df['Date/Time']='%d/%m/%Y'\n",
    "   df=df[ab_cols]\n",
    "   print(df.head())\n",
    "    \n",
    "   ab_df=pd.concat([ab_df,df])\n",
    "    \n",
    "\n",
    "    \n",
    " except Exception as e:\n",
    "     print(f'{file} : {str(e)}')\n",
    "   \n"
   ]
  },
  {
   "cell_type": "code",
   "execution_count": 46,
   "id": "4b3e8b57-d7f1-4091-b3a4-d3863638eaf8",
   "metadata": {},
   "outputs": [
    {
     "name": "stdout",
     "output_type": "stream",
     "text": [
      "After merge efin\n",
      "          Ticker   Date/Time    open    high     low   close\n",
      "0     TISCOFLEXP  01/09/2009  11.025  11.025  11.025  11.025\n",
      "1     TISCOFLEXP  02/09/2009  11.060  11.060  11.060  11.060\n",
      "2     TISCOFLEXP  03/09/2009  11.277  11.277  11.277  11.277\n",
      "3     TISCOFLEXP  04/09/2009  11.337  11.337  11.337  11.337\n",
      "4     TISCOFLEXP  07/09/2009  11.609  11.609  11.609  11.609\n",
      "...          ...         ...     ...     ...     ...     ...\n",
      "3148       TSF-A  25/11/2022  81.585  81.585  81.585  81.585\n",
      "3149       TSF-A  28/11/2022  81.176  81.176  81.176  81.176\n",
      "3150       TSF-A  29/11/2022  81.802  81.802  81.802  81.802\n",
      "3151       TSF-A  30/11/2022  82.895  82.895  82.895  82.895\n",
      "3152       TSF-A  01/12/2022  83.951  83.951  83.951  83.951\n",
      "\n",
      "[6391 rows x 6 columns]\n"
     ]
    }
   ],
   "source": [
    "print(\"After merge efin\")\n",
    "print(ab_df)"
   ]
  },
  {
   "cell_type": "markdown",
   "id": "b16be784-e5fb-4f34-ada7-32f5ce943756",
   "metadata": {},
   "source": [
    "\n",
    "# Investing.com Export asCSV"
   ]
  },
  {
   "cell_type": "code",
   "execution_count": 15,
   "id": "b7d695dc-93db-49d8-ad2f-150f3611bb91",
   "metadata": {},
   "outputs": [],
   "source": [
    "# read all the files with extension .csv\n",
    "filenames = glob.glob(csv_soruce_path + \"\\\\*_ivt.csv\")\n",
    "\n",
    "for file in filenames:\n",
    "  try:   \n",
    "   print(file) \n",
    "   symbol_name= ((file.split(\"\\\\\")[-1]).split('.')[0]).strip()\n",
    "   symbol_name= symbol_name.replace('_ivt','')\n",
    "\n",
    "   df=pd.read_csv(file)\n",
    "   df['Ticker'] =symbol_name \n",
    "   df['Date']=pd.to_datetime(df['Date'],format='%b %d, %Y')\n",
    "   df['Date']=df['Date'].dt.strftime('%d/%m/%Y')\n",
    "   df.columns=['Date/Time','close','open','high','low','pct','Ticker']  \n",
    "   df=df[ab_cols]\n",
    "   print(df.tail())\n",
    "   ab_df=pd.concat([ab_df,df],axis=0) \n",
    "\n",
    "  except Exception as e:\n",
    "     print(f'{file} : {str(e)}')\n",
    "    \n",
    "# if ab_df.empty==False:\n",
    "#     ab_df.to_csv(os.path.join(csv_target_path,target_file),index=False)\n",
    "# else:\n",
    "#     print(\"Investing.com is Empty data\")   "
   ]
  },
  {
   "cell_type": "code",
   "execution_count": 16,
   "id": "9fd9b293-77ae-4712-949b-1795925aab69",
   "metadata": {},
   "outputs": [
    {
     "name": "stdout",
     "output_type": "stream",
     "text": [
      "After merge investing.com\n",
      "            Ticker   Date/Time    open    high     low   close\n",
      "0     KKP-ACT-EQ-A  02/01/2020  15.994  15.994  15.994  15.994\n",
      "1     KKP-ACT-EQ-A  03/01/2020  15.985  15.985  15.985  15.985\n",
      "2     KKP-ACT-EQ-A  06/01/2020  15.644  15.644  15.644  15.644\n",
      "3     KKP-ACT-EQ-A  07/01/2020  15.853  15.853  15.853  15.853\n",
      "4     KKP-ACT-EQ-A  08/01/2020  15.583  15.583  15.583  15.583\n",
      "...            ...         ...     ...     ...     ...     ...\n",
      "2140         TSF-A  09/12/2022  83.185  83.185  83.185  83.185\n",
      "2141         TSF-A  13/12/2022  83.142  83.142  83.142  83.142\n",
      "2142         TSF-A  14/12/2022  84.054  84.054  84.054  84.054\n",
      "2143         TSF-A  15/12/2022  83.365  83.365  83.365  83.365\n",
      "2144         TSF-A  16/12/2022  83.372  83.372  83.372  83.372\n",
      "\n",
      "[2145 rows x 6 columns]\n"
     ]
    }
   ],
   "source": [
    "print(\"After merge investing.com\")\n",
    "ab_df=ab_df.reset_index(drop=True)\n",
    "print(ab_df)"
   ]
  },
  {
   "cell_type": "code",
   "execution_count": 17,
   "id": "92c584cb-31c0-4650-b89d-d89e008e7157",
   "metadata": {},
   "outputs": [
    {
     "name": "stdout",
     "output_type": "stream",
     "text": [
      "Efin and Investing to AB File completely.\n"
     ]
    }
   ],
   "source": [
    "if ab_df.empty==False:\n",
    "    ab_df['Volume']=0\n",
    "    ab_df.to_csv(os.path.join(csv_target_path,target_file),index=False)\n",
    "    print(\"Efin and Investing to AB File completely.\")\n",
    "else:\n",
    "    print(\"Efin is Empty data\")"
   ]
  },
  {
   "cell_type": "code",
   "execution_count": null,
   "id": "fc2836f6-39f2-469d-abf1-c389e4aebf1e",
   "metadata": {},
   "outputs": [],
   "source": []
  },
  {
   "cell_type": "code",
   "execution_count": null,
   "id": "c0a25e4d-6a8c-4c60-9be9-78b93fa88ad4",
   "metadata": {},
   "outputs": [],
   "source": []
  }
 ],
 "metadata": {
  "kernelspec": {
   "display_name": "Python 3 (ipykernel)",
   "language": "python",
   "name": "python3"
  },
  "language_info": {
   "codemirror_mode": {
    "name": "ipython",
    "version": 3
   },
   "file_extension": ".py",
   "mimetype": "text/x-python",
   "name": "python",
   "nbconvert_exporter": "python",
   "pygments_lexer": "ipython3",
   "version": "3.9.12"
  }
 },
 "nbformat": 4,
 "nbformat_minor": 5
}
