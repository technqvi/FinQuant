{
 "cells": [
  {
   "cell_type": "code",
   "execution_count": 55,
   "id": "9295439d-59ac-4db5-8784-85b075f66e94",
   "metadata": {},
   "outputs": [],
   "source": [
    "import pandas as pd\n",
    "from datetime import datetime\n",
    "import glob\n",
    "import os\n",
    "from currency_symbols import CurrencySymbols\n"
   ]
  },
  {
   "cell_type": "code",
   "execution_count": 56,
   "id": "45046851-c791-4626-a078-603f12d73aa6",
   "metadata": {},
   "outputs": [],
   "source": [
    "csv_soruce_path = r\"D:\\AB_DB\\Script_ImportData\\XYZ_TO_AB\"\n",
    "csv_target_path='D:\\AB_DB\\Script_ImportData'\n",
    "#D:\\PythonDev\\MyQuantFinProject\\Data\n",
    "target_file='efin_investing.csv'\n"
   ]
  },
  {
   "cell_type": "code",
   "execution_count": 50,
   "id": "07bdfd3e-291f-4894-be22-e2c54a54d16f",
   "metadata": {},
   "outputs": [
    {
     "name": "stdout",
     "output_type": "stream",
     "text": [
      "1.For efin : Convert xls file to csv UTF-8 and name file {symbol}_efin.csv\n",
      "2.For investing.com : name file {symbol}_ivt.csv\n"
     ]
    },
    {
     "name": "stdin",
     "output_type": "stream",
     "text": [
      "1=efin and 2=investing.com :  2\n"
     ]
    },
    {
     "name": "stdout",
     "output_type": "stream",
     "text": [
      "1  -  D:\\AB_DB\\Script_ImportData\\XYZ_TO_AB\\ASP-THEQ_efin.csv\n",
      "2  -  D:\\AB_DB\\Script_ImportData\\XYZ_TO_AB\\BInnoTech_ivt.csv\n",
      "3  -  D:\\AB_DB\\Script_ImportData\\XYZ_TO_AB\\KTMSEQ_efin.csv\n",
      "4  -  D:\\AB_DB\\Script_ImportData\\XYZ_TO_AB\\TSF-A_efin.csv\n"
     ]
    },
    {
     "name": "stdin",
     "output_type": "stream",
     "text": [
      "Enter file-name.csv (default name=efin_investing.csv) :  \n",
      "Press y=True and n=False to build Amibroker file :  y\n"
     ]
    },
    {
     "name": "stdout",
     "output_type": "stream",
     "text": [
      "File name = efin_investing.csv\n"
     ]
    }
   ],
   "source": [
    "print(\"1.For efin : Convert xls file to csv UTF-8 and name file {symbol}_efin.csv\")\n",
    "print(\"2.For investing.com : name file {symbol}_ivt.csv\")\n",
    "\n",
    "source=input(f\"1=efin and 2=investing.com : \") \n",
    "source=int(source)\n",
    "      \n",
    "list_filenames = glob.glob(csv_soruce_path + \"\\\\*.csv\")  \n",
    "no=1\n",
    "for x in list_filenames:\n",
    "    print(f\"{no}  -  {x}\")\n",
    "    no+=1\n",
    "input_target_file=input(f\"Enter file-name.csv (default name={target_file}) : \") \n",
    "\n",
    "press_y=input(f\"Press y=True and n=False to build Amibroker file : \") \n",
    "if press_y.lower()=='y':\n",
    "    \n",
    " if  input_target_file == '':\n",
    "  target_file='efin_investing.csv'\n",
    " else: \n",
    "  target_file= input_target_file\n",
    " print(f\"File name = {target_file}\") \n",
    " ok=True\n",
    "else:\n",
    " exit()"
   ]
  },
  {
   "cell_type": "code",
   "execution_count": 51,
   "id": "1c98e6a7-6520-4188-926c-0d2045ec9a60",
   "metadata": {},
   "outputs": [
    {
     "data": {
      "text/html": [
       "<div>\n",
       "<style scoped>\n",
       "    .dataframe tbody tr th:only-of-type {\n",
       "        vertical-align: middle;\n",
       "    }\n",
       "\n",
       "    .dataframe tbody tr th {\n",
       "        vertical-align: top;\n",
       "    }\n",
       "\n",
       "    .dataframe thead th {\n",
       "        text-align: right;\n",
       "    }\n",
       "</style>\n",
       "<table border=\"1\" class=\"dataframe\">\n",
       "  <thead>\n",
       "    <tr style=\"text-align: right;\">\n",
       "      <th></th>\n",
       "      <th>Ticker</th>\n",
       "      <th>Date/Time</th>\n",
       "      <th>open</th>\n",
       "      <th>high</th>\n",
       "      <th>low</th>\n",
       "      <th>close</th>\n",
       "    </tr>\n",
       "  </thead>\n",
       "  <tbody>\n",
       "  </tbody>\n",
       "</table>\n",
       "</div>"
      ],
      "text/plain": [
       "Empty DataFrame\n",
       "Columns: [Ticker, Date/Time, open, high, low, close]\n",
       "Index: []"
      ]
     },
     "execution_count": 51,
     "metadata": {},
     "output_type": "execute_result"
    }
   ],
   "source": [
    "ab_cols=['Ticker','Date/Time','open','high','low','close']\n",
    "\n",
    "ab_df=pd.DataFrame(columns=ab_cols)\n",
    "ab_df"
   ]
  },
  {
   "cell_type": "markdown",
   "id": "07bcfef8-cdf0-4804-833e-a60e1e0b9e2f",
   "metadata": {},
   "source": [
    "# Efin Export as Excel (Save xls to csv with CSV UTF-8 First)"
   ]
  },
  {
   "cell_type": "code",
   "execution_count": 52,
   "id": "2f69d268-7b46-4450-9a04-db2f765e287c",
   "metadata": {},
   "outputs": [],
   "source": [
    "if source==1:\n",
    "    # read all the files with extension .csv\n",
    "    filenames = glob.glob(csv_soruce_path + \"\\\\*_efin.csv\")\n",
    "    print(filenames)\n",
    "    # for loop to iterate all csv files\n",
    "    for file in filenames:\n",
    "\n",
    "     try:   \n",
    "\n",
    "       print(file) \n",
    "       symbol_name= ((file.split(\"\\\\\")[-1]).split('.')[0]).strip()\n",
    "       symbol_name= symbol_name.replace('_efin','')\n",
    "\n",
    "       df=pd.read_csv(file)\n",
    "\n",
    "       df['Ticker'] =symbol_name\n",
    "       df.columns=['Date/Time','open','high','low','close','Ticker']\n",
    "       # #df['Date/Time']='%d/%m/%Y'\n",
    "       df=df[ab_cols]\n",
    "       print(df.head())\n",
    "\n",
    "       ab_df=pd.concat([ab_df,df])\n",
    "\n",
    "\n",
    "\n",
    "     except Exception as e:\n",
    "         print(f'{file} : {str(e)}')\n",
    "\n",
    "    print(\"After merge efin\")\n",
    "    print(ab_df)"
   ]
  },
  {
   "cell_type": "markdown",
   "id": "b16be784-e5fb-4f34-ada7-32f5ce943756",
   "metadata": {},
   "source": [
    "\n",
    "# Investing.com Export asCSV"
   ]
  },
  {
   "cell_type": "code",
   "execution_count": 53,
   "id": "b7d695dc-93db-49d8-ad2f-150f3611bb91",
   "metadata": {},
   "outputs": [
    {
     "name": "stdout",
     "output_type": "stream",
     "text": [
      "['D:\\\\AB_DB\\\\Script_ImportData\\\\XYZ_TO_AB\\\\BInnoTech_ivt.csv']\n",
      "D:\\AB_DB\\Script_ImportData\\XYZ_TO_AB\\BInnoTech_ivt.csv\n",
      "       Ticker   Date/Time    open    high     low   close\n",
      "25  BInnoTech  10/02/2023  22.809  22.809  22.809  22.809\n",
      "26  BInnoTech  09/02/2023  23.222  23.222  23.222  23.222\n",
      "27  BInnoTech  08/02/2023  23.110  23.110  23.110  23.110\n",
      "28  BInnoTech  07/02/2023  23.060  23.060  23.060  23.060\n",
      "29  BInnoTech  06/02/2023  23.071  23.071  23.071  23.071\n",
      "After merge investing.com\n",
      "       Ticker   Date/Time    open    high     low   close\n",
      "0   BInnoTech  01/03/2023  22.544  22.544  22.544  22.544\n",
      "1   BInnoTech  28/02/2023  22.580  22.580  22.580  22.580\n",
      "2   BInnoTech  27/02/2023  22.556  22.556  22.556  22.556\n",
      "3   BInnoTech  24/02/2023  22.278  22.278  22.278  22.278\n",
      "4   BInnoTech  22/02/2023  22.420  22.420  22.420  22.420\n",
      "5   BInnoTech  21/02/2023  22.568  22.568  22.568  22.568\n",
      "6   BInnoTech  20/02/2023  22.921  22.921  22.921  22.921\n",
      "7   BInnoTech  17/02/2023  22.896  22.896  22.896  22.896\n",
      "8   BInnoTech  16/02/2023  23.352  23.352  23.352  23.352\n",
      "9   BInnoTech  15/02/2023  23.299  23.299  23.299  23.299\n",
      "10  BInnoTech  14/02/2023  22.978  22.978  22.978  22.978\n",
      "11  BInnoTech  13/02/2023  23.047  23.047  23.047  23.047\n",
      "12  BInnoTech  10/02/2023  22.809  22.809  22.809  22.809\n",
      "13  BInnoTech  01/03/2023  22.544  22.544  22.544  22.544\n",
      "14  BInnoTech  28/02/2023  22.580  22.580  22.580  22.580\n",
      "15  BInnoTech  27/02/2023  22.556  22.556  22.556  22.556\n",
      "16  BInnoTech  24/02/2023  22.278  22.278  22.278  22.278\n",
      "17  BInnoTech  22/02/2023  22.420  22.420  22.420  22.420\n",
      "18  BInnoTech  21/02/2023  22.568  22.568  22.568  22.568\n",
      "19  BInnoTech  20/02/2023  22.921  22.921  22.921  22.921\n",
      "20  BInnoTech  17/02/2023  22.896  22.896  22.896  22.896\n",
      "21  BInnoTech  16/02/2023  23.352  23.352  23.352  23.352\n",
      "22  BInnoTech  15/02/2023  23.299  23.299  23.299  23.299\n",
      "23  BInnoTech  14/02/2023  22.978  22.978  22.978  22.978\n",
      "24  BInnoTech  13/02/2023  23.047  23.047  23.047  23.047\n",
      "25  BInnoTech  10/02/2023  22.809  22.809  22.809  22.809\n",
      "26  BInnoTech  09/02/2023  23.222  23.222  23.222  23.222\n",
      "27  BInnoTech  08/02/2023  23.110  23.110  23.110  23.110\n",
      "28  BInnoTech  07/02/2023  23.060  23.060  23.060  23.060\n",
      "29  BInnoTech  06/02/2023  23.071  23.071  23.071  23.071\n"
     ]
    }
   ],
   "source": [
    "if source==2:\n",
    "    # read all the files with extension .csv\n",
    "    filenames = glob.glob(csv_soruce_path + \"\\\\*_ivt.csv\")\n",
    "    print(filenames)\n",
    "    for file in filenames:\n",
    "      try:   \n",
    "       print(file) \n",
    "       symbol_name= ((file.split(\"\\\\\")[-1]).split('.')[0]).strip()\n",
    "       symbol_name= symbol_name.replace('_ivt','')\n",
    "\n",
    "       df=pd.read_csv(file)\n",
    "       df['Ticker'] =symbol_name \n",
    "       df['Date']=pd.to_datetime(df['Date'],format='%b %d, %Y')\n",
    "       df['Date']=df['Date'].dt.strftime('%d/%m/%Y')\n",
    "       df.columns=['Date/Time','close','open','high','low','pct','Ticker']  \n",
    "       df=df[ab_cols]\n",
    "       print(df.tail())\n",
    "       ab_df=pd.concat([ab_df,df],axis=0) \n",
    "\n",
    "      except Exception as e:\n",
    "         print(f'{file} : {str(e)}')\n",
    "\n",
    "    print(\"After merge investing.com\")\n",
    "    ab_df=ab_df.reset_index(drop=True)\n",
    "    print(ab_df) "
   ]
  },
  {
   "cell_type": "code",
   "execution_count": 54,
   "id": "92c584cb-31c0-4650-b89d-d89e008e7157",
   "metadata": {},
   "outputs": [
    {
     "name": "stdout",
     "output_type": "stream",
     "text": [
      "Efin and Investing to AB File completely.\n"
     ]
    }
   ],
   "source": [
    "if ab_df.empty==False:\n",
    "    ab_df['Volume']=0\n",
    "    ab_df.to_csv(os.path.join(csv_target_path,target_file),index=False)\n",
    "    print(\"Efin and Investing to AB File completely.\")\n",
    "else:\n",
    "    print(\"Efin is Empty data\")"
   ]
  },
  {
   "cell_type": "code",
   "execution_count": null,
   "id": "fc2836f6-39f2-469d-abf1-c389e4aebf1e",
   "metadata": {},
   "outputs": [],
   "source": []
  },
  {
   "cell_type": "code",
   "execution_count": null,
   "id": "c0a25e4d-6a8c-4c60-9be9-78b93fa88ad4",
   "metadata": {},
   "outputs": [],
   "source": []
  }
 ],
 "metadata": {
  "kernelspec": {
   "display_name": "Python 3 (ipykernel)",
   "language": "python",
   "name": "python3"
  },
  "language_info": {
   "codemirror_mode": {
    "name": "ipython",
    "version": 3
   },
   "file_extension": ".py",
   "mimetype": "text/x-python",
   "name": "python",
   "nbconvert_exporter": "python",
   "pygments_lexer": "ipython3",
   "version": "3.9.12"
  }
 },
 "nbformat": 4,
 "nbformat_minor": 5
}
