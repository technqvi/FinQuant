{
 "cells": [
  {
   "cell_type": "code",
   "execution_count": 56,
   "id": "9295439d-59ac-4db5-8784-85b075f66e94",
   "metadata": {},
   "outputs": [],
   "source": [
    "import pandas as pd\n",
    "from datetime import datetime\n",
    "import glob\n",
    "import os\n",
    "\n"
   ]
  },
  {
   "cell_type": "code",
   "execution_count": 57,
   "id": "e1ce6f54-05a0-440e-85c0-d4942558439a",
   "metadata": {},
   "outputs": [],
   "source": [
    "csv_soruce_path = r\"D:\\Downloads\\XYZ_TO_AB\"\n",
    "csv_target_path='D:\\AB_DB\\Script_ImportData'\n",
    "\n",
    "target_file='efin_investing.csv'"
   ]
  },
  {
   "cell_type": "code",
   "execution_count": 58,
   "id": "07bdfd3e-291f-4894-be22-e2c54a54d16f",
   "metadata": {},
   "outputs": [
    {
     "name": "stdout",
     "output_type": "stream",
     "text": [
      "1.For efin : Convert xls file to csv UTF-8 and name file {symbol}_efin.csv\n",
      "2.For investing.com : name file {symbol}_ivt.csv\n",
      "D:\\Downloads\\XYZ_TO_AB\\B-InnoTech_ivt.csv\n",
      "D:\\Downloads\\XYZ_TO_AB\\KKP-TQG.csv\n",
      "D:\\Downloads\\XYZ_TO_AB\\PHATRAEQRMF_ivt.csv\n",
      "D:\\Downloads\\XYZ_TO_AB\\TISCOFLEXP_efin.csv\n",
      "D:\\Downloads\\XYZ_TO_AB\\TSF-A_efin.csv\n"
     ]
    },
    {
     "name": "stdout",
     "output_type": "stream",
     "text": [
      "Press y=True and n=False to build Amibroker file format :  y\n"
     ]
    }
   ],
   "source": [
    "print(\"1.For efin : Convert xls file to csv UTF-8 and name file {symbol}_efin.csv\")\n",
    "print(\"2.For investing.com : name file {symbol}_ivt.csv\")\n",
    "      \n",
    "list_filenames = glob.glob(csv_soruce_path + \"\\\\*.csv\")  \n",
    "for x in list_filenames:\n",
    "    print(x) \n",
    "\n",
    "press_y=input(f\"Press y=True and n=False to build Amibroker file format : \") \n",
    "if press_y.lower()=='y':\n",
    " ok=True\n",
    "else:\n",
    " exit()"
   ]
  },
  {
   "cell_type": "code",
   "execution_count": 44,
   "id": "1c98e6a7-6520-4188-926c-0d2045ec9a60",
   "metadata": {},
   "outputs": [
    {
     "data": {
      "text/html": [
       "<div>\n",
       "<style scoped>\n",
       "    .dataframe tbody tr th:only-of-type {\n",
       "        vertical-align: middle;\n",
       "    }\n",
       "\n",
       "    .dataframe tbody tr th {\n",
       "        vertical-align: top;\n",
       "    }\n",
       "\n",
       "    .dataframe thead th {\n",
       "        text-align: right;\n",
       "    }\n",
       "</style>\n",
       "<table border=\"1\" class=\"dataframe\">\n",
       "  <thead>\n",
       "    <tr style=\"text-align: right;\">\n",
       "      <th></th>\n",
       "      <th>Ticker</th>\n",
       "      <th>Date/Time</th>\n",
       "      <th>open</th>\n",
       "      <th>high</th>\n",
       "      <th>low</th>\n",
       "      <th>close</th>\n",
       "    </tr>\n",
       "  </thead>\n",
       "  <tbody>\n",
       "  </tbody>\n",
       "</table>\n",
       "</div>"
      ],
      "text/plain": [
       "Empty DataFrame\n",
       "Columns: [Ticker, Date/Time, open, high, low, close]\n",
       "Index: []"
      ]
     },
     "execution_count": 44,
     "metadata": {},
     "output_type": "execute_result"
    }
   ],
   "source": [
    "\n",
    "\n",
    "ab_cols=['Ticker','Date/Time','open','high','low','close']\n",
    "\n",
    "ab_df=pd.DataFrame(columns=ab_cols)\n",
    "ab_df"
   ]
  },
  {
   "cell_type": "markdown",
   "id": "07bcfef8-cdf0-4804-833e-a60e1e0b9e2f",
   "metadata": {},
   "source": [
    "# Efin Export as Excel (Save xls to csv with CSV UTF-8 First)"
   ]
  },
  {
   "cell_type": "code",
   "execution_count": 45,
   "id": "2f69d268-7b46-4450-9a04-db2f765e287c",
   "metadata": {},
   "outputs": [
    {
     "name": "stdout",
     "output_type": "stream",
     "text": [
      "D:\\Downloads\\XYZ_TO_AB\\TISCOFLEXP_efin.csv\n",
      "       Ticker   Date/Time    open    high     low   close\n",
      "0  TISCOFLEXP  01/09/2009  11.025  11.025  11.025  11.025\n",
      "1  TISCOFLEXP  02/09/2009  11.060  11.060  11.060  11.060\n",
      "2  TISCOFLEXP  03/09/2009  11.277  11.277  11.277  11.277\n",
      "3  TISCOFLEXP  04/09/2009  11.337  11.337  11.337  11.337\n",
      "4  TISCOFLEXP  07/09/2009  11.609  11.609  11.609  11.609\n",
      "D:\\Downloads\\XYZ_TO_AB\\TSF-A_efin.csv\n",
      "  Ticker   Date/Time    open    high     low   close\n",
      "0  TSF-A  04/01/2010  16.762  16.762  16.762  16.762\n",
      "1  TSF-A  05/01/2010  16.819  16.819  16.819  16.819\n",
      "2  TSF-A  06/01/2010  16.920  16.920  16.920  16.920\n",
      "3  TSF-A  07/01/2010  16.897  16.897  16.897  16.897\n",
      "4  TSF-A  08/01/2010  16.984  16.984  16.984  16.984\n"
     ]
    }
   ],
   "source": [
    "# read all the files with extension .csv\n",
    "filenames = glob.glob(csv_soruce_path + \"\\\\*_efin.csv\")\n",
    "\n",
    "# for loop to iterate all csv files\n",
    "for file in filenames:\n",
    "    \n",
    " try:   \n",
    "\n",
    "   print(file) \n",
    "   symbol_name= ((file.split(\"\\\\\")[-1]).split('.')[0]).strip()\n",
    "   symbol_name= symbol_name.replace('_efin','')\n",
    "\n",
    "   df=pd.read_csv(file)\n",
    "\n",
    "   df['Ticker'] =symbol_name\n",
    "   df.columns=['Date/Time','open','high','low','close','Ticker']\n",
    "   # #df['Date/Time']='%d/%m/%Y'\n",
    "   df=df[ab_cols]\n",
    "   print(df.head())\n",
    "    \n",
    "   ab_df=pd.concat([ab_df,df])\n",
    "    \n",
    "\n",
    "    \n",
    " except Exception as e:\n",
    "     print(f'{file} : {str(e)}')\n",
    "   \n"
   ]
  },
  {
   "cell_type": "code",
   "execution_count": 46,
   "id": "4b3e8b57-d7f1-4091-b3a4-d3863638eaf8",
   "metadata": {},
   "outputs": [
    {
     "name": "stdout",
     "output_type": "stream",
     "text": [
      "After merge efin\n",
      "          Ticker   Date/Time    open    high     low   close\n",
      "0     TISCOFLEXP  01/09/2009  11.025  11.025  11.025  11.025\n",
      "1     TISCOFLEXP  02/09/2009  11.060  11.060  11.060  11.060\n",
      "2     TISCOFLEXP  03/09/2009  11.277  11.277  11.277  11.277\n",
      "3     TISCOFLEXP  04/09/2009  11.337  11.337  11.337  11.337\n",
      "4     TISCOFLEXP  07/09/2009  11.609  11.609  11.609  11.609\n",
      "...          ...         ...     ...     ...     ...     ...\n",
      "3148       TSF-A  25/11/2022  81.585  81.585  81.585  81.585\n",
      "3149       TSF-A  28/11/2022  81.176  81.176  81.176  81.176\n",
      "3150       TSF-A  29/11/2022  81.802  81.802  81.802  81.802\n",
      "3151       TSF-A  30/11/2022  82.895  82.895  82.895  82.895\n",
      "3152       TSF-A  01/12/2022  83.951  83.951  83.951  83.951\n",
      "\n",
      "[6391 rows x 6 columns]\n"
     ]
    }
   ],
   "source": [
    "print(\"After merge efin\")\n",
    "print(ab_df)"
   ]
  },
  {
   "cell_type": "markdown",
   "id": "b16be784-e5fb-4f34-ada7-32f5ce943756",
   "metadata": {},
   "source": [
    "\n",
    "# Investing.com Export asCSV"
   ]
  },
  {
   "cell_type": "code",
   "execution_count": 47,
   "id": "b7d695dc-93db-49d8-ad2f-150f3611bb91",
   "metadata": {},
   "outputs": [
    {
     "name": "stdout",
     "output_type": "stream",
     "text": [
      "D:\\Downloads\\XYZ_TO_AB\\B-InnoTech_ivt.csv\n",
      "          Ticker   Date/Time    open    high     low   close\n",
      "1488  B-InnoTech  02/03/2017  10.030  10.030  10.030  10.030\n",
      "1489  B-InnoTech  01/03/2017  10.050  10.050  10.050  10.050\n",
      "1490  B-InnoTech  28/02/2017   9.998   9.998   9.998   9.998\n",
      "1491  B-InnoTech  27/02/2017  10.010  10.010  10.010  10.010\n",
      "1492  B-InnoTech  24/02/2017   9.994   9.994   9.994   9.994\n",
      "D:\\Downloads\\XYZ_TO_AB\\PHATRAEQRMF_ivt.csv\n",
      "           Ticker   Date/Time    open    high     low   close\n",
      "3194  PHATRAEQRMF  07/10/2009  14.780  14.780  14.780  14.780\n",
      "3195  PHATRAEQRMF  06/10/2009  14.592  14.592  14.592  14.592\n",
      "3196  PHATRAEQRMF  05/10/2009  14.341  14.341  14.341  14.341\n",
      "3197  PHATRAEQRMF  02/10/2009  14.470  14.470  14.470  14.470\n",
      "3198  PHATRAEQRMF  01/10/2009  14.518  14.518  14.518  14.518\n"
     ]
    }
   ],
   "source": [
    "# read all the files with extension .csv\n",
    "filenames = glob.glob(csv_soruce_path + \"\\\\*_ivt.csv\")\n",
    "\n",
    "for file in filenames:\n",
    "  try:   \n",
    "   print(file) \n",
    "   symbol_name= ((file.split(\"\\\\\")[-1]).split('.')[0]).strip()\n",
    "   symbol_name= symbol_name.replace('_ivt','')\n",
    "\n",
    "   df=pd.read_csv(file)\n",
    "   df['Ticker'] =symbol_name \n",
    "   df['Date']=pd.to_datetime(df['Date'],format='%b %d, %Y')\n",
    "   df['Date']=df['Date'].dt.strftime('%d/%m/%Y')\n",
    "   df.columns=['Date/Time','close','open','high','low','pct','Ticker']  \n",
    "   df=df[ab_cols]\n",
    "   print(df.tail())\n",
    "   ab_df=pd.concat([ab_df,df],axis=0) \n",
    "\n",
    "  except Exception as e:\n",
    "     print(f'{file} : {str(e)}')\n",
    "    \n",
    "# if ab_df.empty==False:\n",
    "#     ab_df.to_csv(os.path.join(csv_target_path,target_file),index=False)\n",
    "# else:\n",
    "#     print(\"Investing.com is Empty data\")   "
   ]
  },
  {
   "cell_type": "code",
   "execution_count": 48,
   "id": "9fd9b293-77ae-4712-949b-1795925aab69",
   "metadata": {},
   "outputs": [
    {
     "name": "stdout",
     "output_type": "stream",
     "text": [
      "After merge investing.com\n",
      "            Ticker   Date/Time    open    high     low   close\n",
      "0       TISCOFLEXP  01/09/2009  11.025  11.025  11.025  11.025\n",
      "1       TISCOFLEXP  02/09/2009  11.060  11.060  11.060  11.060\n",
      "2       TISCOFLEXP  03/09/2009  11.277  11.277  11.277  11.277\n",
      "3       TISCOFLEXP  04/09/2009  11.337  11.337  11.337  11.337\n",
      "4       TISCOFLEXP  07/09/2009  11.609  11.609  11.609  11.609\n",
      "...            ...         ...     ...     ...     ...     ...\n",
      "11078  PHATRAEQRMF  07/10/2009  14.780  14.780  14.780  14.780\n",
      "11079  PHATRAEQRMF  06/10/2009  14.592  14.592  14.592  14.592\n",
      "11080  PHATRAEQRMF  05/10/2009  14.341  14.341  14.341  14.341\n",
      "11081  PHATRAEQRMF  02/10/2009  14.470  14.470  14.470  14.470\n",
      "11082  PHATRAEQRMF  01/10/2009  14.518  14.518  14.518  14.518\n",
      "\n",
      "[11083 rows x 6 columns]\n"
     ]
    }
   ],
   "source": [
    "print(\"After merge investing.com\")\n",
    "ab_df=ab_df.reset_index(drop=True)\n",
    "print(ab_df)"
   ]
  },
  {
   "cell_type": "code",
   "execution_count": 49,
   "id": "92c584cb-31c0-4650-b89d-d89e008e7157",
   "metadata": {},
   "outputs": [],
   "source": [
    "if ab_df.empty==False:\n",
    "    ab_df['Volume']=0\n",
    "    ab_df.to_csv(os.path.join(csv_target_path,target_file),index=False)\n",
    "    print(\"Efin and Investing to AB File completely.\")\n",
    "else:\n",
    "    print(\"Efin is Empty data\")"
   ]
  },
  {
   "cell_type": "code",
   "execution_count": null,
   "id": "fc2836f6-39f2-469d-abf1-c389e4aebf1e",
   "metadata": {},
   "outputs": [],
   "source": []
  },
  {
   "cell_type": "code",
   "execution_count": null,
   "id": "c0a25e4d-6a8c-4c60-9be9-78b93fa88ad4",
   "metadata": {},
   "outputs": [],
   "source": []
  }
 ],
 "metadata": {
  "kernelspec": {
   "display_name": "Python 3 (ipykernel)",
   "language": "python",
   "name": "python3"
  },
  "language_info": {
   "codemirror_mode": {
    "name": "ipython",
    "version": 3
   },
   "file_extension": ".py",
   "mimetype": "text/x-python",
   "name": "python",
   "nbconvert_exporter": "python",
   "pygments_lexer": "ipython3",
   "version": "3.9.12"
  }
 },
 "nbformat": 4,
 "nbformat_minor": 5
}
