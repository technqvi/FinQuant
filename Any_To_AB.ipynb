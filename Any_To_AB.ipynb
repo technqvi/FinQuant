{
 "cells": [
  {
   "cell_type": "code",
   "execution_count": 19,
   "id": "9295439d-59ac-4db5-8784-85b075f66e94",
   "metadata": {},
   "outputs": [],
   "source": [
    "import pandas as pd\n",
    "from datetime import datetime\n",
    "import glob\n",
    "import os\n",
    "from currency_symbols import CurrencySymbols\n"
   ]
  },
  {
   "cell_type": "code",
   "execution_count": 20,
   "id": "45046851-c791-4626-a078-603f12d73aa6",
   "metadata": {},
   "outputs": [],
   "source": [
    "csv_soruce_path = r\"D:\\Downloads\\XYZ_TO_AB\"\n",
    "csv_target_path='D:\\AB_DB\\Script_ImportData'\n",
    "#D:\\PythonDev\\MyQuantFinProject\\Data\n",
    "\n",
    "target_file='efin_investing.csv'"
   ]
  },
  {
   "cell_type": "code",
   "execution_count": 21,
   "id": "0b882a37-0cb8-42a0-9718-6db15d4e891c",
   "metadata": {},
   "outputs": [],
   "source": [
    "# from xls2xlsx import XLS2XLSX\n",
    "#python -m pip install xls2xlsx currency-symbols\n",
    "#https://pypi.org/project/xls2xlsx/\n",
    "#fix error at  https://stackoverflow.com/questions/73262028/xls2xxlsx-no-module-named-currency-symbols\n",
    "# error\n",
    "# x2x= XLS2XLSX(os.path.join( csv_soruce_path, \"KKP-ACT-EQ-A_efin.xls\"))\n",
    "# x2x.to_xlsx(os.path.join(csv_soruce_path, \"KKP-ACT-EQ-A_efin.xlsx\"))"
   ]
  },
  {
   "cell_type": "code",
   "execution_count": null,
   "id": "e1ce6f54-05a0-440e-85c0-d4942558439a",
   "metadata": {},
   "outputs": [],
   "source": []
  },
  {
   "cell_type": "code",
   "execution_count": 22,
   "id": "07bdfd3e-291f-4894-be22-e2c54a54d16f",
   "metadata": {},
   "outputs": [
    {
     "name": "stdout",
     "output_type": "stream",
     "text": [
      "1.For efin : Convert xls file to csv UTF-8 and name file {symbol}_efin.csv\n",
      "2.For investing.com : name file {symbol}_ivt.csv\n",
      "D:\\Downloads\\XYZ_TO_AB\\KKP-ACT-EQ-A_efin.csv\n",
      "D:\\Downloads\\XYZ_TO_AB\\TISCOFLEXP_efin.csv\n",
      "D:\\Downloads\\XYZ_TO_AB\\TSF-A_efin.csv\n"
     ]
    },
    {
     "name": "stdin",
     "output_type": "stream",
     "text": [
      "Enter file-name.csv (default name=efin_investing.csv) :  thai-focus-y20_22.csv\n",
      "Press y=True and n=False to build Amibroker file :  y\n"
     ]
    }
   ],
   "source": [
    "print(\"1.For efin : Convert xls file to csv UTF-8 and name file {symbol}_efin.csv\")\n",
    "print(\"2.For investing.com : name file {symbol}_ivt.csv\")\n",
    "      \n",
    "list_filenames = glob.glob(csv_soruce_path + \"\\\\*.csv\")  \n",
    "for x in list_filenames:\n",
    "    print(x) \n",
    "input_target_file=input(f\"Enter file-name.csv (default name={target_file}) : \") \n",
    "\n",
    "press_y=input(f\"Press y=True and n=False to build Amibroker file : \") \n",
    "if press_y.lower()=='y':\n",
    " target_file= input_target_file\n",
    " ok=True\n",
    "else:\n",
    " exit()"
   ]
  },
  {
   "cell_type": "code",
   "execution_count": 13,
   "id": "1c98e6a7-6520-4188-926c-0d2045ec9a60",
   "metadata": {},
   "outputs": [
    {
     "data": {
      "text/html": [
       "<div>\n",
       "<style scoped>\n",
       "    .dataframe tbody tr th:only-of-type {\n",
       "        vertical-align: middle;\n",
       "    }\n",
       "\n",
       "    .dataframe tbody tr th {\n",
       "        vertical-align: top;\n",
       "    }\n",
       "\n",
       "    .dataframe thead th {\n",
       "        text-align: right;\n",
       "    }\n",
       "</style>\n",
       "<table border=\"1\" class=\"dataframe\">\n",
       "  <thead>\n",
       "    <tr style=\"text-align: right;\">\n",
       "      <th></th>\n",
       "      <th>Ticker</th>\n",
       "      <th>Date/Time</th>\n",
       "      <th>open</th>\n",
       "      <th>high</th>\n",
       "      <th>low</th>\n",
       "      <th>close</th>\n",
       "    </tr>\n",
       "  </thead>\n",
       "  <tbody>\n",
       "  </tbody>\n",
       "</table>\n",
       "</div>"
      ],
      "text/plain": [
       "Empty DataFrame\n",
       "Columns: [Ticker, Date/Time, open, high, low, close]\n",
       "Index: []"
      ]
     },
     "execution_count": 13,
     "metadata": {},
     "output_type": "execute_result"
    }
   ],
   "source": [
    "\n",
    "\n",
    "ab_cols=['Ticker','Date/Time','open','high','low','close']\n",
    "\n",
    "ab_df=pd.DataFrame(columns=ab_cols)\n",
    "ab_df"
   ]
  },
  {
   "cell_type": "markdown",
   "id": "07bcfef8-cdf0-4804-833e-a60e1e0b9e2f",
   "metadata": {},
   "source": [
    "# Efin Export as Excel (Save xls to csv with CSV UTF-8 First)"
   ]
  },
  {
   "cell_type": "code",
   "execution_count": 14,
   "id": "2f69d268-7b46-4450-9a04-db2f765e287c",
   "metadata": {},
   "outputs": [
    {
     "name": "stdout",
     "output_type": "stream",
     "text": [
      "D:\\Downloads\\XYZ_TO_AB\\KKP-ACT-EQ-A_efin.csv\n",
      "         Ticker   Date/Time    open    high     low   close\n",
      "0  KKP-ACT-EQ-A  02/01/2020  15.994  15.994  15.994  15.994\n",
      "1  KKP-ACT-EQ-A  03/01/2020  15.985  15.985  15.985  15.985\n",
      "2  KKP-ACT-EQ-A  06/01/2020  15.644  15.644  15.644  15.644\n",
      "3  KKP-ACT-EQ-A  07/01/2020  15.853  15.853  15.853  15.853\n",
      "4  KKP-ACT-EQ-A  08/01/2020  15.583  15.583  15.583  15.583\n",
      "D:\\Downloads\\XYZ_TO_AB\\TISCOFLEXP_efin.csv\n",
      "       Ticker   Date/Time    open    high     low   close\n",
      "0  TISCOFLEXP  02/01/2020  34.167  34.167  34.167  34.167\n",
      "1  TISCOFLEXP  03/01/2020  34.060  34.060  34.060  34.060\n",
      "2  TISCOFLEXP  06/01/2020  33.209  33.209  33.209  33.209\n",
      "3  TISCOFLEXP  07/01/2020  33.585  33.585  33.585  33.585\n",
      "4  TISCOFLEXP  08/01/2020  32.697  32.697  32.697  32.697\n",
      "D:\\Downloads\\XYZ_TO_AB\\TSF-A_efin.csv\n",
      "  Ticker   Date/Time    open    high     low   close\n",
      "0  TSF-A  02/01/2020  54.550  54.550  54.550  54.550\n",
      "1  TSF-A  03/01/2020  54.364  54.364  54.364  54.364\n",
      "2  TSF-A  06/01/2020  53.373  53.373  53.373  53.373\n",
      "3  TSF-A  07/01/2020  53.907  53.907  53.907  53.907\n",
      "4  TSF-A  08/01/2020  52.565  52.565  52.565  52.565\n"
     ]
    }
   ],
   "source": [
    "# read all the files with extension .csv\n",
    "filenames = glob.glob(csv_soruce_path + \"\\\\*_efin.csv\")\n",
    "\n",
    "# for loop to iterate all csv files\n",
    "for file in filenames:\n",
    "    \n",
    " try:   \n",
    "\n",
    "   print(file) \n",
    "   symbol_name= ((file.split(\"\\\\\")[-1]).split('.')[0]).strip()\n",
    "   symbol_name= symbol_name.replace('_efin','')\n",
    "\n",
    "   df=pd.read_csv(file)\n",
    "\n",
    "   df['Ticker'] =symbol_name\n",
    "   df.columns=['Date/Time','open','high','low','close','Ticker']\n",
    "   # #df['Date/Time']='%d/%m/%Y'\n",
    "   df=df[ab_cols]\n",
    "   print(df.head())\n",
    "    \n",
    "   ab_df=pd.concat([ab_df,df])\n",
    "    \n",
    "\n",
    "    \n",
    " except Exception as e:\n",
    "     print(f'{file} : {str(e)}')\n",
    "   \n"
   ]
  },
  {
   "cell_type": "code",
   "execution_count": 46,
   "id": "4b3e8b57-d7f1-4091-b3a4-d3863638eaf8",
   "metadata": {},
   "outputs": [
    {
     "name": "stdout",
     "output_type": "stream",
     "text": [
      "After merge efin\n",
      "          Ticker   Date/Time    open    high     low   close\n",
      "0     TISCOFLEXP  01/09/2009  11.025  11.025  11.025  11.025\n",
      "1     TISCOFLEXP  02/09/2009  11.060  11.060  11.060  11.060\n",
      "2     TISCOFLEXP  03/09/2009  11.277  11.277  11.277  11.277\n",
      "3     TISCOFLEXP  04/09/2009  11.337  11.337  11.337  11.337\n",
      "4     TISCOFLEXP  07/09/2009  11.609  11.609  11.609  11.609\n",
      "...          ...         ...     ...     ...     ...     ...\n",
      "3148       TSF-A  25/11/2022  81.585  81.585  81.585  81.585\n",
      "3149       TSF-A  28/11/2022  81.176  81.176  81.176  81.176\n",
      "3150       TSF-A  29/11/2022  81.802  81.802  81.802  81.802\n",
      "3151       TSF-A  30/11/2022  82.895  82.895  82.895  82.895\n",
      "3152       TSF-A  01/12/2022  83.951  83.951  83.951  83.951\n",
      "\n",
      "[6391 rows x 6 columns]\n"
     ]
    }
   ],
   "source": [
    "print(\"After merge efin\")\n",
    "print(ab_df)"
   ]
  },
  {
   "cell_type": "markdown",
   "id": "b16be784-e5fb-4f34-ada7-32f5ce943756",
   "metadata": {},
   "source": [
    "\n",
    "# Investing.com Export asCSV"
   ]
  },
  {
   "cell_type": "code",
   "execution_count": 15,
   "id": "b7d695dc-93db-49d8-ad2f-150f3611bb91",
   "metadata": {},
   "outputs": [],
   "source": [
    "# read all the files with extension .csv\n",
    "filenames = glob.glob(csv_soruce_path + \"\\\\*_ivt.csv\")\n",
    "\n",
    "for file in filenames:\n",
    "  try:   \n",
    "   print(file) \n",
    "   symbol_name= ((file.split(\"\\\\\")[-1]).split('.')[0]).strip()\n",
    "   symbol_name= symbol_name.replace('_ivt','')\n",
    "\n",
    "   df=pd.read_csv(file)\n",
    "   df['Ticker'] =symbol_name \n",
    "   df['Date']=pd.to_datetime(df['Date'],format='%b %d, %Y')\n",
    "   df['Date']=df['Date'].dt.strftime('%d/%m/%Y')\n",
    "   df.columns=['Date/Time','close','open','high','low','pct','Ticker']  \n",
    "   df=df[ab_cols]\n",
    "   print(df.tail())\n",
    "   ab_df=pd.concat([ab_df,df],axis=0) \n",
    "\n",
    "  except Exception as e:\n",
    "     print(f'{file} : {str(e)}')\n",
    "    \n",
    "# if ab_df.empty==False:\n",
    "#     ab_df.to_csv(os.path.join(csv_target_path,target_file),index=False)\n",
    "# else:\n",
    "#     print(\"Investing.com is Empty data\")   "
   ]
  },
  {
   "cell_type": "code",
   "execution_count": 16,
   "id": "9fd9b293-77ae-4712-949b-1795925aab69",
   "metadata": {},
   "outputs": [
    {
     "name": "stdout",
     "output_type": "stream",
     "text": [
      "After merge investing.com\n",
      "            Ticker   Date/Time    open    high     low   close\n",
      "0     KKP-ACT-EQ-A  02/01/2020  15.994  15.994  15.994  15.994\n",
      "1     KKP-ACT-EQ-A  03/01/2020  15.985  15.985  15.985  15.985\n",
      "2     KKP-ACT-EQ-A  06/01/2020  15.644  15.644  15.644  15.644\n",
      "3     KKP-ACT-EQ-A  07/01/2020  15.853  15.853  15.853  15.853\n",
      "4     KKP-ACT-EQ-A  08/01/2020  15.583  15.583  15.583  15.583\n",
      "...            ...         ...     ...     ...     ...     ...\n",
      "2140         TSF-A  09/12/2022  83.185  83.185  83.185  83.185\n",
      "2141         TSF-A  13/12/2022  83.142  83.142  83.142  83.142\n",
      "2142         TSF-A  14/12/2022  84.054  84.054  84.054  84.054\n",
      "2143         TSF-A  15/12/2022  83.365  83.365  83.365  83.365\n",
      "2144         TSF-A  16/12/2022  83.372  83.372  83.372  83.372\n",
      "\n",
      "[2145 rows x 6 columns]\n"
     ]
    }
   ],
   "source": [
    "print(\"After merge investing.com\")\n",
    "ab_df=ab_df.reset_index(drop=True)\n",
    "print(ab_df)"
   ]
  },
  {
   "cell_type": "code",
   "execution_count": 17,
   "id": "92c584cb-31c0-4650-b89d-d89e008e7157",
   "metadata": {},
   "outputs": [
    {
     "name": "stdout",
     "output_type": "stream",
     "text": [
      "Efin and Investing to AB File completely.\n"
     ]
    }
   ],
   "source": [
    "if ab_df.empty==False:\n",
    "    ab_df['Volume']=0\n",
    "    ab_df.to_csv(os.path.join(csv_target_path,target_file),index=False)\n",
    "    print(\"Efin and Investing to AB File completely.\")\n",
    "else:\n",
    "    print(\"Efin is Empty data\")"
   ]
  },
  {
   "cell_type": "code",
   "execution_count": null,
   "id": "fc2836f6-39f2-469d-abf1-c389e4aebf1e",
   "metadata": {},
   "outputs": [],
   "source": []
  },
  {
   "cell_type": "code",
   "execution_count": null,
   "id": "c0a25e4d-6a8c-4c60-9be9-78b93fa88ad4",
   "metadata": {},
   "outputs": [],
   "source": []
  }
 ],
 "metadata": {
  "kernelspec": {
   "display_name": "Python 3 (ipykernel)",
   "language": "python",
   "name": "python3"
  },
  "language_info": {
   "codemirror_mode": {
    "name": "ipython",
    "version": 3
   },
   "file_extension": ".py",
   "mimetype": "text/x-python",
   "name": "python",
   "nbconvert_exporter": "python",
   "pygments_lexer": "ipython3",
   "version": "3.9.12"
  }
 },
 "nbformat": 4,
 "nbformat_minor": 5
}
