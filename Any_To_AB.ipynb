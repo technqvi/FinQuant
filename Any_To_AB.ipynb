{
 "cells": [
  {
   "cell_type": "code",
   "execution_count": 3,
   "id": "9295439d-59ac-4db5-8784-85b075f66e94",
   "metadata": {},
   "outputs": [],
   "source": [
    "import pandas as pd\n",
    "from datetime import datetime\n",
    "import glob\n",
    "import os\n",
    "from currency_symbols import CurrencySymbols\n"
   ]
  },
  {
   "cell_type": "code",
   "execution_count": 4,
   "id": "45046851-c791-4626-a078-603f12d73aa6",
   "metadata": {},
   "outputs": [],
   "source": [
    "csv_soruce_path = r\"D:\\Downloads\\XYZ_TO_AB\"\n",
    "csv_target_path='D:\\AB_DB\\Script_ImportData'\n",
    "#D:\\PythonDev\\MyQuantFinProject\\Data\n",
    "\n",
    "target_file='efin_investing.csv'"
   ]
  },
  {
   "cell_type": "code",
   "execution_count": null,
   "id": "e1ce6f54-05a0-440e-85c0-d4942558439a",
   "metadata": {},
   "outputs": [],
   "source": []
  },
  {
   "cell_type": "code",
   "execution_count": 6,
   "id": "07bdfd3e-291f-4894-be22-e2c54a54d16f",
   "metadata": {},
   "outputs": [
    {
     "name": "stdout",
     "output_type": "stream",
     "text": [
      "1.For efin : Convert xls file to csv UTF-8 and name file {symbol}_efin.csv\n",
      "2.For investing.com : name file {symbol}_ivt.csv\n"
     ]
    },
    {
     "name": "stdin",
     "output_type": "stream",
     "text": [
      "Enter file-name.csv (default name=efin_investing.csv) :  \n",
      "Press y=True and n=False to build Amibroker file :  y\n"
     ]
    }
   ],
   "source": [
    "print(\"1.For efin : Convert xls file to csv UTF-8 and name file {symbol}_efin.csv\")\n",
    "print(\"2.For investing.com : name file {symbol}_ivt.csv\")\n",
    "      \n",
    "list_filenames = glob.glob(csv_soruce_path + \"\\\\*.csv\")  \n",
    "no=1\n",
    "for x in list_filenames:\n",
    "    print(f\"{no}  -  {x}\")\n",
    "    no+=1\n",
    "input_target_file=input(f\"Enter file-name.csv (default name={target_file}) : \") \n",
    "\n",
    "press_y=input(f\"Press y=True and n=False to build Amibroker file : \") \n",
    "if press_y.lower()=='y':\n",
    " target_file= input_target_file\n",
    " ok=True\n",
    "else:\n",
    " exit()"
   ]
  },
  {
   "cell_type": "code",
   "execution_count": 7,
   "id": "1c98e6a7-6520-4188-926c-0d2045ec9a60",
   "metadata": {},
   "outputs": [
    {
     "data": {
      "text/html": [
       "<div>\n",
       "<style scoped>\n",
       "    .dataframe tbody tr th:only-of-type {\n",
       "        vertical-align: middle;\n",
       "    }\n",
       "\n",
       "    .dataframe tbody tr th {\n",
       "        vertical-align: top;\n",
       "    }\n",
       "\n",
       "    .dataframe thead th {\n",
       "        text-align: right;\n",
       "    }\n",
       "</style>\n",
       "<table border=\"1\" class=\"dataframe\">\n",
       "  <thead>\n",
       "    <tr style=\"text-align: right;\">\n",
       "      <th></th>\n",
       "      <th>Ticker</th>\n",
       "      <th>Date/Time</th>\n",
       "      <th>open</th>\n",
       "      <th>high</th>\n",
       "      <th>low</th>\n",
       "      <th>close</th>\n",
       "    </tr>\n",
       "  </thead>\n",
       "  <tbody>\n",
       "  </tbody>\n",
       "</table>\n",
       "</div>"
      ],
      "text/plain": [
       "Empty DataFrame\n",
       "Columns: [Ticker, Date/Time, open, high, low, close]\n",
       "Index: []"
      ]
     },
     "execution_count": 7,
     "metadata": {},
     "output_type": "execute_result"
    }
   ],
   "source": [
    "\n",
    "\n",
    "ab_cols=['Ticker','Date/Time','open','high','low','close']\n",
    "\n",
    "ab_df=pd.DataFrame(columns=ab_cols)\n",
    "ab_df"
   ]
  },
  {
   "cell_type": "markdown",
   "id": "07bcfef8-cdf0-4804-833e-a60e1e0b9e2f",
   "metadata": {},
   "source": [
    "# Efin Export as Excel (Save xls to csv with CSV UTF-8 First)"
   ]
  },
  {
   "cell_type": "code",
   "execution_count": 8,
   "id": "2f69d268-7b46-4450-9a04-db2f765e287c",
   "metadata": {},
   "outputs": [],
   "source": [
    "# read all the files with extension .csv\n",
    "filenames = glob.glob(csv_soruce_path + \"\\\\*_efin.csv\")\n",
    "\n",
    "# for loop to iterate all csv files\n",
    "for file in filenames:\n",
    "    \n",
    " try:   \n",
    "\n",
    "   print(file) \n",
    "   symbol_name= ((file.split(\"\\\\\")[-1]).split('.')[0]).strip()\n",
    "   symbol_name= symbol_name.replace('_efin','')\n",
    "\n",
    "   df=pd.read_csv(file)\n",
    "\n",
    "   df['Ticker'] =symbol_name\n",
    "   df.columns=['Date/Time','open','high','low','close','Ticker']\n",
    "   # #df['Date/Time']='%d/%m/%Y'\n",
    "   df=df[ab_cols]\n",
    "   print(df.head())\n",
    "    \n",
    "   ab_df=pd.concat([ab_df,df])\n",
    "    \n",
    "\n",
    "    \n",
    " except Exception as e:\n",
    "     print(f'{file} : {str(e)}')\n",
    "   \n"
   ]
  },
  {
   "cell_type": "code",
   "execution_count": 9,
   "id": "4b3e8b57-d7f1-4091-b3a4-d3863638eaf8",
   "metadata": {},
   "outputs": [
    {
     "name": "stdout",
     "output_type": "stream",
     "text": [
      "After merge efin\n",
      "Empty DataFrame\n",
      "Columns: [Ticker, Date/Time, open, high, low, close]\n",
      "Index: []\n"
     ]
    }
   ],
   "source": [
    "print(\"After merge efin\")\n",
    "print(ab_df)"
   ]
  },
  {
   "cell_type": "markdown",
   "id": "b16be784-e5fb-4f34-ada7-32f5ce943756",
   "metadata": {},
   "source": [
    "\n",
    "# Investing.com Export asCSV"
   ]
  },
  {
   "cell_type": "code",
   "execution_count": 10,
   "id": "b7d695dc-93db-49d8-ad2f-150f3611bb91",
   "metadata": {},
   "outputs": [],
   "source": [
    "# read all the files with extension .csv\n",
    "filenames = glob.glob(csv_soruce_path + \"\\\\*_ivt.csv\")\n",
    "\n",
    "for file in filenames:\n",
    "  try:   \n",
    "   print(file) \n",
    "   symbol_name= ((file.split(\"\\\\\")[-1]).split('.')[0]).strip()\n",
    "   symbol_name= symbol_name.replace('_ivt','')\n",
    "\n",
    "   df=pd.read_csv(file)\n",
    "   df['Ticker'] =symbol_name \n",
    "   df['Date']=pd.to_datetime(df['Date'],format='%b %d, %Y')\n",
    "   df['Date']=df['Date'].dt.strftime('%d/%m/%Y')\n",
    "   df.columns=['Date/Time','close','open','high','low','pct','Ticker']  \n",
    "   df=df[ab_cols]\n",
    "   print(df.tail())\n",
    "   ab_df=pd.concat([ab_df,df],axis=0) \n",
    "\n",
    "  except Exception as e:\n",
    "     print(f'{file} : {str(e)}')\n",
    "    \n",
    "# if ab_df.empty==False:\n",
    "#     ab_df.to_csv(os.path.join(csv_target_path,target_file),index=False)\n",
    "# else:\n",
    "#     print(\"Investing.com is Empty data\")   "
   ]
  },
  {
   "cell_type": "code",
   "execution_count": 11,
   "id": "9fd9b293-77ae-4712-949b-1795925aab69",
   "metadata": {},
   "outputs": [
    {
     "name": "stdout",
     "output_type": "stream",
     "text": [
      "After merge investing.com\n",
      "Empty DataFrame\n",
      "Columns: [Ticker, Date/Time, open, high, low, close]\n",
      "Index: []\n"
     ]
    }
   ],
   "source": [
    "print(\"After merge investing.com\")\n",
    "ab_df=ab_df.reset_index(drop=True)\n",
    "print(ab_df)"
   ]
  },
  {
   "cell_type": "code",
   "execution_count": 12,
   "id": "92c584cb-31c0-4650-b89d-d89e008e7157",
   "metadata": {},
   "outputs": [
    {
     "name": "stdout",
     "output_type": "stream",
     "text": [
      "Efin is Empty data\n"
     ]
    }
   ],
   "source": [
    "if ab_df.empty==False:\n",
    "    ab_df['Volume']=0\n",
    "    ab_df.to_csv(os.path.join(csv_target_path,target_file),index=False)\n",
    "    print(\"Efin and Investing to AB File completely.\")\n",
    "else:\n",
    "    print(\"Efin is Empty data\")"
   ]
  },
  {
   "cell_type": "code",
   "execution_count": null,
   "id": "fc2836f6-39f2-469d-abf1-c389e4aebf1e",
   "metadata": {},
   "outputs": [],
   "source": []
  },
  {
   "cell_type": "code",
   "execution_count": null,
   "id": "c0a25e4d-6a8c-4c60-9be9-78b93fa88ad4",
   "metadata": {},
   "outputs": [],
   "source": []
  }
 ],
 "metadata": {
  "kernelspec": {
   "display_name": "Python 3 (ipykernel)",
   "language": "python",
   "name": "python3"
  },
  "language_info": {
   "codemirror_mode": {
    "name": "ipython",
    "version": 3
   },
   "file_extension": ".py",
   "mimetype": "text/x-python",
   "name": "python",
   "nbconvert_exporter": "python",
   "pygments_lexer": "ipython3",
   "version": "3.9.12"
  }
 },
 "nbformat": 4,
 "nbformat_minor": 5
}
