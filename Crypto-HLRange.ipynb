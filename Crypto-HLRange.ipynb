{
 "cells": [
  {
   "cell_type": "code",
   "execution_count": 196,
   "metadata": {},
   "outputs": [],
   "source": [
    "import pandas as pd\n",
    "\n",
    "import plotly.graph_objects as go\n",
    "\n",
    "import plotly.express as px\n",
    "\n",
    "import plotly.figure_factory as ff\n",
    "\n",
    "import os"
   ]
  },
  {
   "cell_type": "code",
   "execution_count": 197,
   "metadata": {},
   "outputs": [],
   "source": [
    "file_path=r'D:\\JupyterCode\\MyQuantFinProject\\Data\\RangeCrypto\\ETH_050622_20Past_25-10Range.csv'"
   ]
  },
  {
   "cell_type": "code",
   "execution_count": 198,
   "metadata": {},
   "outputs": [
    {
     "name": "stdout",
     "output_type": "stream",
     "text": [
      "<class 'pandas.core.frame.DataFrame'>\n",
      "DatetimeIndex: 20 entries, 2022-05-17 to 2022-06-05\n",
      "Data columns (total 17 columns):\n",
      " #   Column        Non-Null Count  Dtype  \n",
      "---  ------        --------------  -----  \n",
      " 0   Ticker        20 non-null     object \n",
      " 1   _XHH10        20 non-null     float64\n",
      " 2   _XLL10        20 non-null     float64\n",
      " 3   _XMid10       20 non-null     float64\n",
      " 4   Range10       20 non-null     float64\n",
      " 5   _PctX_HL10    20 non-null     float64\n",
      " 6   _PctX_LH10    20 non-null     float64\n",
      " 7   _PctMidToH10  20 non-null     float64\n",
      " 8   _PctMidToL10  20 non-null     float64\n",
      " 9   _XHH25        20 non-null     float64\n",
      " 10  _XLL25        20 non-null     float64\n",
      " 11  _XMid25       20 non-null     float64\n",
      " 12  Range25       20 non-null     float64\n",
      " 13  _PctX_HL25    20 non-null     float64\n",
      " 14  _PctX_LH25    20 non-null     float64\n",
      " 15  _PctMidToH25  20 non-null     float64\n",
      " 16  _PctMidToL25  20 non-null     float64\n",
      "dtypes: float64(16), object(1)\n",
      "memory usage: 2.8+ KB\n",
      "['_XHH10', '_XLL10', '_XMid10', 'Range10', '_PctX_HL10', '_PctX_LH10', '_PctMidToH10', '_PctMidToL10', '_XHH25', '_XLL25', '_XMid25', 'Range25', '_PctX_HL25', '_PctX_LH25', '_PctMidToH25', '_PctMidToL25']\n"
     ]
    },
    {
     "data": {
      "text/html": [
       "<div>\n",
       "<style scoped>\n",
       "    .dataframe tbody tr th:only-of-type {\n",
       "        vertical-align: middle;\n",
       "    }\n",
       "\n",
       "    .dataframe tbody tr th {\n",
       "        vertical-align: top;\n",
       "    }\n",
       "\n",
       "    .dataframe thead th {\n",
       "        text-align: right;\n",
       "    }\n",
       "</style>\n",
       "<table border=\"1\" class=\"dataframe\">\n",
       "  <thead>\n",
       "    <tr style=\"text-align: right;\">\n",
       "      <th></th>\n",
       "      <th>_XHH10</th>\n",
       "      <th>_XLL10</th>\n",
       "      <th>_XMid10</th>\n",
       "      <th>Range10</th>\n",
       "      <th>_PctX_HL10</th>\n",
       "      <th>_PctX_LH10</th>\n",
       "      <th>_PctMidToH10</th>\n",
       "      <th>_PctMidToL10</th>\n",
       "      <th>_XHH25</th>\n",
       "      <th>_XLL25</th>\n",
       "      <th>_XMid25</th>\n",
       "      <th>Range25</th>\n",
       "      <th>_PctX_HL25</th>\n",
       "      <th>_PctX_LH25</th>\n",
       "      <th>_PctMidToH25</th>\n",
       "      <th>_PctMidToL25</th>\n",
       "    </tr>\n",
       "    <tr>\n",
       "      <th>Date/Time</th>\n",
       "      <th></th>\n",
       "      <th></th>\n",
       "      <th></th>\n",
       "      <th></th>\n",
       "      <th></th>\n",
       "      <th></th>\n",
       "      <th></th>\n",
       "      <th></th>\n",
       "      <th></th>\n",
       "      <th></th>\n",
       "      <th></th>\n",
       "      <th></th>\n",
       "      <th></th>\n",
       "      <th></th>\n",
       "      <th></th>\n",
       "      <th></th>\n",
       "    </tr>\n",
       "  </thead>\n",
       "  <tbody>\n",
       "    <tr>\n",
       "      <th>2022-05-17</th>\n",
       "      <td>2635.34</td>\n",
       "      <td>1960.22</td>\n",
       "      <td>2297.78</td>\n",
       "      <td>675.12</td>\n",
       "      <td>-25.62</td>\n",
       "      <td>34.44</td>\n",
       "      <td>14.69</td>\n",
       "      <td>-14.69</td>\n",
       "      <td>3006.62</td>\n",
       "      <td>1960.22</td>\n",
       "      <td>2483.42</td>\n",
       "      <td>1046.40</td>\n",
       "      <td>-34.80</td>\n",
       "      <td>53.38</td>\n",
       "      <td>21.07</td>\n",
       "      <td>-21.07</td>\n",
       "    </tr>\n",
       "    <tr>\n",
       "      <th>2022-05-18</th>\n",
       "      <td>2519.71</td>\n",
       "      <td>1960.22</td>\n",
       "      <td>2239.96</td>\n",
       "      <td>559.49</td>\n",
       "      <td>-22.20</td>\n",
       "      <td>28.54</td>\n",
       "      <td>12.49</td>\n",
       "      <td>-12.49</td>\n",
       "      <td>3006.62</td>\n",
       "      <td>1960.22</td>\n",
       "      <td>2483.42</td>\n",
       "      <td>1046.40</td>\n",
       "      <td>-34.80</td>\n",
       "      <td>53.38</td>\n",
       "      <td>21.07</td>\n",
       "      <td>-21.07</td>\n",
       "    </tr>\n",
       "    <tr>\n",
       "      <th>2022-05-19</th>\n",
       "      <td>2342.05</td>\n",
       "      <td>1915.11</td>\n",
       "      <td>2128.58</td>\n",
       "      <td>426.94</td>\n",
       "      <td>-18.23</td>\n",
       "      <td>22.29</td>\n",
       "      <td>10.03</td>\n",
       "      <td>-10.03</td>\n",
       "      <td>3006.62</td>\n",
       "      <td>1915.11</td>\n",
       "      <td>2460.86</td>\n",
       "      <td>1091.51</td>\n",
       "      <td>-36.30</td>\n",
       "      <td>56.99</td>\n",
       "      <td>22.18</td>\n",
       "      <td>-22.18</td>\n",
       "    </tr>\n",
       "    <tr>\n",
       "      <th>2022-05-20</th>\n",
       "      <td>2342.05</td>\n",
       "      <td>1915.11</td>\n",
       "      <td>2128.58</td>\n",
       "      <td>426.94</td>\n",
       "      <td>-18.23</td>\n",
       "      <td>22.29</td>\n",
       "      <td>10.03</td>\n",
       "      <td>-10.03</td>\n",
       "      <td>3006.62</td>\n",
       "      <td>1915.11</td>\n",
       "      <td>2460.86</td>\n",
       "      <td>1091.51</td>\n",
       "      <td>-36.30</td>\n",
       "      <td>56.99</td>\n",
       "      <td>22.18</td>\n",
       "      <td>-22.18</td>\n",
       "    </tr>\n",
       "    <tr>\n",
       "      <th>2022-05-21</th>\n",
       "      <td>2145.29</td>\n",
       "      <td>1915.11</td>\n",
       "      <td>2030.20</td>\n",
       "      <td>230.18</td>\n",
       "      <td>-10.73</td>\n",
       "      <td>12.02</td>\n",
       "      <td>5.67</td>\n",
       "      <td>-5.67</td>\n",
       "      <td>2940.64</td>\n",
       "      <td>1915.11</td>\n",
       "      <td>2427.88</td>\n",
       "      <td>1025.53</td>\n",
       "      <td>-34.87</td>\n",
       "      <td>53.55</td>\n",
       "      <td>21.12</td>\n",
       "      <td>-21.12</td>\n",
       "    </tr>\n",
       "    <tr>\n",
       "      <th>2022-05-22</th>\n",
       "      <td>2145.29</td>\n",
       "      <td>1915.11</td>\n",
       "      <td>2030.20</td>\n",
       "      <td>230.18</td>\n",
       "      <td>-10.73</td>\n",
       "      <td>12.02</td>\n",
       "      <td>5.67</td>\n",
       "      <td>-5.67</td>\n",
       "      <td>2940.64</td>\n",
       "      <td>1915.11</td>\n",
       "      <td>2427.88</td>\n",
       "      <td>1025.53</td>\n",
       "      <td>-34.87</td>\n",
       "      <td>53.55</td>\n",
       "      <td>21.12</td>\n",
       "      <td>-21.12</td>\n",
       "    </tr>\n",
       "    <tr>\n",
       "      <th>2022-05-23</th>\n",
       "      <td>2145.29</td>\n",
       "      <td>1915.11</td>\n",
       "      <td>2030.20</td>\n",
       "      <td>230.18</td>\n",
       "      <td>-10.73</td>\n",
       "      <td>12.02</td>\n",
       "      <td>5.67</td>\n",
       "      <td>-5.67</td>\n",
       "      <td>2940.64</td>\n",
       "      <td>1915.11</td>\n",
       "      <td>2427.88</td>\n",
       "      <td>1025.53</td>\n",
       "      <td>-34.87</td>\n",
       "      <td>53.55</td>\n",
       "      <td>21.12</td>\n",
       "      <td>-21.12</td>\n",
       "    </tr>\n",
       "    <tr>\n",
       "      <th>2022-05-24</th>\n",
       "      <td>2145.29</td>\n",
       "      <td>1915.11</td>\n",
       "      <td>2030.20</td>\n",
       "      <td>230.18</td>\n",
       "      <td>-10.73</td>\n",
       "      <td>12.02</td>\n",
       "      <td>5.67</td>\n",
       "      <td>-5.67</td>\n",
       "      <td>2940.64</td>\n",
       "      <td>1915.11</td>\n",
       "      <td>2427.88</td>\n",
       "      <td>1025.53</td>\n",
       "      <td>-34.87</td>\n",
       "      <td>53.55</td>\n",
       "      <td>21.12</td>\n",
       "      <td>-21.12</td>\n",
       "    </tr>\n",
       "    <tr>\n",
       "      <th>2022-05-25</th>\n",
       "      <td>2145.29</td>\n",
       "      <td>1915.11</td>\n",
       "      <td>2030.20</td>\n",
       "      <td>230.18</td>\n",
       "      <td>-10.73</td>\n",
       "      <td>12.02</td>\n",
       "      <td>5.67</td>\n",
       "      <td>-5.67</td>\n",
       "      <td>2940.64</td>\n",
       "      <td>1915.11</td>\n",
       "      <td>2427.88</td>\n",
       "      <td>1025.53</td>\n",
       "      <td>-34.87</td>\n",
       "      <td>53.55</td>\n",
       "      <td>21.12</td>\n",
       "      <td>-21.12</td>\n",
       "    </tr>\n",
       "    <tr>\n",
       "      <th>2022-05-26</th>\n",
       "      <td>2090.72</td>\n",
       "      <td>1915.11</td>\n",
       "      <td>2002.92</td>\n",
       "      <td>175.61</td>\n",
       "      <td>-8.40</td>\n",
       "      <td>9.17</td>\n",
       "      <td>4.38</td>\n",
       "      <td>-4.38</td>\n",
       "      <td>2940.64</td>\n",
       "      <td>1915.11</td>\n",
       "      <td>2427.88</td>\n",
       "      <td>1025.53</td>\n",
       "      <td>-34.87</td>\n",
       "      <td>53.55</td>\n",
       "      <td>21.12</td>\n",
       "      <td>-21.12</td>\n",
       "    </tr>\n",
       "  </tbody>\n",
       "</table>\n",
       "</div>"
      ],
      "text/plain": [
       "             _XHH10   _XLL10  _XMid10  Range10  _PctX_HL10  _PctX_LH10  \\\n",
       "Date/Time                                                                \n",
       "2022-05-17  2635.34  1960.22  2297.78   675.12      -25.62       34.44   \n",
       "2022-05-18  2519.71  1960.22  2239.96   559.49      -22.20       28.54   \n",
       "2022-05-19  2342.05  1915.11  2128.58   426.94      -18.23       22.29   \n",
       "2022-05-20  2342.05  1915.11  2128.58   426.94      -18.23       22.29   \n",
       "2022-05-21  2145.29  1915.11  2030.20   230.18      -10.73       12.02   \n",
       "2022-05-22  2145.29  1915.11  2030.20   230.18      -10.73       12.02   \n",
       "2022-05-23  2145.29  1915.11  2030.20   230.18      -10.73       12.02   \n",
       "2022-05-24  2145.29  1915.11  2030.20   230.18      -10.73       12.02   \n",
       "2022-05-25  2145.29  1915.11  2030.20   230.18      -10.73       12.02   \n",
       "2022-05-26  2090.72  1915.11  2002.92   175.61       -8.40        9.17   \n",
       "\n",
       "            _PctMidToH10  _PctMidToL10   _XHH25   _XLL25  _XMid25  Range25  \\\n",
       "Date/Time                                                                    \n",
       "2022-05-17         14.69        -14.69  3006.62  1960.22  2483.42  1046.40   \n",
       "2022-05-18         12.49        -12.49  3006.62  1960.22  2483.42  1046.40   \n",
       "2022-05-19         10.03        -10.03  3006.62  1915.11  2460.86  1091.51   \n",
       "2022-05-20         10.03        -10.03  3006.62  1915.11  2460.86  1091.51   \n",
       "2022-05-21          5.67         -5.67  2940.64  1915.11  2427.88  1025.53   \n",
       "2022-05-22          5.67         -5.67  2940.64  1915.11  2427.88  1025.53   \n",
       "2022-05-23          5.67         -5.67  2940.64  1915.11  2427.88  1025.53   \n",
       "2022-05-24          5.67         -5.67  2940.64  1915.11  2427.88  1025.53   \n",
       "2022-05-25          5.67         -5.67  2940.64  1915.11  2427.88  1025.53   \n",
       "2022-05-26          4.38         -4.38  2940.64  1915.11  2427.88  1025.53   \n",
       "\n",
       "            _PctX_HL25  _PctX_LH25  _PctMidToH25  _PctMidToL25  \n",
       "Date/Time                                                       \n",
       "2022-05-17      -34.80       53.38         21.07        -21.07  \n",
       "2022-05-18      -34.80       53.38         21.07        -21.07  \n",
       "2022-05-19      -36.30       56.99         22.18        -22.18  \n",
       "2022-05-20      -36.30       56.99         22.18        -22.18  \n",
       "2022-05-21      -34.87       53.55         21.12        -21.12  \n",
       "2022-05-22      -34.87       53.55         21.12        -21.12  \n",
       "2022-05-23      -34.87       53.55         21.12        -21.12  \n",
       "2022-05-24      -34.87       53.55         21.12        -21.12  \n",
       "2022-05-25      -34.87       53.55         21.12        -21.12  \n",
       "2022-05-26      -34.87       53.55         21.12        -21.12  "
      ]
     },
     "execution_count": 198,
     "metadata": {},
     "output_type": "execute_result"
    }
   ],
   "source": [
    "range_df=pd.read_csv(file_path,index_col='Date/Time',parse_dates=['Date/Time'],dayfirst=True)\n",
    "range_df.info()\n",
    "range_df.drop(columns='Ticker',inplace=True)\n",
    "\n",
    "list_cols=list(range_df.columns)\n",
    "\n",
    "\n",
    "#Cut only interval looking\n",
    "fromDate='2022-01-25';\n",
    "toDate='2022-12';\n",
    "\n",
    "if fromDate!='' and toDate!='':\n",
    " df=range_df[fromDate:toDate]\n",
    "else:\n",
    " df=range_df\n",
    "\n",
    "\n",
    "df.head(10)\n",
    "#df.tail()"
   ]
  },
  {
   "cell_type": "markdown",
   "metadata": {},
   "source": [
    "# Plot scatter to view relation between difference range"
   ]
  },
  {
   "cell_type": "code",
   "execution_count": 211,
   "metadata": {},
   "outputs": [],
   "source": [
    "\n",
    "#https://plotly.com/python/figure-factory-table/\n",
    "def plot_dynamic_scatter(listColsToPlot,dfTable,title,y_title):\n",
    "    #fig=go.Figure()\n",
    "    fig =  ff.create_table(dfTable,height_constant=60) \n",
    "    \n",
    "    for col_name in listColsToPlot:\n",
    "     fig.add_trace (\n",
    "        go.Scatter(x=df.index, y=df[col_name],\n",
    "                   name=col_name,opacity=0.8,\n",
    "                   xaxis='x2', yaxis='y2')\n",
    "     )\n",
    "    fig.update_layout(\n",
    "    title_text = title,\n",
    "    height = 800,\n",
    "    margin = {'t':75, 'l':50},\n",
    "    yaxis = {'domain': [0, .45]},\n",
    "    xaxis2 = {'anchor': 'y2'},\n",
    "    yaxis2 = {'domain': [.6, 1], 'anchor': 'x2', 'title':y_title}\n",
    "    )\n",
    "      \n",
    "    return fig\n",
    "def  manage_chart(dfx,colsToPlot,title,y_title):\n",
    "    print(colsToPlot)\n",
    "    dfTable=(dfx[colsToPlot]).reset_index()\n",
    "    dfTable['Date/Time']=dfTable['Date/Time'].dt.strftime('%d-%b-%Y')\n",
    "    dfTable=dfTable.rename(columns={'Date/Time':'Date'})\n",
    "    #print(dfTable.info())\n",
    "    fig_hml=None\n",
    "    if len(colsToPlot)>0:\n",
    "      fig_hml=plot_dynamic_scatter(colsToPlot,dfTable,title,y_title)\n",
    "    return fig_hml"
   ]
  },
  {
   "cell_type": "code",
   "execution_count": 214,
   "metadata": {},
   "outputs": [
    {
     "name": "stdout",
     "output_type": "stream",
     "text": [
      "['_XHH10', '_XLL10', '_XMid10', 'Range10', '_PctX_HL10', '_PctX_LH10', '_PctMidToH10', '_PctMidToL10', '_XHH25', '_XLL25', '_XMid25', 'Range25', '_PctX_HL25', '_PctX_LH25', '_PctMidToH25', '_PctMidToL25']\n"
     ]
    }
   ],
   "source": [
    "print(list_cols)"
   ]
  },
  {
   "cell_type": "code",
   "execution_count": 218,
   "metadata": {},
   "outputs": [
    {
     "name": "stdout",
     "output_type": "stream",
     "text": [
      "['_PctMidToL10', '_PctMidToL25']\n"
     ]
    },
    {
     "data": {
      "application/vnd.plotly.v1+json": {
       "config": {
        "plotlyServerURL": "https://plot.ly"
       },
       "data": [
        {
         "colorscale": [
          [
           0,
           "#00083e"
          ],
          [
           0.5,
           "#ededee"
          ],
          [
           1,
           "#ffffff"
          ]
         ],
         "hoverinfo": "none",
         "opacity": 0.75,
         "showscale": false,
         "type": "heatmap",
         "z": [
          [
           0,
           0,
           0
          ],
          [
           0.5,
           0.5,
           0.5
          ],
          [
           1,
           1,
           1
          ],
          [
           0.5,
           0.5,
           0.5
          ],
          [
           1,
           1,
           1
          ],
          [
           0.5,
           0.5,
           0.5
          ],
          [
           1,
           1,
           1
          ],
          [
           0.5,
           0.5,
           0.5
          ],
          [
           1,
           1,
           1
          ],
          [
           0.5,
           0.5,
           0.5
          ],
          [
           1,
           1,
           1
          ],
          [
           0.5,
           0.5,
           0.5
          ],
          [
           1,
           1,
           1
          ],
          [
           0.5,
           0.5,
           0.5
          ],
          [
           1,
           1,
           1
          ],
          [
           0.5,
           0.5,
           0.5
          ],
          [
           1,
           1,
           1
          ],
          [
           0.5,
           0.5,
           0.5
          ],
          [
           1,
           1,
           1
          ],
          [
           0.5,
           0.5,
           0.5
          ],
          [
           1,
           1,
           1
          ]
         ]
        },
        {
         "name": "_PctMidToL10",
         "opacity": 0.8,
         "type": "scatter",
         "x": [
          "2022-05-17T00:00:00",
          "2022-05-18T00:00:00",
          "2022-05-19T00:00:00",
          "2022-05-20T00:00:00",
          "2022-05-21T00:00:00",
          "2022-05-22T00:00:00",
          "2022-05-23T00:00:00",
          "2022-05-24T00:00:00",
          "2022-05-25T00:00:00",
          "2022-05-26T00:00:00",
          "2022-05-27T00:00:00",
          "2022-05-28T00:00:00",
          "2022-05-29T00:00:00",
          "2022-05-30T00:00:00",
          "2022-05-31T00:00:00",
          "2022-06-01T00:00:00",
          "2022-06-02T00:00:00",
          "2022-06-03T00:00:00",
          "2022-06-04T00:00:00",
          "2022-06-05T00:00:00"
         ],
         "xaxis": "x2",
         "y": [
          -14.69,
          -12.49,
          -10.03,
          -10.03,
          -5.67,
          -5.67,
          -5.67,
          -5.67,
          -5.67,
          -4.38,
          -7.69,
          -8.38,
          -8.38,
          -8.38,
          -8.38,
          -8.38,
          -7.29,
          -7.29,
          -7.29,
          -7.29
         ],
         "yaxis": "y2"
        },
        {
         "name": "_PctMidToL25",
         "opacity": 0.8,
         "type": "scatter",
         "x": [
          "2022-05-17T00:00:00",
          "2022-05-18T00:00:00",
          "2022-05-19T00:00:00",
          "2022-05-20T00:00:00",
          "2022-05-21T00:00:00",
          "2022-05-22T00:00:00",
          "2022-05-23T00:00:00",
          "2022-05-24T00:00:00",
          "2022-05-25T00:00:00",
          "2022-05-26T00:00:00",
          "2022-05-27T00:00:00",
          "2022-05-28T00:00:00",
          "2022-05-29T00:00:00",
          "2022-05-30T00:00:00",
          "2022-05-31T00:00:00",
          "2022-06-01T00:00:00",
          "2022-06-02T00:00:00",
          "2022-06-03T00:00:00",
          "2022-06-04T00:00:00",
          "2022-06-05T00:00:00"
         ],
         "xaxis": "x2",
         "y": [
          -21.07,
          -21.07,
          -22.18,
          -22.18,
          -21.12,
          -21.12,
          -21.12,
          -21.12,
          -21.12,
          -21.12,
          -24.26,
          -25.99,
          -25.99,
          -22.81,
          -21.85,
          -20.81,
          -18.66,
          -15.11,
          -15.11,
          -10.79
         ],
         "yaxis": "y2"
        }
       ],
       "layout": {
        "annotations": [
         {
          "align": "left",
          "font": {
           "color": "#ffffff"
          },
          "showarrow": false,
          "text": "<b>Date</b>",
          "x": -0.45,
          "xanchor": "left",
          "xref": "x",
          "y": 0,
          "yref": "y"
         },
         {
          "align": "left",
          "font": {
           "color": "#ffffff"
          },
          "showarrow": false,
          "text": "<b>_PctMidToL10</b>",
          "x": 0.55,
          "xanchor": "left",
          "xref": "x",
          "y": 0,
          "yref": "y"
         },
         {
          "align": "left",
          "font": {
           "color": "#ffffff"
          },
          "showarrow": false,
          "text": "<b>_PctMidToL25</b>",
          "x": 1.55,
          "xanchor": "left",
          "xref": "x",
          "y": 0,
          "yref": "y"
         },
         {
          "align": "left",
          "font": {
           "color": "#000000"
          },
          "showarrow": false,
          "text": "17-May-2022",
          "x": -0.45,
          "xanchor": "left",
          "xref": "x",
          "y": 1,
          "yref": "y"
         },
         {
          "align": "left",
          "font": {
           "color": "#000000"
          },
          "showarrow": false,
          "text": "-14.69",
          "x": 0.55,
          "xanchor": "left",
          "xref": "x",
          "y": 1,
          "yref": "y"
         },
         {
          "align": "left",
          "font": {
           "color": "#000000"
          },
          "showarrow": false,
          "text": "-21.07",
          "x": 1.55,
          "xanchor": "left",
          "xref": "x",
          "y": 1,
          "yref": "y"
         },
         {
          "align": "left",
          "font": {
           "color": "#000000"
          },
          "showarrow": false,
          "text": "18-May-2022",
          "x": -0.45,
          "xanchor": "left",
          "xref": "x",
          "y": 2,
          "yref": "y"
         },
         {
          "align": "left",
          "font": {
           "color": "#000000"
          },
          "showarrow": false,
          "text": "-12.49",
          "x": 0.55,
          "xanchor": "left",
          "xref": "x",
          "y": 2,
          "yref": "y"
         },
         {
          "align": "left",
          "font": {
           "color": "#000000"
          },
          "showarrow": false,
          "text": "-21.07",
          "x": 1.55,
          "xanchor": "left",
          "xref": "x",
          "y": 2,
          "yref": "y"
         },
         {
          "align": "left",
          "font": {
           "color": "#000000"
          },
          "showarrow": false,
          "text": "19-May-2022",
          "x": -0.45,
          "xanchor": "left",
          "xref": "x",
          "y": 3,
          "yref": "y"
         },
         {
          "align": "left",
          "font": {
           "color": "#000000"
          },
          "showarrow": false,
          "text": "-10.03",
          "x": 0.55,
          "xanchor": "left",
          "xref": "x",
          "y": 3,
          "yref": "y"
         },
         {
          "align": "left",
          "font": {
           "color": "#000000"
          },
          "showarrow": false,
          "text": "-22.18",
          "x": 1.55,
          "xanchor": "left",
          "xref": "x",
          "y": 3,
          "yref": "y"
         },
         {
          "align": "left",
          "font": {
           "color": "#000000"
          },
          "showarrow": false,
          "text": "20-May-2022",
          "x": -0.45,
          "xanchor": "left",
          "xref": "x",
          "y": 4,
          "yref": "y"
         },
         {
          "align": "left",
          "font": {
           "color": "#000000"
          },
          "showarrow": false,
          "text": "-10.03",
          "x": 0.55,
          "xanchor": "left",
          "xref": "x",
          "y": 4,
          "yref": "y"
         },
         {
          "align": "left",
          "font": {
           "color": "#000000"
          },
          "showarrow": false,
          "text": "-22.18",
          "x": 1.55,
          "xanchor": "left",
          "xref": "x",
          "y": 4,
          "yref": "y"
         },
         {
          "align": "left",
          "font": {
           "color": "#000000"
          },
          "showarrow": false,
          "text": "21-May-2022",
          "x": -0.45,
          "xanchor": "left",
          "xref": "x",
          "y": 5,
          "yref": "y"
         },
         {
          "align": "left",
          "font": {
           "color": "#000000"
          },
          "showarrow": false,
          "text": "-5.67",
          "x": 0.55,
          "xanchor": "left",
          "xref": "x",
          "y": 5,
          "yref": "y"
         },
         {
          "align": "left",
          "font": {
           "color": "#000000"
          },
          "showarrow": false,
          "text": "-21.12",
          "x": 1.55,
          "xanchor": "left",
          "xref": "x",
          "y": 5,
          "yref": "y"
         },
         {
          "align": "left",
          "font": {
           "color": "#000000"
          },
          "showarrow": false,
          "text": "22-May-2022",
          "x": -0.45,
          "xanchor": "left",
          "xref": "x",
          "y": 6,
          "yref": "y"
         },
         {
          "align": "left",
          "font": {
           "color": "#000000"
          },
          "showarrow": false,
          "text": "-5.67",
          "x": 0.55,
          "xanchor": "left",
          "xref": "x",
          "y": 6,
          "yref": "y"
         },
         {
          "align": "left",
          "font": {
           "color": "#000000"
          },
          "showarrow": false,
          "text": "-21.12",
          "x": 1.55,
          "xanchor": "left",
          "xref": "x",
          "y": 6,
          "yref": "y"
         },
         {
          "align": "left",
          "font": {
           "color": "#000000"
          },
          "showarrow": false,
          "text": "23-May-2022",
          "x": -0.45,
          "xanchor": "left",
          "xref": "x",
          "y": 7,
          "yref": "y"
         },
         {
          "align": "left",
          "font": {
           "color": "#000000"
          },
          "showarrow": false,
          "text": "-5.67",
          "x": 0.55,
          "xanchor": "left",
          "xref": "x",
          "y": 7,
          "yref": "y"
         },
         {
          "align": "left",
          "font": {
           "color": "#000000"
          },
          "showarrow": false,
          "text": "-21.12",
          "x": 1.55,
          "xanchor": "left",
          "xref": "x",
          "y": 7,
          "yref": "y"
         },
         {
          "align": "left",
          "font": {
           "color": "#000000"
          },
          "showarrow": false,
          "text": "24-May-2022",
          "x": -0.45,
          "xanchor": "left",
          "xref": "x",
          "y": 8,
          "yref": "y"
         },
         {
          "align": "left",
          "font": {
           "color": "#000000"
          },
          "showarrow": false,
          "text": "-5.67",
          "x": 0.55,
          "xanchor": "left",
          "xref": "x",
          "y": 8,
          "yref": "y"
         },
         {
          "align": "left",
          "font": {
           "color": "#000000"
          },
          "showarrow": false,
          "text": "-21.12",
          "x": 1.55,
          "xanchor": "left",
          "xref": "x",
          "y": 8,
          "yref": "y"
         },
         {
          "align": "left",
          "font": {
           "color": "#000000"
          },
          "showarrow": false,
          "text": "25-May-2022",
          "x": -0.45,
          "xanchor": "left",
          "xref": "x",
          "y": 9,
          "yref": "y"
         },
         {
          "align": "left",
          "font": {
           "color": "#000000"
          },
          "showarrow": false,
          "text": "-5.67",
          "x": 0.55,
          "xanchor": "left",
          "xref": "x",
          "y": 9,
          "yref": "y"
         },
         {
          "align": "left",
          "font": {
           "color": "#000000"
          },
          "showarrow": false,
          "text": "-21.12",
          "x": 1.55,
          "xanchor": "left",
          "xref": "x",
          "y": 9,
          "yref": "y"
         },
         {
          "align": "left",
          "font": {
           "color": "#000000"
          },
          "showarrow": false,
          "text": "26-May-2022",
          "x": -0.45,
          "xanchor": "left",
          "xref": "x",
          "y": 10,
          "yref": "y"
         },
         {
          "align": "left",
          "font": {
           "color": "#000000"
          },
          "showarrow": false,
          "text": "-4.38",
          "x": 0.55,
          "xanchor": "left",
          "xref": "x",
          "y": 10,
          "yref": "y"
         },
         {
          "align": "left",
          "font": {
           "color": "#000000"
          },
          "showarrow": false,
          "text": "-21.12",
          "x": 1.55,
          "xanchor": "left",
          "xref": "x",
          "y": 10,
          "yref": "y"
         },
         {
          "align": "left",
          "font": {
           "color": "#000000"
          },
          "showarrow": false,
          "text": "27-May-2022",
          "x": -0.45,
          "xanchor": "left",
          "xref": "x",
          "y": 11,
          "yref": "y"
         },
         {
          "align": "left",
          "font": {
           "color": "#000000"
          },
          "showarrow": false,
          "text": "-7.69",
          "x": 0.55,
          "xanchor": "left",
          "xref": "x",
          "y": 11,
          "yref": "y"
         },
         {
          "align": "left",
          "font": {
           "color": "#000000"
          },
          "showarrow": false,
          "text": "-24.26",
          "x": 1.55,
          "xanchor": "left",
          "xref": "x",
          "y": 11,
          "yref": "y"
         },
         {
          "align": "left",
          "font": {
           "color": "#000000"
          },
          "showarrow": false,
          "text": "28-May-2022",
          "x": -0.45,
          "xanchor": "left",
          "xref": "x",
          "y": 12,
          "yref": "y"
         },
         {
          "align": "left",
          "font": {
           "color": "#000000"
          },
          "showarrow": false,
          "text": "-8.38",
          "x": 0.55,
          "xanchor": "left",
          "xref": "x",
          "y": 12,
          "yref": "y"
         },
         {
          "align": "left",
          "font": {
           "color": "#000000"
          },
          "showarrow": false,
          "text": "-25.99",
          "x": 1.55,
          "xanchor": "left",
          "xref": "x",
          "y": 12,
          "yref": "y"
         },
         {
          "align": "left",
          "font": {
           "color": "#000000"
          },
          "showarrow": false,
          "text": "29-May-2022",
          "x": -0.45,
          "xanchor": "left",
          "xref": "x",
          "y": 13,
          "yref": "y"
         },
         {
          "align": "left",
          "font": {
           "color": "#000000"
          },
          "showarrow": false,
          "text": "-8.38",
          "x": 0.55,
          "xanchor": "left",
          "xref": "x",
          "y": 13,
          "yref": "y"
         },
         {
          "align": "left",
          "font": {
           "color": "#000000"
          },
          "showarrow": false,
          "text": "-25.99",
          "x": 1.55,
          "xanchor": "left",
          "xref": "x",
          "y": 13,
          "yref": "y"
         },
         {
          "align": "left",
          "font": {
           "color": "#000000"
          },
          "showarrow": false,
          "text": "30-May-2022",
          "x": -0.45,
          "xanchor": "left",
          "xref": "x",
          "y": 14,
          "yref": "y"
         },
         {
          "align": "left",
          "font": {
           "color": "#000000"
          },
          "showarrow": false,
          "text": "-8.38",
          "x": 0.55,
          "xanchor": "left",
          "xref": "x",
          "y": 14,
          "yref": "y"
         },
         {
          "align": "left",
          "font": {
           "color": "#000000"
          },
          "showarrow": false,
          "text": "-22.81",
          "x": 1.55,
          "xanchor": "left",
          "xref": "x",
          "y": 14,
          "yref": "y"
         },
         {
          "align": "left",
          "font": {
           "color": "#000000"
          },
          "showarrow": false,
          "text": "31-May-2022",
          "x": -0.45,
          "xanchor": "left",
          "xref": "x",
          "y": 15,
          "yref": "y"
         },
         {
          "align": "left",
          "font": {
           "color": "#000000"
          },
          "showarrow": false,
          "text": "-8.38",
          "x": 0.55,
          "xanchor": "left",
          "xref": "x",
          "y": 15,
          "yref": "y"
         },
         {
          "align": "left",
          "font": {
           "color": "#000000"
          },
          "showarrow": false,
          "text": "-21.85",
          "x": 1.55,
          "xanchor": "left",
          "xref": "x",
          "y": 15,
          "yref": "y"
         },
         {
          "align": "left",
          "font": {
           "color": "#000000"
          },
          "showarrow": false,
          "text": "01-Jun-2022",
          "x": -0.45,
          "xanchor": "left",
          "xref": "x",
          "y": 16,
          "yref": "y"
         },
         {
          "align": "left",
          "font": {
           "color": "#000000"
          },
          "showarrow": false,
          "text": "-8.38",
          "x": 0.55,
          "xanchor": "left",
          "xref": "x",
          "y": 16,
          "yref": "y"
         },
         {
          "align": "left",
          "font": {
           "color": "#000000"
          },
          "showarrow": false,
          "text": "-20.81",
          "x": 1.55,
          "xanchor": "left",
          "xref": "x",
          "y": 16,
          "yref": "y"
         },
         {
          "align": "left",
          "font": {
           "color": "#000000"
          },
          "showarrow": false,
          "text": "02-Jun-2022",
          "x": -0.45,
          "xanchor": "left",
          "xref": "x",
          "y": 17,
          "yref": "y"
         },
         {
          "align": "left",
          "font": {
           "color": "#000000"
          },
          "showarrow": false,
          "text": "-7.29",
          "x": 0.55,
          "xanchor": "left",
          "xref": "x",
          "y": 17,
          "yref": "y"
         },
         {
          "align": "left",
          "font": {
           "color": "#000000"
          },
          "showarrow": false,
          "text": "-18.66",
          "x": 1.55,
          "xanchor": "left",
          "xref": "x",
          "y": 17,
          "yref": "y"
         },
         {
          "align": "left",
          "font": {
           "color": "#000000"
          },
          "showarrow": false,
          "text": "03-Jun-2022",
          "x": -0.45,
          "xanchor": "left",
          "xref": "x",
          "y": 18,
          "yref": "y"
         },
         {
          "align": "left",
          "font": {
           "color": "#000000"
          },
          "showarrow": false,
          "text": "-7.29",
          "x": 0.55,
          "xanchor": "left",
          "xref": "x",
          "y": 18,
          "yref": "y"
         },
         {
          "align": "left",
          "font": {
           "color": "#000000"
          },
          "showarrow": false,
          "text": "-15.11",
          "x": 1.55,
          "xanchor": "left",
          "xref": "x",
          "y": 18,
          "yref": "y"
         },
         {
          "align": "left",
          "font": {
           "color": "#000000"
          },
          "showarrow": false,
          "text": "04-Jun-2022",
          "x": -0.45,
          "xanchor": "left",
          "xref": "x",
          "y": 19,
          "yref": "y"
         },
         {
          "align": "left",
          "font": {
           "color": "#000000"
          },
          "showarrow": false,
          "text": "-7.29",
          "x": 0.55,
          "xanchor": "left",
          "xref": "x",
          "y": 19,
          "yref": "y"
         },
         {
          "align": "left",
          "font": {
           "color": "#000000"
          },
          "showarrow": false,
          "text": "-15.11",
          "x": 1.55,
          "xanchor": "left",
          "xref": "x",
          "y": 19,
          "yref": "y"
         },
         {
          "align": "left",
          "font": {
           "color": "#000000"
          },
          "showarrow": false,
          "text": "05-Jun-2022",
          "x": -0.45,
          "xanchor": "left",
          "xref": "x",
          "y": 20,
          "yref": "y"
         },
         {
          "align": "left",
          "font": {
           "color": "#000000"
          },
          "showarrow": false,
          "text": "-7.29",
          "x": 0.55,
          "xanchor": "left",
          "xref": "x",
          "y": 20,
          "yref": "y"
         },
         {
          "align": "left",
          "font": {
           "color": "#000000"
          },
          "showarrow": false,
          "text": "-10.79",
          "x": 1.55,
          "xanchor": "left",
          "xref": "x",
          "y": 20,
          "yref": "y"
         }
        ],
        "autosize": true,
        "margin": {
         "b": 0,
         "l": 50,
         "r": 0,
         "t": 75
        },
        "template": {
         "data": {
          "bar": [
           {
            "error_x": {
             "color": "#2a3f5f"
            },
            "error_y": {
             "color": "#2a3f5f"
            },
            "marker": {
             "line": {
              "color": "#E5ECF6",
              "width": 0.5
             },
             "pattern": {
              "fillmode": "overlay",
              "size": 10,
              "solidity": 0.2
             }
            },
            "type": "bar"
           }
          ],
          "barpolar": [
           {
            "marker": {
             "line": {
              "color": "#E5ECF6",
              "width": 0.5
             },
             "pattern": {
              "fillmode": "overlay",
              "size": 10,
              "solidity": 0.2
             }
            },
            "type": "barpolar"
           }
          ],
          "carpet": [
           {
            "aaxis": {
             "endlinecolor": "#2a3f5f",
             "gridcolor": "white",
             "linecolor": "white",
             "minorgridcolor": "white",
             "startlinecolor": "#2a3f5f"
            },
            "baxis": {
             "endlinecolor": "#2a3f5f",
             "gridcolor": "white",
             "linecolor": "white",
             "minorgridcolor": "white",
             "startlinecolor": "#2a3f5f"
            },
            "type": "carpet"
           }
          ],
          "choropleth": [
           {
            "colorbar": {
             "outlinewidth": 0,
             "ticks": ""
            },
            "type": "choropleth"
           }
          ],
          "contour": [
           {
            "colorbar": {
             "outlinewidth": 0,
             "ticks": ""
            },
            "colorscale": [
             [
              0,
              "#0d0887"
             ],
             [
              0.1111111111111111,
              "#46039f"
             ],
             [
              0.2222222222222222,
              "#7201a8"
             ],
             [
              0.3333333333333333,
              "#9c179e"
             ],
             [
              0.4444444444444444,
              "#bd3786"
             ],
             [
              0.5555555555555556,
              "#d8576b"
             ],
             [
              0.6666666666666666,
              "#ed7953"
             ],
             [
              0.7777777777777778,
              "#fb9f3a"
             ],
             [
              0.8888888888888888,
              "#fdca26"
             ],
             [
              1,
              "#f0f921"
             ]
            ],
            "type": "contour"
           }
          ],
          "contourcarpet": [
           {
            "colorbar": {
             "outlinewidth": 0,
             "ticks": ""
            },
            "type": "contourcarpet"
           }
          ],
          "heatmap": [
           {
            "colorbar": {
             "outlinewidth": 0,
             "ticks": ""
            },
            "colorscale": [
             [
              0,
              "#0d0887"
             ],
             [
              0.1111111111111111,
              "#46039f"
             ],
             [
              0.2222222222222222,
              "#7201a8"
             ],
             [
              0.3333333333333333,
              "#9c179e"
             ],
             [
              0.4444444444444444,
              "#bd3786"
             ],
             [
              0.5555555555555556,
              "#d8576b"
             ],
             [
              0.6666666666666666,
              "#ed7953"
             ],
             [
              0.7777777777777778,
              "#fb9f3a"
             ],
             [
              0.8888888888888888,
              "#fdca26"
             ],
             [
              1,
              "#f0f921"
             ]
            ],
            "type": "heatmap"
           }
          ],
          "heatmapgl": [
           {
            "colorbar": {
             "outlinewidth": 0,
             "ticks": ""
            },
            "colorscale": [
             [
              0,
              "#0d0887"
             ],
             [
              0.1111111111111111,
              "#46039f"
             ],
             [
              0.2222222222222222,
              "#7201a8"
             ],
             [
              0.3333333333333333,
              "#9c179e"
             ],
             [
              0.4444444444444444,
              "#bd3786"
             ],
             [
              0.5555555555555556,
              "#d8576b"
             ],
             [
              0.6666666666666666,
              "#ed7953"
             ],
             [
              0.7777777777777778,
              "#fb9f3a"
             ],
             [
              0.8888888888888888,
              "#fdca26"
             ],
             [
              1,
              "#f0f921"
             ]
            ],
            "type": "heatmapgl"
           }
          ],
          "histogram": [
           {
            "marker": {
             "pattern": {
              "fillmode": "overlay",
              "size": 10,
              "solidity": 0.2
             }
            },
            "type": "histogram"
           }
          ],
          "histogram2d": [
           {
            "colorbar": {
             "outlinewidth": 0,
             "ticks": ""
            },
            "colorscale": [
             [
              0,
              "#0d0887"
             ],
             [
              0.1111111111111111,
              "#46039f"
             ],
             [
              0.2222222222222222,
              "#7201a8"
             ],
             [
              0.3333333333333333,
              "#9c179e"
             ],
             [
              0.4444444444444444,
              "#bd3786"
             ],
             [
              0.5555555555555556,
              "#d8576b"
             ],
             [
              0.6666666666666666,
              "#ed7953"
             ],
             [
              0.7777777777777778,
              "#fb9f3a"
             ],
             [
              0.8888888888888888,
              "#fdca26"
             ],
             [
              1,
              "#f0f921"
             ]
            ],
            "type": "histogram2d"
           }
          ],
          "histogram2dcontour": [
           {
            "colorbar": {
             "outlinewidth": 0,
             "ticks": ""
            },
            "colorscale": [
             [
              0,
              "#0d0887"
             ],
             [
              0.1111111111111111,
              "#46039f"
             ],
             [
              0.2222222222222222,
              "#7201a8"
             ],
             [
              0.3333333333333333,
              "#9c179e"
             ],
             [
              0.4444444444444444,
              "#bd3786"
             ],
             [
              0.5555555555555556,
              "#d8576b"
             ],
             [
              0.6666666666666666,
              "#ed7953"
             ],
             [
              0.7777777777777778,
              "#fb9f3a"
             ],
             [
              0.8888888888888888,
              "#fdca26"
             ],
             [
              1,
              "#f0f921"
             ]
            ],
            "type": "histogram2dcontour"
           }
          ],
          "mesh3d": [
           {
            "colorbar": {
             "outlinewidth": 0,
             "ticks": ""
            },
            "type": "mesh3d"
           }
          ],
          "parcoords": [
           {
            "line": {
             "colorbar": {
              "outlinewidth": 0,
              "ticks": ""
             }
            },
            "type": "parcoords"
           }
          ],
          "pie": [
           {
            "automargin": true,
            "type": "pie"
           }
          ],
          "scatter": [
           {
            "marker": {
             "colorbar": {
              "outlinewidth": 0,
              "ticks": ""
             }
            },
            "type": "scatter"
           }
          ],
          "scatter3d": [
           {
            "line": {
             "colorbar": {
              "outlinewidth": 0,
              "ticks": ""
             }
            },
            "marker": {
             "colorbar": {
              "outlinewidth": 0,
              "ticks": ""
             }
            },
            "type": "scatter3d"
           }
          ],
          "scattercarpet": [
           {
            "marker": {
             "colorbar": {
              "outlinewidth": 0,
              "ticks": ""
             }
            },
            "type": "scattercarpet"
           }
          ],
          "scattergeo": [
           {
            "marker": {
             "colorbar": {
              "outlinewidth": 0,
              "ticks": ""
             }
            },
            "type": "scattergeo"
           }
          ],
          "scattergl": [
           {
            "marker": {
             "colorbar": {
              "outlinewidth": 0,
              "ticks": ""
             }
            },
            "type": "scattergl"
           }
          ],
          "scattermapbox": [
           {
            "marker": {
             "colorbar": {
              "outlinewidth": 0,
              "ticks": ""
             }
            },
            "type": "scattermapbox"
           }
          ],
          "scatterpolar": [
           {
            "marker": {
             "colorbar": {
              "outlinewidth": 0,
              "ticks": ""
             }
            },
            "type": "scatterpolar"
           }
          ],
          "scatterpolargl": [
           {
            "marker": {
             "colorbar": {
              "outlinewidth": 0,
              "ticks": ""
             }
            },
            "type": "scatterpolargl"
           }
          ],
          "scatterternary": [
           {
            "marker": {
             "colorbar": {
              "outlinewidth": 0,
              "ticks": ""
             }
            },
            "type": "scatterternary"
           }
          ],
          "surface": [
           {
            "colorbar": {
             "outlinewidth": 0,
             "ticks": ""
            },
            "colorscale": [
             [
              0,
              "#0d0887"
             ],
             [
              0.1111111111111111,
              "#46039f"
             ],
             [
              0.2222222222222222,
              "#7201a8"
             ],
             [
              0.3333333333333333,
              "#9c179e"
             ],
             [
              0.4444444444444444,
              "#bd3786"
             ],
             [
              0.5555555555555556,
              "#d8576b"
             ],
             [
              0.6666666666666666,
              "#ed7953"
             ],
             [
              0.7777777777777778,
              "#fb9f3a"
             ],
             [
              0.8888888888888888,
              "#fdca26"
             ],
             [
              1,
              "#f0f921"
             ]
            ],
            "type": "surface"
           }
          ],
          "table": [
           {
            "cells": {
             "fill": {
              "color": "#EBF0F8"
             },
             "line": {
              "color": "white"
             }
            },
            "header": {
             "fill": {
              "color": "#C8D4E3"
             },
             "line": {
              "color": "white"
             }
            },
            "type": "table"
           }
          ]
         },
         "layout": {
          "annotationdefaults": {
           "arrowcolor": "#2a3f5f",
           "arrowhead": 0,
           "arrowwidth": 1
          },
          "autotypenumbers": "strict",
          "coloraxis": {
           "colorbar": {
            "outlinewidth": 0,
            "ticks": ""
           }
          },
          "colorscale": {
           "diverging": [
            [
             0,
             "#8e0152"
            ],
            [
             0.1,
             "#c51b7d"
            ],
            [
             0.2,
             "#de77ae"
            ],
            [
             0.3,
             "#f1b6da"
            ],
            [
             0.4,
             "#fde0ef"
            ],
            [
             0.5,
             "#f7f7f7"
            ],
            [
             0.6,
             "#e6f5d0"
            ],
            [
             0.7,
             "#b8e186"
            ],
            [
             0.8,
             "#7fbc41"
            ],
            [
             0.9,
             "#4d9221"
            ],
            [
             1,
             "#276419"
            ]
           ],
           "sequential": [
            [
             0,
             "#0d0887"
            ],
            [
             0.1111111111111111,
             "#46039f"
            ],
            [
             0.2222222222222222,
             "#7201a8"
            ],
            [
             0.3333333333333333,
             "#9c179e"
            ],
            [
             0.4444444444444444,
             "#bd3786"
            ],
            [
             0.5555555555555556,
             "#d8576b"
            ],
            [
             0.6666666666666666,
             "#ed7953"
            ],
            [
             0.7777777777777778,
             "#fb9f3a"
            ],
            [
             0.8888888888888888,
             "#fdca26"
            ],
            [
             1,
             "#f0f921"
            ]
           ],
           "sequentialminus": [
            [
             0,
             "#0d0887"
            ],
            [
             0.1111111111111111,
             "#46039f"
            ],
            [
             0.2222222222222222,
             "#7201a8"
            ],
            [
             0.3333333333333333,
             "#9c179e"
            ],
            [
             0.4444444444444444,
             "#bd3786"
            ],
            [
             0.5555555555555556,
             "#d8576b"
            ],
            [
             0.6666666666666666,
             "#ed7953"
            ],
            [
             0.7777777777777778,
             "#fb9f3a"
            ],
            [
             0.8888888888888888,
             "#fdca26"
            ],
            [
             1,
             "#f0f921"
            ]
           ]
          },
          "colorway": [
           "#636efa",
           "#EF553B",
           "#00cc96",
           "#ab63fa",
           "#FFA15A",
           "#19d3f3",
           "#FF6692",
           "#B6E880",
           "#FF97FF",
           "#FECB52"
          ],
          "font": {
           "color": "#2a3f5f"
          },
          "geo": {
           "bgcolor": "white",
           "lakecolor": "white",
           "landcolor": "#E5ECF6",
           "showlakes": true,
           "showland": true,
           "subunitcolor": "white"
          },
          "hoverlabel": {
           "align": "left"
          },
          "hovermode": "closest",
          "mapbox": {
           "style": "light"
          },
          "paper_bgcolor": "white",
          "plot_bgcolor": "#E5ECF6",
          "polar": {
           "angularaxis": {
            "gridcolor": "white",
            "linecolor": "white",
            "ticks": ""
           },
           "bgcolor": "#E5ECF6",
           "radialaxis": {
            "gridcolor": "white",
            "linecolor": "white",
            "ticks": ""
           }
          },
          "scene": {
           "xaxis": {
            "backgroundcolor": "#E5ECF6",
            "gridcolor": "white",
            "gridwidth": 2,
            "linecolor": "white",
            "showbackground": true,
            "ticks": "",
            "zerolinecolor": "white"
           },
           "yaxis": {
            "backgroundcolor": "#E5ECF6",
            "gridcolor": "white",
            "gridwidth": 2,
            "linecolor": "white",
            "showbackground": true,
            "ticks": "",
            "zerolinecolor": "white"
           },
           "zaxis": {
            "backgroundcolor": "#E5ECF6",
            "gridcolor": "white",
            "gridwidth": 2,
            "linecolor": "white",
            "showbackground": true,
            "ticks": "",
            "zerolinecolor": "white"
           }
          },
          "shapedefaults": {
           "line": {
            "color": "#2a3f5f"
           }
          },
          "ternary": {
           "aaxis": {
            "gridcolor": "white",
            "linecolor": "white",
            "ticks": ""
           },
           "baxis": {
            "gridcolor": "white",
            "linecolor": "white",
            "ticks": ""
           },
           "bgcolor": "#E5ECF6",
           "caxis": {
            "gridcolor": "white",
            "linecolor": "white",
            "ticks": ""
           }
          },
          "title": {
           "x": 0.05
          },
          "xaxis": {
           "automargin": true,
           "gridcolor": "white",
           "linecolor": "white",
           "ticks": "",
           "title": {
            "standoff": 15
           },
           "zerolinecolor": "white",
           "zerolinewidth": 2
          },
          "yaxis": {
           "automargin": true,
           "gridcolor": "white",
           "linecolor": "white",
           "ticks": "",
           "title": {
            "standoff": 15
           },
           "zerolinecolor": "white",
           "zerolinewidth": 2
          }
         }
        },
        "title": {
         "text": ""
        },
        "xaxis": {
         "autorange": true,
         "dtick": 1,
         "gridwidth": 2,
         "range": [
          -0.5,
          2.5
         ],
         "showticklabels": false,
         "tick0": -0.5,
         "ticks": "",
         "zeroline": false
        },
        "xaxis2": {
         "anchor": "y2",
         "autorange": true,
         "range": [
          "2022-05-17",
          "2022-06-05"
         ],
         "type": "date"
        },
        "yaxis": {
         "autorange": true,
         "domain": [
          0,
          0.45
         ],
         "dtick": 1,
         "gridwidth": 2,
         "range": [
          20.583941605839417,
          -0.5839416058394162
         ],
         "showticklabels": false,
         "tick0": 0.5,
         "ticks": "",
         "zeroline": false
        },
        "yaxis2": {
         "anchor": "x2",
         "autorange": true,
         "domain": [
          0.6,
          1
         ],
         "range": [
          -27.190555555555555,
          -3.179444444444444
         ],
         "title": {
          "text": ""
         },
         "type": "linear"
        }
       }
      },
      "image/png": "[encoded data removed]",
      "text/html": [
       "<div>                            <div id=\"b95ddfd7-bbee-4945-8e7d-538f59ac60a2\" class=\"plotly-graph-div\" style=\"height:800px; width:100%;\"></div>            <script type=\"text/javascript\">                require([\"plotly\"], function(Plotly) {                    window.PLOTLYENV=window.PLOTLYENV || {};                                    if (document.getElementById(\"b95ddfd7-bbee-4945-8e7d-538f59ac60a2\")) {                    Plotly.newPlot(                        \"b95ddfd7-bbee-4945-8e7d-538f59ac60a2\",                        [{\"colorscale\":[[0,\"#00083e\"],[0.5,\"#ededee\"],[1,\"#ffffff\"]],\"hoverinfo\":\"none\",\"opacity\":0.75,\"showscale\":false,\"z\":[[0,0,0],[0.5,0.5,0.5],[1,1,1],[0.5,0.5,0.5],[1,1,1],[0.5,0.5,0.5],[1,1,1],[0.5,0.5,0.5],[1,1,1],[0.5,0.5,0.5],[1,1,1],[0.5,0.5,0.5],[1,1,1],[0.5,0.5,0.5],[1,1,1],[0.5,0.5,0.5],[1,1,1],[0.5,0.5,0.5],[1,1,1],[0.5,0.5,0.5],[1,1,1]],\"type\":\"heatmap\"},{\"name\":\"_PctMidToL10\",\"opacity\":0.8,\"x\":[\"2022-05-17T00:00:00\",\"2022-05-18T00:00:00\",\"2022-05-19T00:00:00\",\"2022-05-20T00:00:00\",\"2022-05-21T00:00:00\",\"2022-05-22T00:00:00\",\"2022-05-23T00:00:00\",\"2022-05-24T00:00:00\",\"2022-05-25T00:00:00\",\"2022-05-26T00:00:00\",\"2022-05-27T00:00:00\",\"2022-05-28T00:00:00\",\"2022-05-29T00:00:00\",\"2022-05-30T00:00:00\",\"2022-05-31T00:00:00\",\"2022-06-01T00:00:00\",\"2022-06-02T00:00:00\",\"2022-06-03T00:00:00\",\"2022-06-04T00:00:00\",\"2022-06-05T00:00:00\"],\"xaxis\":\"x2\",\"y\":[-14.69,-12.49,-10.03,-10.03,-5.67,-5.67,-5.67,-5.67,-5.67,-4.38,-7.69,-8.38,-8.38,-8.38,-8.38,-8.38,-7.29,-7.29,-7.29,-7.29],\"yaxis\":\"y2\",\"type\":\"scatter\"},{\"name\":\"_PctMidToL25\",\"opacity\":0.8,\"x\":[\"2022-05-17T00:00:00\",\"2022-05-18T00:00:00\",\"2022-05-19T00:00:00\",\"2022-05-20T00:00:00\",\"2022-05-21T00:00:00\",\"2022-05-22T00:00:00\",\"2022-05-23T00:00:00\",\"2022-05-24T00:00:00\",\"2022-05-25T00:00:00\",\"2022-05-26T00:00:00\",\"2022-05-27T00:00:00\",\"2022-05-28T00:00:00\",\"2022-05-29T00:00:00\",\"2022-05-30T00:00:00\",\"2022-05-31T00:00:00\",\"2022-06-01T00:00:00\",\"2022-06-02T00:00:00\",\"2022-06-03T00:00:00\",\"2022-06-04T00:00:00\",\"2022-06-05T00:00:00\"],\"xaxis\":\"x2\",\"y\":[-21.07,-21.07,-22.18,-22.18,-21.12,-21.12,-21.12,-21.12,-21.12,-21.12,-24.26,-25.99,-25.99,-22.81,-21.85,-20.81,-18.66,-15.11,-15.11,-10.79],\"yaxis\":\"y2\",\"type\":\"scatter\"}],                        {\"annotations\":[{\"align\":\"left\",\"font\":{\"color\":\"#ffffff\"},\"showarrow\":false,\"text\":\"<b>Date</b>\",\"x\":-0.45,\"xanchor\":\"left\",\"xref\":\"x\",\"y\":0,\"yref\":\"y\"},{\"align\":\"left\",\"font\":{\"color\":\"#ffffff\"},\"showarrow\":false,\"text\":\"<b>_PctMidToL10</b>\",\"x\":0.55,\"xanchor\":\"left\",\"xref\":\"x\",\"y\":0,\"yref\":\"y\"},{\"align\":\"left\",\"font\":{\"color\":\"#ffffff\"},\"showarrow\":false,\"text\":\"<b>_PctMidToL25</b>\",\"x\":1.55,\"xanchor\":\"left\",\"xref\":\"x\",\"y\":0,\"yref\":\"y\"},{\"align\":\"left\",\"font\":{\"color\":\"#000000\"},\"showarrow\":false,\"text\":\"17-May-2022\",\"x\":-0.45,\"xanchor\":\"left\",\"xref\":\"x\",\"y\":1,\"yref\":\"y\"},{\"align\":\"left\",\"font\":{\"color\":\"#000000\"},\"showarrow\":false,\"text\":\"-14.69\",\"x\":0.55,\"xanchor\":\"left\",\"xref\":\"x\",\"y\":1,\"yref\":\"y\"},{\"align\":\"left\",\"font\":{\"color\":\"#000000\"},\"showarrow\":false,\"text\":\"-21.07\",\"x\":1.55,\"xanchor\":\"left\",\"xref\":\"x\",\"y\":1,\"yref\":\"y\"},{\"align\":\"left\",\"font\":{\"color\":\"#000000\"},\"showarrow\":false,\"text\":\"18-May-2022\",\"x\":-0.45,\"xanchor\":\"left\",\"xref\":\"x\",\"y\":2,\"yref\":\"y\"},{\"align\":\"left\",\"font\":{\"color\":\"#000000\"},\"showarrow\":false,\"text\":\"-12.49\",\"x\":0.55,\"xanchor\":\"left\",\"xref\":\"x\",\"y\":2,\"yref\":\"y\"},{\"align\":\"left\",\"font\":{\"color\":\"#000000\"},\"showarrow\":false,\"text\":\"-21.07\",\"x\":1.55,\"xanchor\":\"left\",\"xref\":\"x\",\"y\":2,\"yref\":\"y\"},{\"align\":\"left\",\"font\":{\"color\":\"#000000\"},\"showarrow\":false,\"text\":\"19-May-2022\",\"x\":-0.45,\"xanchor\":\"left\",\"xref\":\"x\",\"y\":3,\"yref\":\"y\"},{\"align\":\"left\",\"font\":{\"color\":\"#000000\"},\"showarrow\":false,\"text\":\"-10.03\",\"x\":0.55,\"xanchor\":\"left\",\"xref\":\"x\",\"y\":3,\"yref\":\"y\"},{\"align\":\"left\",\"font\":{\"color\":\"#000000\"},\"showarrow\":false,\"text\":\"-22.18\",\"x\":1.55,\"xanchor\":\"left\",\"xref\":\"x\",\"y\":3,\"yref\":\"y\"},{\"align\":\"left\",\"font\":{\"color\":\"#000000\"},\"showarrow\":false,\"text\":\"20-May-2022\",\"x\":-0.45,\"xanchor\":\"left\",\"xref\":\"x\",\"y\":4,\"yref\":\"y\"},{\"align\":\"left\",\"font\":{\"color\":\"#000000\"},\"showarrow\":false,\"text\":\"-10.03\",\"x\":0.55,\"xanchor\":\"left\",\"xref\":\"x\",\"y\":4,\"yref\":\"y\"},{\"align\":\"left\",\"font\":{\"color\":\"#000000\"},\"showarrow\":false,\"text\":\"-22.18\",\"x\":1.55,\"xanchor\":\"left\",\"xref\":\"x\",\"y\":4,\"yref\":\"y\"},{\"align\":\"left\",\"font\":{\"color\":\"#000000\"},\"showarrow\":false,\"text\":\"21-May-2022\",\"x\":-0.45,\"xanchor\":\"left\",\"xref\":\"x\",\"y\":5,\"yref\":\"y\"},{\"align\":\"left\",\"font\":{\"color\":\"#000000\"},\"showarrow\":false,\"text\":\"-5.67\",\"x\":0.55,\"xanchor\":\"left\",\"xref\":\"x\",\"y\":5,\"yref\":\"y\"},{\"align\":\"left\",\"font\":{\"color\":\"#000000\"},\"showarrow\":false,\"text\":\"-21.12\",\"x\":1.55,\"xanchor\":\"left\",\"xref\":\"x\",\"y\":5,\"yref\":\"y\"},{\"align\":\"left\",\"font\":{\"color\":\"#000000\"},\"showarrow\":false,\"text\":\"22-May-2022\",\"x\":-0.45,\"xanchor\":\"left\",\"xref\":\"x\",\"y\":6,\"yref\":\"y\"},{\"align\":\"left\",\"font\":{\"color\":\"#000000\"},\"showarrow\":false,\"text\":\"-5.67\",\"x\":0.55,\"xanchor\":\"left\",\"xref\":\"x\",\"y\":6,\"yref\":\"y\"},{\"align\":\"left\",\"font\":{\"color\":\"#000000\"},\"showarrow\":false,\"text\":\"-21.12\",\"x\":1.55,\"xanchor\":\"left\",\"xref\":\"x\",\"y\":6,\"yref\":\"y\"},{\"align\":\"left\",\"font\":{\"color\":\"#000000\"},\"showarrow\":false,\"text\":\"23-May-2022\",\"x\":-0.45,\"xanchor\":\"left\",\"xref\":\"x\",\"y\":7,\"yref\":\"y\"},{\"align\":\"left\",\"font\":{\"color\":\"#000000\"},\"showarrow\":false,\"text\":\"-5.67\",\"x\":0.55,\"xanchor\":\"left\",\"xref\":\"x\",\"y\":7,\"yref\":\"y\"},{\"align\":\"left\",\"font\":{\"color\":\"#000000\"},\"showarrow\":false,\"text\":\"-21.12\",\"x\":1.55,\"xanchor\":\"left\",\"xref\":\"x\",\"y\":7,\"yref\":\"y\"},{\"align\":\"left\",\"font\":{\"color\":\"#000000\"},\"showarrow\":false,\"text\":\"24-May-2022\",\"x\":-0.45,\"xanchor\":\"left\",\"xref\":\"x\",\"y\":8,\"yref\":\"y\"},{\"align\":\"left\",\"font\":{\"color\":\"#000000\"},\"showarrow\":false,\"text\":\"-5.67\",\"x\":0.55,\"xanchor\":\"left\",\"xref\":\"x\",\"y\":8,\"yref\":\"y\"},{\"align\":\"left\",\"font\":{\"color\":\"#000000\"},\"showarrow\":false,\"text\":\"-21.12\",\"x\":1.55,\"xanchor\":\"left\",\"xref\":\"x\",\"y\":8,\"yref\":\"y\"},{\"align\":\"left\",\"font\":{\"color\":\"#000000\"},\"showarrow\":false,\"text\":\"25-May-2022\",\"x\":-0.45,\"xanchor\":\"left\",\"xref\":\"x\",\"y\":9,\"yref\":\"y\"},{\"align\":\"left\",\"font\":{\"color\":\"#000000\"},\"showarrow\":false,\"text\":\"-5.67\",\"x\":0.55,\"xanchor\":\"left\",\"xref\":\"x\",\"y\":9,\"yref\":\"y\"},{\"align\":\"left\",\"font\":{\"color\":\"#000000\"},\"showarrow\":false,\"text\":\"-21.12\",\"x\":1.55,\"xanchor\":\"left\",\"xref\":\"x\",\"y\":9,\"yref\":\"y\"},{\"align\":\"left\",\"font\":{\"color\":\"#000000\"},\"showarrow\":false,\"text\":\"26-May-2022\",\"x\":-0.45,\"xanchor\":\"left\",\"xref\":\"x\",\"y\":10,\"yref\":\"y\"},{\"align\":\"left\",\"font\":{\"color\":\"#000000\"},\"showarrow\":false,\"text\":\"-4.38\",\"x\":0.55,\"xanchor\":\"left\",\"xref\":\"x\",\"y\":10,\"yref\":\"y\"},{\"align\":\"left\",\"font\":{\"color\":\"#000000\"},\"showarrow\":false,\"text\":\"-21.12\",\"x\":1.55,\"xanchor\":\"left\",\"xref\":\"x\",\"y\":10,\"yref\":\"y\"},{\"align\":\"left\",\"font\":{\"color\":\"#000000\"},\"showarrow\":false,\"text\":\"27-May-2022\",\"x\":-0.45,\"xanchor\":\"left\",\"xref\":\"x\",\"y\":11,\"yref\":\"y\"},{\"align\":\"left\",\"font\":{\"color\":\"#000000\"},\"showarrow\":false,\"text\":\"-7.69\",\"x\":0.55,\"xanchor\":\"left\",\"xref\":\"x\",\"y\":11,\"yref\":\"y\"},{\"align\":\"left\",\"font\":{\"color\":\"#000000\"},\"showarrow\":false,\"text\":\"-24.26\",\"x\":1.55,\"xanchor\":\"left\",\"xref\":\"x\",\"y\":11,\"yref\":\"y\"},{\"align\":\"left\",\"font\":{\"color\":\"#000000\"},\"showarrow\":false,\"text\":\"28-May-2022\",\"x\":-0.45,\"xanchor\":\"left\",\"xref\":\"x\",\"y\":12,\"yref\":\"y\"},{\"align\":\"left\",\"font\":{\"color\":\"#000000\"},\"showarrow\":false,\"text\":\"-8.38\",\"x\":0.55,\"xanchor\":\"left\",\"xref\":\"x\",\"y\":12,\"yref\":\"y\"},{\"align\":\"left\",\"font\":{\"color\":\"#000000\"},\"showarrow\":false,\"text\":\"-25.99\",\"x\":1.55,\"xanchor\":\"left\",\"xref\":\"x\",\"y\":12,\"yref\":\"y\"},{\"align\":\"left\",\"font\":{\"color\":\"#000000\"},\"showarrow\":false,\"text\":\"29-May-2022\",\"x\":-0.45,\"xanchor\":\"left\",\"xref\":\"x\",\"y\":13,\"yref\":\"y\"},{\"align\":\"left\",\"font\":{\"color\":\"#000000\"},\"showarrow\":false,\"text\":\"-8.38\",\"x\":0.55,\"xanchor\":\"left\",\"xref\":\"x\",\"y\":13,\"yref\":\"y\"},{\"align\":\"left\",\"font\":{\"color\":\"#000000\"},\"showarrow\":false,\"text\":\"-25.99\",\"x\":1.55,\"xanchor\":\"left\",\"xref\":\"x\",\"y\":13,\"yref\":\"y\"},{\"align\":\"left\",\"font\":{\"color\":\"#000000\"},\"showarrow\":false,\"text\":\"30-May-2022\",\"x\":-0.45,\"xanchor\":\"left\",\"xref\":\"x\",\"y\":14,\"yref\":\"y\"},{\"align\":\"left\",\"font\":{\"color\":\"#000000\"},\"showarrow\":false,\"text\":\"-8.38\",\"x\":0.55,\"xanchor\":\"left\",\"xref\":\"x\",\"y\":14,\"yref\":\"y\"},{\"align\":\"left\",\"font\":{\"color\":\"#000000\"},\"showarrow\":false,\"text\":\"-22.81\",\"x\":1.55,\"xanchor\":\"left\",\"xref\":\"x\",\"y\":14,\"yref\":\"y\"},{\"align\":\"left\",\"font\":{\"color\":\"#000000\"},\"showarrow\":false,\"text\":\"31-May-2022\",\"x\":-0.45,\"xanchor\":\"left\",\"xref\":\"x\",\"y\":15,\"yref\":\"y\"},{\"align\":\"left\",\"font\":{\"color\":\"#000000\"},\"showarrow\":false,\"text\":\"-8.38\",\"x\":0.55,\"xanchor\":\"left\",\"xref\":\"x\",\"y\":15,\"yref\":\"y\"},{\"align\":\"left\",\"font\":{\"color\":\"#000000\"},\"showarrow\":false,\"text\":\"-21.85\",\"x\":1.55,\"xanchor\":\"left\",\"xref\":\"x\",\"y\":15,\"yref\":\"y\"},{\"align\":\"left\",\"font\":{\"color\":\"#000000\"},\"showarrow\":false,\"text\":\"01-Jun-2022\",\"x\":-0.45,\"xanchor\":\"left\",\"xref\":\"x\",\"y\":16,\"yref\":\"y\"},{\"align\":\"left\",\"font\":{\"color\":\"#000000\"},\"showarrow\":false,\"text\":\"-8.38\",\"x\":0.55,\"xanchor\":\"left\",\"xref\":\"x\",\"y\":16,\"yref\":\"y\"},{\"align\":\"left\",\"font\":{\"color\":\"#000000\"},\"showarrow\":false,\"text\":\"-20.81\",\"x\":1.55,\"xanchor\":\"left\",\"xref\":\"x\",\"y\":16,\"yref\":\"y\"},{\"align\":\"left\",\"font\":{\"color\":\"#000000\"},\"showarrow\":false,\"text\":\"02-Jun-2022\",\"x\":-0.45,\"xanchor\":\"left\",\"xref\":\"x\",\"y\":17,\"yref\":\"y\"},{\"align\":\"left\",\"font\":{\"color\":\"#000000\"},\"showarrow\":false,\"text\":\"-7.29\",\"x\":0.55,\"xanchor\":\"left\",\"xref\":\"x\",\"y\":17,\"yref\":\"y\"},{\"align\":\"left\",\"font\":{\"color\":\"#000000\"},\"showarrow\":false,\"text\":\"-18.66\",\"x\":1.55,\"xanchor\":\"left\",\"xref\":\"x\",\"y\":17,\"yref\":\"y\"},{\"align\":\"left\",\"font\":{\"color\":\"#000000\"},\"showarrow\":false,\"text\":\"03-Jun-2022\",\"x\":-0.45,\"xanchor\":\"left\",\"xref\":\"x\",\"y\":18,\"yref\":\"y\"},{\"align\":\"left\",\"font\":{\"color\":\"#000000\"},\"showarrow\":false,\"text\":\"-7.29\",\"x\":0.55,\"xanchor\":\"left\",\"xref\":\"x\",\"y\":18,\"yref\":\"y\"},{\"align\":\"left\",\"font\":{\"color\":\"#000000\"},\"showarrow\":false,\"text\":\"-15.11\",\"x\":1.55,\"xanchor\":\"left\",\"xref\":\"x\",\"y\":18,\"yref\":\"y\"},{\"align\":\"left\",\"font\":{\"color\":\"#000000\"},\"showarrow\":false,\"text\":\"04-Jun-2022\",\"x\":-0.45,\"xanchor\":\"left\",\"xref\":\"x\",\"y\":19,\"yref\":\"y\"},{\"align\":\"left\",\"font\":{\"color\":\"#000000\"},\"showarrow\":false,\"text\":\"-7.29\",\"x\":0.55,\"xanchor\":\"left\",\"xref\":\"x\",\"y\":19,\"yref\":\"y\"},{\"align\":\"left\",\"font\":{\"color\":\"#000000\"},\"showarrow\":false,\"text\":\"-15.11\",\"x\":1.55,\"xanchor\":\"left\",\"xref\":\"x\",\"y\":19,\"yref\":\"y\"},{\"align\":\"left\",\"font\":{\"color\":\"#000000\"},\"showarrow\":false,\"text\":\"05-Jun-2022\",\"x\":-0.45,\"xanchor\":\"left\",\"xref\":\"x\",\"y\":20,\"yref\":\"y\"},{\"align\":\"left\",\"font\":{\"color\":\"#000000\"},\"showarrow\":false,\"text\":\"-7.29\",\"x\":0.55,\"xanchor\":\"left\",\"xref\":\"x\",\"y\":20,\"yref\":\"y\"},{\"align\":\"left\",\"font\":{\"color\":\"#000000\"},\"showarrow\":false,\"text\":\"-10.79\",\"x\":1.55,\"xanchor\":\"left\",\"xref\":\"x\",\"y\":20,\"yref\":\"y\"}],\"height\":800,\"margin\":{\"b\":0,\"l\":50,\"r\":0,\"t\":75},\"xaxis\":{\"dtick\":1,\"gridwidth\":2,\"showticklabels\":false,\"tick0\":-0.5,\"ticks\":\"\",\"zeroline\":false},\"yaxis\":{\"autorange\":\"reversed\",\"dtick\":1,\"gridwidth\":2,\"showticklabels\":false,\"tick0\":0.5,\"ticks\":\"\",\"zeroline\":false,\"domain\":[0,0.45]},\"template\":{\"data\":{\"bar\":[{\"error_x\":{\"color\":\"#2a3f5f\"},\"error_y\":{\"color\":\"#2a3f5f\"},\"marker\":{\"line\":{\"color\":\"#E5ECF6\",\"width\":0.5},\"pattern\":{\"fillmode\":\"overlay\",\"size\":10,\"solidity\":0.2}},\"type\":\"bar\"}],\"barpolar\":[{\"marker\":{\"line\":{\"color\":\"#E5ECF6\",\"width\":0.5},\"pattern\":{\"fillmode\":\"overlay\",\"size\":10,\"solidity\":0.2}},\"type\":\"barpolar\"}],\"carpet\":[{\"aaxis\":{\"endlinecolor\":\"#2a3f5f\",\"gridcolor\":\"white\",\"linecolor\":\"white\",\"minorgridcolor\":\"white\",\"startlinecolor\":\"#2a3f5f\"},\"baxis\":{\"endlinecolor\":\"#2a3f5f\",\"gridcolor\":\"white\",\"linecolor\":\"white\",\"minorgridcolor\":\"white\",\"startlinecolor\":\"#2a3f5f\"},\"type\":\"carpet\"}],\"choropleth\":[{\"colorbar\":{\"outlinewidth\":0,\"ticks\":\"\"},\"type\":\"choropleth\"}],\"contour\":[{\"colorbar\":{\"outlinewidth\":0,\"ticks\":\"\"},\"colorscale\":[[0.0,\"#0d0887\"],[0.1111111111111111,\"#46039f\"],[0.2222222222222222,\"#7201a8\"],[0.3333333333333333,\"#9c179e\"],[0.4444444444444444,\"#bd3786\"],[0.5555555555555556,\"#d8576b\"],[0.6666666666666666,\"#ed7953\"],[0.7777777777777778,\"#fb9f3a\"],[0.8888888888888888,\"#fdca26\"],[1.0,\"#f0f921\"]],\"type\":\"contour\"}],\"contourcarpet\":[{\"colorbar\":{\"outlinewidth\":0,\"ticks\":\"\"},\"type\":\"contourcarpet\"}],\"heatmap\":[{\"colorbar\":{\"outlinewidth\":0,\"ticks\":\"\"},\"colorscale\":[[0.0,\"#0d0887\"],[0.1111111111111111,\"#46039f\"],[0.2222222222222222,\"#7201a8\"],[0.3333333333333333,\"#9c179e\"],[0.4444444444444444,\"#bd3786\"],[0.5555555555555556,\"#d8576b\"],[0.6666666666666666,\"#ed7953\"],[0.7777777777777778,\"#fb9f3a\"],[0.8888888888888888,\"#fdca26\"],[1.0,\"#f0f921\"]],\"type\":\"heatmap\"}],\"heatmapgl\":[{\"colorbar\":{\"outlinewidth\":0,\"ticks\":\"\"},\"colorscale\":[[0.0,\"#0d0887\"],[0.1111111111111111,\"#46039f\"],[0.2222222222222222,\"#7201a8\"],[0.3333333333333333,\"#9c179e\"],[0.4444444444444444,\"#bd3786\"],[0.5555555555555556,\"#d8576b\"],[0.6666666666666666,\"#ed7953\"],[0.7777777777777778,\"#fb9f3a\"],[0.8888888888888888,\"#fdca26\"],[1.0,\"#f0f921\"]],\"type\":\"heatmapgl\"}],\"histogram\":[{\"marker\":{\"pattern\":{\"fillmode\":\"overlay\",\"size\":10,\"solidity\":0.2}},\"type\":\"histogram\"}],\"histogram2d\":[{\"colorbar\":{\"outlinewidth\":0,\"ticks\":\"\"},\"colorscale\":[[0.0,\"#0d0887\"],[0.1111111111111111,\"#46039f\"],[0.2222222222222222,\"#7201a8\"],[0.3333333333333333,\"#9c179e\"],[0.4444444444444444,\"#bd3786\"],[0.5555555555555556,\"#d8576b\"],[0.6666666666666666,\"#ed7953\"],[0.7777777777777778,\"#fb9f3a\"],[0.8888888888888888,\"#fdca26\"],[1.0,\"#f0f921\"]],\"type\":\"histogram2d\"}],\"histogram2dcontour\":[{\"colorbar\":{\"outlinewidth\":0,\"ticks\":\"\"},\"colorscale\":[[0.0,\"#0d0887\"],[0.1111111111111111,\"#46039f\"],[0.2222222222222222,\"#7201a8\"],[0.3333333333333333,\"#9c179e\"],[0.4444444444444444,\"#bd3786\"],[0.5555555555555556,\"#d8576b\"],[0.6666666666666666,\"#ed7953\"],[0.7777777777777778,\"#fb9f3a\"],[0.8888888888888888,\"#fdca26\"],[1.0,\"#f0f921\"]],\"type\":\"histogram2dcontour\"}],\"mesh3d\":[{\"colorbar\":{\"outlinewidth\":0,\"ticks\":\"\"},\"type\":\"mesh3d\"}],\"parcoords\":[{\"line\":{\"colorbar\":{\"outlinewidth\":0,\"ticks\":\"\"}},\"type\":\"parcoords\"}],\"pie\":[{\"automargin\":true,\"type\":\"pie\"}],\"scatter\":[{\"marker\":{\"colorbar\":{\"outlinewidth\":0,\"ticks\":\"\"}},\"type\":\"scatter\"}],\"scatter3d\":[{\"line\":{\"colorbar\":{\"outlinewidth\":0,\"ticks\":\"\"}},\"marker\":{\"colorbar\":{\"outlinewidth\":0,\"ticks\":\"\"}},\"type\":\"scatter3d\"}],\"scattercarpet\":[{\"marker\":{\"colorbar\":{\"outlinewidth\":0,\"ticks\":\"\"}},\"type\":\"scattercarpet\"}],\"scattergeo\":[{\"marker\":{\"colorbar\":{\"outlinewidth\":0,\"ticks\":\"\"}},\"type\":\"scattergeo\"}],\"scattergl\":[{\"marker\":{\"colorbar\":{\"outlinewidth\":0,\"ticks\":\"\"}},\"type\":\"scattergl\"}],\"scattermapbox\":[{\"marker\":{\"colorbar\":{\"outlinewidth\":0,\"ticks\":\"\"}},\"type\":\"scattermapbox\"}],\"scatterpolar\":[{\"marker\":{\"colorbar\":{\"outlinewidth\":0,\"ticks\":\"\"}},\"type\":\"scatterpolar\"}],\"scatterpolargl\":[{\"marker\":{\"colorbar\":{\"outlinewidth\":0,\"ticks\":\"\"}},\"type\":\"scatterpolargl\"}],\"scatterternary\":[{\"marker\":{\"colorbar\":{\"outlinewidth\":0,\"ticks\":\"\"}},\"type\":\"scatterternary\"}],\"surface\":[{\"colorbar\":{\"outlinewidth\":0,\"ticks\":\"\"},\"colorscale\":[[0.0,\"#0d0887\"],[0.1111111111111111,\"#46039f\"],[0.2222222222222222,\"#7201a8\"],[0.3333333333333333,\"#9c179e\"],[0.4444444444444444,\"#bd3786\"],[0.5555555555555556,\"#d8576b\"],[0.6666666666666666,\"#ed7953\"],[0.7777777777777778,\"#fb9f3a\"],[0.8888888888888888,\"#fdca26\"],[1.0,\"#f0f921\"]],\"type\":\"surface\"}],\"table\":[{\"cells\":{\"fill\":{\"color\":\"#EBF0F8\"},\"line\":{\"color\":\"white\"}},\"header\":{\"fill\":{\"color\":\"#C8D4E3\"},\"line\":{\"color\":\"white\"}},\"type\":\"table\"}]},\"layout\":{\"annotationdefaults\":{\"arrowcolor\":\"#2a3f5f\",\"arrowhead\":0,\"arrowwidth\":1},\"autotypenumbers\":\"strict\",\"coloraxis\":{\"colorbar\":{\"outlinewidth\":0,\"ticks\":\"\"}},\"colorscale\":{\"diverging\":[[0,\"#8e0152\"],[0.1,\"#c51b7d\"],[0.2,\"#de77ae\"],[0.3,\"#f1b6da\"],[0.4,\"#fde0ef\"],[0.5,\"#f7f7f7\"],[0.6,\"#e6f5d0\"],[0.7,\"#b8e186\"],[0.8,\"#7fbc41\"],[0.9,\"#4d9221\"],[1,\"#276419\"]],\"sequential\":[[0.0,\"#0d0887\"],[0.1111111111111111,\"#46039f\"],[0.2222222222222222,\"#7201a8\"],[0.3333333333333333,\"#9c179e\"],[0.4444444444444444,\"#bd3786\"],[0.5555555555555556,\"#d8576b\"],[0.6666666666666666,\"#ed7953\"],[0.7777777777777778,\"#fb9f3a\"],[0.8888888888888888,\"#fdca26\"],[1.0,\"#f0f921\"]],\"sequentialminus\":[[0.0,\"#0d0887\"],[0.1111111111111111,\"#46039f\"],[0.2222222222222222,\"#7201a8\"],[0.3333333333333333,\"#9c179e\"],[0.4444444444444444,\"#bd3786\"],[0.5555555555555556,\"#d8576b\"],[0.6666666666666666,\"#ed7953\"],[0.7777777777777778,\"#fb9f3a\"],[0.8888888888888888,\"#fdca26\"],[1.0,\"#f0f921\"]]},\"colorway\":[\"#636efa\",\"#EF553B\",\"#00cc96\",\"#ab63fa\",\"#FFA15A\",\"#19d3f3\",\"#FF6692\",\"#B6E880\",\"#FF97FF\",\"#FECB52\"],\"font\":{\"color\":\"#2a3f5f\"},\"geo\":{\"bgcolor\":\"white\",\"lakecolor\":\"white\",\"landcolor\":\"#E5ECF6\",\"showlakes\":true,\"showland\":true,\"subunitcolor\":\"white\"},\"hoverlabel\":{\"align\":\"left\"},\"hovermode\":\"closest\",\"mapbox\":{\"style\":\"light\"},\"paper_bgcolor\":\"white\",\"plot_bgcolor\":\"#E5ECF6\",\"polar\":{\"angularaxis\":{\"gridcolor\":\"white\",\"linecolor\":\"white\",\"ticks\":\"\"},\"bgcolor\":\"#E5ECF6\",\"radialaxis\":{\"gridcolor\":\"white\",\"linecolor\":\"white\",\"ticks\":\"\"}},\"scene\":{\"xaxis\":{\"backgroundcolor\":\"#E5ECF6\",\"gridcolor\":\"white\",\"gridwidth\":2,\"linecolor\":\"white\",\"showbackground\":true,\"ticks\":\"\",\"zerolinecolor\":\"white\"},\"yaxis\":{\"backgroundcolor\":\"#E5ECF6\",\"gridcolor\":\"white\",\"gridwidth\":2,\"linecolor\":\"white\",\"showbackground\":true,\"ticks\":\"\",\"zerolinecolor\":\"white\"},\"zaxis\":{\"backgroundcolor\":\"#E5ECF6\",\"gridcolor\":\"white\",\"gridwidth\":2,\"linecolor\":\"white\",\"showbackground\":true,\"ticks\":\"\",\"zerolinecolor\":\"white\"}},\"shapedefaults\":{\"line\":{\"color\":\"#2a3f5f\"}},\"ternary\":{\"aaxis\":{\"gridcolor\":\"white\",\"linecolor\":\"white\",\"ticks\":\"\"},\"baxis\":{\"gridcolor\":\"white\",\"linecolor\":\"white\",\"ticks\":\"\"},\"bgcolor\":\"#E5ECF6\",\"caxis\":{\"gridcolor\":\"white\",\"linecolor\":\"white\",\"ticks\":\"\"}},\"title\":{\"x\":0.05},\"xaxis\":{\"automargin\":true,\"gridcolor\":\"white\",\"linecolor\":\"white\",\"ticks\":\"\",\"title\":{\"standoff\":15},\"zerolinecolor\":\"white\",\"zerolinewidth\":2},\"yaxis\":{\"automargin\":true,\"gridcolor\":\"white\",\"linecolor\":\"white\",\"ticks\":\"\",\"title\":{\"standoff\":15},\"zerolinecolor\":\"white\",\"zerolinewidth\":2}}},\"title\":{\"text\":\"\"},\"xaxis2\":{\"anchor\":\"y2\"},\"yaxis2\":{\"domain\":[0.6,1],\"anchor\":\"x2\",\"title\":{\"text\":\"\"}}},                        {\"responsive\": true}                    ).then(function(){\n",
       "                            \n",
       "var gd = document.getElementById('b95ddfd7-bbee-4945-8e7d-538f59ac60a2');\n",
       "var x = new MutationObserver(function (mutations, observer) {{\n",
       "        var display = window.getComputedStyle(gd).display;\n",
       "        if (!display || display === 'none') {{\n",
       "            console.log([gd, 'removed!']);\n",
       "            Plotly.purge(gd);\n",
       "            observer.disconnect();\n",
       "        }}\n",
       "}});\n",
       "\n",
       "// Listen for the removal of the full notebook cells\n",
       "var notebookContainer = gd.closest('#notebook-container');\n",
       "if (notebookContainer) {{\n",
       "    x.observe(notebookContainer, {childList: true});\n",
       "}}\n",
       "\n",
       "// Listen for the clearing of the current output cell\n",
       "var outputEl = gd.closest('.output');\n",
       "if (outputEl) {{\n",
       "    x.observe(outputEl, {childList: true});\n",
       "}}\n",
       "\n",
       "                        })                };                });            </script>        </div>"
      ]
     },
     "metadata": {},
     "output_type": "display_data"
    }
   ],
   "source": [
    "colsToPlot=[  x for  x  in list_cols if x.startswith('_PctMidToL') ]\n",
    "#colsToPlot=[ ]\n",
    "fig=manage_chart(df,colsToPlot,\"\",'')\n",
    "fig"
   ]
  },
  {
   "cell_type": "code",
   "execution_count": 219,
   "metadata": {},
   "outputs": [
    {
     "data": {
      "text/plain": [
       "Index(['_XHH10', '_XLL10', '_XMid10', 'Range10', '_PctX_HL10', '_PctX_LH10',\n",
       "       '_PctMidToH10', '_PctMidToL10', '_XHH25', '_XLL25', '_XMid25',\n",
       "       'Range25', '_PctX_HL25', '_PctX_LH25', '_PctMidToH25', '_PctMidToL25'],\n",
       "      dtype='object')"
      ]
     },
     "execution_count": 219,
     "metadata": {},
     "output_type": "execute_result"
    }
   ],
   "source": [
    "df_HL="
   ]
  },
  {
   "cell_type": "code",
   "execution_count": 23,
   "metadata": {},
   "outputs": [
    {
     "data": {
      "application/vnd.plotly.v1+json": {
       "config": {
        "plotlyServerURL": "https://plot.ly"
       },
       "data": [
        {
         "name": "HL15",
         "type": "histogram",
         "x": [
          15.76,
          15.76,
          15.76,
          15.76,
          15.76,
          21.52,
          25.76,
          35.03,
          37.93,
          37.58,
          40.93,
          37.84,
          33.18,
          33.18,
          33.18,
          33.18,
          33.18,
          33.18,
          33.18,
          31.38,
          21.22,
          42.19,
          48.32,
          48.32,
          58.01,
          58.01,
          58.01,
          57.94,
          57.18,
          57.18,
          57.18,
          55.52,
          51.62,
          51.62,
          51.62,
          40.53,
          41.75,
          42.41,
          47.57,
          39.56,
          41.15,
          41.76,
          39.26,
          32.62,
          32.62,
          32.62,
          27.47,
          27.47,
          27.47,
          22.92,
          21.87,
          27.47,
          28.37,
          31.35,
          31.35,
          42.77,
          38.96,
          38.96,
          38.96,
          38.96,
          38.96,
          38.56,
          37.39,
          32.34,
          32.34,
          32.34,
          32.34,
          32.34,
          32.34,
          32.34,
          24.5,
          24.5,
          24.5,
          24.5,
          24.5,
          24.5,
          21.51,
          22.04,
          22.2,
          22.2,
          22.2,
          23.09,
          22.46,
          25.52,
          28.09,
          28.09,
          32.35,
          37.32,
          38.89,
          33.74,
          26.78,
          25.9,
          25.38,
          27.09,
          26.52,
          24.04,
          22.59,
          19.38,
          16.4,
          16.06,
          14.53,
          21.37,
          21.37,
          21.37
         ],
         "xaxis": "x",
         "yaxis": "y"
        },
        {
         "name": "HL30",
         "type": "histogram",
         "x": [
          32.86,
          32.86,
          28.09,
          25.19,
          25.19,
          31.42,
          36,
          46.46,
          41.04,
          39.12,
          42.5,
          41.69,
          41.69,
          41.69,
          41.69,
          41.69,
          41.69,
          41.69,
          41.69,
          41.69,
          41.69,
          72.7,
          79.91,
          79.91,
          91.17,
          91.17,
          87,
          80.67,
          80.67,
          80.67,
          80.67,
          80.67,
          80.67,
          80.67,
          78.23,
          64.45,
          58.26,
          58.01,
          58.01,
          58.01,
          58.01,
          58.01,
          57.94,
          57.18,
          57.18,
          57.18,
          55.52,
          52.09,
          52.09,
          52.09,
          52.09,
          52.09,
          52.09,
          52.09,
          41.76,
          42.77,
          42.77,
          42.77,
          42.77,
          42.77,
          42.77,
          42.77,
          42.77,
          42.77,
          42.77,
          42.77,
          42.77,
          42.77,
          42.77,
          42.77,
          42.77,
          38.96,
          38.96,
          38.96,
          38.96,
          38.96,
          38.56,
          37.39,
          32.34,
          32.34,
          32.34,
          32.73,
          32.73,
          36.05,
          38.84,
          30.6,
          34.94,
          40.33,
          42.41,
          42.41,
          42.41,
          42.41,
          44.47,
          46.44,
          46.44,
          46.44,
          44.36,
          43.62,
          43.62,
          43.62,
          43.62,
          43.62,
          43.29,
          42.81
         ],
         "xaxis": "x2",
         "yaxis": "y2"
        },
        {
         "name": "Pct_Mid_To_H15",
         "type": "histogram",
         "x": [
          7.3,
          7.3,
          7.3,
          7.3,
          7.3,
          9.72,
          11.41,
          14.9,
          15.94,
          15.82,
          16.99,
          15.91,
          14.23,
          14.23,
          14.23,
          14.23,
          14.23,
          14.23,
          14.23,
          13.56,
          9.59,
          17.42,
          19.46,
          19.46,
          22.48,
          22.48,
          22.48,
          22.46,
          22.23,
          22.23,
          22.23,
          21.73,
          20.51,
          20.51,
          20.51,
          16.85,
          17.27,
          17.49,
          19.21,
          16.51,
          17.06,
          17.27,
          16.41,
          14.02,
          14.02,
          14.02,
          12.08,
          12.08,
          12.08,
          10.28,
          9.86,
          12.08,
          12.42,
          13.55,
          13.55,
          17.62,
          16.31,
          16.31,
          16.31,
          16.31,
          16.31,
          16.16,
          15.75,
          13.92,
          13.92,
          13.92,
          13.92,
          13.92,
          13.92,
          13.92,
          10.91,
          10.91,
          10.91,
          10.91,
          10.91,
          10.91,
          9.71,
          9.93,
          9.99,
          9.99,
          9.99,
          10.35,
          10.09,
          11.31,
          12.32,
          12.32,
          13.92,
          15.73,
          16.28,
          14.44,
          11.81,
          11.47,
          11.26,
          11.93,
          11.71,
          10.73,
          10.15,
          8.83,
          7.58,
          7.43,
          6.77,
          9.65,
          9.65,
          9.65
         ],
         "xaxis": "x3",
         "yaxis": "y3"
        },
        {
         "name": "Pct_Mid_To_H30",
         "type": "histogram",
         "x": [
          14.11,
          14.11,
          12.32,
          11.19,
          11.19,
          13.58,
          15.25,
          18.85,
          17.02,
          16.36,
          17.53,
          17.25,
          17.25,
          17.25,
          17.25,
          17.25,
          17.25,
          17.25,
          17.25,
          17.25,
          17.25,
          26.66,
          28.55,
          28.55,
          31.31,
          31.31,
          30.31,
          28.74,
          28.74,
          28.74,
          28.74,
          28.74,
          28.74,
          28.74,
          28.12,
          24.37,
          22.56,
          22.48,
          22.48,
          22.48,
          22.48,
          22.48,
          22.46,
          22.23,
          22.23,
          22.23,
          21.73,
          20.66,
          20.66,
          20.66,
          20.66,
          20.66,
          20.66,
          20.66,
          17.27,
          17.62,
          17.62,
          17.62,
          17.62,
          17.62,
          17.62,
          17.62,
          17.62,
          17.62,
          17.62,
          17.62,
          17.62,
          17.62,
          17.62,
          17.62,
          17.62,
          16.31,
          16.31,
          16.31,
          16.31,
          16.31,
          16.16,
          15.75,
          13.92,
          13.92,
          13.92,
          14.06,
          14.06,
          15.27,
          16.26,
          13.27,
          14.87,
          16.78,
          17.49,
          17.49,
          17.49,
          17.49,
          18.19,
          18.84,
          18.84,
          18.84,
          18.15,
          17.9,
          17.9,
          17.9,
          17.9,
          17.9,
          17.79,
          17.63
         ],
         "xaxis": "x4",
         "yaxis": "y4"
        },
        {
         "name": "Pct_Mid_To_L15",
         "type": "histogram",
         "x": [
          -7.3,
          -7.3,
          -7.3,
          -7.3,
          -7.3,
          -9.72,
          -11.41,
          -14.9,
          -15.94,
          -15.82,
          -16.99,
          -15.91,
          -14.23,
          -14.23,
          -14.23,
          -14.23,
          -14.23,
          -14.23,
          -14.23,
          -13.56,
          -9.59,
          -17.42,
          -19.46,
          -19.46,
          -22.48,
          -22.48,
          -22.48,
          -22.46,
          -22.23,
          -22.23,
          -22.23,
          -21.73,
          -20.51,
          -20.51,
          -20.51,
          -16.85,
          -17.27,
          -17.49,
          -19.21,
          -16.51,
          -17.06,
          -17.27,
          -16.41,
          -14.02,
          -14.02,
          -14.02,
          -12.08,
          -12.08,
          -12.08,
          -10.28,
          -9.86,
          -12.08,
          -12.42,
          -13.55,
          -13.55,
          -17.62,
          -16.31,
          -16.31,
          -16.31,
          -16.31,
          -16.31,
          -16.16,
          -15.75,
          -13.92,
          -13.92,
          -13.92,
          -13.92,
          -13.92,
          -13.92,
          -13.92,
          -10.91,
          -10.91,
          -10.91,
          -10.91,
          -10.91,
          -10.91,
          -9.71,
          -9.93,
          -9.99,
          -9.99,
          -9.99,
          -10.35,
          -10.09,
          -11.31,
          -12.32,
          -12.32,
          -13.92,
          -15.73,
          -16.28,
          -14.44,
          -11.81,
          -11.47,
          -11.26,
          -11.93,
          -11.71,
          -10.73,
          -10.15,
          -8.83,
          -7.58,
          -7.43,
          -6.77,
          -9.65,
          -9.65,
          -9.65
         ],
         "xaxis": "x5",
         "yaxis": "y5"
        },
        {
         "name": "Pct_Mid_To_L30",
         "type": "histogram",
         "x": [
          -14.11,
          -14.11,
          -12.32,
          -11.19,
          -11.19,
          -13.58,
          -15.25,
          -18.85,
          -17.02,
          -16.36,
          -17.53,
          -17.25,
          -17.25,
          -17.25,
          -17.25,
          -17.25,
          -17.25,
          -17.25,
          -17.25,
          -17.25,
          -17.25,
          -26.66,
          -28.55,
          -28.55,
          -31.31,
          -31.31,
          -30.31,
          -28.74,
          -28.74,
          -28.74,
          -28.74,
          -28.74,
          -28.74,
          -28.74,
          -28.12,
          -24.37,
          -22.56,
          -22.48,
          -22.48,
          -22.48,
          -22.48,
          -22.48,
          -22.46,
          -22.23,
          -22.23,
          -22.23,
          -21.73,
          -20.66,
          -20.66,
          -20.66,
          -20.66,
          -20.66,
          -20.66,
          -20.66,
          -17.27,
          -17.62,
          -17.62,
          -17.62,
          -17.62,
          -17.62,
          -17.62,
          -17.62,
          -17.62,
          -17.62,
          -17.62,
          -17.62,
          -17.62,
          -17.62,
          -17.62,
          -17.62,
          -17.62,
          -16.31,
          -16.31,
          -16.31,
          -16.31,
          -16.31,
          -16.16,
          -15.75,
          -13.92,
          -13.92,
          -13.92,
          -14.06,
          -14.06,
          -15.27,
          -16.26,
          -13.27,
          -14.87,
          -16.78,
          -17.49,
          -17.49,
          -17.49,
          -17.49,
          -18.19,
          -18.84,
          -18.84,
          -18.84,
          -18.15,
          -17.9,
          -17.9,
          -17.9,
          -17.9,
          -17.9,
          -17.79,
          -17.63
         ],
         "xaxis": "x6",
         "yaxis": "y6"
        }
       ],
       "layout": {
        "autosize": true,
        "height": 1000,
        "legend": {
         "orientation": "h"
        },
        "paper_bgcolor": "LightSteelBlue",
        "template": {
         "data": {
          "bar": [
           {
            "error_x": {
             "color": "#2a3f5f"
            },
            "error_y": {
             "color": "#2a3f5f"
            },
            "marker": {
             "line": {
              "color": "#E5ECF6",
              "width": 0.5
             },
             "pattern": {
              "fillmode": "overlay",
              "size": 10,
              "solidity": 0.2
             }
            },
            "type": "bar"
           }
          ],
          "barpolar": [
           {
            "marker": {
             "line": {
              "color": "#E5ECF6",
              "width": 0.5
             },
             "pattern": {
              "fillmode": "overlay",
              "size": 10,
              "solidity": 0.2
             }
            },
            "type": "barpolar"
           }
          ],
          "carpet": [
           {
            "aaxis": {
             "endlinecolor": "#2a3f5f",
             "gridcolor": "white",
             "linecolor": "white",
             "minorgridcolor": "white",
             "startlinecolor": "#2a3f5f"
            },
            "baxis": {
             "endlinecolor": "#2a3f5f",
             "gridcolor": "white",
             "linecolor": "white",
             "minorgridcolor": "white",
             "startlinecolor": "#2a3f5f"
            },
            "type": "carpet"
           }
          ],
          "choropleth": [
           {
            "colorbar": {
             "outlinewidth": 0,
             "ticks": ""
            },
            "type": "choropleth"
           }
          ],
          "contour": [
           {
            "colorbar": {
             "outlinewidth": 0,
             "ticks": ""
            },
            "colorscale": [
             [
              0,
              "#0d0887"
             ],
             [
              0.1111111111111111,
              "#46039f"
             ],
             [
              0.2222222222222222,
              "#7201a8"
             ],
             [
              0.3333333333333333,
              "#9c179e"
             ],
             [
              0.4444444444444444,
              "#bd3786"
             ],
             [
              0.5555555555555556,
              "#d8576b"
             ],
             [
              0.6666666666666666,
              "#ed7953"
             ],
             [
              0.7777777777777778,
              "#fb9f3a"
             ],
             [
              0.8888888888888888,
              "#fdca26"
             ],
             [
              1,
              "#f0f921"
             ]
            ],
            "type": "contour"
           }
          ],
          "contourcarpet": [
           {
            "colorbar": {
             "outlinewidth": 0,
             "ticks": ""
            },
            "type": "contourcarpet"
           }
          ],
          "heatmap": [
           {
            "colorbar": {
             "outlinewidth": 0,
             "ticks": ""
            },
            "colorscale": [
             [
              0,
              "#0d0887"
             ],
             [
              0.1111111111111111,
              "#46039f"
             ],
             [
              0.2222222222222222,
              "#7201a8"
             ],
             [
              0.3333333333333333,
              "#9c179e"
             ],
             [
              0.4444444444444444,
              "#bd3786"
             ],
             [
              0.5555555555555556,
              "#d8576b"
             ],
             [
              0.6666666666666666,
              "#ed7953"
             ],
             [
              0.7777777777777778,
              "#fb9f3a"
             ],
             [
              0.8888888888888888,
              "#fdca26"
             ],
             [
              1,
              "#f0f921"
             ]
            ],
            "type": "heatmap"
           }
          ],
          "heatmapgl": [
           {
            "colorbar": {
             "outlinewidth": 0,
             "ticks": ""
            },
            "colorscale": [
             [
              0,
              "#0d0887"
             ],
             [
              0.1111111111111111,
              "#46039f"
             ],
             [
              0.2222222222222222,
              "#7201a8"
             ],
             [
              0.3333333333333333,
              "#9c179e"
             ],
             [
              0.4444444444444444,
              "#bd3786"
             ],
             [
              0.5555555555555556,
              "#d8576b"
             ],
             [
              0.6666666666666666,
              "#ed7953"
             ],
             [
              0.7777777777777778,
              "#fb9f3a"
             ],
             [
              0.8888888888888888,
              "#fdca26"
             ],
             [
              1,
              "#f0f921"
             ]
            ],
            "type": "heatmapgl"
           }
          ],
          "histogram": [
           {
            "marker": {
             "pattern": {
              "fillmode": "overlay",
              "size": 10,
              "solidity": 0.2
             }
            },
            "type": "histogram"
           }
          ],
          "histogram2d": [
           {
            "colorbar": {
             "outlinewidth": 0,
             "ticks": ""
            },
            "colorscale": [
             [
              0,
              "#0d0887"
             ],
             [
              0.1111111111111111,
              "#46039f"
             ],
             [
              0.2222222222222222,
              "#7201a8"
             ],
             [
              0.3333333333333333,
              "#9c179e"
             ],
             [
              0.4444444444444444,
              "#bd3786"
             ],
             [
              0.5555555555555556,
              "#d8576b"
             ],
             [
              0.6666666666666666,
              "#ed7953"
             ],
             [
              0.7777777777777778,
              "#fb9f3a"
             ],
             [
              0.8888888888888888,
              "#fdca26"
             ],
             [
              1,
              "#f0f921"
             ]
            ],
            "type": "histogram2d"
           }
          ],
          "histogram2dcontour": [
           {
            "colorbar": {
             "outlinewidth": 0,
             "ticks": ""
            },
            "colorscale": [
             [
              0,
              "#0d0887"
             ],
             [
              0.1111111111111111,
              "#46039f"
             ],
             [
              0.2222222222222222,
              "#7201a8"
             ],
             [
              0.3333333333333333,
              "#9c179e"
             ],
             [
              0.4444444444444444,
              "#bd3786"
             ],
             [
              0.5555555555555556,
              "#d8576b"
             ],
             [
              0.6666666666666666,
              "#ed7953"
             ],
             [
              0.7777777777777778,
              "#fb9f3a"
             ],
             [
              0.8888888888888888,
              "#fdca26"
             ],
             [
              1,
              "#f0f921"
             ]
            ],
            "type": "histogram2dcontour"
           }
          ],
          "mesh3d": [
           {
            "colorbar": {
             "outlinewidth": 0,
             "ticks": ""
            },
            "type": "mesh3d"
           }
          ],
          "parcoords": [
           {
            "line": {
             "colorbar": {
              "outlinewidth": 0,
              "ticks": ""
             }
            },
            "type": "parcoords"
           }
          ],
          "pie": [
           {
            "automargin": true,
            "type": "pie"
           }
          ],
          "scatter": [
           {
            "marker": {
             "colorbar": {
              "outlinewidth": 0,
              "ticks": ""
             }
            },
            "type": "scatter"
           }
          ],
          "scatter3d": [
           {
            "line": {
             "colorbar": {
              "outlinewidth": 0,
              "ticks": ""
             }
            },
            "marker": {
             "colorbar": {
              "outlinewidth": 0,
              "ticks": ""
             }
            },
            "type": "scatter3d"
           }
          ],
          "scattercarpet": [
           {
            "marker": {
             "colorbar": {
              "outlinewidth": 0,
              "ticks": ""
             }
            },
            "type": "scattercarpet"
           }
          ],
          "scattergeo": [
           {
            "marker": {
             "colorbar": {
              "outlinewidth": 0,
              "ticks": ""
             }
            },
            "type": "scattergeo"
           }
          ],
          "scattergl": [
           {
            "marker": {
             "colorbar": {
              "outlinewidth": 0,
              "ticks": ""
             }
            },
            "type": "scattergl"
           }
          ],
          "scattermapbox": [
           {
            "marker": {
             "colorbar": {
              "outlinewidth": 0,
              "ticks": ""
             }
            },
            "type": "scattermapbox"
           }
          ],
          "scatterpolar": [
           {
            "marker": {
             "colorbar": {
              "outlinewidth": 0,
              "ticks": ""
             }
            },
            "type": "scatterpolar"
           }
          ],
          "scatterpolargl": [
           {
            "marker": {
             "colorbar": {
              "outlinewidth": 0,
              "ticks": ""
             }
            },
            "type": "scatterpolargl"
           }
          ],
          "scatterternary": [
           {
            "marker": {
             "colorbar": {
              "outlinewidth": 0,
              "ticks": ""
             }
            },
            "type": "scatterternary"
           }
          ],
          "surface": [
           {
            "colorbar": {
             "outlinewidth": 0,
             "ticks": ""
            },
            "colorscale": [
             [
              0,
              "#0d0887"
             ],
             [
              0.1111111111111111,
              "#46039f"
             ],
             [
              0.2222222222222222,
              "#7201a8"
             ],
             [
              0.3333333333333333,
              "#9c179e"
             ],
             [
              0.4444444444444444,
              "#bd3786"
             ],
             [
              0.5555555555555556,
              "#d8576b"
             ],
             [
              0.6666666666666666,
              "#ed7953"
             ],
             [
              0.7777777777777778,
              "#fb9f3a"
             ],
             [
              0.8888888888888888,
              "#fdca26"
             ],
             [
              1,
              "#f0f921"
             ]
            ],
            "type": "surface"
           }
          ],
          "table": [
           {
            "cells": {
             "fill": {
              "color": "#EBF0F8"
             },
             "line": {
              "color": "white"
             }
            },
            "header": {
             "fill": {
              "color": "#C8D4E3"
             },
             "line": {
              "color": "white"
             }
            },
            "type": "table"
           }
          ]
         },
         "layout": {
          "annotationdefaults": {
           "arrowcolor": "#2a3f5f",
           "arrowhead": 0,
           "arrowwidth": 1
          },
          "autotypenumbers": "strict",
          "coloraxis": {
           "colorbar": {
            "outlinewidth": 0,
            "ticks": ""
           }
          },
          "colorscale": {
           "diverging": [
            [
             0,
             "#8e0152"
            ],
            [
             0.1,
             "#c51b7d"
            ],
            [
             0.2,
             "#de77ae"
            ],
            [
             0.3,
             "#f1b6da"
            ],
            [
             0.4,
             "#fde0ef"
            ],
            [
             0.5,
             "#f7f7f7"
            ],
            [
             0.6,
             "#e6f5d0"
            ],
            [
             0.7,
             "#b8e186"
            ],
            [
             0.8,
             "#7fbc41"
            ],
            [
             0.9,
             "#4d9221"
            ],
            [
             1,
             "#276419"
            ]
           ],
           "sequential": [
            [
             0,
             "#0d0887"
            ],
            [
             0.1111111111111111,
             "#46039f"
            ],
            [
             0.2222222222222222,
             "#7201a8"
            ],
            [
             0.3333333333333333,
             "#9c179e"
            ],
            [
             0.4444444444444444,
             "#bd3786"
            ],
            [
             0.5555555555555556,
             "#d8576b"
            ],
            [
             0.6666666666666666,
             "#ed7953"
            ],
            [
             0.7777777777777778,
             "#fb9f3a"
            ],
            [
             0.8888888888888888,
             "#fdca26"
            ],
            [
             1,
             "#f0f921"
            ]
           ],
           "sequentialminus": [
            [
             0,
             "#0d0887"
            ],
            [
             0.1111111111111111,
             "#46039f"
            ],
            [
             0.2222222222222222,
             "#7201a8"
            ],
            [
             0.3333333333333333,
             "#9c179e"
            ],
            [
             0.4444444444444444,
             "#bd3786"
            ],
            [
             0.5555555555555556,
             "#d8576b"
            ],
            [
             0.6666666666666666,
             "#ed7953"
            ],
            [
             0.7777777777777778,
             "#fb9f3a"
            ],
            [
             0.8888888888888888,
             "#fdca26"
            ],
            [
             1,
             "#f0f921"
            ]
           ]
          },
          "colorway": [
           "#636efa",
           "#EF553B",
           "#00cc96",
           "#ab63fa",
           "#FFA15A",
           "#19d3f3",
           "#FF6692",
           "#B6E880",
           "#FF97FF",
           "#FECB52"
          ],
          "font": {
           "color": "#2a3f5f"
          },
          "geo": {
           "bgcolor": "white",
           "lakecolor": "white",
           "landcolor": "#E5ECF6",
           "showlakes": true,
           "showland": true,
           "subunitcolor": "white"
          },
          "hoverlabel": {
           "align": "left"
          },
          "hovermode": "closest",
          "mapbox": {
           "style": "light"
          },
          "paper_bgcolor": "white",
          "plot_bgcolor": "#E5ECF6",
          "polar": {
           "angularaxis": {
            "gridcolor": "white",
            "linecolor": "white",
            "ticks": ""
           },
           "bgcolor": "#E5ECF6",
           "radialaxis": {
            "gridcolor": "white",
            "linecolor": "white",
            "ticks": ""
           }
          },
          "scene": {
           "xaxis": {
            "backgroundcolor": "#E5ECF6",
            "gridcolor": "white",
            "gridwidth": 2,
            "linecolor": "white",
            "showbackground": true,
            "ticks": "",
            "zerolinecolor": "white"
           },
           "yaxis": {
            "backgroundcolor": "#E5ECF6",
            "gridcolor": "white",
            "gridwidth": 2,
            "linecolor": "white",
            "showbackground": true,
            "ticks": "",
            "zerolinecolor": "white"
           },
           "zaxis": {
            "backgroundcolor": "#E5ECF6",
            "gridcolor": "white",
            "gridwidth": 2,
            "linecolor": "white",
            "showbackground": true,
            "ticks": "",
            "zerolinecolor": "white"
           }
          },
          "shapedefaults": {
           "line": {
            "color": "#2a3f5f"
           }
          },
          "ternary": {
           "aaxis": {
            "gridcolor": "white",
            "linecolor": "white",
            "ticks": ""
           },
           "baxis": {
            "gridcolor": "white",
            "linecolor": "white",
            "ticks": ""
           },
           "bgcolor": "#E5ECF6",
           "caxis": {
            "gridcolor": "white",
            "linecolor": "white",
            "ticks": ""
           }
          },
          "title": {
           "x": 0.05
          },
          "xaxis": {
           "automargin": true,
           "gridcolor": "white",
           "linecolor": "white",
           "ticks": "",
           "title": {
            "standoff": 15
           },
           "zerolinecolor": "white",
           "zerolinewidth": 2
          },
          "yaxis": {
           "automargin": true,
           "gridcolor": "white",
           "linecolor": "white",
           "ticks": "",
           "title": {
            "standoff": 15
           },
           "zerolinecolor": "white",
           "zerolinewidth": 2
          }
         }
        },
        "width": 1000,
        "xaxis": {
         "anchor": "y",
         "autorange": true,
         "domain": [
          0,
          0.45
         ],
         "range": [
          10,
          60
         ],
         "type": "linear"
        },
        "xaxis2": {
         "anchor": "y2",
         "autorange": true,
         "domain": [
          0.55,
          1
         ],
         "range": [
          25,
          95
         ],
         "type": "linear"
        },
        "xaxis3": {
         "anchor": "y3",
         "autorange": true,
         "domain": [
          0,
          0.45
         ],
         "range": [
          6,
          24
         ],
         "type": "linear"
        },
        "xaxis4": {
         "anchor": "y4",
         "autorange": true,
         "domain": [
          0.55,
          1
         ],
         "range": [
          10,
          32
         ],
         "type": "linear"
        },
        "xaxis5": {
         "anchor": "y5",
         "autorange": true,
         "domain": [
          0,
          0.45
         ],
         "range": [
          -24,
          -6
         ],
         "type": "linear"
        },
        "xaxis6": {
         "anchor": "y6",
         "autorange": true,
         "domain": [
          0.55,
          1
         ],
         "range": [
          -32,
          -10
         ],
         "type": "linear"
        },
        "yaxis": {
         "anchor": "x",
         "autorange": true,
         "domain": [
          0.7333333333333333,
          1
         ],
         "range": [
          0,
          23.157894736842106
         ]
        },
        "yaxis2": {
         "anchor": "x2",
         "autorange": true,
         "domain": [
          0.7333333333333333,
          1
         ],
         "range": [
          0,
          45.26315789473684
         ]
        },
        "yaxis3": {
         "anchor": "x3",
         "autorange": true,
         "domain": [
          0.36666666666666664,
          0.6333333333333333
         ],
         "range": [
          0,
          18.94736842105263
         ]
        },
        "yaxis4": {
         "anchor": "x4",
         "autorange": true,
         "domain": [
          0.36666666666666664,
          0.6333333333333333
         ],
         "range": [
          0,
          51.578947368421055
         ]
        },
        "yaxis5": {
         "anchor": "x5",
         "autorange": true,
         "domain": [
          0,
          0.26666666666666666
         ],
         "range": [
          0,
          18.94736842105263
         ]
        },
        "yaxis6": {
         "anchor": "x6",
         "autorange": true,
         "domain": [
          0,
          0.26666666666666666
         ],
         "range": [
          0,
          51.578947368421055
         ]
        }
       }
      },
      "text/html": [
       "<div>                            <div id=\"e85fda14-c638-4b23-bf7e-5e270c2b4ea9\" class=\"plotly-graph-div\" style=\"height:1000px; width:1000px;\"></div>            <script type=\"text/javascript\">                require([\"plotly\"], function(Plotly) {                    window.PLOTLYENV=window.PLOTLYENV || {};                                    if (document.getElementById(\"e85fda14-c638-4b23-bf7e-5e270c2b4ea9\")) {                    Plotly.newPlot(                        \"e85fda14-c638-4b23-bf7e-5e270c2b4ea9\",                        [{\"name\":\"HL15\",\"x\":[15.76,15.76,15.76,15.76,15.76,21.52,25.76,35.03,37.93,37.58,40.93,37.84,33.18,33.18,33.18,33.18,33.18,33.18,33.18,31.38,21.22,42.19,48.32,48.32,58.01,58.01,58.01,57.94,57.18,57.18,57.18,55.52,51.62,51.62,51.62,40.53,41.75,42.41,47.57,39.56,41.15,41.76,39.26,32.62,32.62,32.62,27.47,27.47,27.47,22.92,21.87,27.47,28.37,31.35,31.35,42.77,38.96,38.96,38.96,38.96,38.96,38.56,37.39,32.34,32.34,32.34,32.34,32.34,32.34,32.34,24.5,24.5,24.5,24.5,24.5,24.5,21.51,22.04,22.2,22.2,22.2,23.09,22.46,25.52,28.09,28.09,32.35,37.32,38.89,33.74,26.78,25.9,25.38,27.09,26.52,24.04,22.59,19.38,16.4,16.06,14.53,21.37,21.37,21.37],\"type\":\"histogram\",\"xaxis\":\"x\",\"yaxis\":\"y\"},{\"name\":\"HL30\",\"x\":[32.86,32.86,28.09,25.19,25.19,31.42,36.0,46.46,41.04,39.12,42.5,41.69,41.69,41.69,41.69,41.69,41.69,41.69,41.69,41.69,41.69,72.7,79.91,79.91,91.17,91.17,87.0,80.67,80.67,80.67,80.67,80.67,80.67,80.67,78.23,64.45,58.26,58.01,58.01,58.01,58.01,58.01,57.94,57.18,57.18,57.18,55.52,52.09,52.09,52.09,52.09,52.09,52.09,52.09,41.76,42.77,42.77,42.77,42.77,42.77,42.77,42.77,42.77,42.77,42.77,42.77,42.77,42.77,42.77,42.77,42.77,38.96,38.96,38.96,38.96,38.96,38.56,37.39,32.34,32.34,32.34,32.73,32.73,36.05,38.84,30.6,34.94,40.33,42.41,42.41,42.41,42.41,44.47,46.44,46.44,46.44,44.36,43.62,43.62,43.62,43.62,43.62,43.29,42.81],\"type\":\"histogram\",\"xaxis\":\"x2\",\"yaxis\":\"y2\"},{\"name\":\"Pct_Mid_To_H15\",\"x\":[7.3,7.3,7.3,7.3,7.3,9.72,11.41,14.9,15.94,15.82,16.99,15.91,14.23,14.23,14.23,14.23,14.23,14.23,14.23,13.56,9.59,17.42,19.46,19.46,22.48,22.48,22.48,22.46,22.23,22.23,22.23,21.73,20.51,20.51,20.51,16.85,17.27,17.49,19.21,16.51,17.06,17.27,16.41,14.02,14.02,14.02,12.08,12.08,12.08,10.28,9.86,12.08,12.42,13.55,13.55,17.62,16.31,16.31,16.31,16.31,16.31,16.16,15.75,13.92,13.92,13.92,13.92,13.92,13.92,13.92,10.91,10.91,10.91,10.91,10.91,10.91,9.71,9.93,9.99,9.99,9.99,10.35,10.09,11.31,12.32,12.32,13.92,15.73,16.28,14.44,11.81,11.47,11.26,11.93,11.71,10.73,10.15,8.83,7.58,7.43,6.77,9.65,9.65,9.65],\"type\":\"histogram\",\"xaxis\":\"x3\",\"yaxis\":\"y3\"},{\"name\":\"Pct_Mid_To_H30\",\"x\":[14.11,14.11,12.32,11.19,11.19,13.58,15.25,18.85,17.02,16.36,17.53,17.25,17.25,17.25,17.25,17.25,17.25,17.25,17.25,17.25,17.25,26.66,28.55,28.55,31.31,31.31,30.31,28.74,28.74,28.74,28.74,28.74,28.74,28.74,28.12,24.37,22.56,22.48,22.48,22.48,22.48,22.48,22.46,22.23,22.23,22.23,21.73,20.66,20.66,20.66,20.66,20.66,20.66,20.66,17.27,17.62,17.62,17.62,17.62,17.62,17.62,17.62,17.62,17.62,17.62,17.62,17.62,17.62,17.62,17.62,17.62,16.31,16.31,16.31,16.31,16.31,16.16,15.75,13.92,13.92,13.92,14.06,14.06,15.27,16.26,13.27,14.87,16.78,17.49,17.49,17.49,17.49,18.19,18.84,18.84,18.84,18.15,17.9,17.9,17.9,17.9,17.9,17.79,17.63],\"type\":\"histogram\",\"xaxis\":\"x4\",\"yaxis\":\"y4\"},{\"name\":\"Pct_Mid_To_L15\",\"x\":[-7.3,-7.3,-7.3,-7.3,-7.3,-9.72,-11.41,-14.9,-15.94,-15.82,-16.99,-15.91,-14.23,-14.23,-14.23,-14.23,-14.23,-14.23,-14.23,-13.56,-9.59,-17.42,-19.46,-19.46,-22.48,-22.48,-22.48,-22.46,-22.23,-22.23,-22.23,-21.73,-20.51,-20.51,-20.51,-16.85,-17.27,-17.49,-19.21,-16.51,-17.06,-17.27,-16.41,-14.02,-14.02,-14.02,-12.08,-12.08,-12.08,-10.28,-9.86,-12.08,-12.42,-13.55,-13.55,-17.62,-16.31,-16.31,-16.31,-16.31,-16.31,-16.16,-15.75,-13.92,-13.92,-13.92,-13.92,-13.92,-13.92,-13.92,-10.91,-10.91,-10.91,-10.91,-10.91,-10.91,-9.71,-9.93,-9.99,-9.99,-9.99,-10.35,-10.09,-11.31,-12.32,-12.32,-13.92,-15.73,-16.28,-14.44,-11.81,-11.47,-11.26,-11.93,-11.71,-10.73,-10.15,-8.83,-7.58,-7.43,-6.77,-9.65,-9.65,-9.65],\"type\":\"histogram\",\"xaxis\":\"x5\",\"yaxis\":\"y5\"},{\"name\":\"Pct_Mid_To_L30\",\"x\":[-14.11,-14.11,-12.32,-11.19,-11.19,-13.58,-15.25,-18.85,-17.02,-16.36,-17.53,-17.25,-17.25,-17.25,-17.25,-17.25,-17.25,-17.25,-17.25,-17.25,-17.25,-26.66,-28.55,-28.55,-31.31,-31.31,-30.31,-28.74,-28.74,-28.74,-28.74,-28.74,-28.74,-28.74,-28.12,-24.37,-22.56,-22.48,-22.48,-22.48,-22.48,-22.48,-22.46,-22.23,-22.23,-22.23,-21.73,-20.66,-20.66,-20.66,-20.66,-20.66,-20.66,-20.66,-17.27,-17.62,-17.62,-17.62,-17.62,-17.62,-17.62,-17.62,-17.62,-17.62,-17.62,-17.62,-17.62,-17.62,-17.62,-17.62,-17.62,-16.31,-16.31,-16.31,-16.31,-16.31,-16.16,-15.75,-13.92,-13.92,-13.92,-14.06,-14.06,-15.27,-16.26,-13.27,-14.87,-16.78,-17.49,-17.49,-17.49,-17.49,-18.19,-18.84,-18.84,-18.84,-18.15,-17.9,-17.9,-17.9,-17.9,-17.9,-17.79,-17.63],\"type\":\"histogram\",\"xaxis\":\"x6\",\"yaxis\":\"y6\"}],                        {\"template\":{\"data\":{\"bar\":[{\"error_x\":{\"color\":\"#2a3f5f\"},\"error_y\":{\"color\":\"#2a3f5f\"},\"marker\":{\"line\":{\"color\":\"#E5ECF6\",\"width\":0.5},\"pattern\":{\"fillmode\":\"overlay\",\"size\":10,\"solidity\":0.2}},\"type\":\"bar\"}],\"barpolar\":[{\"marker\":{\"line\":{\"color\":\"#E5ECF6\",\"width\":0.5},\"pattern\":{\"fillmode\":\"overlay\",\"size\":10,\"solidity\":0.2}},\"type\":\"barpolar\"}],\"carpet\":[{\"aaxis\":{\"endlinecolor\":\"#2a3f5f\",\"gridcolor\":\"white\",\"linecolor\":\"white\",\"minorgridcolor\":\"white\",\"startlinecolor\":\"#2a3f5f\"},\"baxis\":{\"endlinecolor\":\"#2a3f5f\",\"gridcolor\":\"white\",\"linecolor\":\"white\",\"minorgridcolor\":\"white\",\"startlinecolor\":\"#2a3f5f\"},\"type\":\"carpet\"}],\"choropleth\":[{\"colorbar\":{\"outlinewidth\":0,\"ticks\":\"\"},\"type\":\"choropleth\"}],\"contour\":[{\"colorbar\":{\"outlinewidth\":0,\"ticks\":\"\"},\"colorscale\":[[0.0,\"#0d0887\"],[0.1111111111111111,\"#46039f\"],[0.2222222222222222,\"#7201a8\"],[0.3333333333333333,\"#9c179e\"],[0.4444444444444444,\"#bd3786\"],[0.5555555555555556,\"#d8576b\"],[0.6666666666666666,\"#ed7953\"],[0.7777777777777778,\"#fb9f3a\"],[0.8888888888888888,\"#fdca26\"],[1.0,\"#f0f921\"]],\"type\":\"contour\"}],\"contourcarpet\":[{\"colorbar\":{\"outlinewidth\":0,\"ticks\":\"\"},\"type\":\"contourcarpet\"}],\"heatmap\":[{\"colorbar\":{\"outlinewidth\":0,\"ticks\":\"\"},\"colorscale\":[[0.0,\"#0d0887\"],[0.1111111111111111,\"#46039f\"],[0.2222222222222222,\"#7201a8\"],[0.3333333333333333,\"#9c179e\"],[0.4444444444444444,\"#bd3786\"],[0.5555555555555556,\"#d8576b\"],[0.6666666666666666,\"#ed7953\"],[0.7777777777777778,\"#fb9f3a\"],[0.8888888888888888,\"#fdca26\"],[1.0,\"#f0f921\"]],\"type\":\"heatmap\"}],\"heatmapgl\":[{\"colorbar\":{\"outlinewidth\":0,\"ticks\":\"\"},\"colorscale\":[[0.0,\"#0d0887\"],[0.1111111111111111,\"#46039f\"],[0.2222222222222222,\"#7201a8\"],[0.3333333333333333,\"#9c179e\"],[0.4444444444444444,\"#bd3786\"],[0.5555555555555556,\"#d8576b\"],[0.6666666666666666,\"#ed7953\"],[0.7777777777777778,\"#fb9f3a\"],[0.8888888888888888,\"#fdca26\"],[1.0,\"#f0f921\"]],\"type\":\"heatmapgl\"}],\"histogram\":[{\"marker\":{\"pattern\":{\"fillmode\":\"overlay\",\"size\":10,\"solidity\":0.2}},\"type\":\"histogram\"}],\"histogram2d\":[{\"colorbar\":{\"outlinewidth\":0,\"ticks\":\"\"},\"colorscale\":[[0.0,\"#0d0887\"],[0.1111111111111111,\"#46039f\"],[0.2222222222222222,\"#7201a8\"],[0.3333333333333333,\"#9c179e\"],[0.4444444444444444,\"#bd3786\"],[0.5555555555555556,\"#d8576b\"],[0.6666666666666666,\"#ed7953\"],[0.7777777777777778,\"#fb9f3a\"],[0.8888888888888888,\"#fdca26\"],[1.0,\"#f0f921\"]],\"type\":\"histogram2d\"}],\"histogram2dcontour\":[{\"colorbar\":{\"outlinewidth\":0,\"ticks\":\"\"},\"colorscale\":[[0.0,\"#0d0887\"],[0.1111111111111111,\"#46039f\"],[0.2222222222222222,\"#7201a8\"],[0.3333333333333333,\"#9c179e\"],[0.4444444444444444,\"#bd3786\"],[0.5555555555555556,\"#d8576b\"],[0.6666666666666666,\"#ed7953\"],[0.7777777777777778,\"#fb9f3a\"],[0.8888888888888888,\"#fdca26\"],[1.0,\"#f0f921\"]],\"type\":\"histogram2dcontour\"}],\"mesh3d\":[{\"colorbar\":{\"outlinewidth\":0,\"ticks\":\"\"},\"type\":\"mesh3d\"}],\"parcoords\":[{\"line\":{\"colorbar\":{\"outlinewidth\":0,\"ticks\":\"\"}},\"type\":\"parcoords\"}],\"pie\":[{\"automargin\":true,\"type\":\"pie\"}],\"scatter\":[{\"marker\":{\"colorbar\":{\"outlinewidth\":0,\"ticks\":\"\"}},\"type\":\"scatter\"}],\"scatter3d\":[{\"line\":{\"colorbar\":{\"outlinewidth\":0,\"ticks\":\"\"}},\"marker\":{\"colorbar\":{\"outlinewidth\":0,\"ticks\":\"\"}},\"type\":\"scatter3d\"}],\"scattercarpet\":[{\"marker\":{\"colorbar\":{\"outlinewidth\":0,\"ticks\":\"\"}},\"type\":\"scattercarpet\"}],\"scattergeo\":[{\"marker\":{\"colorbar\":{\"outlinewidth\":0,\"ticks\":\"\"}},\"type\":\"scattergeo\"}],\"scattergl\":[{\"marker\":{\"colorbar\":{\"outlinewidth\":0,\"ticks\":\"\"}},\"type\":\"scattergl\"}],\"scattermapbox\":[{\"marker\":{\"colorbar\":{\"outlinewidth\":0,\"ticks\":\"\"}},\"type\":\"scattermapbox\"}],\"scatterpolar\":[{\"marker\":{\"colorbar\":{\"outlinewidth\":0,\"ticks\":\"\"}},\"type\":\"scatterpolar\"}],\"scatterpolargl\":[{\"marker\":{\"colorbar\":{\"outlinewidth\":0,\"ticks\":\"\"}},\"type\":\"scatterpolargl\"}],\"scatterternary\":[{\"marker\":{\"colorbar\":{\"outlinewidth\":0,\"ticks\":\"\"}},\"type\":\"scatterternary\"}],\"surface\":[{\"colorbar\":{\"outlinewidth\":0,\"ticks\":\"\"},\"colorscale\":[[0.0,\"#0d0887\"],[0.1111111111111111,\"#46039f\"],[0.2222222222222222,\"#7201a8\"],[0.3333333333333333,\"#9c179e\"],[0.4444444444444444,\"#bd3786\"],[0.5555555555555556,\"#d8576b\"],[0.6666666666666666,\"#ed7953\"],[0.7777777777777778,\"#fb9f3a\"],[0.8888888888888888,\"#fdca26\"],[1.0,\"#f0f921\"]],\"type\":\"surface\"}],\"table\":[{\"cells\":{\"fill\":{\"color\":\"#EBF0F8\"},\"line\":{\"color\":\"white\"}},\"header\":{\"fill\":{\"color\":\"#C8D4E3\"},\"line\":{\"color\":\"white\"}},\"type\":\"table\"}]},\"layout\":{\"annotationdefaults\":{\"arrowcolor\":\"#2a3f5f\",\"arrowhead\":0,\"arrowwidth\":1},\"autotypenumbers\":\"strict\",\"coloraxis\":{\"colorbar\":{\"outlinewidth\":0,\"ticks\":\"\"}},\"colorscale\":{\"diverging\":[[0,\"#8e0152\"],[0.1,\"#c51b7d\"],[0.2,\"#de77ae\"],[0.3,\"#f1b6da\"],[0.4,\"#fde0ef\"],[0.5,\"#f7f7f7\"],[0.6,\"#e6f5d0\"],[0.7,\"#b8e186\"],[0.8,\"#7fbc41\"],[0.9,\"#4d9221\"],[1,\"#276419\"]],\"sequential\":[[0.0,\"#0d0887\"],[0.1111111111111111,\"#46039f\"],[0.2222222222222222,\"#7201a8\"],[0.3333333333333333,\"#9c179e\"],[0.4444444444444444,\"#bd3786\"],[0.5555555555555556,\"#d8576b\"],[0.6666666666666666,\"#ed7953\"],[0.7777777777777778,\"#fb9f3a\"],[0.8888888888888888,\"#fdca26\"],[1.0,\"#f0f921\"]],\"sequentialminus\":[[0.0,\"#0d0887\"],[0.1111111111111111,\"#46039f\"],[0.2222222222222222,\"#7201a8\"],[0.3333333333333333,\"#9c179e\"],[0.4444444444444444,\"#bd3786\"],[0.5555555555555556,\"#d8576b\"],[0.6666666666666666,\"#ed7953\"],[0.7777777777777778,\"#fb9f3a\"],[0.8888888888888888,\"#fdca26\"],[1.0,\"#f0f921\"]]},\"colorway\":[\"#636efa\",\"#EF553B\",\"#00cc96\",\"#ab63fa\",\"#FFA15A\",\"#19d3f3\",\"#FF6692\",\"#B6E880\",\"#FF97FF\",\"#FECB52\"],\"font\":{\"color\":\"#2a3f5f\"},\"geo\":{\"bgcolor\":\"white\",\"lakecolor\":\"white\",\"landcolor\":\"#E5ECF6\",\"showlakes\":true,\"showland\":true,\"subunitcolor\":\"white\"},\"hoverlabel\":{\"align\":\"left\"},\"hovermode\":\"closest\",\"mapbox\":{\"style\":\"light\"},\"paper_bgcolor\":\"white\",\"plot_bgcolor\":\"#E5ECF6\",\"polar\":{\"angularaxis\":{\"gridcolor\":\"white\",\"linecolor\":\"white\",\"ticks\":\"\"},\"bgcolor\":\"#E5ECF6\",\"radialaxis\":{\"gridcolor\":\"white\",\"linecolor\":\"white\",\"ticks\":\"\"}},\"scene\":{\"xaxis\":{\"backgroundcolor\":\"#E5ECF6\",\"gridcolor\":\"white\",\"gridwidth\":2,\"linecolor\":\"white\",\"showbackground\":true,\"ticks\":\"\",\"zerolinecolor\":\"white\"},\"yaxis\":{\"backgroundcolor\":\"#E5ECF6\",\"gridcolor\":\"white\",\"gridwidth\":2,\"linecolor\":\"white\",\"showbackground\":true,\"ticks\":\"\",\"zerolinecolor\":\"white\"},\"zaxis\":{\"backgroundcolor\":\"#E5ECF6\",\"gridcolor\":\"white\",\"gridwidth\":2,\"linecolor\":\"white\",\"showbackground\":true,\"ticks\":\"\",\"zerolinecolor\":\"white\"}},\"shapedefaults\":{\"line\":{\"color\":\"#2a3f5f\"}},\"ternary\":{\"aaxis\":{\"gridcolor\":\"white\",\"linecolor\":\"white\",\"ticks\":\"\"},\"baxis\":{\"gridcolor\":\"white\",\"linecolor\":\"white\",\"ticks\":\"\"},\"bgcolor\":\"#E5ECF6\",\"caxis\":{\"gridcolor\":\"white\",\"linecolor\":\"white\",\"ticks\":\"\"}},\"title\":{\"x\":0.05},\"xaxis\":{\"automargin\":true,\"gridcolor\":\"white\",\"linecolor\":\"white\",\"ticks\":\"\",\"title\":{\"standoff\":15},\"zerolinecolor\":\"white\",\"zerolinewidth\":2},\"yaxis\":{\"automargin\":true,\"gridcolor\":\"white\",\"linecolor\":\"white\",\"ticks\":\"\",\"title\":{\"standoff\":15},\"zerolinecolor\":\"white\",\"zerolinewidth\":2}}},\"xaxis\":{\"anchor\":\"y\",\"domain\":[0.0,0.45]},\"yaxis\":{\"anchor\":\"x\",\"domain\":[0.7333333333333333,1.0]},\"xaxis2\":{\"anchor\":\"y2\",\"domain\":[0.55,1.0]},\"yaxis2\":{\"anchor\":\"x2\",\"domain\":[0.7333333333333333,1.0]},\"xaxis3\":{\"anchor\":\"y3\",\"domain\":[0.0,0.45]},\"yaxis3\":{\"anchor\":\"x3\",\"domain\":[0.36666666666666664,0.6333333333333333]},\"xaxis4\":{\"anchor\":\"y4\",\"domain\":[0.55,1.0]},\"yaxis4\":{\"anchor\":\"x4\",\"domain\":[0.36666666666666664,0.6333333333333333]},\"xaxis5\":{\"anchor\":\"y5\",\"domain\":[0.0,0.45]},\"yaxis5\":{\"anchor\":\"x5\",\"domain\":[0.0,0.26666666666666666]},\"xaxis6\":{\"anchor\":\"y6\",\"domain\":[0.55,1.0]},\"yaxis6\":{\"anchor\":\"x6\",\"domain\":[0.0,0.26666666666666666]},\"legend\":{\"orientation\":\"h\"},\"autosize\":true,\"width\":1000,\"height\":1000,\"paper_bgcolor\":\"LightSteelBlue\"},                        {\"responsive\": true}                    ).then(function(){\n",
       "                            \n",
       "var gd = document.getElementById('e85fda14-c638-4b23-bf7e-5e270c2b4ea9');\n",
       "var x = new MutationObserver(function (mutations, observer) {{\n",
       "        var display = window.getComputedStyle(gd).display;\n",
       "        if (!display || display === 'none') {{\n",
       "            console.log([gd, 'removed!']);\n",
       "            Plotly.purge(gd);\n",
       "            observer.disconnect();\n",
       "        }}\n",
       "}});\n",
       "\n",
       "// Listen for the removal of the full notebook cells\n",
       "var notebookContainer = gd.closest('#notebook-container');\n",
       "if (notebookContainer) {{\n",
       "    x.observe(notebookContainer, {childList: true});\n",
       "}}\n",
       "\n",
       "// Listen for the clearing of the current output cell\n",
       "var outputEl = gd.closest('.output');\n",
       "if (outputEl) {{\n",
       "    x.observe(outputEl, {childList: true});\n",
       "}}\n",
       "\n",
       "                        })                };                });            </script>        </div>"
      ]
     },
     "metadata": {},
     "output_type": "display_data"
    }
   ],
   "source": [
    "from plotly.subplots import make_subplots\n",
    "import plotly.graph_objects as go\n",
    "\n",
    "fig=make_subplots(rows=3,cols=2,)\n",
    "\n",
    "fig.add_trace(go.Histogram(x=df['Pct_LtH15'],name=\"HL15\") ,row=1,col=1)\n",
    "fig.add_trace(go.Histogram(x=df['Pct_LtH30'],name=\"HL30\") ,row=1,col=2)\n",
    "\n",
    "fig.add_trace(go.Histogram(x=df['Pct_Mid_To_H15'],name=\"Pct_Mid_To_H15\") ,row=2,col=1)\n",
    "fig.add_trace(go.Histogram(x=df['Pct_Mid_To_H30'],name=\"Pct_Mid_To_H30\") ,row=2,col=2)\n",
    "\n",
    "fig.add_trace(go.Histogram(x=df['Pct_Mid_To_L15'],name=\"Pct_Mid_To_L15\") ,row=3,col=1)\n",
    "fig.add_trace(go.Histogram(x=df['Pct_Mid_To_L30'],name=\"Pct_Mid_To_L30\") ,row=3,col=2)\n",
    "\n",
    "\n",
    "fig.update_layout(\n",
    "autosize=True,width=1000,height=1000,\n",
    "  paper_bgcolor=\"LightSteelBlue\",legend_orientation=\"h\"\n",
    "\n",
    ")\n",
    "\n",
    "fig.show()"
   ]
  },
  {
   "cell_type": "code",
   "execution_count": null,
   "metadata": {},
   "outputs": [],
   "source": []
  },
  {
   "cell_type": "code",
   "execution_count": null,
   "metadata": {},
   "outputs": [],
   "source": []
  }
 ],
 "metadata": {
  "kernelspec": {
   "display_name": "Python 3 (ipykernel)",
   "language": "python",
   "name": "python3"
  },
  "language_info": {
   "codemirror_mode": {
    "name": "ipython",
    "version": 3
   },
   "file_extension": ".py",
   "mimetype": "text/x-python",
   "name": "python",
   "nbconvert_exporter": "python",
   "pygments_lexer": "ipython3",
   "version": "3.9.10"
  }
 },
 "nbformat": 4,
 "nbformat_minor": 4
}
